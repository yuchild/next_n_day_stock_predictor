{
 "cells": [
  {
   "cell_type": "code",
   "execution_count": 1,
   "metadata": {
    "scrolled": true
   },
   "outputs": [],
   "source": [
    "from src import attributes as a\n",
    "%load_ext autoreload\n",
    "%autoreload 2\n",
    "\n",
    "import warnings\n",
    "warnings.filterwarnings('ignore')"
   ]
  },
  {
   "cell_type": "code",
   "execution_count": 2,
   "metadata": {},
   "outputs": [],
   "source": [
    "# Global Variables\n",
    "stock_name = 'tsla' # ticker symbol\n",
    "train = 0 # 1 for train, 0 for pass\n",
    "days_ahead = 1 # for predicting 1, 3, or 5 days ahead\n",
    "days_back = -1 # -1 for current data point, -2 for two days ago, etc...\n",
    "cv = 5 # number of cross validation folds\n",
    "model_name = 'Random Forest Classifier' # for display on charts, not a tuning parameter"
   ]
  },
  {
   "cell_type": "code",
   "execution_count": 3,
   "metadata": {
    "scrolled": false
   },
   "outputs": [
    {
     "name": "stdout",
     "output_type": "stream",
     "text": [
      "1.3.5\n"
     ]
    }
   ],
   "source": [
    "import pandas\n",
    "print(pandas.__version__)"
   ]
  },
  {
   "cell_type": "code",
   "execution_count": 4,
   "metadata": {},
   "outputs": [],
   "source": [
    "# Extract, Transform, Load, and Train Test Split\n",
    "# Dictionary of IPO Dates\n",
    "start_dates = {'a': '11/15/1999' # Updated 4/26/21 1D, 3D, 5D ahead\n",
    "               , 'aapl': '12/12/1980' # Updated 11/8/21 1D, 3D, 5D ahead\n",
    "               #, 'acy': '01/18/1998' # Updated 4/26/21 1D, 3D, 5D ahead\n",
    "               , 'adbe': '08/11/1986' # Updated 11/8/21 1D, 3D, 5D ahead\n",
    "               #, 'alb': '02/21/1994' # Updated 4/26/21 1D, 3D, 5D ahead\n",
    "               , 'amat': '03/16/1980' # Updated 4/26/21 1D, 3D, 5D ahead\n",
    "               , 'amd': '03/17/1980' # Updated 11/23/21 1D, 3D, 5D ahead\n",
    "               , 'amgn': '06/13/1983' # Updated 4/26/21 1D, 3D, 5D ahead\n",
    "               , 'amzn': '05/12/1997' # Updated 11/07/21 1D, 3D, 5D ahead\n",
    "               , 'baba': '09/15/2014' # Updated 11/13/21 1D, 3D, 5D ahead\n",
    "               , 'ba': '01/02/1962' # Updated 05/23/21 1D, 3D, 5D ahead\n",
    "               , 'bac': '02/19/1973' # Updated 4/26/21 1D, 3D, 5D ahead\n",
    "               , 'bby': '04/15/1985' # Updated 11/19/21 1D, 3D, 5D ahead\n",
    "               #, 'bpmc': '04/27/2015' # Updated 4/26/21 1D, 3D, 5D ahead\n",
    "               , 'brk-b': '05/06/1996' # Updated 4/25/23 1D, 3D, 5D ahead\n",
    "               , 'crm': '06/23/2004' # Updated 11/13/21 1D, 3D, 5D ahead\n",
    "               #, 'crsp': '10/16/2016' # Updated 4/26/21 1D, 3D, 5D ahead\n",
    "               , 'cost': '07/07/1986' # Updated 11/23/21 1D, 3D, 5D ahead\n",
    "               #, 'dis': '10/27/2014' # Updatd 11/5/21 1D, 3D, 5D ahead\n",
    "               #, 'dq': '10/04/2010' # Updated 4/26/21 1D, 3D, 5D ahead\n",
    "               , 'esgv': '09/16/2018' # Updated 4/26/21 1D, 3D, 5D ahead\n",
    "               , 'fslr': '11/12/2006' # Updated 4/26/21 1D, 3D, 5D ahead\n",
    "               , 'ge': '01/02/1962' # Updated 5/23/23 1D, 3D, 5D ahead\n",
    "               , 'goog': '08/16/2004' # Updated 11/8/21 1D, 3D, 5D ahead\n",
    "               , 'ibm': '01/02/1962' # Updated 4/26/21 1D, 3D, 5D ahead\n",
    "               , 'intc': '03/16/1980' # Updated 11/13/21 1D, 3D, 5D ahead\n",
    "               , 'iyw': '05/15/2000' # Updated 11/21/21 1D, 3D, 5D ahead\n",
    "               , 'll': '11/05/2007' # Updated 11/22/21 1D, 3D, 5D ahead\n",
    "               , 'lng': '04/04/1994' # Updated 4/26/21 1D, 3D, 5D ahead\n",
    "               , 'ma': '05/21/2006' # Updated 4/26/21 1D, 3D, 5D ahead\n",
    "               # , 'mdb': '10/15/2017' # Updated 11/21/21 1D, 3D, 5D ahead\n",
    "               , 'msft': '03/10/1986' # Updated 11/8/21 1D, 3D, 5D ahead\n",
    "               , 'mu': '05/28/1984' # Updated 11/20/21 1D, 3D, 5D ahead\n",
    "               #, 'nee': '02/19/1973' # Updated 4/26/21 1D, 3D, 5D ahead\n",
    "               , 'nio': '09/10/2018' # Updated 4/26/21 1D, 3D, 5D ahead\n",
    "               , 'nvda': '01/22/1999' # Updated 11/17/21 1D, 3D, 5D ahead\n",
    "               #, 'pacb': '10/25/2010' # Updated 4/26/21 1D, 3D, 5D ahead\n",
    "               , 'pypl': '07/05/2015' # Updated 4/26/21 1D, 3D, 5D ahead\n",
    "               , 'qgen': '06/24/1996' # Updated 4/26/21 1D, 3D, 5D ahead\n",
    "               #, 'run': '08/02/2015' # Updated 4/26/21 1D, 3D, 5D ahead\n",
    "               , 'okta': '04/03/2017' # Updated 4/26/21 1D, 3D, 5D ahead\n",
    "               , 'orcl': '03/10/1986' # Updated 4/26/21 1D, 3D, 5D ahead\n",
    "               , 'qcom': '12/09/1991' # Updated 11/20/21 1D, 3D, 5D ahead\n",
    "               , 'qqq': '03/08/1999' # Updated 4/26/21 1D, 3D, 5D ahead\n",
    "               , 'srpt': '06/02/1997' # Updated 4/26/21 1D, 3D, 5D ahead\n",
    "               , 'tgt': '02/19/1973' # Updated 11/22/21 1D, 3D, 5D ahead\n",
    "               #, 'tpic': '07/17/2016' # Updated 4/26/21 1D, 3D, 5D ahead\n",
    "               , 'tsla': '06/29/2010' # Updated 11/07/21 1D, 3D, 5D ahead\n",
    "               , 'tsm': '10/06/1997' # Updated 11/20/21 1D, 3D, 5D ahead\n",
    "               , 'v': '03/16/2008' # Updated 11/22/21 1D, 3D, 5D ahead\n",
    "               , 'vbiv': '09/04/2002' # Updated 4/26/21 1D, 3D, 5D ahead\n",
    "               , 'vbr': '01/26/2004' # Updated 11/20/21 1D, 3D, 5D ahead\n",
    "               #, 'viov': '09/06/2010' # Updated 4/26/21 1D, 3D, 5D ahead\n",
    "               , 'vgt': '01/26/2004' # Updated 11/07/21 1D, 3D, 5D ahead\n",
    "               , 'wmt': '11/10/2014' # Updated 11/16/21 1D, 3D, 5D ahead\n",
    "               , 'xli': '12/21/1998' # Updated 11/21/21 1D, 3D, 5D ahead\n",
    "               , 'xlk': '12/21/1998' # Updated 5/23/23 1D, 3D, 5D ahead\n",
    "              }"
   ]
  },
  {
   "cell_type": "markdown",
   "metadata": {},
   "source": [
    "### Get Data..."
   ]
  },
  {
   "cell_type": "code",
   "execution_count": 5,
   "metadata": {
    "scrolled": false
   },
   "outputs": [
    {
     "name": "stdout",
     "output_type": "stream",
     "text": [
      "Today's date: 2024-02-14\n",
      "Table Updates Complete\n",
      "Current Time:  02:34:13\n"
     ]
    }
   ],
   "source": [
    "from datetime import date, datetime\n",
    "today = date.today()\n",
    "print(\"Today's date:\", today)\n",
    "a.get_tables(start_dates) # commented out for 2021-12-19, data already downloaded for weekend\n",
    "print('Table Updates Complete')\n",
    "now = datetime.now()\n",
    "current_time = now.strftime(\"%H:%M:%S\")\n",
    "print(\"Current Time: \", current_time)"
   ]
  },
  {
   "cell_type": "code",
   "execution_count": 6,
   "metadata": {},
   "outputs": [],
   "source": [
    "# Load RandomForextClassifier Model\n",
    "# rfc_model, y_pred, y_probs = a.rfc(X_train, X_test, y_train, stock_name, days_ahead)"
   ]
  },
  {
   "cell_type": "code",
   "execution_count": 7,
   "metadata": {
    "scrolled": false
   },
   "outputs": [],
   "source": [
    "# ROC Curve\n",
    "# a.roc_plot(y_test, y_probs, stock_name, model_name)"
   ]
  },
  {
   "cell_type": "code",
   "execution_count": 8,
   "metadata": {
    "scrolled": false
   },
   "outputs": [],
   "source": [
    "# Precision Recall Curve\n",
    "# a.prec_recall(y_test, y_probs, stock_name, model_name)"
   ]
  },
  {
   "cell_type": "code",
   "execution_count": 9,
   "metadata": {
    "scrolled": false
   },
   "outputs": [],
   "source": [
    "# Confusion Matrix\n",
    "# a.confusion_matrix(rfc_model, X_test, y_test, stock_name)"
   ]
  },
  {
   "cell_type": "code",
   "execution_count": 10,
   "metadata": {},
   "outputs": [],
   "source": [
    "# Cross Validation\n",
    "# a.cross_validation(rfc_model\n",
    "#                    , stock_df[['oc', 'hl', '5stdev_adj', '5sma_adj']]\n",
    "#                    , stock_df['direction']\n",
    "#                    , cv = 5\n",
    "#                   )"
   ]
  },
  {
   "cell_type": "markdown",
   "metadata": {},
   "source": [
    "### Prediction..."
   ]
  },
  {
   "cell_type": "code",
   "execution_count": 11,
   "metadata": {
    "scrolled": true
   },
   "outputs": [],
   "source": [
    "# Prediction, use last day of data\n",
    "# stock_df.iloc[-1]"
   ]
  },
  {
   "cell_type": "code",
   "execution_count": 12,
   "metadata": {},
   "outputs": [],
   "source": [
    "# import numpy as np\n",
    "# last = stock_df[['oc', 'hl', '5stdev_adj', '5sma_adj']].iloc[-days_back]\n",
    "# last"
   ]
  },
  {
   "cell_type": "code",
   "execution_count": 13,
   "metadata": {},
   "outputs": [],
   "source": [
    "# stock_df['adj'].describe()"
   ]
  },
  {
   "cell_type": "code",
   "execution_count": 14,
   "metadata": {
    "scrolled": true
   },
   "outputs": [],
   "source": [
    "# if rfc_model.predict(np.array(last).reshape(1, -1))[0] == 1:\n",
    "#     print(f'Buy {stock_name} {days_ahead} day(s) ahead')\n",
    "# else:\n",
    "#     print(f'Sell or hold {stock_name} {days_ahead} day(s) ahead')"
   ]
  },
  {
   "cell_type": "markdown",
   "metadata": {},
   "source": [
    "### Strategy Returns..."
   ]
  },
  {
   "cell_type": "code",
   "execution_count": 15,
   "metadata": {},
   "outputs": [],
   "source": [
    "# returns on strategy column\n",
    "# stock_df['prediction'] = rfc_model.predict(stock_df[['oc', 'hl', '5stdev_adj', '5sma_adj']])\n",
    "# stock_df['returns'] = stock_df['adj'].shift(-1, fill_value = stock_df['adj'].median()) * stock_df['prediction']"
   ]
  },
  {
   "cell_type": "code",
   "execution_count": 16,
   "metadata": {},
   "outputs": [],
   "source": [
    "# stock_df.tail(5)"
   ]
  },
  {
   "cell_type": "code",
   "execution_count": 17,
   "metadata": {},
   "outputs": [],
   "source": [
    "# Don't trade every day!\n",
    "# import matplotlib.pyplot as plt\n",
    "# test_length = len(y_test)\n",
    "# (stock_df['returns'][-test_length:] + 1).cumprod().plot()\n",
    "# plt.title(f'{stock_name} Expected Returns %');"
   ]
  },
  {
   "cell_type": "code",
   "execution_count": 18,
   "metadata": {},
   "outputs": [],
   "source": [
    "# Model returns if bought on predictions of 1\n",
    "# returns_on_ones = []\n",
    "# for idx in range(-test_length, 0):\n",
    "#     if stock_df['prediction'][idx] == 1:\n",
    "#         returns_on_ones.append(1 + stock_df['returns'][idx])\n",
    "\n",
    "# returns = 1\n",
    "# for x in returns_on_ones:\n",
    "#     returns *= x\n",
    "# returns"
   ]
  },
  {
   "cell_type": "code",
   "execution_count": 19,
   "metadata": {},
   "outputs": [],
   "source": [
    "# multiple times original investment, not bad but..."
   ]
  },
  {
   "cell_type": "code",
   "execution_count": 20,
   "metadata": {},
   "outputs": [],
   "source": [
    "# If purchased in 2012 and left it until now\n",
    "# test_idx = int(len(stock_df)*0.75)\n",
    "# (stock_df['Close'][-1] - stock_df['Close'][-test_idx]) / stock_df['Close'][-test_idx]"
   ]
  },
  {
   "cell_type": "code",
   "execution_count": 21,
   "metadata": {},
   "outputs": [],
   "source": [
    "# Buy and hold strategy beats RandomForestClassifier in this study\n",
    "\n",
    "# Special thanks to Shagufta Tahsildar at https://blog.quantinsti.com/random-forest-algorithm-in-python/"
   ]
  },
  {
   "cell_type": "code",
   "execution_count": null,
   "metadata": {},
   "outputs": [],
   "source": []
  },
  {
   "cell_type": "code",
   "execution_count": null,
   "metadata": {},
   "outputs": [],
   "source": []
  },
  {
   "cell_type": "code",
   "execution_count": null,
   "metadata": {},
   "outputs": [],
   "source": []
  },
  {
   "cell_type": "markdown",
   "metadata": {},
   "source": [
    "### Training"
   ]
  },
  {
   "cell_type": "markdown",
   "metadata": {},
   "source": [
    "Training is done once a week on Saturday and Sunday"
   ]
  },
  {
   "cell_type": "code",
   "execution_count": 22,
   "metadata": {},
   "outputs": [
    {
     "data": {
      "text/plain": [
       "45"
      ]
     },
     "execution_count": 22,
     "metadata": {},
     "output_type": "execute_result"
    }
   ],
   "source": [
    "len(start_dates)"
   ]
  },
  {
   "cell_type": "code",
   "execution_count": 23,
   "metadata": {},
   "outputs": [
    {
     "data": {
      "text/plain": [
       "{'a': '11/15/1999',\n",
       " 'aapl': '12/12/1980',\n",
       " 'adbe': '08/11/1986',\n",
       " 'amat': '03/16/1980',\n",
       " 'amd': '03/17/1980',\n",
       " 'amgn': '06/13/1983',\n",
       " 'amzn': '05/12/1997',\n",
       " 'baba': '09/15/2014',\n",
       " 'ba': '01/02/1962',\n",
       " 'bac': '02/19/1973',\n",
       " 'bby': '04/15/1985',\n",
       " 'brk-b': '05/06/1996',\n",
       " 'crm': '06/23/2004',\n",
       " 'cost': '07/07/1986',\n",
       " 'esgv': '09/16/2018'}"
      ]
     },
     "execution_count": 23,
     "metadata": {},
     "output_type": "execute_result"
    }
   ],
   "source": [
    "import itertools as itr\n",
    "start_dates1 = dict(itr.islice(start_dates.items(), 0, 15))\n",
    "start_dates1"
   ]
  },
  {
   "cell_type": "code",
   "execution_count": 24,
   "metadata": {},
   "outputs": [
    {
     "data": {
      "text/plain": [
       "{'fslr': '11/12/2006',\n",
       " 'ge': '01/02/1962',\n",
       " 'goog': '08/16/2004',\n",
       " 'ibm': '01/02/1962',\n",
       " 'intc': '03/16/1980',\n",
       " 'iyw': '05/15/2000',\n",
       " 'll': '11/05/2007',\n",
       " 'lng': '04/04/1994',\n",
       " 'ma': '05/21/2006',\n",
       " 'msft': '03/10/1986',\n",
       " 'mu': '05/28/1984',\n",
       " 'nio': '09/10/2018',\n",
       " 'nvda': '01/22/1999',\n",
       " 'pypl': '07/05/2015',\n",
       " 'qgen': '06/24/1996'}"
      ]
     },
     "execution_count": 24,
     "metadata": {},
     "output_type": "execute_result"
    }
   ],
   "source": [
    "start_dates2 = dict(itr.islice(start_dates.items(), 15, 30))\n",
    "start_dates2"
   ]
  },
  {
   "cell_type": "code",
   "execution_count": 25,
   "metadata": {},
   "outputs": [
    {
     "data": {
      "text/plain": [
       "{'okta': '04/03/2017',\n",
       " 'orcl': '03/10/1986',\n",
       " 'qcom': '12/09/1991',\n",
       " 'qqq': '03/08/1999',\n",
       " 'srpt': '06/02/1997',\n",
       " 'tgt': '02/19/1973',\n",
       " 'tsla': '06/29/2010',\n",
       " 'tsm': '10/06/1997',\n",
       " 'v': '03/16/2008',\n",
       " 'vbiv': '09/04/2002',\n",
       " 'vbr': '01/26/2004',\n",
       " 'vgt': '01/26/2004',\n",
       " 'wmt': '11/10/2014',\n",
       " 'xli': '12/21/1998',\n",
       " 'xlk': '12/21/1998'}"
      ]
     },
     "execution_count": 25,
     "metadata": {},
     "output_type": "execute_result"
    }
   ],
   "source": [
    "start_dates3 = dict(itr.islice(start_dates.items(), 30, 45+1))\n",
    "start_dates3"
   ]
  },
  {
   "cell_type": "code",
   "execution_count": 26,
   "metadata": {
    "scrolled": false
   },
   "outputs": [],
   "source": [
    "# from datetime import datetime\n",
    "\n",
    "# now = datetime.now()\n",
    "\n",
    "# current_time = now.strftime(\"%H:%M:%S\")\n",
    "# print(\"Gridsearch Start Date: \", today)\n",
    "# print(\"Current Time: \", current_time)\n",
    "\n",
    "#Train 15 at a time!\n",
    "# stocks = [x for x in start_dates1]\n",
    "# days_ahead = [1, 3, 5]\n",
    "# cv = 5\n",
    "# for stock in stocks:\n",
    "#     for days in days_ahead:\n",
    "#         X_train, X_test, y_train, y_test, stock_df = a.data(stock, start_dates[stock], days)\n",
    "#         a.rfc_GridSearch(X_train, y_train, stock, days, cv)\n",
    "# len(stocks)\n",
    "\n",
    "# Next on training for Saturday 4/17/2021\n",
    "# stocks = [x for x in start_dates2]\n",
    "# days_ahead = [1, 3, 5]\n",
    "# cv = 5\n",
    "# for stock in stocks:\n",
    "#     for days in days_ahead:\n",
    "#         X_train, X_test, y_train, y_test, stock_df = a.data(stock, start_dates[stock], days)\n",
    "#         a.rfc_GridSearch(X_train, y_train, stock, days, cv)\n",
    "# len(stocks)\n",
    "\n",
    "# Next on training for Saturday 4/17/2021\n",
    "# stocks = [x for x in start_dates3]\n",
    "# days_ahead = [1, 3, 5]\n",
    "# cv = 5\n",
    "# for stock in stocks:\n",
    "#     for days in days_ahead:\n",
    "#         X_train, X_test, y_train, y_test, stock_df = a.data(stock, start_dates[stock], days)\n",
    "#         a.rfc_GridSearch(X_train, y_train, stock, days, cv)\n",
    "# len(stocks)\n",
    "\n",
    "# # Train all, takes 15+ hours\n",
    "# stocks = [x for x in start_dates]\n",
    "# days_ahead = [1, 3, 5]\n",
    "# cv = 5\n",
    "# for stock in stocks:\n",
    "#     for days in days_ahead:\n",
    "#         X_train, X_test, y_train, y_test, stock_df = a.data(stock, start_dates[stock], days)\n",
    "#         a.rfc_GridSearch(X_train, y_train, stock, days, cv)\n",
    "# len(stocks)\n",
    "\n",
    "# Train desired stocks...takes less time (4 will take 15.5 hours, each stock is roughly 2.5-4 hours to train)\n",
    "# 3 will take 7.5 hours, roughly 2.5 hours per stock trained\n",
    "# to train: ['cost']\n",
    "\n",
    "# import timeit \n",
    "# stocks = ['xli', 'ba', 'ge'] # updated 2023-05-23 (3:48pm - 12:47am ~9hours)\n",
    "# days_ahead = [1, 3, 5] \n",
    "# cv = 2 # was 5 \n",
    "# for stock in stocks:\n",
    "#     for days in days_ahead:\n",
    "#         X_train, X_test, y_train, y_test, stock_df = a.data(stock, start_dates[stock], days)\n",
    "#         %timeit a.rfc_GridSearch(X_train, y_train, stock, days, cv)\n",
    "\n",
    "# now = datetime.now()\n",
    "\n",
    "# current_time = now.strftime(\"%H:%M:%S\")\n",
    "# print(\"Gridsearch End Date: \", today)\n",
    "# print(\"Current Time: \", current_time)"
   ]
  },
  {
   "cell_type": "code",
   "execution_count": null,
   "metadata": {},
   "outputs": [],
   "source": []
  },
  {
   "cell_type": "code",
   "execution_count": null,
   "metadata": {},
   "outputs": [],
   "source": []
  },
  {
   "cell_type": "code",
   "execution_count": null,
   "metadata": {},
   "outputs": [],
   "source": []
  },
  {
   "cell_type": "markdown",
   "metadata": {},
   "source": [
    "### Display All Results"
   ]
  },
  {
   "cell_type": "markdown",
   "metadata": {},
   "source": [
    "**NOTE:** Returns include buying ups and selling downs"
   ]
  },
  {
   "cell_type": "code",
   "execution_count": 27,
   "metadata": {},
   "outputs": [
    {
     "name": "stdout",
     "output_type": "stream",
     "text": [
      "Today's date: 2024-02-14\n",
      "Current Time:  02:34:14\n"
     ]
    }
   ],
   "source": [
    "from datetime import date, datetime\n",
    "today = date.today()\n",
    "print(\"Today's date:\", today)\n",
    "now = datetime.now()\n",
    "current_time = now.strftime(\"%H:%M:%S\")\n",
    "print(\"Current Time: \", current_time)"
   ]
  },
  {
   "cell_type": "code",
   "execution_count": 28,
   "metadata": {
    "scrolled": false
   },
   "outputs": [
    {
     "name": "stdout",
     "output_type": "stream",
     "text": [
      "Sell or hold amat 1 day(s) ahead\n",
      "Model Returns (x 100 for %): 7.6409\n",
      "Stock Returns (x 100 for %): 1525.873\n"
     ]
    },
    {
     "data": {
      "image/png": "[encoded data removed]",
      "text/plain": [
       "<Figure size 432x288 with 1 Axes>"
      ]
     },
     "metadata": {},
     "output_type": "display_data"
    },
    {
     "data": {
      "image/png": "[encoded data removed]",
      "text/plain": [
       "<Figure size 648x504 with 1 Axes>"
      ]
     },
     "metadata": {},
     "output_type": "display_data"
    },
    {
     "data": {
      "image/png": "[encoded data removed]",
      "text/plain": [
       "<Figure size 648x504 with 1 Axes>"
      ]
     },
     "metadata": {},
     "output_type": "display_data"
    },
    {
     "data": {
      "image/png": "[encoded data removed]",
      "text/plain": [
       "<Figure size 684x612 with 2 Axes>"
      ]
     },
     "metadata": {},
     "output_type": "display_data"
    }
   ],
   "source": [
    "stock_name = 'amat'\n",
    "a.all_func(stock_name\n",
    "           , start_dates[stock_name]\n",
    "           , days_ahead = 1\n",
    "           , model_name = model_name\n",
    "           , days_back = 1\n",
    "          )\n",
    "# chart shows if traded every day up or down"
   ]
  },
  {
   "cell_type": "code",
   "execution_count": null,
   "metadata": {},
   "outputs": [],
   "source": []
  },
  {
   "cell_type": "code",
   "execution_count": null,
   "metadata": {},
   "outputs": [],
   "source": []
  },
  {
   "cell_type": "code",
   "execution_count": null,
   "metadata": {},
   "outputs": [],
   "source": []
  },
  {
   "cell_type": "markdown",
   "metadata": {},
   "source": [
    "### Data Frame of Predictions 1 3 5 Days"
   ]
  },
  {
   "cell_type": "markdown",
   "metadata": {},
   "source": [
    "**NOTE:** Returns are for buys only."
   ]
  },
  {
   "cell_type": "code",
   "execution_count": 29,
   "metadata": {
    "scrolled": true
   },
   "outputs": [
    {
     "name": "stdout",
     "output_type": "stream",
     "text": [
      "Today's date: 2024-02-14\n",
      "Current Time = 02:34:14\n"
     ]
    }
   ],
   "source": [
    "print(\"Today's date:\", today)\n",
    "print(\"Current Time =\", current_time)"
   ]
  },
  {
   "cell_type": "code",
   "execution_count": 30,
   "metadata": {},
   "outputs": [
    {
     "data": {
      "text/html": [
       "<div>\n",
       "<style scoped>\n",
       "    .dataframe tbody tr th:only-of-type {\n",
       "        vertical-align: middle;\n",
       "    }\n",
       "\n",
       "    .dataframe tbody tr th {\n",
       "        vertical-align: top;\n",
       "    }\n",
       "\n",
       "    .dataframe thead th {\n",
       "        text-align: right;\n",
       "    }\n",
       "</style>\n",
       "<table border=\"1\" class=\"dataframe\">\n",
       "  <thead>\n",
       "    <tr style=\"text-align: right;\">\n",
       "      <th></th>\n",
       "      <th>stock</th>\n",
       "      <th>1_Day_Pred</th>\n",
       "      <th>1_Day_Model_Return</th>\n",
       "      <th>3_Day_Pred</th>\n",
       "      <th>3_Day_Model_Return</th>\n",
       "      <th>5_Day_Pred</th>\n",
       "      <th>5_Day_Model_Return</th>\n",
       "      <th>Actual_Returns</th>\n",
       "    </tr>\n",
       "  </thead>\n",
       "  <tbody>\n",
       "    <tr>\n",
       "      <th>0</th>\n",
       "      <td>a</td>\n",
       "      <td>Buy</td>\n",
       "      <td>1.4201</td>\n",
       "      <td>Buy</td>\n",
       "      <td>1.2730</td>\n",
       "      <td>Buy</td>\n",
       "      <td>1.3964</td>\n",
       "      <td>9.3369</td>\n",
       "    </tr>\n",
       "    <tr>\n",
       "      <th>1</th>\n",
       "      <td>aapl</td>\n",
       "      <td>Buy</td>\n",
       "      <td>2.7250</td>\n",
       "      <td>Buy</td>\n",
       "      <td>2.9198</td>\n",
       "      <td>Buy</td>\n",
       "      <td>2.4605</td>\n",
       "      <td>660.1199</td>\n",
       "    </tr>\n",
       "    <tr>\n",
       "      <th>2</th>\n",
       "      <td>adbe</td>\n",
       "      <td>Hold or Sell</td>\n",
       "      <td>3.0094</td>\n",
       "      <td>Hold or Sell</td>\n",
       "      <td>3.2161</td>\n",
       "      <td>Hold or Sell</td>\n",
       "      <td>2.7045</td>\n",
       "      <td>241.4429</td>\n",
       "    </tr>\n",
       "    <tr>\n",
       "      <th>3</th>\n",
       "      <td>amat</td>\n",
       "      <td>Hold or Sell</td>\n",
       "      <td>6.3413</td>\n",
       "      <td>Hold or Sell</td>\n",
       "      <td>6.9485</td>\n",
       "      <td>Hold or Sell</td>\n",
       "      <td>6.7341</td>\n",
       "      <td>1525.8730</td>\n",
       "    </tr>\n",
       "    <tr>\n",
       "      <th>4</th>\n",
       "      <td>amd</td>\n",
       "      <td>Hold or Sell</td>\n",
       "      <td>3.4162</td>\n",
       "      <td>Hold or Sell</td>\n",
       "      <td>11.5109</td>\n",
       "      <td>Hold or Sell</td>\n",
       "      <td>7.8270</td>\n",
       "      <td>20.4425</td>\n",
       "    </tr>\n",
       "    <tr>\n",
       "      <th>5</th>\n",
       "      <td>amgn</td>\n",
       "      <td>Buy</td>\n",
       "      <td>1.2918</td>\n",
       "      <td>Buy</td>\n",
       "      <td>1.2974</td>\n",
       "      <td>Buy</td>\n",
       "      <td>1.1393</td>\n",
       "      <td>480.1307</td>\n",
       "    </tr>\n",
       "    <tr>\n",
       "      <th>6</th>\n",
       "      <td>amzn</td>\n",
       "      <td>Hold or Sell</td>\n",
       "      <td>1.4233</td>\n",
       "      <td>Hold or Sell</td>\n",
       "      <td>1.2828</td>\n",
       "      <td>Hold or Sell</td>\n",
       "      <td>1.4647</td>\n",
       "      <td>237.8669</td>\n",
       "    </tr>\n",
       "    <tr>\n",
       "      <th>7</th>\n",
       "      <td>baba</td>\n",
       "      <td>Buy</td>\n",
       "      <td>1.1631</td>\n",
       "      <td>Buy</td>\n",
       "      <td>1.1477</td>\n",
       "      <td>Buy</td>\n",
       "      <td>1.0779</td>\n",
       "      <td>0.0046</td>\n",
       "    </tr>\n",
       "    <tr>\n",
       "      <th>8</th>\n",
       "      <td>ba</td>\n",
       "      <td>Buy</td>\n",
       "      <td>1.0477</td>\n",
       "      <td>Buy</td>\n",
       "      <td>1.0221</td>\n",
       "      <td>Buy</td>\n",
       "      <td>0.9911</td>\n",
       "      <td>1035.5625</td>\n",
       "    </tr>\n",
       "    <tr>\n",
       "      <th>9</th>\n",
       "      <td>bac</td>\n",
       "      <td>Buy</td>\n",
       "      <td>1.3774</td>\n",
       "      <td>Buy</td>\n",
       "      <td>1.2845</td>\n",
       "      <td>Buy</td>\n",
       "      <td>2.3586</td>\n",
       "      <td>56.8152</td>\n",
       "    </tr>\n",
       "    <tr>\n",
       "      <th>10</th>\n",
       "      <td>bby</td>\n",
       "      <td>Buy</td>\n",
       "      <td>0.5923</td>\n",
       "      <td>Buy</td>\n",
       "      <td>0.7077</td>\n",
       "      <td>Buy</td>\n",
       "      <td>0.6902</td>\n",
       "      <td>392.0691</td>\n",
       "    </tr>\n",
       "    <tr>\n",
       "      <th>11</th>\n",
       "      <td>brk-b</td>\n",
       "      <td>Buy</td>\n",
       "      <td>1.6263</td>\n",
       "      <td>Buy</td>\n",
       "      <td>1.5649</td>\n",
       "      <td>Buy</td>\n",
       "      <td>1.3681</td>\n",
       "      <td>9.5958</td>\n",
       "    </tr>\n",
       "    <tr>\n",
       "      <th>12</th>\n",
       "      <td>crm</td>\n",
       "      <td>Hold or Sell</td>\n",
       "      <td>0.8061</td>\n",
       "      <td>Hold or Sell</td>\n",
       "      <td>0.8602</td>\n",
       "      <td>Hold or Sell</td>\n",
       "      <td>0.8896</td>\n",
       "      <td>25.2389</td>\n",
       "    </tr>\n",
       "    <tr>\n",
       "      <th>13</th>\n",
       "      <td>cost</td>\n",
       "      <td>Buy</td>\n",
       "      <td>2.0790</td>\n",
       "      <td>Buy</td>\n",
       "      <td>2.3741</td>\n",
       "      <td>Buy</td>\n",
       "      <td>2.0099</td>\n",
       "      <td>85.6652</td>\n",
       "    </tr>\n",
       "    <tr>\n",
       "      <th>14</th>\n",
       "      <td>esgv</td>\n",
       "      <td>Hold or Sell</td>\n",
       "      <td>1.0696</td>\n",
       "      <td>Buy</td>\n",
       "      <td>1.0749</td>\n",
       "      <td>Hold or Sell</td>\n",
       "      <td>1.0783</td>\n",
       "      <td>0.8320</td>\n",
       "    </tr>\n",
       "  </tbody>\n",
       "</table>\n",
       "</div>"
      ],
      "text/plain": [
       "    stock    1_Day_Pred  1_Day_Model_Return    3_Day_Pred  3_Day_Model_Return  \\\n",
       "0       a           Buy              1.4201           Buy              1.2730   \n",
       "1    aapl           Buy              2.7250           Buy              2.9198   \n",
       "2    adbe  Hold or Sell              3.0094  Hold or Sell              3.2161   \n",
       "3    amat  Hold or Sell              6.3413  Hold or Sell              6.9485   \n",
       "4     amd  Hold or Sell              3.4162  Hold or Sell             11.5109   \n",
       "5    amgn           Buy              1.2918           Buy              1.2974   \n",
       "6    amzn  Hold or Sell              1.4233  Hold or Sell              1.2828   \n",
       "7    baba           Buy              1.1631           Buy              1.1477   \n",
       "8      ba           Buy              1.0477           Buy              1.0221   \n",
       "9     bac           Buy              1.3774           Buy              1.2845   \n",
       "10    bby           Buy              0.5923           Buy              0.7077   \n",
       "11  brk-b           Buy              1.6263           Buy              1.5649   \n",
       "12    crm  Hold or Sell              0.8061  Hold or Sell              0.8602   \n",
       "13   cost           Buy              2.0790           Buy              2.3741   \n",
       "14   esgv  Hold or Sell              1.0696           Buy              1.0749   \n",
       "\n",
       "      5_Day_Pred  5_Day_Model_Return  Actual_Returns  \n",
       "0            Buy              1.3964          9.3369  \n",
       "1            Buy              2.4605        660.1199  \n",
       "2   Hold or Sell              2.7045        241.4429  \n",
       "3   Hold or Sell              6.7341       1525.8730  \n",
       "4   Hold or Sell              7.8270         20.4425  \n",
       "5            Buy              1.1393        480.1307  \n",
       "6   Hold or Sell              1.4647        237.8669  \n",
       "7            Buy              1.0779          0.0046  \n",
       "8            Buy              0.9911       1035.5625  \n",
       "9            Buy              2.3586         56.8152  \n",
       "10           Buy              0.6902        392.0691  \n",
       "11           Buy              1.3681          9.5958  \n",
       "12  Hold or Sell              0.8896         25.2389  \n",
       "13           Buy              2.0099         85.6652  \n",
       "14  Hold or Sell              1.0783          0.8320  "
      ]
     },
     "execution_count": 30,
     "metadata": {},
     "output_type": "execute_result"
    }
   ],
   "source": [
    "summary_df = a.pred_summary_df(start_dates1, stocks = [x for x in start_dates1], days_back = 1)\n",
    "summary_df"
   ]
  },
  {
   "cell_type": "code",
   "execution_count": 31,
   "metadata": {},
   "outputs": [
    {
     "data": {
      "text/plain": [
       "(1.4201, 1.2845, 1.3964, 85.6652)"
      ]
     },
     "execution_count": 31,
     "metadata": {},
     "output_type": "execute_result"
    }
   ],
   "source": [
    "summary_df['1_Day_Model_Return'].median(), summary_df['3_Day_Model_Return'].median(), summary_df['5_Day_Model_Return'].median(), summary_df['Actual_Returns'].median()"
   ]
  },
  {
   "cell_type": "code",
   "execution_count": null,
   "metadata": {},
   "outputs": [],
   "source": []
  },
  {
   "cell_type": "code",
   "execution_count": 32,
   "metadata": {
    "scrolled": false
   },
   "outputs": [
    {
     "data": {
      "text/html": [
       "<div>\n",
       "<style scoped>\n",
       "    .dataframe tbody tr th:only-of-type {\n",
       "        vertical-align: middle;\n",
       "    }\n",
       "\n",
       "    .dataframe tbody tr th {\n",
       "        vertical-align: top;\n",
       "    }\n",
       "\n",
       "    .dataframe thead th {\n",
       "        text-align: right;\n",
       "    }\n",
       "</style>\n",
       "<table border=\"1\" class=\"dataframe\">\n",
       "  <thead>\n",
       "    <tr style=\"text-align: right;\">\n",
       "      <th></th>\n",
       "      <th>stock</th>\n",
       "      <th>1_Day_Pred</th>\n",
       "      <th>1_Day_Model_Return</th>\n",
       "      <th>3_Day_Pred</th>\n",
       "      <th>3_Day_Model_Return</th>\n",
       "      <th>5_Day_Pred</th>\n",
       "      <th>5_Day_Model_Return</th>\n",
       "      <th>Actual_Returns</th>\n",
       "    </tr>\n",
       "  </thead>\n",
       "  <tbody>\n",
       "    <tr>\n",
       "      <th>0</th>\n",
       "      <td>fslr</td>\n",
       "      <td>Hold or Sell</td>\n",
       "      <td>1.1325</td>\n",
       "      <td>Hold or Sell</td>\n",
       "      <td>1.2390</td>\n",
       "      <td>Hold or Sell</td>\n",
       "      <td>1.0160</td>\n",
       "      <td>0.0389</td>\n",
       "    </tr>\n",
       "    <tr>\n",
       "      <th>1</th>\n",
       "      <td>ge</td>\n",
       "      <td>Hold or Sell</td>\n",
       "      <td>0.8438</td>\n",
       "      <td>Hold or Sell</td>\n",
       "      <td>0.4674</td>\n",
       "      <td>Hold or Sell</td>\n",
       "      <td>0.6396</td>\n",
       "      <td>87.4277</td>\n",
       "    </tr>\n",
       "    <tr>\n",
       "      <th>2</th>\n",
       "      <td>goog</td>\n",
       "      <td>Hold or Sell</td>\n",
       "      <td>1.4194</td>\n",
       "      <td>Hold or Sell</td>\n",
       "      <td>1.3469</td>\n",
       "      <td>Hold or Sell</td>\n",
       "      <td>1.4169</td>\n",
       "      <td>10.7525</td>\n",
       "    </tr>\n",
       "    <tr>\n",
       "      <th>3</th>\n",
       "      <td>ibm</td>\n",
       "      <td>Buy</td>\n",
       "      <td>1.3394</td>\n",
       "      <td>Buy</td>\n",
       "      <td>1.5688</td>\n",
       "      <td>Buy</td>\n",
       "      <td>1.3367</td>\n",
       "      <td>54.3217</td>\n",
       "    </tr>\n",
       "    <tr>\n",
       "      <th>4</th>\n",
       "      <td>intc</td>\n",
       "      <td>Hold or Sell</td>\n",
       "      <td>3.6902</td>\n",
       "      <td>Hold or Sell</td>\n",
       "      <td>3.8741</td>\n",
       "      <td>Hold or Sell</td>\n",
       "      <td>3.4227</td>\n",
       "      <td>172.0456</td>\n",
       "    </tr>\n",
       "    <tr>\n",
       "      <th>5</th>\n",
       "      <td>iyw</td>\n",
       "      <td>Hold or Sell</td>\n",
       "      <td>1.4933</td>\n",
       "      <td>Hold or Sell</td>\n",
       "      <td>1.4981</td>\n",
       "      <td>Hold or Sell</td>\n",
       "      <td>1.2513</td>\n",
       "      <td>10.6046</td>\n",
       "    </tr>\n",
       "    <tr>\n",
       "      <th>6</th>\n",
       "      <td>ll</td>\n",
       "      <td>Buy</td>\n",
       "      <td>0.1869</td>\n",
       "      <td>Buy</td>\n",
       "      <td>0.1546</td>\n",
       "      <td>Buy</td>\n",
       "      <td>0.1912</td>\n",
       "      <td>-0.9275</td>\n",
       "    </tr>\n",
       "    <tr>\n",
       "      <th>7</th>\n",
       "      <td>lng</td>\n",
       "      <td>Buy</td>\n",
       "      <td>2.7779</td>\n",
       "      <td>Buy</td>\n",
       "      <td>1.9996</td>\n",
       "      <td>Buy</td>\n",
       "      <td>2.1259</td>\n",
       "      <td>145.9112</td>\n",
       "    </tr>\n",
       "    <tr>\n",
       "      <th>8</th>\n",
       "      <td>ma</td>\n",
       "      <td>Hold or Sell</td>\n",
       "      <td>1.1095</td>\n",
       "      <td>Hold or Sell</td>\n",
       "      <td>1.0278</td>\n",
       "      <td>Hold or Sell</td>\n",
       "      <td>0.9987</td>\n",
       "      <td>30.2550</td>\n",
       "    </tr>\n",
       "    <tr>\n",
       "      <th>9</th>\n",
       "      <td>msft</td>\n",
       "      <td>Hold or Sell</td>\n",
       "      <td>6.3004</td>\n",
       "      <td>Hold or Sell</td>\n",
       "      <td>6.1528</td>\n",
       "      <td>Hold or Sell</td>\n",
       "      <td>4.5551</td>\n",
       "      <td>307.4203</td>\n",
       "    </tr>\n",
       "    <tr>\n",
       "      <th>10</th>\n",
       "      <td>mu</td>\n",
       "      <td>Buy</td>\n",
       "      <td>2.0153</td>\n",
       "      <td>Buy</td>\n",
       "      <td>1.8767</td>\n",
       "      <td>Buy</td>\n",
       "      <td>2.1848</td>\n",
       "      <td>58.3466</td>\n",
       "    </tr>\n",
       "    <tr>\n",
       "      <th>11</th>\n",
       "      <td>nio</td>\n",
       "      <td>Buy</td>\n",
       "      <td>1.4377</td>\n",
       "      <td>Buy</td>\n",
       "      <td>1.0168</td>\n",
       "      <td>Buy</td>\n",
       "      <td>1.3947</td>\n",
       "      <td>0.7431</td>\n",
       "    </tr>\n",
       "    <tr>\n",
       "      <th>12</th>\n",
       "      <td>nvda</td>\n",
       "      <td>Hold or Sell</td>\n",
       "      <td>1.9132</td>\n",
       "      <td>Hold or Sell</td>\n",
       "      <td>1.7035</td>\n",
       "      <td>Hold or Sell</td>\n",
       "      <td>1.9200</td>\n",
       "      <td>583.5866</td>\n",
       "    </tr>\n",
       "    <tr>\n",
       "      <th>13</th>\n",
       "      <td>pypl</td>\n",
       "      <td>Hold or Sell</td>\n",
       "      <td>0.9821</td>\n",
       "      <td>Hold or Sell</td>\n",
       "      <td>0.7592</td>\n",
       "      <td>Hold or Sell</td>\n",
       "      <td>0.8575</td>\n",
       "      <td>0.4536</td>\n",
       "    </tr>\n",
       "    <tr>\n",
       "      <th>14</th>\n",
       "      <td>qgen</td>\n",
       "      <td>Buy</td>\n",
       "      <td>1.0450</td>\n",
       "      <td>Buy</td>\n",
       "      <td>1.5208</td>\n",
       "      <td>Buy</td>\n",
       "      <td>2.0249</td>\n",
       "      <td>-0.0367</td>\n",
       "    </tr>\n",
       "  </tbody>\n",
       "</table>\n",
       "</div>"
      ],
      "text/plain": [
       "   stock    1_Day_Pred  1_Day_Model_Return    3_Day_Pred  3_Day_Model_Return  \\\n",
       "0   fslr  Hold or Sell              1.1325  Hold or Sell              1.2390   \n",
       "1     ge  Hold or Sell              0.8438  Hold or Sell              0.4674   \n",
       "2   goog  Hold or Sell              1.4194  Hold or Sell              1.3469   \n",
       "3    ibm           Buy              1.3394           Buy              1.5688   \n",
       "4   intc  Hold or Sell              3.6902  Hold or Sell              3.8741   \n",
       "5    iyw  Hold or Sell              1.4933  Hold or Sell              1.4981   \n",
       "6     ll           Buy              0.1869           Buy              0.1546   \n",
       "7    lng           Buy              2.7779           Buy              1.9996   \n",
       "8     ma  Hold or Sell              1.1095  Hold or Sell              1.0278   \n",
       "9   msft  Hold or Sell              6.3004  Hold or Sell              6.1528   \n",
       "10    mu           Buy              2.0153           Buy              1.8767   \n",
       "11   nio           Buy              1.4377           Buy              1.0168   \n",
       "12  nvda  Hold or Sell              1.9132  Hold or Sell              1.7035   \n",
       "13  pypl  Hold or Sell              0.9821  Hold or Sell              0.7592   \n",
       "14  qgen           Buy              1.0450           Buy              1.5208   \n",
       "\n",
       "      5_Day_Pred  5_Day_Model_Return  Actual_Returns  \n",
       "0   Hold or Sell              1.0160          0.0389  \n",
       "1   Hold or Sell              0.6396         87.4277  \n",
       "2   Hold or Sell              1.4169         10.7525  \n",
       "3            Buy              1.3367         54.3217  \n",
       "4   Hold or Sell              3.4227        172.0456  \n",
       "5   Hold or Sell              1.2513         10.6046  \n",
       "6            Buy              0.1912         -0.9275  \n",
       "7            Buy              2.1259        145.9112  \n",
       "8   Hold or Sell              0.9987         30.2550  \n",
       "9   Hold or Sell              4.5551        307.4203  \n",
       "10           Buy              2.1848         58.3466  \n",
       "11           Buy              1.3947          0.7431  \n",
       "12  Hold or Sell              1.9200        583.5866  \n",
       "13  Hold or Sell              0.8575          0.4536  \n",
       "14           Buy              2.0249         -0.0367  "
      ]
     },
     "execution_count": 32,
     "metadata": {},
     "output_type": "execute_result"
    }
   ],
   "source": [
    "summary_df = a.pred_summary_df(start_dates2, stocks = [x for x in start_dates2], days_back = 1)\n",
    "summary_df"
   ]
  },
  {
   "cell_type": "code",
   "execution_count": 33,
   "metadata": {
    "scrolled": true
   },
   "outputs": [
    {
     "data": {
      "text/plain": [
       "(1.4194, 1.4981, 1.3947, 30.255)"
      ]
     },
     "execution_count": 33,
     "metadata": {},
     "output_type": "execute_result"
    }
   ],
   "source": [
    "summary_df['1_Day_Model_Return'].median(), summary_df['3_Day_Model_Return'].median(), summary_df['5_Day_Model_Return'].median(), summary_df['Actual_Returns'].median()"
   ]
  },
  {
   "cell_type": "code",
   "execution_count": null,
   "metadata": {},
   "outputs": [],
   "source": []
  },
  {
   "cell_type": "code",
   "execution_count": 34,
   "metadata": {
    "scrolled": false
   },
   "outputs": [
    {
     "data": {
      "text/html": [
       "<div>\n",
       "<style scoped>\n",
       "    .dataframe tbody tr th:only-of-type {\n",
       "        vertical-align: middle;\n",
       "    }\n",
       "\n",
       "    .dataframe tbody tr th {\n",
       "        vertical-align: top;\n",
       "    }\n",
       "\n",
       "    .dataframe thead th {\n",
       "        text-align: right;\n",
       "    }\n",
       "</style>\n",
       "<table border=\"1\" class=\"dataframe\">\n",
       "  <thead>\n",
       "    <tr style=\"text-align: right;\">\n",
       "      <th></th>\n",
       "      <th>stock</th>\n",
       "      <th>1_Day_Pred</th>\n",
       "      <th>1_Day_Model_Return</th>\n",
       "      <th>3_Day_Pred</th>\n",
       "      <th>3_Day_Model_Return</th>\n",
       "      <th>5_Day_Pred</th>\n",
       "      <th>5_Day_Model_Return</th>\n",
       "      <th>Actual_Returns</th>\n",
       "    </tr>\n",
       "  </thead>\n",
       "  <tbody>\n",
       "    <tr>\n",
       "      <th>0</th>\n",
       "      <td>okta</td>\n",
       "      <td>Hold or Sell</td>\n",
       "      <td>1.3164</td>\n",
       "      <td>Hold or Sell</td>\n",
       "      <td>1.1606</td>\n",
       "      <td>Hold or Sell</td>\n",
       "      <td>1.1386</td>\n",
       "      <td>0.7189</td>\n",
       "    </tr>\n",
       "    <tr>\n",
       "      <th>1</th>\n",
       "      <td>orcl</td>\n",
       "      <td>Buy</td>\n",
       "      <td>2.2764</td>\n",
       "      <td>Buy</td>\n",
       "      <td>2.6633</td>\n",
       "      <td>Buy</td>\n",
       "      <td>2.7161</td>\n",
       "      <td>468.9747</td>\n",
       "    </tr>\n",
       "    <tr>\n",
       "      <th>2</th>\n",
       "      <td>qcom</td>\n",
       "      <td>Buy</td>\n",
       "      <td>2.0173</td>\n",
       "      <td>Hold or Sell</td>\n",
       "      <td>1.9727</td>\n",
       "      <td>Buy</td>\n",
       "      <td>2.4343</td>\n",
       "      <td>99.6778</td>\n",
       "    </tr>\n",
       "    <tr>\n",
       "      <th>3</th>\n",
       "      <td>qqq</td>\n",
       "      <td>Hold or Sell</td>\n",
       "      <td>1.4967</td>\n",
       "      <td>Hold or Sell</td>\n",
       "      <td>1.6034</td>\n",
       "      <td>Hold or Sell</td>\n",
       "      <td>1.6578</td>\n",
       "      <td>18.7576</td>\n",
       "    </tr>\n",
       "    <tr>\n",
       "      <th>4</th>\n",
       "      <td>srpt</td>\n",
       "      <td>Buy</td>\n",
       "      <td>0.7052</td>\n",
       "      <td>Hold or Sell</td>\n",
       "      <td>1.4743</td>\n",
       "      <td>Buy</td>\n",
       "      <td>1.2380</td>\n",
       "      <td>1.3791</td>\n",
       "    </tr>\n",
       "    <tr>\n",
       "      <th>5</th>\n",
       "      <td>tgt</td>\n",
       "      <td>Buy</td>\n",
       "      <td>1.5152</td>\n",
       "      <td>Buy</td>\n",
       "      <td>2.5227</td>\n",
       "      <td>Buy</td>\n",
       "      <td>2.2777</td>\n",
       "      <td>346.2802</td>\n",
       "    </tr>\n",
       "    <tr>\n",
       "      <th>6</th>\n",
       "      <td>tsla</td>\n",
       "      <td>Hold or Sell</td>\n",
       "      <td>0.3950</td>\n",
       "      <td>Buy</td>\n",
       "      <td>0.3183</td>\n",
       "      <td>Buy</td>\n",
       "      <td>0.4896</td>\n",
       "      <td>93.8883</td>\n",
       "    </tr>\n",
       "    <tr>\n",
       "      <th>7</th>\n",
       "      <td>tsm</td>\n",
       "      <td>Buy</td>\n",
       "      <td>3.2784</td>\n",
       "      <td>Buy</td>\n",
       "      <td>3.1398</td>\n",
       "      <td>Hold or Sell</td>\n",
       "      <td>2.8969</td>\n",
       "      <td>29.3376</td>\n",
       "    </tr>\n",
       "    <tr>\n",
       "      <th>8</th>\n",
       "      <td>v</td>\n",
       "      <td>Hold or Sell</td>\n",
       "      <td>1.2970</td>\n",
       "      <td>Hold or Sell</td>\n",
       "      <td>1.2622</td>\n",
       "      <td>Hold or Sell</td>\n",
       "      <td>1.0040</td>\n",
       "      <td>16.2405</td>\n",
       "    </tr>\n",
       "    <tr>\n",
       "      <th>9</th>\n",
       "      <td>vbiv</td>\n",
       "      <td>Buy</td>\n",
       "      <td>0.0450</td>\n",
       "      <td>Buy</td>\n",
       "      <td>0.0194</td>\n",
       "      <td>Buy</td>\n",
       "      <td>0.0897</td>\n",
       "      <td>-0.9989</td>\n",
       "    </tr>\n",
       "    <tr>\n",
       "      <th>10</th>\n",
       "      <td>vbr</td>\n",
       "      <td>Buy</td>\n",
       "      <td>1.4019</td>\n",
       "      <td>Buy</td>\n",
       "      <td>1.1717</td>\n",
       "      <td>Buy</td>\n",
       "      <td>1.2464</td>\n",
       "      <td>2.5038</td>\n",
       "    </tr>\n",
       "    <tr>\n",
       "      <th>11</th>\n",
       "      <td>vgt</td>\n",
       "      <td>Buy</td>\n",
       "      <td>1.2383</td>\n",
       "      <td>Hold or Sell</td>\n",
       "      <td>1.1775</td>\n",
       "      <td>Hold or Sell</td>\n",
       "      <td>1.2109</td>\n",
       "      <td>10.3665</td>\n",
       "    </tr>\n",
       "    <tr>\n",
       "      <th>12</th>\n",
       "      <td>wmt</td>\n",
       "      <td>Buy</td>\n",
       "      <td>1.2622</td>\n",
       "      <td>Buy</td>\n",
       "      <td>1.2696</td>\n",
       "      <td>Buy</td>\n",
       "      <td>1.4573</td>\n",
       "      <td>2062.0555</td>\n",
       "    </tr>\n",
       "    <tr>\n",
       "      <th>13</th>\n",
       "      <td>xli</td>\n",
       "      <td>Buy</td>\n",
       "      <td>1.2595</td>\n",
       "      <td>Buy</td>\n",
       "      <td>1.3989</td>\n",
       "      <td>Buy</td>\n",
       "      <td>1.1210</td>\n",
       "      <td>7.5770</td>\n",
       "    </tr>\n",
       "    <tr>\n",
       "      <th>14</th>\n",
       "      <td>xlk</td>\n",
       "      <td>Hold or Sell</td>\n",
       "      <td>1.4190</td>\n",
       "      <td>Hold or Sell</td>\n",
       "      <td>1.5299</td>\n",
       "      <td>Hold or Sell</td>\n",
       "      <td>1.6487</td>\n",
       "      <td>17.8369</td>\n",
       "    </tr>\n",
       "  </tbody>\n",
       "</table>\n",
       "</div>"
      ],
      "text/plain": [
       "   stock    1_Day_Pred  1_Day_Model_Return    3_Day_Pred  3_Day_Model_Return  \\\n",
       "0   okta  Hold or Sell              1.3164  Hold or Sell              1.1606   \n",
       "1   orcl           Buy              2.2764           Buy              2.6633   \n",
       "2   qcom           Buy              2.0173  Hold or Sell              1.9727   \n",
       "3    qqq  Hold or Sell              1.4967  Hold or Sell              1.6034   \n",
       "4   srpt           Buy              0.7052  Hold or Sell              1.4743   \n",
       "5    tgt           Buy              1.5152           Buy              2.5227   \n",
       "6   tsla  Hold or Sell              0.3950           Buy              0.3183   \n",
       "7    tsm           Buy              3.2784           Buy              3.1398   \n",
       "8      v  Hold or Sell              1.2970  Hold or Sell              1.2622   \n",
       "9   vbiv           Buy              0.0450           Buy              0.0194   \n",
       "10   vbr           Buy              1.4019           Buy              1.1717   \n",
       "11   vgt           Buy              1.2383  Hold or Sell              1.1775   \n",
       "12   wmt           Buy              1.2622           Buy              1.2696   \n",
       "13   xli           Buy              1.2595           Buy              1.3989   \n",
       "14   xlk  Hold or Sell              1.4190  Hold or Sell              1.5299   \n",
       "\n",
       "      5_Day_Pred  5_Day_Model_Return  Actual_Returns  \n",
       "0   Hold or Sell              1.1386          0.7189  \n",
       "1            Buy              2.7161        468.9747  \n",
       "2            Buy              2.4343         99.6778  \n",
       "3   Hold or Sell              1.6578         18.7576  \n",
       "4            Buy              1.2380          1.3791  \n",
       "5            Buy              2.2777        346.2802  \n",
       "6            Buy              0.4896         93.8883  \n",
       "7   Hold or Sell              2.8969         29.3376  \n",
       "8   Hold or Sell              1.0040         16.2405  \n",
       "9            Buy              0.0897         -0.9989  \n",
       "10           Buy              1.2464          2.5038  \n",
       "11  Hold or Sell              1.2109         10.3665  \n",
       "12           Buy              1.4573       2062.0555  \n",
       "13           Buy              1.1210          7.5770  \n",
       "14  Hold or Sell              1.6487         17.8369  "
      ]
     },
     "execution_count": 34,
     "metadata": {},
     "output_type": "execute_result"
    }
   ],
   "source": [
    "summary_df = a.pred_summary_df(start_dates3, stocks = [x for x in start_dates3], days_back = 1)\n",
    "summary_df"
   ]
  },
  {
   "cell_type": "code",
   "execution_count": 35,
   "metadata": {},
   "outputs": [
    {
     "data": {
      "text/plain": [
       "(1.3164, 1.3989, 1.2464, 17.8369)"
      ]
     },
     "execution_count": 35,
     "metadata": {},
     "output_type": "execute_result"
    }
   ],
   "source": [
    "summary_df['1_Day_Model_Return'].median(), summary_df['3_Day_Model_Return'].median(), summary_df['5_Day_Model_Return'].median(), summary_df['Actual_Returns'].median()"
   ]
  },
  {
   "cell_type": "code",
   "execution_count": null,
   "metadata": {},
   "outputs": [],
   "source": []
  },
  {
   "cell_type": "code",
   "execution_count": null,
   "metadata": {},
   "outputs": [],
   "source": []
  }
 ],
 "metadata": {
  "kernelspec": {
   "display_name": "Python 3",
   "language": "python",
   "name": "python3"
  },
  "language_info": {
   "codemirror_mode": {
    "name": "ipython",
    "version": 3
   },
   "file_extension": ".py",
   "mimetype": "text/x-python",
   "name": "python",
   "nbconvert_exporter": "python",
   "pygments_lexer": "ipython3",
   "version": "3.8.10"
  }
 },
 "nbformat": 4,
 "nbformat_minor": 4
}
