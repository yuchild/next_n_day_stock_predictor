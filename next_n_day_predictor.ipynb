{
 "cells": [
  {
   "cell_type": "code",
   "execution_count": 1,
   "metadata": {
    "scrolled": true
   },
   "outputs": [],
   "source": [
    "from src import attributes as a\n",
    "%load_ext autoreload\n",
    "%autoreload 2\n",
    "\n",
    "import warnings\n",
    "warnings.filterwarnings('ignore')"
   ]
  },
  {
   "cell_type": "code",
   "execution_count": 2,
   "metadata": {},
   "outputs": [],
   "source": [
    "# Global Variables\n",
    "stock_name = 'tsla' # ticker symbol\n",
    "train = 0 # 1 for train, 0 for pass\n",
    "days_ahead = 1 # for predicting 1, 3, or 5 days ahead\n",
    "days_back = -1 # -1 for current data point, -2 for two days ago, etc...\n",
    "cv = 5 # number of cross validation folds\n",
    "model_name = 'Random Forest Classifier' # for display on charts, not a tuning parameter"
   ]
  },
  {
   "cell_type": "code",
   "execution_count": 3,
   "metadata": {
    "scrolled": false
   },
   "outputs": [
    {
     "name": "stdout",
     "output_type": "stream",
     "text": [
      "1.3.5\n"
     ]
    }
   ],
   "source": [
    "import pandas\n",
    "print(pandas.__version__)"
   ]
  },
  {
   "cell_type": "code",
   "execution_count": 4,
   "metadata": {},
   "outputs": [],
   "source": [
    "# Extract, Transform, Load, and Train Test Split\n",
    "# Dictionary of IPO Dates\n",
    "start_dates = {'a': '11/15/1999' # Updated 4/26/21 1D, 3D, 5D ahead\n",
    "               , 'aapl': '12/12/1980' # Updated 11/8/21 1D, 3D, 5D ahead\n",
    "               #, 'acy': '01/18/1998' # Updated 4/26/21 1D, 3D, 5D ahead\n",
    "               , 'adbe': '08/11/1986' # Updated 11/8/21 1D, 3D, 5D ahead\n",
    "               #, 'alb': '02/21/1994' # Updated 4/26/21 1D, 3D, 5D ahead\n",
    "               , 'amat': '03/16/1980' # Updated 4/26/21 1D, 3D, 5D ahead\n",
    "               , 'amd': '03/17/1980' # Updated 11/23/21 1D, 3D, 5D ahead\n",
    "               , 'amgn': '06/13/1983' # Updated 4/26/21 1D, 3D, 5D ahead\n",
    "               , 'amzn': '05/12/1997' # Updated 11/07/21 1D, 3D, 5D ahead\n",
    "               , 'baba': '09/15/2014' # Updated 11/13/21 1D, 3D, 5D ahead\n",
    "               , 'ba': '01/02/1962' # Updated 05/23/21 1D, 3D, 5D ahead\n",
    "               , 'bac': '02/19/1973' # Updated 4/26/21 1D, 3D, 5D ahead\n",
    "               , 'bby': '04/15/1985' # Updated 11/19/21 1D, 3D, 5D ahead\n",
    "               #, 'bpmc': '04/27/2015' # Updated 4/26/21 1D, 3D, 5D ahead\n",
    "               , 'brk-b': '05/06/1996' # Updated 4/25/23 1D, 3D, 5D ahead\n",
    "               , 'crm': '06/23/2004' # Updated 11/13/21 1D, 3D, 5D ahead\n",
    "               #, 'crsp': '10/16/2016' # Updated 4/26/21 1D, 3D, 5D ahead\n",
    "               , 'cost': '07/07/1986' # Updated 11/23/21 1D, 3D, 5D ahead\n",
    "               #, 'dis': '10/27/2014' # Updatd 11/5/21 1D, 3D, 5D ahead\n",
    "               #, 'dq': '10/04/2010' # Updated 4/26/21 1D, 3D, 5D ahead\n",
    "               , 'esgv': '09/16/2018' # Updated 4/26/21 1D, 3D, 5D ahead\n",
    "               , 'fslr': '11/12/2006' # Updated 4/26/21 1D, 3D, 5D ahead\n",
    "               , 'ge': '01/02/1962' # Updated 5/23/23 1D, 3D, 5D ahead\n",
    "               , 'goog': '08/16/2004' # Updated 11/8/21 1D, 3D, 5D ahead\n",
    "               , 'ibm': '01/02/1962' # Updated 4/26/21 1D, 3D, 5D ahead\n",
    "               , 'intc': '03/16/1980' # Updated 11/13/21 1D, 3D, 5D ahead\n",
    "               , 'iyw': '05/15/2000' # Updated 11/21/21 1D, 3D, 5D ahead\n",
    "               , 'll': '11/05/2007' # Updated 11/22/21 1D, 3D, 5D ahead\n",
    "               , 'lng': '04/04/1994' # Updated 4/26/21 1D, 3D, 5D ahead\n",
    "               , 'ma': '05/21/2006' # Updated 4/26/21 1D, 3D, 5D ahead\n",
    "               # , 'mdb': '10/15/2017' # Updated 11/21/21 1D, 3D, 5D ahead\n",
    "               , 'msft': '03/10/1986' # Updated 11/8/21 1D, 3D, 5D ahead\n",
    "               , 'mu': '05/28/1984' # Updated 11/20/21 1D, 3D, 5D ahead\n",
    "               #, 'nee': '02/19/1973' # Updated 4/26/21 1D, 3D, 5D ahead\n",
    "               , 'nio': '09/10/2018' # Updated 4/26/21 1D, 3D, 5D ahead\n",
    "               , 'nvda': '01/22/1999' # Updated 11/17/21 1D, 3D, 5D ahead\n",
    "               #, 'pacb': '10/25/2010' # Updated 4/26/21 1D, 3D, 5D ahead\n",
    "               , 'pypl': '07/05/2015' # Updated 4/26/21 1D, 3D, 5D ahead\n",
    "               , 'qgen': '06/24/1996' # Updated 4/26/21 1D, 3D, 5D ahead\n",
    "               #, 'run': '08/02/2015' # Updated 4/26/21 1D, 3D, 5D ahead\n",
    "               , 'okta': '04/03/2017' # Updated 4/26/21 1D, 3D, 5D ahead\n",
    "               , 'orcl': '03/10/1986' # Updated 4/26/21 1D, 3D, 5D ahead\n",
    "               , 'qcom': '12/09/1991' # Updated 11/20/21 1D, 3D, 5D ahead\n",
    "               , 'qqq': '03/08/1999' # Updated 4/26/21 1D, 3D, 5D ahead\n",
    "               , 'srpt': '06/02/1997' # Updated 4/26/21 1D, 3D, 5D ahead\n",
    "               , 'tgt': '02/19/1973' # Updated 11/22/21 1D, 3D, 5D ahead\n",
    "               #, 'tpic': '07/17/2016' # Updated 4/26/21 1D, 3D, 5D ahead\n",
    "               , 'tsla': '06/29/2010' # Updated 11/07/21 1D, 3D, 5D ahead\n",
    "               , 'tsm': '10/06/1997' # Updated 11/20/21 1D, 3D, 5D ahead\n",
    "               , 'v': '03/16/2008' # Updated 11/22/21 1D, 3D, 5D ahead\n",
    "               , 'vbiv': '09/04/2002' # Updated 4/26/21 1D, 3D, 5D ahead\n",
    "               , 'vbr': '01/26/2004' # Updated 11/20/21 1D, 3D, 5D ahead\n",
    "               #, 'viov': '09/06/2010' # Updated 4/26/21 1D, 3D, 5D ahead\n",
    "               , 'vgt': '01/26/2004' # Updated 11/07/21 1D, 3D, 5D ahead\n",
    "               , 'wmt': '11/10/2014' # Updated 11/16/21 1D, 3D, 5D ahead\n",
    "               , 'xli': '12/21/1998' # Updated 11/21/21 1D, 3D, 5D ahead\n",
    "               , 'xlk': '12/21/1998' # Updated 5/23/23 1D, 3D, 5D ahead\n",
    "              }"
   ]
  },
  {
   "cell_type": "markdown",
   "metadata": {},
   "source": [
    "### Get Data..."
   ]
  },
  {
   "cell_type": "code",
   "execution_count": 5,
   "metadata": {
    "scrolled": false
   },
   "outputs": [
    {
     "name": "stdout",
     "output_type": "stream",
     "text": [
      "Today's date: 2024-05-05\n",
      "Table Updates Complete\n",
      "Current Time:  02:36:46\n"
     ]
    }
   ],
   "source": [
    "from datetime import date, datetime\n",
    "today = date.today()\n",
    "print(\"Today's date:\", today)\n",
    "a.get_tables(start_dates) # commented out for 2021-12-19, data already downloaded for weekend\n",
    "print('Table Updates Complete')\n",
    "now = datetime.now()\n",
    "current_time = now.strftime(\"%H:%M:%S\")\n",
    "print(\"Current Time: \", current_time)"
   ]
  },
  {
   "cell_type": "code",
   "execution_count": 6,
   "metadata": {},
   "outputs": [],
   "source": [
    "# Load RandomForextClassifier Model\n",
    "# rfc_model, y_pred, y_probs = a.rfc(X_train, X_test, y_train, stock_name, days_ahead)"
   ]
  },
  {
   "cell_type": "code",
   "execution_count": 7,
   "metadata": {
    "scrolled": false
   },
   "outputs": [],
   "source": [
    "# ROC Curve\n",
    "# a.roc_plot(y_test, y_probs, stock_name, model_name)"
   ]
  },
  {
   "cell_type": "code",
   "execution_count": 8,
   "metadata": {
    "scrolled": false
   },
   "outputs": [],
   "source": [
    "# Precision Recall Curve\n",
    "# a.prec_recall(y_test, y_probs, stock_name, model_name)"
   ]
  },
  {
   "cell_type": "code",
   "execution_count": 9,
   "metadata": {
    "scrolled": false
   },
   "outputs": [],
   "source": [
    "# Confusion Matrix\n",
    "# a.confusion_matrix(rfc_model, X_test, y_test, stock_name)"
   ]
  },
  {
   "cell_type": "code",
   "execution_count": 10,
   "metadata": {},
   "outputs": [],
   "source": [
    "# Cross Validation\n",
    "# a.cross_validation(rfc_model\n",
    "#                    , stock_df[['oc', 'hl', '5stdev_adj', '5sma_adj']]\n",
    "#                    , stock_df['direction']\n",
    "#                    , cv = 5\n",
    "#                   )"
   ]
  },
  {
   "cell_type": "markdown",
   "metadata": {},
   "source": [
    "### Prediction..."
   ]
  },
  {
   "cell_type": "code",
   "execution_count": 11,
   "metadata": {
    "scrolled": true
   },
   "outputs": [],
   "source": [
    "# Prediction, use last day of data\n",
    "# stock_df.iloc[-1]"
   ]
  },
  {
   "cell_type": "code",
   "execution_count": 12,
   "metadata": {},
   "outputs": [],
   "source": [
    "# import numpy as np\n",
    "# last = stock_df[['oc', 'hl', '5stdev_adj', '5sma_adj']].iloc[-days_back]\n",
    "# last"
   ]
  },
  {
   "cell_type": "code",
   "execution_count": 13,
   "metadata": {},
   "outputs": [],
   "source": [
    "# stock_df['adj'].describe()"
   ]
  },
  {
   "cell_type": "code",
   "execution_count": 14,
   "metadata": {
    "scrolled": true
   },
   "outputs": [],
   "source": [
    "# if rfc_model.predict(np.array(last).reshape(1, -1))[0] == 1:\n",
    "#     print(f'Buy {stock_name} {days_ahead} day(s) ahead')\n",
    "# else:\n",
    "#     print(f'Sell or hold {stock_name} {days_ahead} day(s) ahead')"
   ]
  },
  {
   "cell_type": "markdown",
   "metadata": {},
   "source": [
    "### Strategy Returns..."
   ]
  },
  {
   "cell_type": "code",
   "execution_count": 15,
   "metadata": {},
   "outputs": [],
   "source": [
    "# returns on strategy column\n",
    "# stock_df['prediction'] = rfc_model.predict(stock_df[['oc', 'hl', '5stdev_adj', '5sma_adj']])\n",
    "# stock_df['returns'] = stock_df['adj'].shift(-1, fill_value = stock_df['adj'].median()) * stock_df['prediction']"
   ]
  },
  {
   "cell_type": "code",
   "execution_count": 16,
   "metadata": {},
   "outputs": [],
   "source": [
    "# stock_df.tail(5)"
   ]
  },
  {
   "cell_type": "code",
   "execution_count": 17,
   "metadata": {},
   "outputs": [],
   "source": [
    "# Don't trade every day!\n",
    "# import matplotlib.pyplot as plt\n",
    "# test_length = len(y_test)\n",
    "# (stock_df['returns'][-test_length:] + 1).cumprod().plot()\n",
    "# plt.title(f'{stock_name} Expected Returns %');"
   ]
  },
  {
   "cell_type": "code",
   "execution_count": 18,
   "metadata": {},
   "outputs": [],
   "source": [
    "# Model returns if bought on predictions of 1\n",
    "# returns_on_ones = []\n",
    "# for idx in range(-test_length, 0):\n",
    "#     if stock_df['prediction'][idx] == 1:\n",
    "#         returns_on_ones.append(1 + stock_df['returns'][idx])\n",
    "\n",
    "# returns = 1\n",
    "# for x in returns_on_ones:\n",
    "#     returns *= x\n",
    "# returns"
   ]
  },
  {
   "cell_type": "code",
   "execution_count": 19,
   "metadata": {},
   "outputs": [],
   "source": [
    "# multiple times original investment, not bad but..."
   ]
  },
  {
   "cell_type": "code",
   "execution_count": 20,
   "metadata": {},
   "outputs": [],
   "source": [
    "# If purchased in 2012 and left it until now\n",
    "# test_idx = int(len(stock_df)*0.75)\n",
    "# (stock_df['Close'][-1] - stock_df['Close'][-test_idx]) / stock_df['Close'][-test_idx]"
   ]
  },
  {
   "cell_type": "code",
   "execution_count": 21,
   "metadata": {},
   "outputs": [],
   "source": [
    "# Buy and hold strategy beats RandomForestClassifier in this study\n",
    "\n",
    "# Special thanks to Shagufta Tahsildar at https://blog.quantinsti.com/random-forest-algorithm-in-python/"
   ]
  },
  {
   "cell_type": "code",
   "execution_count": null,
   "metadata": {},
   "outputs": [],
   "source": []
  },
  {
   "cell_type": "code",
   "execution_count": null,
   "metadata": {},
   "outputs": [],
   "source": []
  },
  {
   "cell_type": "code",
   "execution_count": null,
   "metadata": {},
   "outputs": [],
   "source": []
  },
  {
   "cell_type": "markdown",
   "metadata": {},
   "source": [
    "### Training"
   ]
  },
  {
   "cell_type": "markdown",
   "metadata": {},
   "source": [
    "Training is done once a week on Saturday and Sunday"
   ]
  },
  {
   "cell_type": "code",
   "execution_count": 22,
   "metadata": {},
   "outputs": [
    {
     "data": {
      "text/plain": [
       "45"
      ]
     },
     "execution_count": 22,
     "metadata": {},
     "output_type": "execute_result"
    }
   ],
   "source": [
    "len(start_dates)"
   ]
  },
  {
   "cell_type": "code",
   "execution_count": 23,
   "metadata": {},
   "outputs": [
    {
     "data": {
      "text/plain": [
       "{'a': '11/15/1999',\n",
       " 'aapl': '12/12/1980',\n",
       " 'adbe': '08/11/1986',\n",
       " 'amat': '03/16/1980',\n",
       " 'amd': '03/17/1980',\n",
       " 'amgn': '06/13/1983',\n",
       " 'amzn': '05/12/1997',\n",
       " 'baba': '09/15/2014',\n",
       " 'ba': '01/02/1962',\n",
       " 'bac': '02/19/1973',\n",
       " 'bby': '04/15/1985',\n",
       " 'brk-b': '05/06/1996',\n",
       " 'crm': '06/23/2004',\n",
       " 'cost': '07/07/1986',\n",
       " 'esgv': '09/16/2018'}"
      ]
     },
     "execution_count": 23,
     "metadata": {},
     "output_type": "execute_result"
    }
   ],
   "source": [
    "import itertools as itr\n",
    "start_dates1 = dict(itr.islice(start_dates.items(), 0, 15))\n",
    "start_dates1"
   ]
  },
  {
   "cell_type": "code",
   "execution_count": 24,
   "metadata": {},
   "outputs": [
    {
     "data": {
      "text/plain": [
       "{'fslr': '11/12/2006',\n",
       " 'ge': '01/02/1962',\n",
       " 'goog': '08/16/2004',\n",
       " 'ibm': '01/02/1962',\n",
       " 'intc': '03/16/1980',\n",
       " 'iyw': '05/15/2000',\n",
       " 'll': '11/05/2007',\n",
       " 'lng': '04/04/1994',\n",
       " 'ma': '05/21/2006',\n",
       " 'msft': '03/10/1986',\n",
       " 'mu': '05/28/1984',\n",
       " 'nio': '09/10/2018',\n",
       " 'nvda': '01/22/1999',\n",
       " 'pypl': '07/05/2015',\n",
       " 'qgen': '06/24/1996'}"
      ]
     },
     "execution_count": 24,
     "metadata": {},
     "output_type": "execute_result"
    }
   ],
   "source": [
    "start_dates2 = dict(itr.islice(start_dates.items(), 15, 30))\n",
    "start_dates2"
   ]
  },
  {
   "cell_type": "code",
   "execution_count": 25,
   "metadata": {},
   "outputs": [
    {
     "data": {
      "text/plain": [
       "{'okta': '04/03/2017',\n",
       " 'orcl': '03/10/1986',\n",
       " 'qcom': '12/09/1991',\n",
       " 'qqq': '03/08/1999',\n",
       " 'srpt': '06/02/1997',\n",
       " 'tgt': '02/19/1973',\n",
       " 'tsla': '06/29/2010',\n",
       " 'tsm': '10/06/1997',\n",
       " 'v': '03/16/2008',\n",
       " 'vbiv': '09/04/2002',\n",
       " 'vbr': '01/26/2004',\n",
       " 'vgt': '01/26/2004',\n",
       " 'wmt': '11/10/2014',\n",
       " 'xli': '12/21/1998',\n",
       " 'xlk': '12/21/1998'}"
      ]
     },
     "execution_count": 25,
     "metadata": {},
     "output_type": "execute_result"
    }
   ],
   "source": [
    "start_dates3 = dict(itr.islice(start_dates.items(), 30, 45+1))\n",
    "start_dates3"
   ]
  },
  {
   "cell_type": "code",
   "execution_count": 26,
   "metadata": {
    "scrolled": false
   },
   "outputs": [],
   "source": [
    "# from datetime import datetime\n",
    "\n",
    "# now = datetime.now()\n",
    "\n",
    "# current_time = now.strftime(\"%H:%M:%S\")\n",
    "# print(\"Gridsearch Start Date: \", today)\n",
    "# print(\"Current Time: \", current_time)\n",
    "\n",
    "#Train 15 at a time!\n",
    "# stocks = [x for x in start_dates1]\n",
    "# days_ahead = [1, 3, 5]\n",
    "# cv = 5\n",
    "# for stock in stocks:\n",
    "#     for days in days_ahead:\n",
    "#         X_train, X_test, y_train, y_test, stock_df = a.data(stock, start_dates[stock], days)\n",
    "#         a.rfc_GridSearch(X_train, y_train, stock, days, cv)\n",
    "# len(stocks)\n",
    "\n",
    "# Next on training for Saturday 4/17/2021\n",
    "# stocks = [x for x in start_dates2]\n",
    "# days_ahead = [1, 3, 5]\n",
    "# cv = 5\n",
    "# for stock in stocks:\n",
    "#     for days in days_ahead:\n",
    "#         X_train, X_test, y_train, y_test, stock_df = a.data(stock, start_dates[stock], days)\n",
    "#         a.rfc_GridSearch(X_train, y_train, stock, days, cv)\n",
    "# len(stocks)\n",
    "\n",
    "# Next on training for Saturday 4/17/2021\n",
    "# stocks = [x for x in start_dates3]\n",
    "# days_ahead = [1, 3, 5]\n",
    "# cv = 5\n",
    "# for stock in stocks:\n",
    "#     for days in days_ahead:\n",
    "#         X_train, X_test, y_train, y_test, stock_df = a.data(stock, start_dates[stock], days)\n",
    "#         a.rfc_GridSearch(X_train, y_train, stock, days, cv)\n",
    "# len(stocks)\n",
    "\n",
    "# # Train all, takes 15+ hours\n",
    "# stocks = [x for x in start_dates]\n",
    "# days_ahead = [1, 3, 5]\n",
    "# cv = 5\n",
    "# for stock in stocks:\n",
    "#     for days in days_ahead:\n",
    "#         X_train, X_test, y_train, y_test, stock_df = a.data(stock, start_dates[stock], days)\n",
    "#         a.rfc_GridSearch(X_train, y_train, stock, days, cv)\n",
    "# len(stocks)\n",
    "\n",
    "# Train desired stocks...takes less time (4 will take 15.5 hours, each stock is roughly 2.5-4 hours to train)\n",
    "# 3 will take 7.5 hours, roughly 2.5 hours per stock trained\n",
    "# to train: ['cost']\n",
    "\n",
    "# import timeit \n",
    "# stocks = ['xli', 'ba', 'ge'] # updated 2023-05-23 (3:48pm - 12:47am ~9hours)\n",
    "# days_ahead = [1, 3, 5] \n",
    "# cv = 2 # was 5 \n",
    "# for stock in stocks:\n",
    "#     for days in days_ahead:\n",
    "#         X_train, X_test, y_train, y_test, stock_df = a.data(stock, start_dates[stock], days)\n",
    "#         %timeit a.rfc_GridSearch(X_train, y_train, stock, days, cv)\n",
    "\n",
    "# now = datetime.now()\n",
    "\n",
    "# current_time = now.strftime(\"%H:%M:%S\")\n",
    "# print(\"Gridsearch End Date: \", today)\n",
    "# print(\"Current Time: \", current_time)"
   ]
  },
  {
   "cell_type": "code",
   "execution_count": null,
   "metadata": {},
   "outputs": [],
   "source": []
  },
  {
   "cell_type": "code",
   "execution_count": null,
   "metadata": {},
   "outputs": [],
   "source": []
  },
  {
   "cell_type": "code",
   "execution_count": null,
   "metadata": {},
   "outputs": [],
   "source": []
  },
  {
   "cell_type": "markdown",
   "metadata": {},
   "source": [
    "### Display All Results"
   ]
  },
  {
   "cell_type": "markdown",
   "metadata": {},
   "source": [
    "**NOTE:** Returns include buying ups and selling downs"
   ]
  },
  {
   "cell_type": "code",
   "execution_count": 27,
   "metadata": {},
   "outputs": [
    {
     "name": "stdout",
     "output_type": "stream",
     "text": [
      "Today's date: 2024-05-05\n",
      "Current Time:  02:36:47\n"
     ]
    }
   ],
   "source": [
    "from datetime import date, datetime\n",
    "today = date.today()\n",
    "print(\"Today's date:\", today)\n",
    "now = datetime.now()\n",
    "current_time = now.strftime(\"%H:%M:%S\")\n",
    "print(\"Current Time: \", current_time)"
   ]
  },
  {
   "cell_type": "code",
   "execution_count": 28,
   "metadata": {
    "scrolled": false
   },
   "outputs": [
    {
     "name": "stdout",
     "output_type": "stream",
     "text": [
      "Sell or hold msft 1 day(s) ahead\n",
      "Model Returns (x 100 for %): 5.2933\n",
      "Stock Returns (x 100 for %): 305.9919\n"
     ]
    },
    {
     "data": {
      "image/png": "[encoded data removed]",
      "text/plain": [
       "<Figure size 432x288 with 1 Axes>"
      ]
     },
     "metadata": {},
     "output_type": "display_data"
    },
    {
     "data": {
      "image/png": "[encoded data removed]",
      "text/plain": [
       "<Figure size 648x504 with 1 Axes>"
      ]
     },
     "metadata": {},
     "output_type": "display_data"
    },
    {
     "data": {
      "image/png": "[encoded data removed]",
      "text/plain": [
       "<Figure size 648x504 with 1 Axes>"
      ]
     },
     "metadata": {},
     "output_type": "display_data"
    },
    {
     "data": {
      "image/png": "[encoded data removed]",
      "text/plain": [
       "<Figure size 684x612 with 2 Axes>"
      ]
     },
     "metadata": {},
     "output_type": "display_data"
    }
   ],
   "source": [
    "stock_name = 'msft'\n",
    "a.all_func(stock_name\n",
    "           , start_dates[stock_name]\n",
    "           , days_ahead = 1\n",
    "           , model_name = model_name\n",
    "           , days_back = 1\n",
    "          )\n",
    "# chart shows if traded every day up or down"
   ]
  },
  {
   "cell_type": "code",
   "execution_count": null,
   "metadata": {},
   "outputs": [],
   "source": []
  },
  {
   "cell_type": "code",
   "execution_count": null,
   "metadata": {},
   "outputs": [],
   "source": []
  },
  {
   "cell_type": "code",
   "execution_count": null,
   "metadata": {},
   "outputs": [],
   "source": []
  },
  {
   "cell_type": "markdown",
   "metadata": {},
   "source": [
    "### Data Frame of Predictions 1 3 5 Days"
   ]
  },
  {
   "cell_type": "markdown",
   "metadata": {},
   "source": [
    "**NOTE:** Returns are for buys only."
   ]
  },
  {
   "cell_type": "code",
   "execution_count": 29,
   "metadata": {
    "scrolled": true
   },
   "outputs": [
    {
     "name": "stdout",
     "output_type": "stream",
     "text": [
      "Today's date: 2024-05-05\n",
      "Current Time = 02:36:47\n"
     ]
    }
   ],
   "source": [
    "print(\"Today's date:\", today)\n",
    "print(\"Current Time =\", current_time)"
   ]
  },
  {
   "cell_type": "code",
   "execution_count": 30,
   "metadata": {
    "scrolled": false
   },
   "outputs": [
    {
     "data": {
      "text/html": [
       "<div>\n",
       "<style scoped>\n",
       "    .dataframe tbody tr th:only-of-type {\n",
       "        vertical-align: middle;\n",
       "    }\n",
       "\n",
       "    .dataframe tbody tr th {\n",
       "        vertical-align: top;\n",
       "    }\n",
       "\n",
       "    .dataframe thead th {\n",
       "        text-align: right;\n",
       "    }\n",
       "</style>\n",
       "<table border=\"1\" class=\"dataframe\">\n",
       "  <thead>\n",
       "    <tr style=\"text-align: right;\">\n",
       "      <th></th>\n",
       "      <th>stock</th>\n",
       "      <th>1_Day_Pred</th>\n",
       "      <th>1_Day_Model_Return</th>\n",
       "      <th>3_Day_Pred</th>\n",
       "      <th>3_Day_Model_Return</th>\n",
       "      <th>5_Day_Pred</th>\n",
       "      <th>5_Day_Model_Return</th>\n",
       "      <th>Actual_Returns</th>\n",
       "    </tr>\n",
       "  </thead>\n",
       "  <tbody>\n",
       "    <tr>\n",
       "      <th>0</th>\n",
       "      <td>a</td>\n",
       "      <td>Buy</td>\n",
       "      <td>1.3411</td>\n",
       "      <td>Buy</td>\n",
       "      <td>1.1837</td>\n",
       "      <td>Buy</td>\n",
       "      <td>1.3456</td>\n",
       "      <td>8.4428</td>\n",
       "    </tr>\n",
       "    <tr>\n",
       "      <th>1</th>\n",
       "      <td>aapl</td>\n",
       "      <td>Buy</td>\n",
       "      <td>3.2879</td>\n",
       "      <td>Buy</td>\n",
       "      <td>3.3104</td>\n",
       "      <td>Buy</td>\n",
       "      <td>2.9439</td>\n",
       "      <td>711.3536</td>\n",
       "    </tr>\n",
       "    <tr>\n",
       "      <th>2</th>\n",
       "      <td>adbe</td>\n",
       "      <td>Hold or Sell</td>\n",
       "      <td>1.6237</td>\n",
       "      <td>Hold or Sell</td>\n",
       "      <td>2.0977</td>\n",
       "      <td>Hold or Sell</td>\n",
       "      <td>1.8368</td>\n",
       "      <td>194.8346</td>\n",
       "    </tr>\n",
       "    <tr>\n",
       "      <th>3</th>\n",
       "      <td>amat</td>\n",
       "      <td>Hold or Sell</td>\n",
       "      <td>7.9868</td>\n",
       "      <td>Hold or Sell</td>\n",
       "      <td>6.9149</td>\n",
       "      <td>Hold or Sell</td>\n",
       "      <td>6.9264</td>\n",
       "      <td>1649.6471</td>\n",
       "    </tr>\n",
       "    <tr>\n",
       "      <th>4</th>\n",
       "      <td>amd</td>\n",
       "      <td>Hold or Sell</td>\n",
       "      <td>4.1691</td>\n",
       "      <td>Hold or Sell</td>\n",
       "      <td>8.7469</td>\n",
       "      <td>Hold or Sell</td>\n",
       "      <td>5.7653</td>\n",
       "      <td>17.9732</td>\n",
       "    </tr>\n",
       "    <tr>\n",
       "      <th>5</th>\n",
       "      <td>amgn</td>\n",
       "      <td>Buy</td>\n",
       "      <td>1.2847</td>\n",
       "      <td>Buy</td>\n",
       "      <td>1.3804</td>\n",
       "      <td>Buy</td>\n",
       "      <td>1.3907</td>\n",
       "      <td>518.6295</td>\n",
       "    </tr>\n",
       "    <tr>\n",
       "      <th>6</th>\n",
       "      <td>amzn</td>\n",
       "      <td>Buy</td>\n",
       "      <td>1.2839</td>\n",
       "      <td>Buy</td>\n",
       "      <td>1.1206</td>\n",
       "      <td>Buy</td>\n",
       "      <td>1.2715</td>\n",
       "      <td>289.7260</td>\n",
       "    </tr>\n",
       "    <tr>\n",
       "      <th>7</th>\n",
       "      <td>baba</td>\n",
       "      <td>Hold or Sell</td>\n",
       "      <td>1.0366</td>\n",
       "      <td>Hold or Sell</td>\n",
       "      <td>0.9442</td>\n",
       "      <td>Hold or Sell</td>\n",
       "      <td>1.0347</td>\n",
       "      <td>0.0556</td>\n",
       "    </tr>\n",
       "    <tr>\n",
       "      <th>8</th>\n",
       "      <td>ba</td>\n",
       "      <td>Hold or Sell</td>\n",
       "      <td>0.9345</td>\n",
       "      <td>Hold or Sell</td>\n",
       "      <td>0.7716</td>\n",
       "      <td>Hold or Sell</td>\n",
       "      <td>0.8429</td>\n",
       "      <td>965.9217</td>\n",
       "    </tr>\n",
       "    <tr>\n",
       "      <th>9</th>\n",
       "      <td>bac</td>\n",
       "      <td>Hold or Sell</td>\n",
       "      <td>1.6663</td>\n",
       "      <td>Hold or Sell</td>\n",
       "      <td>1.2695</td>\n",
       "      <td>Hold or Sell</td>\n",
       "      <td>2.0154</td>\n",
       "      <td>67.1514</td>\n",
       "    </tr>\n",
       "    <tr>\n",
       "      <th>10</th>\n",
       "      <td>bby</td>\n",
       "      <td>Hold or Sell</td>\n",
       "      <td>0.5596</td>\n",
       "      <td>Hold or Sell</td>\n",
       "      <td>0.6094</td>\n",
       "      <td>Hold or Sell</td>\n",
       "      <td>0.7169</td>\n",
       "      <td>399.3526</td>\n",
       "    </tr>\n",
       "    <tr>\n",
       "      <th>11</th>\n",
       "      <td>brk-b</td>\n",
       "      <td>Buy</td>\n",
       "      <td>1.4185</td>\n",
       "      <td>Buy</td>\n",
       "      <td>1.3881</td>\n",
       "      <td>Buy</td>\n",
       "      <td>1.3412</td>\n",
       "      <td>8.8301</td>\n",
       "    </tr>\n",
       "    <tr>\n",
       "      <th>12</th>\n",
       "      <td>crm</td>\n",
       "      <td>Buy</td>\n",
       "      <td>0.7900</td>\n",
       "      <td>Buy</td>\n",
       "      <td>0.7954</td>\n",
       "      <td>Buy</td>\n",
       "      <td>0.7564</td>\n",
       "      <td>23.3031</td>\n",
       "    </tr>\n",
       "    <tr>\n",
       "      <th>13</th>\n",
       "      <td>cost</td>\n",
       "      <td>Hold or Sell</td>\n",
       "      <td>2.1218</td>\n",
       "      <td>Hold or Sell</td>\n",
       "      <td>1.9311</td>\n",
       "      <td>Hold or Sell</td>\n",
       "      <td>1.9678</td>\n",
       "      <td>93.0144</td>\n",
       "    </tr>\n",
       "    <tr>\n",
       "      <th>14</th>\n",
       "      <td>esgv</td>\n",
       "      <td>Buy</td>\n",
       "      <td>1.0541</td>\n",
       "      <td>Hold or Sell</td>\n",
       "      <td>0.9809</td>\n",
       "      <td>Hold or Sell</td>\n",
       "      <td>0.9758</td>\n",
       "      <td>0.8748</td>\n",
       "    </tr>\n",
       "  </tbody>\n",
       "</table>\n",
       "</div>"
      ],
      "text/plain": [
       "    stock    1_Day_Pred  1_Day_Model_Return    3_Day_Pred  3_Day_Model_Return  \\\n",
       "0       a           Buy              1.3411           Buy              1.1837   \n",
       "1    aapl           Buy              3.2879           Buy              3.3104   \n",
       "2    adbe  Hold or Sell              1.6237  Hold or Sell              2.0977   \n",
       "3    amat  Hold or Sell              7.9868  Hold or Sell              6.9149   \n",
       "4     amd  Hold or Sell              4.1691  Hold or Sell              8.7469   \n",
       "5    amgn           Buy              1.2847           Buy              1.3804   \n",
       "6    amzn           Buy              1.2839           Buy              1.1206   \n",
       "7    baba  Hold or Sell              1.0366  Hold or Sell              0.9442   \n",
       "8      ba  Hold or Sell              0.9345  Hold or Sell              0.7716   \n",
       "9     bac  Hold or Sell              1.6663  Hold or Sell              1.2695   \n",
       "10    bby  Hold or Sell              0.5596  Hold or Sell              0.6094   \n",
       "11  brk-b           Buy              1.4185           Buy              1.3881   \n",
       "12    crm           Buy              0.7900           Buy              0.7954   \n",
       "13   cost  Hold or Sell              2.1218  Hold or Sell              1.9311   \n",
       "14   esgv           Buy              1.0541  Hold or Sell              0.9809   \n",
       "\n",
       "      5_Day_Pred  5_Day_Model_Return  Actual_Returns  \n",
       "0            Buy              1.3456          8.4428  \n",
       "1            Buy              2.9439        711.3536  \n",
       "2   Hold or Sell              1.8368        194.8346  \n",
       "3   Hold or Sell              6.9264       1649.6471  \n",
       "4   Hold or Sell              5.7653         17.9732  \n",
       "5            Buy              1.3907        518.6295  \n",
       "6            Buy              1.2715        289.7260  \n",
       "7   Hold or Sell              1.0347          0.0556  \n",
       "8   Hold or Sell              0.8429        965.9217  \n",
       "9   Hold or Sell              2.0154         67.1514  \n",
       "10  Hold or Sell              0.7169        399.3526  \n",
       "11           Buy              1.3412          8.8301  \n",
       "12           Buy              0.7564         23.3031  \n",
       "13  Hold or Sell              1.9678         93.0144  \n",
       "14  Hold or Sell              0.9758          0.8748  "
      ]
     },
     "execution_count": 30,
     "metadata": {},
     "output_type": "execute_result"
    }
   ],
   "source": [
    "summary_df = a.pred_summary_df(start_dates1, stocks = [x for x in start_dates1], days_back = 1)\n",
    "summary_df"
   ]
  },
  {
   "cell_type": "code",
   "execution_count": 31,
   "metadata": {},
   "outputs": [
    {
     "data": {
      "text/plain": [
       "(1.3411, 1.2695, 1.3456, 93.0144)"
      ]
     },
     "execution_count": 31,
     "metadata": {},
     "output_type": "execute_result"
    }
   ],
   "source": [
    "summary_df['1_Day_Model_Return'].median(), summary_df['3_Day_Model_Return'].median(), summary_df['5_Day_Model_Return'].median(), summary_df['Actual_Returns'].median()"
   ]
  },
  {
   "cell_type": "code",
   "execution_count": null,
   "metadata": {},
   "outputs": [],
   "source": []
  },
  {
   "cell_type": "code",
   "execution_count": 32,
   "metadata": {
    "scrolled": false
   },
   "outputs": [
    {
     "data": {
      "text/html": [
       "<div>\n",
       "<style scoped>\n",
       "    .dataframe tbody tr th:only-of-type {\n",
       "        vertical-align: middle;\n",
       "    }\n",
       "\n",
       "    .dataframe tbody tr th {\n",
       "        vertical-align: top;\n",
       "    }\n",
       "\n",
       "    .dataframe thead th {\n",
       "        text-align: right;\n",
       "    }\n",
       "</style>\n",
       "<table border=\"1\" class=\"dataframe\">\n",
       "  <thead>\n",
       "    <tr style=\"text-align: right;\">\n",
       "      <th></th>\n",
       "      <th>stock</th>\n",
       "      <th>1_Day_Pred</th>\n",
       "      <th>1_Day_Model_Return</th>\n",
       "      <th>3_Day_Pred</th>\n",
       "      <th>3_Day_Model_Return</th>\n",
       "      <th>5_Day_Pred</th>\n",
       "      <th>5_Day_Model_Return</th>\n",
       "      <th>Actual_Returns</th>\n",
       "    </tr>\n",
       "  </thead>\n",
       "  <tbody>\n",
       "    <tr>\n",
       "      <th>0</th>\n",
       "      <td>fslr</td>\n",
       "      <td>Hold or Sell</td>\n",
       "      <td>1.0544</td>\n",
       "      <td>Hold or Sell</td>\n",
       "      <td>1.1436</td>\n",
       "      <td>Hold or Sell</td>\n",
       "      <td>1.2197</td>\n",
       "      <td>0.1037</td>\n",
       "    </tr>\n",
       "    <tr>\n",
       "      <th>1</th>\n",
       "      <td>ge</td>\n",
       "      <td>Buy</td>\n",
       "      <td>0.7469</td>\n",
       "      <td>Buy</td>\n",
       "      <td>0.5868</td>\n",
       "      <td>Buy</td>\n",
       "      <td>0.7044</td>\n",
       "      <td>184.2306</td>\n",
       "    </tr>\n",
       "    <tr>\n",
       "      <th>2</th>\n",
       "      <td>goog</td>\n",
       "      <td>Buy</td>\n",
       "      <td>1.2350</td>\n",
       "      <td>Buy</td>\n",
       "      <td>1.2025</td>\n",
       "      <td>Buy</td>\n",
       "      <td>1.3391</td>\n",
       "      <td>12.2291</td>\n",
       "    </tr>\n",
       "    <tr>\n",
       "      <th>3</th>\n",
       "      <td>ibm</td>\n",
       "      <td>Hold or Sell</td>\n",
       "      <td>1.2723</td>\n",
       "      <td>Hold or Sell</td>\n",
       "      <td>1.6927</td>\n",
       "      <td>Hold or Sell</td>\n",
       "      <td>1.3321</td>\n",
       "      <td>48.7455</td>\n",
       "    </tr>\n",
       "    <tr>\n",
       "      <th>4</th>\n",
       "      <td>intc</td>\n",
       "      <td>Buy</td>\n",
       "      <td>3.4834</td>\n",
       "      <td>Buy</td>\n",
       "      <td>4.0707</td>\n",
       "      <td>Buy</td>\n",
       "      <td>3.8688</td>\n",
       "      <td>127.4229</td>\n",
       "    </tr>\n",
       "    <tr>\n",
       "      <th>5</th>\n",
       "      <td>iyw</td>\n",
       "      <td>Hold or Sell</td>\n",
       "      <td>1.4063</td>\n",
       "      <td>Hold or Sell</td>\n",
       "      <td>1.3472</td>\n",
       "      <td>Hold or Sell</td>\n",
       "      <td>1.1777</td>\n",
       "      <td>10.8324</td>\n",
       "    </tr>\n",
       "    <tr>\n",
       "      <th>6</th>\n",
       "      <td>ll</td>\n",
       "      <td>Buy</td>\n",
       "      <td>0.1574</td>\n",
       "      <td>Buy</td>\n",
       "      <td>0.1226</td>\n",
       "      <td>Buy</td>\n",
       "      <td>0.1506</td>\n",
       "      <td>-0.9437</td>\n",
       "    </tr>\n",
       "    <tr>\n",
       "      <th>7</th>\n",
       "      <td>lng</td>\n",
       "      <td>Buy</td>\n",
       "      <td>2.8986</td>\n",
       "      <td>Buy</td>\n",
       "      <td>2.0174</td>\n",
       "      <td>Buy</td>\n",
       "      <td>2.3183</td>\n",
       "      <td>90.8545</td>\n",
       "    </tr>\n",
       "    <tr>\n",
       "      <th>8</th>\n",
       "      <td>ma</td>\n",
       "      <td>Buy</td>\n",
       "      <td>1.3322</td>\n",
       "      <td>Buy</td>\n",
       "      <td>1.1207</td>\n",
       "      <td>Buy</td>\n",
       "      <td>0.9895</td>\n",
       "      <td>30.7542</td>\n",
       "    </tr>\n",
       "    <tr>\n",
       "      <th>9</th>\n",
       "      <td>msft</td>\n",
       "      <td>Hold or Sell</td>\n",
       "      <td>4.9601</td>\n",
       "      <td>Hold or Sell</td>\n",
       "      <td>5.7358</td>\n",
       "      <td>Hold or Sell</td>\n",
       "      <td>4.4842</td>\n",
       "      <td>305.9919</td>\n",
       "    </tr>\n",
       "    <tr>\n",
       "      <th>10</th>\n",
       "      <td>mu</td>\n",
       "      <td>Buy</td>\n",
       "      <td>2.1573</td>\n",
       "      <td>Buy</td>\n",
       "      <td>1.9919</td>\n",
       "      <td>Buy</td>\n",
       "      <td>1.7026</td>\n",
       "      <td>88.0393</td>\n",
       "    </tr>\n",
       "    <tr>\n",
       "      <th>11</th>\n",
       "      <td>nio</td>\n",
       "      <td>Hold or Sell</td>\n",
       "      <td>0.8525</td>\n",
       "      <td>Hold or Sell</td>\n",
       "      <td>0.7300</td>\n",
       "      <td>Hold or Sell</td>\n",
       "      <td>0.7757</td>\n",
       "      <td>0.9207</td>\n",
       "    </tr>\n",
       "    <tr>\n",
       "      <th>12</th>\n",
       "      <td>nvda</td>\n",
       "      <td>Hold or Sell</td>\n",
       "      <td>1.8271</td>\n",
       "      <td>Hold or Sell</td>\n",
       "      <td>1.2949</td>\n",
       "      <td>Hold or Sell</td>\n",
       "      <td>2.1568</td>\n",
       "      <td>822.1920</td>\n",
       "    </tr>\n",
       "    <tr>\n",
       "      <th>13</th>\n",
       "      <td>pypl</td>\n",
       "      <td>Buy</td>\n",
       "      <td>1.0376</td>\n",
       "      <td>Buy</td>\n",
       "      <td>1.0222</td>\n",
       "      <td>Buy</td>\n",
       "      <td>0.8490</td>\n",
       "      <td>0.6404</td>\n",
       "    </tr>\n",
       "    <tr>\n",
       "      <th>14</th>\n",
       "      <td>qgen</td>\n",
       "      <td>Buy</td>\n",
       "      <td>0.8337</td>\n",
       "      <td>Buy</td>\n",
       "      <td>1.0177</td>\n",
       "      <td>Buy</td>\n",
       "      <td>1.6449</td>\n",
       "      <td>-0.0353</td>\n",
       "    </tr>\n",
       "  </tbody>\n",
       "</table>\n",
       "</div>"
      ],
      "text/plain": [
       "   stock    1_Day_Pred  1_Day_Model_Return    3_Day_Pred  3_Day_Model_Return  \\\n",
       "0   fslr  Hold or Sell              1.0544  Hold or Sell              1.1436   \n",
       "1     ge           Buy              0.7469           Buy              0.5868   \n",
       "2   goog           Buy              1.2350           Buy              1.2025   \n",
       "3    ibm  Hold or Sell              1.2723  Hold or Sell              1.6927   \n",
       "4   intc           Buy              3.4834           Buy              4.0707   \n",
       "5    iyw  Hold or Sell              1.4063  Hold or Sell              1.3472   \n",
       "6     ll           Buy              0.1574           Buy              0.1226   \n",
       "7    lng           Buy              2.8986           Buy              2.0174   \n",
       "8     ma           Buy              1.3322           Buy              1.1207   \n",
       "9   msft  Hold or Sell              4.9601  Hold or Sell              5.7358   \n",
       "10    mu           Buy              2.1573           Buy              1.9919   \n",
       "11   nio  Hold or Sell              0.8525  Hold or Sell              0.7300   \n",
       "12  nvda  Hold or Sell              1.8271  Hold or Sell              1.2949   \n",
       "13  pypl           Buy              1.0376           Buy              1.0222   \n",
       "14  qgen           Buy              0.8337           Buy              1.0177   \n",
       "\n",
       "      5_Day_Pred  5_Day_Model_Return  Actual_Returns  \n",
       "0   Hold or Sell              1.2197          0.1037  \n",
       "1            Buy              0.7044        184.2306  \n",
       "2            Buy              1.3391         12.2291  \n",
       "3   Hold or Sell              1.3321         48.7455  \n",
       "4            Buy              3.8688        127.4229  \n",
       "5   Hold or Sell              1.1777         10.8324  \n",
       "6            Buy              0.1506         -0.9437  \n",
       "7            Buy              2.3183         90.8545  \n",
       "8            Buy              0.9895         30.7542  \n",
       "9   Hold or Sell              4.4842        305.9919  \n",
       "10           Buy              1.7026         88.0393  \n",
       "11  Hold or Sell              0.7757          0.9207  \n",
       "12  Hold or Sell              2.1568        822.1920  \n",
       "13           Buy              0.8490          0.6404  \n",
       "14           Buy              1.6449         -0.0353  "
      ]
     },
     "execution_count": 32,
     "metadata": {},
     "output_type": "execute_result"
    }
   ],
   "source": [
    "summary_df = a.pred_summary_df(start_dates2, stocks = [x for x in start_dates2], days_back = 1)\n",
    "summary_df"
   ]
  },
  {
   "cell_type": "code",
   "execution_count": 33,
   "metadata": {
    "scrolled": true
   },
   "outputs": [
    {
     "data": {
      "text/plain": [
       "(1.2723, 1.2025, 1.3321, 30.7542)"
      ]
     },
     "execution_count": 33,
     "metadata": {},
     "output_type": "execute_result"
    }
   ],
   "source": [
    "summary_df['1_Day_Model_Return'].median(), summary_df['3_Day_Model_Return'].median(), summary_df['5_Day_Model_Return'].median(), summary_df['Actual_Returns'].median()"
   ]
  },
  {
   "cell_type": "code",
   "execution_count": null,
   "metadata": {},
   "outputs": [],
   "source": []
  },
  {
   "cell_type": "code",
   "execution_count": 34,
   "metadata": {
    "scrolled": false
   },
   "outputs": [
    {
     "data": {
      "text/html": [
       "<div>\n",
       "<style scoped>\n",
       "    .dataframe tbody tr th:only-of-type {\n",
       "        vertical-align: middle;\n",
       "    }\n",
       "\n",
       "    .dataframe tbody tr th {\n",
       "        vertical-align: top;\n",
       "    }\n",
       "\n",
       "    .dataframe thead th {\n",
       "        text-align: right;\n",
       "    }\n",
       "</style>\n",
       "<table border=\"1\" class=\"dataframe\">\n",
       "  <thead>\n",
       "    <tr style=\"text-align: right;\">\n",
       "      <th></th>\n",
       "      <th>stock</th>\n",
       "      <th>1_Day_Pred</th>\n",
       "      <th>1_Day_Model_Return</th>\n",
       "      <th>3_Day_Pred</th>\n",
       "      <th>3_Day_Model_Return</th>\n",
       "      <th>5_Day_Pred</th>\n",
       "      <th>5_Day_Model_Return</th>\n",
       "      <th>Actual_Returns</th>\n",
       "    </tr>\n",
       "  </thead>\n",
       "  <tbody>\n",
       "    <tr>\n",
       "      <th>0</th>\n",
       "      <td>okta</td>\n",
       "      <td>Buy</td>\n",
       "      <td>0.9689</td>\n",
       "      <td>Hold or Sell</td>\n",
       "      <td>0.9066</td>\n",
       "      <td>Hold or Sell</td>\n",
       "      <td>1.0293</td>\n",
       "      <td>0.8610</td>\n",
       "    </tr>\n",
       "    <tr>\n",
       "      <th>1</th>\n",
       "      <td>orcl</td>\n",
       "      <td>Buy</td>\n",
       "      <td>2.0468</td>\n",
       "      <td>Buy</td>\n",
       "      <td>2.1744</td>\n",
       "      <td>Buy</td>\n",
       "      <td>1.9752</td>\n",
       "      <td>429.9086</td>\n",
       "    </tr>\n",
       "    <tr>\n",
       "      <th>2</th>\n",
       "      <td>qcom</td>\n",
       "      <td>Buy</td>\n",
       "      <td>2.2741</td>\n",
       "      <td>Buy</td>\n",
       "      <td>2.4366</td>\n",
       "      <td>Buy</td>\n",
       "      <td>3.0120</td>\n",
       "      <td>101.2008</td>\n",
       "    </tr>\n",
       "    <tr>\n",
       "      <th>3</th>\n",
       "      <td>qqq</td>\n",
       "      <td>Hold or Sell</td>\n",
       "      <td>1.3110</td>\n",
       "      <td>Hold or Sell</td>\n",
       "      <td>1.3389</td>\n",
       "      <td>Hold or Sell</td>\n",
       "      <td>1.3042</td>\n",
       "      <td>18.0962</td>\n",
       "    </tr>\n",
       "    <tr>\n",
       "      <th>4</th>\n",
       "      <td>srpt</td>\n",
       "      <td>Hold or Sell</td>\n",
       "      <td>0.7129</td>\n",
       "      <td>Hold or Sell</td>\n",
       "      <td>1.0737</td>\n",
       "      <td>Hold or Sell</td>\n",
       "      <td>0.9764</td>\n",
       "      <td>1.6775</td>\n",
       "    </tr>\n",
       "    <tr>\n",
       "      <th>5</th>\n",
       "      <td>tgt</td>\n",
       "      <td>Buy</td>\n",
       "      <td>1.3744</td>\n",
       "      <td>Buy</td>\n",
       "      <td>2.4146</td>\n",
       "      <td>Buy</td>\n",
       "      <td>1.4472</td>\n",
       "      <td>375.2806</td>\n",
       "    </tr>\n",
       "    <tr>\n",
       "      <th>6</th>\n",
       "      <td>tsla</td>\n",
       "      <td>Hold or Sell</td>\n",
       "      <td>0.4310</td>\n",
       "      <td>Hold or Sell</td>\n",
       "      <td>0.2885</td>\n",
       "      <td>Buy</td>\n",
       "      <td>0.5298</td>\n",
       "      <td>91.0993</td>\n",
       "    </tr>\n",
       "    <tr>\n",
       "      <th>7</th>\n",
       "      <td>tsm</td>\n",
       "      <td>Hold or Sell</td>\n",
       "      <td>2.2480</td>\n",
       "      <td>Hold or Sell</td>\n",
       "      <td>2.2142</td>\n",
       "      <td>Hold or Sell</td>\n",
       "      <td>2.2928</td>\n",
       "      <td>29.9023</td>\n",
       "    </tr>\n",
       "    <tr>\n",
       "      <th>8</th>\n",
       "      <td>v</td>\n",
       "      <td>Buy</td>\n",
       "      <td>1.1365</td>\n",
       "      <td>Buy</td>\n",
       "      <td>1.2009</td>\n",
       "      <td>Buy</td>\n",
       "      <td>1.0578</td>\n",
       "      <td>16.6356</td>\n",
       "    </tr>\n",
       "    <tr>\n",
       "      <th>9</th>\n",
       "      <td>vbiv</td>\n",
       "      <td>Buy</td>\n",
       "      <td>0.0756</td>\n",
       "      <td>Buy</td>\n",
       "      <td>0.0288</td>\n",
       "      <td>Buy</td>\n",
       "      <td>0.0910</td>\n",
       "      <td>-0.9988</td>\n",
       "    </tr>\n",
       "    <tr>\n",
       "      <th>10</th>\n",
       "      <td>vbr</td>\n",
       "      <td>Buy</td>\n",
       "      <td>1.1425</td>\n",
       "      <td>Buy</td>\n",
       "      <td>1.1529</td>\n",
       "      <td>Buy</td>\n",
       "      <td>1.1758</td>\n",
       "      <td>2.8012</td>\n",
       "    </tr>\n",
       "    <tr>\n",
       "      <th>11</th>\n",
       "      <td>vgt</td>\n",
       "      <td>Hold or Sell</td>\n",
       "      <td>1.0515</td>\n",
       "      <td>Hold or Sell</td>\n",
       "      <td>0.9974</td>\n",
       "      <td>Hold or Sell</td>\n",
       "      <td>1.0146</td>\n",
       "      <td>10.5812</td>\n",
       "    </tr>\n",
       "    <tr>\n",
       "      <th>12</th>\n",
       "      <td>wmt</td>\n",
       "      <td>Hold or Sell</td>\n",
       "      <td>1.3954</td>\n",
       "      <td>Hold or Sell</td>\n",
       "      <td>1.0591</td>\n",
       "      <td>Hold or Sell</td>\n",
       "      <td>1.4838</td>\n",
       "      <td>2109.7698</td>\n",
       "    </tr>\n",
       "    <tr>\n",
       "      <th>13</th>\n",
       "      <td>xli</td>\n",
       "      <td>Buy</td>\n",
       "      <td>1.3921</td>\n",
       "      <td>Buy</td>\n",
       "      <td>1.4013</td>\n",
       "      <td>Buy</td>\n",
       "      <td>1.1822</td>\n",
       "      <td>8.1571</td>\n",
       "    </tr>\n",
       "    <tr>\n",
       "      <th>14</th>\n",
       "      <td>xlk</td>\n",
       "      <td>Hold or Sell</td>\n",
       "      <td>1.2704</td>\n",
       "      <td>Hold or Sell</td>\n",
       "      <td>1.1236</td>\n",
       "      <td>Hold or Sell</td>\n",
       "      <td>1.3308</td>\n",
       "      <td>17.3216</td>\n",
       "    </tr>\n",
       "  </tbody>\n",
       "</table>\n",
       "</div>"
      ],
      "text/plain": [
       "   stock    1_Day_Pred  1_Day_Model_Return    3_Day_Pred  3_Day_Model_Return  \\\n",
       "0   okta           Buy              0.9689  Hold or Sell              0.9066   \n",
       "1   orcl           Buy              2.0468           Buy              2.1744   \n",
       "2   qcom           Buy              2.2741           Buy              2.4366   \n",
       "3    qqq  Hold or Sell              1.3110  Hold or Sell              1.3389   \n",
       "4   srpt  Hold or Sell              0.7129  Hold or Sell              1.0737   \n",
       "5    tgt           Buy              1.3744           Buy              2.4146   \n",
       "6   tsla  Hold or Sell              0.4310  Hold or Sell              0.2885   \n",
       "7    tsm  Hold or Sell              2.2480  Hold or Sell              2.2142   \n",
       "8      v           Buy              1.1365           Buy              1.2009   \n",
       "9   vbiv           Buy              0.0756           Buy              0.0288   \n",
       "10   vbr           Buy              1.1425           Buy              1.1529   \n",
       "11   vgt  Hold or Sell              1.0515  Hold or Sell              0.9974   \n",
       "12   wmt  Hold or Sell              1.3954  Hold or Sell              1.0591   \n",
       "13   xli           Buy              1.3921           Buy              1.4013   \n",
       "14   xlk  Hold or Sell              1.2704  Hold or Sell              1.1236   \n",
       "\n",
       "      5_Day_Pred  5_Day_Model_Return  Actual_Returns  \n",
       "0   Hold or Sell              1.0293          0.8610  \n",
       "1            Buy              1.9752        429.9086  \n",
       "2            Buy              3.0120        101.2008  \n",
       "3   Hold or Sell              1.3042         18.0962  \n",
       "4   Hold or Sell              0.9764          1.6775  \n",
       "5            Buy              1.4472        375.2806  \n",
       "6            Buy              0.5298         91.0993  \n",
       "7   Hold or Sell              2.2928         29.9023  \n",
       "8            Buy              1.0578         16.6356  \n",
       "9            Buy              0.0910         -0.9988  \n",
       "10           Buy              1.1758          2.8012  \n",
       "11  Hold or Sell              1.0146         10.5812  \n",
       "12  Hold or Sell              1.4838       2109.7698  \n",
       "13           Buy              1.1822          8.1571  \n",
       "14  Hold or Sell              1.3308         17.3216  "
      ]
     },
     "execution_count": 34,
     "metadata": {},
     "output_type": "execute_result"
    }
   ],
   "source": [
    "summary_df = a.pred_summary_df(start_dates3, stocks = [x for x in start_dates3], days_back = 1)\n",
    "summary_df"
   ]
  },
  {
   "cell_type": "code",
   "execution_count": 35,
   "metadata": {},
   "outputs": [
    {
     "data": {
      "text/plain": [
       "(1.2704, 1.1529, 1.1822, 17.3216)"
      ]
     },
     "execution_count": 35,
     "metadata": {},
     "output_type": "execute_result"
    }
   ],
   "source": [
    "summary_df['1_Day_Model_Return'].median(), summary_df['3_Day_Model_Return'].median(), summary_df['5_Day_Model_Return'].median(), summary_df['Actual_Returns'].median()"
   ]
  },
  {
   "cell_type": "code",
   "execution_count": null,
   "metadata": {},
   "outputs": [],
   "source": []
  },
  {
   "cell_type": "code",
   "execution_count": null,
   "metadata": {},
   "outputs": [],
   "source": []
  },
  {
   "cell_type": "code",
   "execution_count": null,
   "metadata": {},
   "outputs": [],
   "source": []
  }
 ],
 "metadata": {
  "kernelspec": {
   "display_name": "Python 3",
   "language": "python",
   "name": "python3"
  },
  "language_info": {
   "codemirror_mode": {
    "name": "ipython",
    "version": 3
   },
   "file_extension": ".py",
   "mimetype": "text/x-python",
   "name": "python",
   "nbconvert_exporter": "python",
   "pygments_lexer": "ipython3",
   "version": "3.8.10"
  }
 },
 "nbformat": 4,
 "nbformat_minor": 4
}
