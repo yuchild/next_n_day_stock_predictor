{
 "cells": [
  {
   "cell_type": "code",
   "execution_count": 1,
   "metadata": {
    "scrolled": true
   },
   "outputs": [],
   "source": [
    "from src import attributes as a\n",
    "%load_ext autoreload\n",
    "%autoreload 2\n",
    "\n",
    "import warnings\n",
    "warnings.filterwarnings('ignore')"
   ]
  },
  {
   "cell_type": "code",
   "execution_count": 2,
   "metadata": {},
   "outputs": [],
   "source": [
    "# Global Variables\n",
    "stock_name = 'tsla' # ticker symbol\n",
    "train = 0 # 1 for train, 0 for pass\n",
    "days_ahead = 1 # for predicting 1, 3, or 5 days ahead\n",
    "days_back = -1 # -1 for current data point, -2 for two days ago, etc...\n",
    "cv = 5 # number of cross validation folds\n",
    "model_name = 'Random Forest Classifier' # for display on charts, not a tuning parameter"
   ]
  },
  {
   "cell_type": "code",
   "execution_count": 3,
   "metadata": {
    "scrolled": false
   },
   "outputs": [
    {
     "name": "stdout",
     "output_type": "stream",
     "text": [
      "1.3.5\n"
     ]
    }
   ],
   "source": [
    "import pandas\n",
    "print(pandas.__version__)"
   ]
  },
  {
   "cell_type": "code",
   "execution_count": 4,
   "metadata": {},
   "outputs": [],
   "source": [
    "# Extract, Transform, Load, and Train Test Split\n",
    "# Dictionary of IPO Dates\n",
    "start_dates = {'a': '11/15/1999' # Updated 4/26/21 1D, 3D, 5D ahead\n",
    "               , 'aapl': '12/12/1980' # Updated 11/8/21 1D, 3D, 5D ahead\n",
    "               #, 'acy': '01/18/1998' # Updated 4/26/21 1D, 3D, 5D ahead\n",
    "               , 'adbe': '08/11/1986' # Updated 11/8/21 1D, 3D, 5D ahead\n",
    "               #, 'alb': '02/21/1994' # Updated 4/26/21 1D, 3D, 5D ahead\n",
    "               , 'amat': '03/16/1980' # Updated 4/26/21 1D, 3D, 5D ahead\n",
    "               , 'amd': '03/17/1980' # Updated 11/23/21 1D, 3D, 5D ahead\n",
    "               , 'amgn': '06/13/1983' # Updated 4/26/21 1D, 3D, 5D ahead\n",
    "               , 'amzn': '05/12/1997' # Updated 11/07/21 1D, 3D, 5D ahead\n",
    "               , 'baba': '09/15/2014' # Updated 11/13/21 1D, 3D, 5D ahead\n",
    "               , 'ba': '01/02/1962' # Updated 05/23/21 1D, 3D, 5D ahead\n",
    "               , 'bac': '02/19/1973' # Updated 4/26/21 1D, 3D, 5D ahead\n",
    "               , 'bby': '04/15/1985' # Updated 11/19/21 1D, 3D, 5D ahead\n",
    "               #, 'bpmc': '04/27/2015' # Updated 4/26/21 1D, 3D, 5D ahead\n",
    "               , 'brk-b': '05/06/1996' # Updated 4/25/23 1D, 3D, 5D ahead\n",
    "               , 'crm': '06/23/2004' # Updated 11/13/21 1D, 3D, 5D ahead\n",
    "               #, 'crsp': '10/16/2016' # Updated 4/26/21 1D, 3D, 5D ahead\n",
    "               , 'cost': '07/07/1986' # Updated 11/23/21 1D, 3D, 5D ahead\n",
    "               #, 'dis': '10/27/2014' # Updatd 11/5/21 1D, 3D, 5D ahead\n",
    "               #, 'dq': '10/04/2010' # Updated 4/26/21 1D, 3D, 5D ahead\n",
    "               , 'esgv': '09/16/2018' # Updated 4/26/21 1D, 3D, 5D ahead\n",
    "               , 'fslr': '11/12/2006' # Updated 4/26/21 1D, 3D, 5D ahead\n",
    "               , 'ge': '01/02/1962' # Updated 5/23/23 1D, 3D, 5D ahead\n",
    "               , 'goog': '08/16/2004' # Updated 11/8/21 1D, 3D, 5D ahead\n",
    "               , 'ibm': '01/02/1962' # Updated 4/26/21 1D, 3D, 5D ahead\n",
    "               , 'intc': '03/16/1980' # Updated 11/13/21 1D, 3D, 5D ahead\n",
    "               , 'iyw': '05/15/2000' # Updated 11/21/21 1D, 3D, 5D ahead\n",
    "               , 'll': '11/05/2007' # Updated 11/22/21 1D, 3D, 5D ahead\n",
    "               , 'lng': '04/04/1994' # Updated 4/26/21 1D, 3D, 5D ahead\n",
    "               , 'ma': '05/21/2006' # Updated 4/26/21 1D, 3D, 5D ahead\n",
    "               # , 'mdb': '10/15/2017' # Updated 11/21/21 1D, 3D, 5D ahead\n",
    "               , 'msft': '03/10/1986' # Updated 11/8/21 1D, 3D, 5D ahead\n",
    "               , 'mu': '05/28/1984' # Updated 11/20/21 1D, 3D, 5D ahead\n",
    "               #, 'nee': '02/19/1973' # Updated 4/26/21 1D, 3D, 5D ahead\n",
    "               , 'nio': '09/10/2018' # Updated 4/26/21 1D, 3D, 5D ahead\n",
    "               , 'nvda': '01/22/1999' # Updated 11/17/21 1D, 3D, 5D ahead\n",
    "               #, 'pacb': '10/25/2010' # Updated 4/26/21 1D, 3D, 5D ahead\n",
    "               , 'pypl': '07/05/2015' # Updated 4/26/21 1D, 3D, 5D ahead\n",
    "               , 'qgen': '06/24/1996' # Updated 4/26/21 1D, 3D, 5D ahead\n",
    "               #, 'run': '08/02/2015' # Updated 4/26/21 1D, 3D, 5D ahead\n",
    "               , 'okta': '04/03/2017' # Updated 4/26/21 1D, 3D, 5D ahead\n",
    "               , 'orcl': '03/10/1986' # Updated 4/26/21 1D, 3D, 5D ahead\n",
    "               , 'qcom': '12/09/1991' # Updated 11/20/21 1D, 3D, 5D ahead\n",
    "               , 'qqq': '03/08/1999' # Updated 4/26/21 1D, 3D, 5D ahead\n",
    "               , 'srpt': '06/02/1997' # Updated 4/26/21 1D, 3D, 5D ahead\n",
    "               , 'tgt': '02/19/1973' # Updated 11/22/21 1D, 3D, 5D ahead\n",
    "               #, 'tpic': '07/17/2016' # Updated 4/26/21 1D, 3D, 5D ahead\n",
    "               , 'tsla': '06/29/2010' # Updated 11/07/21 1D, 3D, 5D ahead\n",
    "               , 'tsm': '10/06/1997' # Updated 11/20/21 1D, 3D, 5D ahead\n",
    "               , 'v': '03/16/2008' # Updated 11/22/21 1D, 3D, 5D ahead\n",
    "               , 'vbiv': '09/04/2002' # Updated 4/26/21 1D, 3D, 5D ahead\n",
    "               , 'vbr': '01/26/2004' # Updated 11/20/21 1D, 3D, 5D ahead\n",
    "               #, 'viov': '09/06/2010' # Updated 4/26/21 1D, 3D, 5D ahead\n",
    "               , 'vgt': '01/26/2004' # Updated 11/07/21 1D, 3D, 5D ahead\n",
    "               , 'wmt': '11/10/2014' # Updated 11/16/21 1D, 3D, 5D ahead\n",
    "               , 'xli': '12/21/1998' # Updated 11/21/21 1D, 3D, 5D ahead\n",
    "               , 'xlk': '12/21/1998' # Updated 5/23/23 1D, 3D, 5D ahead\n",
    "              }"
   ]
  },
  {
   "cell_type": "markdown",
   "metadata": {},
   "source": [
    "### Get Data..."
   ]
  },
  {
   "cell_type": "code",
   "execution_count": 5,
   "metadata": {
    "scrolled": false
   },
   "outputs": [
    {
     "name": "stdout",
     "output_type": "stream",
     "text": [
      "Today's date: 2023-10-12\n",
      "Table Updates Complete\n",
      "Current Time:  00:45:21\n"
     ]
    }
   ],
   "source": [
    "from datetime import date, datetime\n",
    "today = date.today()\n",
    "print(\"Today's date:\", today)\n",
    "a.get_tables(start_dates) # commented out for 2021-12-19, data already downloaded for weekend\n",
    "print('Table Updates Complete')\n",
    "now = datetime.now()\n",
    "current_time = now.strftime(\"%H:%M:%S\")\n",
    "print(\"Current Time: \", current_time)"
   ]
  },
  {
   "cell_type": "code",
   "execution_count": 6,
   "metadata": {},
   "outputs": [],
   "source": [
    "# Load RandomForextClassifier Model\n",
    "# rfc_model, y_pred, y_probs = a.rfc(X_train, X_test, y_train, stock_name, days_ahead)"
   ]
  },
  {
   "cell_type": "code",
   "execution_count": 7,
   "metadata": {
    "scrolled": false
   },
   "outputs": [],
   "source": [
    "# ROC Curve\n",
    "# a.roc_plot(y_test, y_probs, stock_name, model_name)"
   ]
  },
  {
   "cell_type": "code",
   "execution_count": 8,
   "metadata": {
    "scrolled": false
   },
   "outputs": [],
   "source": [
    "# Precision Recall Curve\n",
    "# a.prec_recall(y_test, y_probs, stock_name, model_name)"
   ]
  },
  {
   "cell_type": "code",
   "execution_count": 9,
   "metadata": {
    "scrolled": false
   },
   "outputs": [],
   "source": [
    "# Confusion Matrix\n",
    "# a.confusion_matrix(rfc_model, X_test, y_test, stock_name)"
   ]
  },
  {
   "cell_type": "code",
   "execution_count": 10,
   "metadata": {},
   "outputs": [],
   "source": [
    "# Cross Validation\n",
    "# a.cross_validation(rfc_model\n",
    "#                    , stock_df[['oc', 'hl', '5stdev_adj', '5sma_adj']]\n",
    "#                    , stock_df['direction']\n",
    "#                    , cv = 5\n",
    "#                   )"
   ]
  },
  {
   "cell_type": "markdown",
   "metadata": {},
   "source": [
    "### Prediction..."
   ]
  },
  {
   "cell_type": "code",
   "execution_count": 11,
   "metadata": {
    "scrolled": true
   },
   "outputs": [],
   "source": [
    "# Prediction, use last day of data\n",
    "# stock_df.iloc[-1]"
   ]
  },
  {
   "cell_type": "code",
   "execution_count": 12,
   "metadata": {},
   "outputs": [],
   "source": [
    "# import numpy as np\n",
    "# last = stock_df[['oc', 'hl', '5stdev_adj', '5sma_adj']].iloc[-days_back]\n",
    "# last"
   ]
  },
  {
   "cell_type": "code",
   "execution_count": 13,
   "metadata": {},
   "outputs": [],
   "source": [
    "# stock_df['adj'].describe()"
   ]
  },
  {
   "cell_type": "code",
   "execution_count": 14,
   "metadata": {
    "scrolled": true
   },
   "outputs": [],
   "source": [
    "# if rfc_model.predict(np.array(last).reshape(1, -1))[0] == 1:\n",
    "#     print(f'Buy {stock_name} {days_ahead} day(s) ahead')\n",
    "# else:\n",
    "#     print(f'Sell or hold {stock_name} {days_ahead} day(s) ahead')"
   ]
  },
  {
   "cell_type": "markdown",
   "metadata": {},
   "source": [
    "### Strategy Returns..."
   ]
  },
  {
   "cell_type": "code",
   "execution_count": 15,
   "metadata": {},
   "outputs": [],
   "source": [
    "# returns on strategy column\n",
    "# stock_df['prediction'] = rfc_model.predict(stock_df[['oc', 'hl', '5stdev_adj', '5sma_adj']])\n",
    "# stock_df['returns'] = stock_df['adj'].shift(-1, fill_value = stock_df['adj'].median()) * stock_df['prediction']"
   ]
  },
  {
   "cell_type": "code",
   "execution_count": 16,
   "metadata": {},
   "outputs": [],
   "source": [
    "# stock_df.tail(5)"
   ]
  },
  {
   "cell_type": "code",
   "execution_count": 17,
   "metadata": {},
   "outputs": [],
   "source": [
    "# Don't trade every day!\n",
    "# import matplotlib.pyplot as plt\n",
    "# test_length = len(y_test)\n",
    "# (stock_df['returns'][-test_length:] + 1).cumprod().plot()\n",
    "# plt.title(f'{stock_name} Expected Returns %');"
   ]
  },
  {
   "cell_type": "code",
   "execution_count": 18,
   "metadata": {},
   "outputs": [],
   "source": [
    "# Model returns if bought on predictions of 1\n",
    "# returns_on_ones = []\n",
    "# for idx in range(-test_length, 0):\n",
    "#     if stock_df['prediction'][idx] == 1:\n",
    "#         returns_on_ones.append(1 + stock_df['returns'][idx])\n",
    "\n",
    "# returns = 1\n",
    "# for x in returns_on_ones:\n",
    "#     returns *= x\n",
    "# returns"
   ]
  },
  {
   "cell_type": "code",
   "execution_count": 19,
   "metadata": {},
   "outputs": [],
   "source": [
    "# multiple times original investment, not bad but..."
   ]
  },
  {
   "cell_type": "code",
   "execution_count": 20,
   "metadata": {},
   "outputs": [],
   "source": [
    "# If purchased in 2012 and left it until now\n",
    "# test_idx = int(len(stock_df)*0.75)\n",
    "# (stock_df['Close'][-1] - stock_df['Close'][-test_idx]) / stock_df['Close'][-test_idx]"
   ]
  },
  {
   "cell_type": "code",
   "execution_count": 21,
   "metadata": {},
   "outputs": [],
   "source": [
    "# Buy and hold strategy beats RandomForestClassifier in this study\n",
    "\n",
    "# Special thanks to Shagufta Tahsildar at https://blog.quantinsti.com/random-forest-algorithm-in-python/"
   ]
  },
  {
   "cell_type": "code",
   "execution_count": null,
   "metadata": {},
   "outputs": [],
   "source": []
  },
  {
   "cell_type": "code",
   "execution_count": null,
   "metadata": {},
   "outputs": [],
   "source": []
  },
  {
   "cell_type": "code",
   "execution_count": null,
   "metadata": {},
   "outputs": [],
   "source": []
  },
  {
   "cell_type": "markdown",
   "metadata": {},
   "source": [
    "### Training"
   ]
  },
  {
   "cell_type": "markdown",
   "metadata": {},
   "source": [
    "Training is done once a week on Saturday and Sunday"
   ]
  },
  {
   "cell_type": "code",
   "execution_count": 22,
   "metadata": {},
   "outputs": [
    {
     "data": {
      "text/plain": [
       "45"
      ]
     },
     "execution_count": 22,
     "metadata": {},
     "output_type": "execute_result"
    }
   ],
   "source": [
    "len(start_dates)"
   ]
  },
  {
   "cell_type": "code",
   "execution_count": 23,
   "metadata": {},
   "outputs": [
    {
     "data": {
      "text/plain": [
       "{'a': '11/15/1999',\n",
       " 'aapl': '12/12/1980',\n",
       " 'adbe': '08/11/1986',\n",
       " 'amat': '03/16/1980',\n",
       " 'amd': '03/17/1980',\n",
       " 'amgn': '06/13/1983',\n",
       " 'amzn': '05/12/1997',\n",
       " 'baba': '09/15/2014',\n",
       " 'ba': '01/02/1962',\n",
       " 'bac': '02/19/1973',\n",
       " 'bby': '04/15/1985',\n",
       " 'brk-b': '05/06/1996',\n",
       " 'crm': '06/23/2004',\n",
       " 'cost': '07/07/1986',\n",
       " 'esgv': '09/16/2018'}"
      ]
     },
     "execution_count": 23,
     "metadata": {},
     "output_type": "execute_result"
    }
   ],
   "source": [
    "import itertools as itr\n",
    "start_dates1 = dict(itr.islice(start_dates.items(), 0, 15))\n",
    "start_dates1"
   ]
  },
  {
   "cell_type": "code",
   "execution_count": 24,
   "metadata": {},
   "outputs": [
    {
     "data": {
      "text/plain": [
       "{'fslr': '11/12/2006',\n",
       " 'ge': '01/02/1962',\n",
       " 'goog': '08/16/2004',\n",
       " 'ibm': '01/02/1962',\n",
       " 'intc': '03/16/1980',\n",
       " 'iyw': '05/15/2000',\n",
       " 'll': '11/05/2007',\n",
       " 'lng': '04/04/1994',\n",
       " 'ma': '05/21/2006',\n",
       " 'msft': '03/10/1986',\n",
       " 'mu': '05/28/1984',\n",
       " 'nio': '09/10/2018',\n",
       " 'nvda': '01/22/1999',\n",
       " 'pypl': '07/05/2015',\n",
       " 'qgen': '06/24/1996'}"
      ]
     },
     "execution_count": 24,
     "metadata": {},
     "output_type": "execute_result"
    }
   ],
   "source": [
    "start_dates2 = dict(itr.islice(start_dates.items(), 15, 30))\n",
    "start_dates2"
   ]
  },
  {
   "cell_type": "code",
   "execution_count": 25,
   "metadata": {},
   "outputs": [
    {
     "data": {
      "text/plain": [
       "{'okta': '04/03/2017',\n",
       " 'orcl': '03/10/1986',\n",
       " 'qcom': '12/09/1991',\n",
       " 'qqq': '03/08/1999',\n",
       " 'srpt': '06/02/1997',\n",
       " 'tgt': '02/19/1973',\n",
       " 'tsla': '06/29/2010',\n",
       " 'tsm': '10/06/1997',\n",
       " 'v': '03/16/2008',\n",
       " 'vbiv': '09/04/2002',\n",
       " 'vbr': '01/26/2004',\n",
       " 'vgt': '01/26/2004',\n",
       " 'wmt': '11/10/2014',\n",
       " 'xli': '12/21/1998',\n",
       " 'xlk': '12/21/1998'}"
      ]
     },
     "execution_count": 25,
     "metadata": {},
     "output_type": "execute_result"
    }
   ],
   "source": [
    "start_dates3 = dict(itr.islice(start_dates.items(), 30, 45+1))\n",
    "start_dates3"
   ]
  },
  {
   "cell_type": "code",
   "execution_count": 26,
   "metadata": {
    "scrolled": false
   },
   "outputs": [],
   "source": [
    "# from datetime import datetime\n",
    "\n",
    "# now = datetime.now()\n",
    "\n",
    "# current_time = now.strftime(\"%H:%M:%S\")\n",
    "# print(\"Gridsearch Start Date: \", today)\n",
    "# print(\"Current Time: \", current_time)\n",
    "\n",
    "#Train 15 at a time!\n",
    "# stocks = [x for x in start_dates1]\n",
    "# days_ahead = [1, 3, 5]\n",
    "# cv = 5\n",
    "# for stock in stocks:\n",
    "#     for days in days_ahead:\n",
    "#         X_train, X_test, y_train, y_test, stock_df = a.data(stock, start_dates[stock], days)\n",
    "#         a.rfc_GridSearch(X_train, y_train, stock, days, cv)\n",
    "# len(stocks)\n",
    "\n",
    "# Next on training for Saturday 4/17/2021\n",
    "# stocks = [x for x in start_dates2]\n",
    "# days_ahead = [1, 3, 5]\n",
    "# cv = 5\n",
    "# for stock in stocks:\n",
    "#     for days in days_ahead:\n",
    "#         X_train, X_test, y_train, y_test, stock_df = a.data(stock, start_dates[stock], days)\n",
    "#         a.rfc_GridSearch(X_train, y_train, stock, days, cv)\n",
    "# len(stocks)\n",
    "\n",
    "# Next on training for Saturday 4/17/2021\n",
    "# stocks = [x for x in start_dates3]\n",
    "# days_ahead = [1, 3, 5]\n",
    "# cv = 5\n",
    "# for stock in stocks:\n",
    "#     for days in days_ahead:\n",
    "#         X_train, X_test, y_train, y_test, stock_df = a.data(stock, start_dates[stock], days)\n",
    "#         a.rfc_GridSearch(X_train, y_train, stock, days, cv)\n",
    "# len(stocks)\n",
    "\n",
    "# # Train all, takes 15+ hours\n",
    "# stocks = [x for x in start_dates]\n",
    "# days_ahead = [1, 3, 5]\n",
    "# cv = 5\n",
    "# for stock in stocks:\n",
    "#     for days in days_ahead:\n",
    "#         X_train, X_test, y_train, y_test, stock_df = a.data(stock, start_dates[stock], days)\n",
    "#         a.rfc_GridSearch(X_train, y_train, stock, days, cv)\n",
    "# len(stocks)\n",
    "\n",
    "# Train desired stocks...takes less time (4 will take 15.5 hours, each stock is roughly 2.5-4 hours to train)\n",
    "# 3 will take 7.5 hours, roughly 2.5 hours per stock trained\n",
    "# to train: ['cost']\n",
    "\n",
    "# import timeit \n",
    "# stocks = ['xli', 'ba', 'ge'] # updated 2023-05-23 (3:48pm - 12:47am ~9hours)\n",
    "# days_ahead = [1, 3, 5] \n",
    "# cv = 2 # was 5 \n",
    "# for stock in stocks:\n",
    "#     for days in days_ahead:\n",
    "#         X_train, X_test, y_train, y_test, stock_df = a.data(stock, start_dates[stock], days)\n",
    "#         %timeit a.rfc_GridSearch(X_train, y_train, stock, days, cv)\n",
    "\n",
    "# now = datetime.now()\n",
    "\n",
    "# current_time = now.strftime(\"%H:%M:%S\")\n",
    "# print(\"Gridsearch End Date: \", today)\n",
    "# print(\"Current Time: \", current_time)"
   ]
  },
  {
   "cell_type": "code",
   "execution_count": null,
   "metadata": {},
   "outputs": [],
   "source": []
  },
  {
   "cell_type": "code",
   "execution_count": null,
   "metadata": {},
   "outputs": [],
   "source": []
  },
  {
   "cell_type": "code",
   "execution_count": null,
   "metadata": {},
   "outputs": [],
   "source": []
  },
  {
   "cell_type": "markdown",
   "metadata": {},
   "source": [
    "### Display All Results"
   ]
  },
  {
   "cell_type": "markdown",
   "metadata": {},
   "source": [
    "**NOTE:** Returns include buying ups and selling downs"
   ]
  },
  {
   "cell_type": "code",
   "execution_count": 27,
   "metadata": {},
   "outputs": [
    {
     "name": "stdout",
     "output_type": "stream",
     "text": [
      "Today's date: 2023-10-12\n",
      "Current Time:  00:45:23\n"
     ]
    }
   ],
   "source": [
    "from datetime import date, datetime\n",
    "today = date.today()\n",
    "print(\"Today's date:\", today)\n",
    "now = datetime.now()\n",
    "current_time = now.strftime(\"%H:%M:%S\")\n",
    "print(\"Current Time: \", current_time)"
   ]
  },
  {
   "cell_type": "code",
   "execution_count": 28,
   "metadata": {
    "scrolled": false
   },
   "outputs": [
    {
     "name": "stdout",
     "output_type": "stream",
     "text": [
      "Buy amat 1 day(s) ahead\n",
      "Model Returns (x 100 for %): 6.8132\n",
      "Stock Returns (x 100 for %): 1491.6551\n"
     ]
    },
    {
     "data": {
      "image/png": "[encoded data removed]",
      "text/plain": [
       "<Figure size 432x288 with 1 Axes>"
      ]
     },
     "metadata": {},
     "output_type": "display_data"
    },
    {
     "data": {
      "image/png": "[encoded data removed]",
      "text/plain": [
       "<Figure size 648x504 with 1 Axes>"
      ]
     },
     "metadata": {},
     "output_type": "display_data"
    },
    {
     "data": {
      "image/png": "[encoded data removed]",
      "text/plain": [
       "<Figure size 648x504 with 1 Axes>"
      ]
     },
     "metadata": {},
     "output_type": "display_data"
    },
    {
     "data": {
      "image/png": "[encoded data removed]",
      "text/plain": [
       "<Figure size 684x612 with 2 Axes>"
      ]
     },
     "metadata": {},
     "output_type": "display_data"
    }
   ],
   "source": [
    "stock_name = 'amat'\n",
    "a.all_func(stock_name\n",
    "           , start_dates[stock_name]\n",
    "           , days_ahead = 1\n",
    "           , model_name = model_name\n",
    "           , days_back = 1\n",
    "          )\n",
    "# chart shows if traded every day up or down"
   ]
  },
  {
   "cell_type": "code",
   "execution_count": null,
   "metadata": {},
   "outputs": [],
   "source": []
  },
  {
   "cell_type": "code",
   "execution_count": null,
   "metadata": {},
   "outputs": [],
   "source": []
  },
  {
   "cell_type": "code",
   "execution_count": null,
   "metadata": {},
   "outputs": [],
   "source": []
  },
  {
   "cell_type": "markdown",
   "metadata": {},
   "source": [
    "### Data Frame of Predictions 1 3 5 Days"
   ]
  },
  {
   "cell_type": "markdown",
   "metadata": {},
   "source": [
    "**NOTE:** Returns are for buys only."
   ]
  },
  {
   "cell_type": "code",
   "execution_count": 29,
   "metadata": {
    "scrolled": true
   },
   "outputs": [
    {
     "name": "stdout",
     "output_type": "stream",
     "text": [
      "Today's date: 2023-10-12\n",
      "Current Time = 00:45:23\n"
     ]
    }
   ],
   "source": [
    "print(\"Today's date:\", today)\n",
    "print(\"Current Time =\", current_time)"
   ]
  },
  {
   "cell_type": "code",
   "execution_count": 30,
   "metadata": {
    "scrolled": false
   },
   "outputs": [
    {
     "data": {
      "text/html": [
       "<div>\n",
       "<style scoped>\n",
       "    .dataframe tbody tr th:only-of-type {\n",
       "        vertical-align: middle;\n",
       "    }\n",
       "\n",
       "    .dataframe tbody tr th {\n",
       "        vertical-align: top;\n",
       "    }\n",
       "\n",
       "    .dataframe thead th {\n",
       "        text-align: right;\n",
       "    }\n",
       "</style>\n",
       "<table border=\"1\" class=\"dataframe\">\n",
       "  <thead>\n",
       "    <tr style=\"text-align: right;\">\n",
       "      <th></th>\n",
       "      <th>stock</th>\n",
       "      <th>1_Day_Pred</th>\n",
       "      <th>1_Day_Model_Return</th>\n",
       "      <th>3_Day_Pred</th>\n",
       "      <th>3_Day_Model_Return</th>\n",
       "      <th>5_Day_Pred</th>\n",
       "      <th>5_Day_Model_Return</th>\n",
       "      <th>Actual_Returns</th>\n",
       "    </tr>\n",
       "  </thead>\n",
       "  <tbody>\n",
       "    <tr>\n",
       "      <th>0</th>\n",
       "      <td>a</td>\n",
       "      <td>Buy</td>\n",
       "      <td>1.6784</td>\n",
       "      <td>Buy</td>\n",
       "      <td>1.5027</td>\n",
       "      <td>Buy</td>\n",
       "      <td>1.6538</td>\n",
       "      <td>7.6852</td>\n",
       "    </tr>\n",
       "    <tr>\n",
       "      <th>1</th>\n",
       "      <td>aapl</td>\n",
       "      <td>Hold or Sell</td>\n",
       "      <td>2.5676</td>\n",
       "      <td>Hold or Sell</td>\n",
       "      <td>2.6468</td>\n",
       "      <td>Hold or Sell</td>\n",
       "      <td>2.4563</td>\n",
       "      <td>666.5189</td>\n",
       "    </tr>\n",
       "    <tr>\n",
       "      <th>2</th>\n",
       "      <td>adbe</td>\n",
       "      <td>Hold or Sell</td>\n",
       "      <td>3.2861</td>\n",
       "      <td>Hold or Sell</td>\n",
       "      <td>3.6930</td>\n",
       "      <td>Hold or Sell</td>\n",
       "      <td>3.3198</td>\n",
       "      <td>173.4876</td>\n",
       "    </tr>\n",
       "    <tr>\n",
       "      <th>3</th>\n",
       "      <td>amat</td>\n",
       "      <td>Buy</td>\n",
       "      <td>7.3692</td>\n",
       "      <td>Buy</td>\n",
       "      <td>7.6455</td>\n",
       "      <td>Buy</td>\n",
       "      <td>7.2197</td>\n",
       "      <td>1491.6551</td>\n",
       "    </tr>\n",
       "    <tr>\n",
       "      <th>4</th>\n",
       "      <td>amd</td>\n",
       "      <td>Buy</td>\n",
       "      <td>3.1422</td>\n",
       "      <td>Buy</td>\n",
       "      <td>7.4278</td>\n",
       "      <td>Buy</td>\n",
       "      <td>4.6625</td>\n",
       "      <td>14.3359</td>\n",
       "    </tr>\n",
       "    <tr>\n",
       "      <th>5</th>\n",
       "      <td>amgn</td>\n",
       "      <td>Hold or Sell</td>\n",
       "      <td>1.3829</td>\n",
       "      <td>Hold or Sell</td>\n",
       "      <td>1.3551</td>\n",
       "      <td>Hold or Sell</td>\n",
       "      <td>1.3939</td>\n",
       "      <td>420.3064</td>\n",
       "    </tr>\n",
       "    <tr>\n",
       "      <th>6</th>\n",
       "      <td>amzn</td>\n",
       "      <td>Hold or Sell</td>\n",
       "      <td>1.3650</td>\n",
       "      <td>Hold or Sell</td>\n",
       "      <td>1.0178</td>\n",
       "      <td>Hold or Sell</td>\n",
       "      <td>1.3764</td>\n",
       "      <td>156.4090</td>\n",
       "    </tr>\n",
       "    <tr>\n",
       "      <th>7</th>\n",
       "      <td>baba</td>\n",
       "      <td>Hold or Sell</td>\n",
       "      <td>0.8531</td>\n",
       "      <td>Hold or Sell</td>\n",
       "      <td>0.8971</td>\n",
       "      <td>Buy</td>\n",
       "      <td>0.8078</td>\n",
       "      <td>0.3168</td>\n",
       "    </tr>\n",
       "    <tr>\n",
       "      <th>8</th>\n",
       "      <td>ba</td>\n",
       "      <td>Hold or Sell</td>\n",
       "      <td>1.1643</td>\n",
       "      <td>Hold or Sell</td>\n",
       "      <td>0.9416</td>\n",
       "      <td>Hold or Sell</td>\n",
       "      <td>0.9701</td>\n",
       "      <td>890.7856</td>\n",
       "    </tr>\n",
       "    <tr>\n",
       "      <th>9</th>\n",
       "      <td>bac</td>\n",
       "      <td>Buy</td>\n",
       "      <td>1.9650</td>\n",
       "      <td>Buy</td>\n",
       "      <td>1.6898</td>\n",
       "      <td>Buy</td>\n",
       "      <td>2.0629</td>\n",
       "      <td>45.8798</td>\n",
       "    </tr>\n",
       "    <tr>\n",
       "      <th>10</th>\n",
       "      <td>bby</td>\n",
       "      <td>Hold or Sell</td>\n",
       "      <td>0.6926</td>\n",
       "      <td>Hold or Sell</td>\n",
       "      <td>0.8329</td>\n",
       "      <td>Hold or Sell</td>\n",
       "      <td>0.7656</td>\n",
       "      <td>345.3158</td>\n",
       "    </tr>\n",
       "    <tr>\n",
       "      <th>11</th>\n",
       "      <td>brk-b</td>\n",
       "      <td>Buy</td>\n",
       "      <td>1.5899</td>\n",
       "      <td>Buy</td>\n",
       "      <td>1.5205</td>\n",
       "      <td>Buy</td>\n",
       "      <td>1.2773</td>\n",
       "      <td>8.6411</td>\n",
       "    </tr>\n",
       "    <tr>\n",
       "      <th>12</th>\n",
       "      <td>crm</td>\n",
       "      <td>Hold or Sell</td>\n",
       "      <td>0.6325</td>\n",
       "      <td>Buy</td>\n",
       "      <td>0.7439</td>\n",
       "      <td>Buy</td>\n",
       "      <td>0.6767</td>\n",
       "      <td>17.2448</td>\n",
       "    </tr>\n",
       "    <tr>\n",
       "      <th>13</th>\n",
       "      <td>cost</td>\n",
       "      <td>Hold or Sell</td>\n",
       "      <td>2.0755</td>\n",
       "      <td>Hold or Sell</td>\n",
       "      <td>2.3101</td>\n",
       "      <td>Hold or Sell</td>\n",
       "      <td>2.3506</td>\n",
       "      <td>59.5251</td>\n",
       "    </tr>\n",
       "    <tr>\n",
       "      <th>14</th>\n",
       "      <td>esgv</td>\n",
       "      <td>Hold or Sell</td>\n",
       "      <td>1.0214</td>\n",
       "      <td>Hold or Sell</td>\n",
       "      <td>1.1463</td>\n",
       "      <td>Hold or Sell</td>\n",
       "      <td>1.0936</td>\n",
       "      <td>0.5456</td>\n",
       "    </tr>\n",
       "  </tbody>\n",
       "</table>\n",
       "</div>"
      ],
      "text/plain": [
       "    stock    1_Day_Pred  1_Day_Model_Return    3_Day_Pred  3_Day_Model_Return  \\\n",
       "0       a           Buy              1.6784           Buy              1.5027   \n",
       "1    aapl  Hold or Sell              2.5676  Hold or Sell              2.6468   \n",
       "2    adbe  Hold or Sell              3.2861  Hold or Sell              3.6930   \n",
       "3    amat           Buy              7.3692           Buy              7.6455   \n",
       "4     amd           Buy              3.1422           Buy              7.4278   \n",
       "5    amgn  Hold or Sell              1.3829  Hold or Sell              1.3551   \n",
       "6    amzn  Hold or Sell              1.3650  Hold or Sell              1.0178   \n",
       "7    baba  Hold or Sell              0.8531  Hold or Sell              0.8971   \n",
       "8      ba  Hold or Sell              1.1643  Hold or Sell              0.9416   \n",
       "9     bac           Buy              1.9650           Buy              1.6898   \n",
       "10    bby  Hold or Sell              0.6926  Hold or Sell              0.8329   \n",
       "11  brk-b           Buy              1.5899           Buy              1.5205   \n",
       "12    crm  Hold or Sell              0.6325           Buy              0.7439   \n",
       "13   cost  Hold or Sell              2.0755  Hold or Sell              2.3101   \n",
       "14   esgv  Hold or Sell              1.0214  Hold or Sell              1.1463   \n",
       "\n",
       "      5_Day_Pred  5_Day_Model_Return  Actual_Returns  \n",
       "0            Buy              1.6538          7.6852  \n",
       "1   Hold or Sell              2.4563        666.5189  \n",
       "2   Hold or Sell              3.3198        173.4876  \n",
       "3            Buy              7.2197       1491.6551  \n",
       "4            Buy              4.6625         14.3359  \n",
       "5   Hold or Sell              1.3939        420.3064  \n",
       "6   Hold or Sell              1.3764        156.4090  \n",
       "7            Buy              0.8078          0.3168  \n",
       "8   Hold or Sell              0.9701        890.7856  \n",
       "9            Buy              2.0629         45.8798  \n",
       "10  Hold or Sell              0.7656        345.3158  \n",
       "11           Buy              1.2773          8.6411  \n",
       "12           Buy              0.6767         17.2448  \n",
       "13  Hold or Sell              2.3506         59.5251  \n",
       "14  Hold or Sell              1.0936          0.5456  "
      ]
     },
     "execution_count": 30,
     "metadata": {},
     "output_type": "execute_result"
    }
   ],
   "source": [
    "summary_df = a.pred_summary_df(start_dates1, stocks = [x for x in start_dates1], days_back = 1)\n",
    "summary_df"
   ]
  },
  {
   "cell_type": "code",
   "execution_count": 31,
   "metadata": {},
   "outputs": [
    {
     "data": {
      "text/plain": [
       "(1.5899, 1.5027, 1.3939, 59.5251)"
      ]
     },
     "execution_count": 31,
     "metadata": {},
     "output_type": "execute_result"
    }
   ],
   "source": [
    "summary_df['1_Day_Model_Return'].median(), summary_df['3_Day_Model_Return'].median(), summary_df['5_Day_Model_Return'].median(), summary_df['Actual_Returns'].median()"
   ]
  },
  {
   "cell_type": "code",
   "execution_count": null,
   "metadata": {},
   "outputs": [],
   "source": []
  },
  {
   "cell_type": "code",
   "execution_count": 32,
   "metadata": {
    "scrolled": false
   },
   "outputs": [
    {
     "data": {
      "text/html": [
       "<div>\n",
       "<style scoped>\n",
       "    .dataframe tbody tr th:only-of-type {\n",
       "        vertical-align: middle;\n",
       "    }\n",
       "\n",
       "    .dataframe tbody tr th {\n",
       "        vertical-align: top;\n",
       "    }\n",
       "\n",
       "    .dataframe thead th {\n",
       "        text-align: right;\n",
       "    }\n",
       "</style>\n",
       "<table border=\"1\" class=\"dataframe\">\n",
       "  <thead>\n",
       "    <tr style=\"text-align: right;\">\n",
       "      <th></th>\n",
       "      <th>stock</th>\n",
       "      <th>1_Day_Pred</th>\n",
       "      <th>1_Day_Model_Return</th>\n",
       "      <th>3_Day_Pred</th>\n",
       "      <th>3_Day_Model_Return</th>\n",
       "      <th>5_Day_Pred</th>\n",
       "      <th>5_Day_Model_Return</th>\n",
       "      <th>Actual_Returns</th>\n",
       "    </tr>\n",
       "  </thead>\n",
       "  <tbody>\n",
       "    <tr>\n",
       "      <th>0</th>\n",
       "      <td>fslr</td>\n",
       "      <td>Buy</td>\n",
       "      <td>1.0775</td>\n",
       "      <td>Buy</td>\n",
       "      <td>1.2330</td>\n",
       "      <td>Buy</td>\n",
       "      <td>1.1444</td>\n",
       "      <td>-0.0660</td>\n",
       "    </tr>\n",
       "    <tr>\n",
       "      <th>1</th>\n",
       "      <td>ge</td>\n",
       "      <td>Hold or Sell</td>\n",
       "      <td>0.6402</td>\n",
       "      <td>Hold or Sell</td>\n",
       "      <td>0.6989</td>\n",
       "      <td>Hold or Sell</td>\n",
       "      <td>0.5448</td>\n",
       "      <td>68.6953</td>\n",
       "    </tr>\n",
       "    <tr>\n",
       "      <th>2</th>\n",
       "      <td>goog</td>\n",
       "      <td>Hold or Sell</td>\n",
       "      <td>1.5101</td>\n",
       "      <td>Hold or Sell</td>\n",
       "      <td>1.4227</td>\n",
       "      <td>Hold or Sell</td>\n",
       "      <td>1.5128</td>\n",
       "      <td>10.1554</td>\n",
       "    </tr>\n",
       "    <tr>\n",
       "      <th>3</th>\n",
       "      <td>ibm</td>\n",
       "      <td>Hold or Sell</td>\n",
       "      <td>1.2805</td>\n",
       "      <td>Hold or Sell</td>\n",
       "      <td>1.4650</td>\n",
       "      <td>Hold or Sell</td>\n",
       "      <td>1.3225</td>\n",
       "      <td>40.2790</td>\n",
       "    </tr>\n",
       "    <tr>\n",
       "      <th>4</th>\n",
       "      <td>intc</td>\n",
       "      <td>Hold or Sell</td>\n",
       "      <td>3.1393</td>\n",
       "      <td>Hold or Sell</td>\n",
       "      <td>2.7984</td>\n",
       "      <td>Hold or Sell</td>\n",
       "      <td>3.1245</td>\n",
       "      <td>161.2184</td>\n",
       "    </tr>\n",
       "    <tr>\n",
       "      <th>5</th>\n",
       "      <td>iyw</td>\n",
       "      <td>Hold or Sell</td>\n",
       "      <td>1.7794</td>\n",
       "      <td>Hold or Sell</td>\n",
       "      <td>1.5739</td>\n",
       "      <td>Hold or Sell</td>\n",
       "      <td>1.4803</td>\n",
       "      <td>9.7101</td>\n",
       "    </tr>\n",
       "    <tr>\n",
       "      <th>6</th>\n",
       "      <td>ll</td>\n",
       "      <td>Hold or Sell</td>\n",
       "      <td>0.3200</td>\n",
       "      <td>Hold or Sell</td>\n",
       "      <td>0.2661</td>\n",
       "      <td>Buy</td>\n",
       "      <td>0.2848</td>\n",
       "      <td>-0.9047</td>\n",
       "    </tr>\n",
       "    <tr>\n",
       "      <th>7</th>\n",
       "      <td>lng</td>\n",
       "      <td>Hold or Sell</td>\n",
       "      <td>2.3214</td>\n",
       "      <td>Hold or Sell</td>\n",
       "      <td>1.9064</td>\n",
       "      <td>Hold or Sell</td>\n",
       "      <td>2.0129</td>\n",
       "      <td>91.6173</td>\n",
       "    </tr>\n",
       "    <tr>\n",
       "      <th>8</th>\n",
       "      <td>ma</td>\n",
       "      <td>Buy</td>\n",
       "      <td>0.9277</td>\n",
       "      <td>Buy</td>\n",
       "      <td>0.8922</td>\n",
       "      <td>Buy</td>\n",
       "      <td>1.0059</td>\n",
       "      <td>30.7371</td>\n",
       "    </tr>\n",
       "    <tr>\n",
       "      <th>9</th>\n",
       "      <td>msft</td>\n",
       "      <td>Hold or Sell</td>\n",
       "      <td>5.3725</td>\n",
       "      <td>Hold or Sell</td>\n",
       "      <td>4.8183</td>\n",
       "      <td>Hold or Sell</td>\n",
       "      <td>6.0515</td>\n",
       "      <td>265.8583</td>\n",
       "    </tr>\n",
       "    <tr>\n",
       "      <th>10</th>\n",
       "      <td>mu</td>\n",
       "      <td>Hold or Sell</td>\n",
       "      <td>1.8600</td>\n",
       "      <td>Hold or Sell</td>\n",
       "      <td>2.1713</td>\n",
       "      <td>Hold or Sell</td>\n",
       "      <td>1.5085</td>\n",
       "      <td>44.4560</td>\n",
       "    </tr>\n",
       "    <tr>\n",
       "      <th>11</th>\n",
       "      <td>nio</td>\n",
       "      <td>Hold or Sell</td>\n",
       "      <td>1.2321</td>\n",
       "      <td>Hold or Sell</td>\n",
       "      <td>0.9029</td>\n",
       "      <td>Hold or Sell</td>\n",
       "      <td>1.3009</td>\n",
       "      <td>1.7182</td>\n",
       "    </tr>\n",
       "    <tr>\n",
       "      <th>12</th>\n",
       "      <td>nvda</td>\n",
       "      <td>Hold or Sell</td>\n",
       "      <td>2.5451</td>\n",
       "      <td>Hold or Sell</td>\n",
       "      <td>1.9706</td>\n",
       "      <td>Hold or Sell</td>\n",
       "      <td>2.3136</td>\n",
       "      <td>390.4491</td>\n",
       "    </tr>\n",
       "    <tr>\n",
       "      <th>13</th>\n",
       "      <td>pypl</td>\n",
       "      <td>Hold or Sell</td>\n",
       "      <td>1.0037</td>\n",
       "      <td>Hold or Sell</td>\n",
       "      <td>0.9309</td>\n",
       "      <td>Buy</td>\n",
       "      <td>0.9453</td>\n",
       "      <td>0.3408</td>\n",
       "    </tr>\n",
       "    <tr>\n",
       "      <th>14</th>\n",
       "      <td>qgen</td>\n",
       "      <td>Buy</td>\n",
       "      <td>0.9067</td>\n",
       "      <td>Buy</td>\n",
       "      <td>1.3316</td>\n",
       "      <td>Buy</td>\n",
       "      <td>1.1331</td>\n",
       "      <td>-0.1792</td>\n",
       "    </tr>\n",
       "  </tbody>\n",
       "</table>\n",
       "</div>"
      ],
      "text/plain": [
       "   stock    1_Day_Pred  1_Day_Model_Return    3_Day_Pred  3_Day_Model_Return  \\\n",
       "0   fslr           Buy              1.0775           Buy              1.2330   \n",
       "1     ge  Hold or Sell              0.6402  Hold or Sell              0.6989   \n",
       "2   goog  Hold or Sell              1.5101  Hold or Sell              1.4227   \n",
       "3    ibm  Hold or Sell              1.2805  Hold or Sell              1.4650   \n",
       "4   intc  Hold or Sell              3.1393  Hold or Sell              2.7984   \n",
       "5    iyw  Hold or Sell              1.7794  Hold or Sell              1.5739   \n",
       "6     ll  Hold or Sell              0.3200  Hold or Sell              0.2661   \n",
       "7    lng  Hold or Sell              2.3214  Hold or Sell              1.9064   \n",
       "8     ma           Buy              0.9277           Buy              0.8922   \n",
       "9   msft  Hold or Sell              5.3725  Hold or Sell              4.8183   \n",
       "10    mu  Hold or Sell              1.8600  Hold or Sell              2.1713   \n",
       "11   nio  Hold or Sell              1.2321  Hold or Sell              0.9029   \n",
       "12  nvda  Hold or Sell              2.5451  Hold or Sell              1.9706   \n",
       "13  pypl  Hold or Sell              1.0037  Hold or Sell              0.9309   \n",
       "14  qgen           Buy              0.9067           Buy              1.3316   \n",
       "\n",
       "      5_Day_Pred  5_Day_Model_Return  Actual_Returns  \n",
       "0            Buy              1.1444         -0.0660  \n",
       "1   Hold or Sell              0.5448         68.6953  \n",
       "2   Hold or Sell              1.5128         10.1554  \n",
       "3   Hold or Sell              1.3225         40.2790  \n",
       "4   Hold or Sell              3.1245        161.2184  \n",
       "5   Hold or Sell              1.4803          9.7101  \n",
       "6            Buy              0.2848         -0.9047  \n",
       "7   Hold or Sell              2.0129         91.6173  \n",
       "8            Buy              1.0059         30.7371  \n",
       "9   Hold or Sell              6.0515        265.8583  \n",
       "10  Hold or Sell              1.5085         44.4560  \n",
       "11  Hold or Sell              1.3009          1.7182  \n",
       "12  Hold or Sell              2.3136        390.4491  \n",
       "13           Buy              0.9453          0.3408  \n",
       "14           Buy              1.1331         -0.1792  "
      ]
     },
     "execution_count": 32,
     "metadata": {},
     "output_type": "execute_result"
    }
   ],
   "source": [
    "summary_df = a.pred_summary_df(start_dates2, stocks = [x for x in start_dates2], days_back = 1)\n",
    "summary_df"
   ]
  },
  {
   "cell_type": "code",
   "execution_count": 33,
   "metadata": {
    "scrolled": true
   },
   "outputs": [
    {
     "data": {
      "text/plain": [
       "(1.2805, 1.4227, 1.3225, 30.7371)"
      ]
     },
     "execution_count": 33,
     "metadata": {},
     "output_type": "execute_result"
    }
   ],
   "source": [
    "summary_df['1_Day_Model_Return'].median(), summary_df['3_Day_Model_Return'].median(), summary_df['5_Day_Model_Return'].median(), summary_df['Actual_Returns'].median()"
   ]
  },
  {
   "cell_type": "code",
   "execution_count": null,
   "metadata": {},
   "outputs": [],
   "source": []
  },
  {
   "cell_type": "code",
   "execution_count": 34,
   "metadata": {},
   "outputs": [
    {
     "data": {
      "text/html": [
       "<div>\n",
       "<style scoped>\n",
       "    .dataframe tbody tr th:only-of-type {\n",
       "        vertical-align: middle;\n",
       "    }\n",
       "\n",
       "    .dataframe tbody tr th {\n",
       "        vertical-align: top;\n",
       "    }\n",
       "\n",
       "    .dataframe thead th {\n",
       "        text-align: right;\n",
       "    }\n",
       "</style>\n",
       "<table border=\"1\" class=\"dataframe\">\n",
       "  <thead>\n",
       "    <tr style=\"text-align: right;\">\n",
       "      <th></th>\n",
       "      <th>stock</th>\n",
       "      <th>1_Day_Pred</th>\n",
       "      <th>1_Day_Model_Return</th>\n",
       "      <th>3_Day_Pred</th>\n",
       "      <th>3_Day_Model_Return</th>\n",
       "      <th>5_Day_Pred</th>\n",
       "      <th>5_Day_Model_Return</th>\n",
       "      <th>Actual_Returns</th>\n",
       "    </tr>\n",
       "  </thead>\n",
       "  <tbody>\n",
       "    <tr>\n",
       "      <th>0</th>\n",
       "      <td>okta</td>\n",
       "      <td>Hold or Sell</td>\n",
       "      <td>1.3973</td>\n",
       "      <td>Hold or Sell</td>\n",
       "      <td>0.9486</td>\n",
       "      <td>Hold or Sell</td>\n",
       "      <td>1.0519</td>\n",
       "      <td>1.0563</td>\n",
       "    </tr>\n",
       "    <tr>\n",
       "      <th>1</th>\n",
       "      <td>orcl</td>\n",
       "      <td>Hold or Sell</td>\n",
       "      <td>2.2349</td>\n",
       "      <td>Hold or Sell</td>\n",
       "      <td>2.4204</td>\n",
       "      <td>Hold or Sell</td>\n",
       "      <td>2.5353</td>\n",
       "      <td>354.2965</td>\n",
       "    </tr>\n",
       "    <tr>\n",
       "      <th>2</th>\n",
       "      <td>qcom</td>\n",
       "      <td>Buy</td>\n",
       "      <td>1.7662</td>\n",
       "      <td>Buy</td>\n",
       "      <td>1.5474</td>\n",
       "      <td>Buy</td>\n",
       "      <td>2.4285</td>\n",
       "      <td>66.5997</td>\n",
       "    </tr>\n",
       "    <tr>\n",
       "      <th>3</th>\n",
       "      <td>qqq</td>\n",
       "      <td>Hold or Sell</td>\n",
       "      <td>2.0284</td>\n",
       "      <td>Hold or Sell</td>\n",
       "      <td>1.9390</td>\n",
       "      <td>Hold or Sell</td>\n",
       "      <td>2.3620</td>\n",
       "      <td>16.3168</td>\n",
       "    </tr>\n",
       "    <tr>\n",
       "      <th>4</th>\n",
       "      <td>srpt</td>\n",
       "      <td>Hold or Sell</td>\n",
       "      <td>0.5086</td>\n",
       "      <td>Hold or Sell</td>\n",
       "      <td>1.3588</td>\n",
       "      <td>Hold or Sell</td>\n",
       "      <td>1.7294</td>\n",
       "      <td>1.2626</td>\n",
       "    </tr>\n",
       "    <tr>\n",
       "      <th>5</th>\n",
       "      <td>tgt</td>\n",
       "      <td>Buy</td>\n",
       "      <td>1.1240</td>\n",
       "      <td>Buy</td>\n",
       "      <td>1.1904</td>\n",
       "      <td>Buy</td>\n",
       "      <td>1.4599</td>\n",
       "      <td>239.0305</td>\n",
       "    </tr>\n",
       "    <tr>\n",
       "      <th>6</th>\n",
       "      <td>tsla</td>\n",
       "      <td>Buy</td>\n",
       "      <td>0.5172</td>\n",
       "      <td>Buy</td>\n",
       "      <td>0.4332</td>\n",
       "      <td>Buy</td>\n",
       "      <td>0.6435</td>\n",
       "      <td>123.0909</td>\n",
       "    </tr>\n",
       "    <tr>\n",
       "      <th>7</th>\n",
       "      <td>tsm</td>\n",
       "      <td>Hold or Sell</td>\n",
       "      <td>2.7278</td>\n",
       "      <td>Hold or Sell</td>\n",
       "      <td>3.1601</td>\n",
       "      <td>Hold or Sell</td>\n",
       "      <td>2.6793</td>\n",
       "      <td>26.5192</td>\n",
       "    </tr>\n",
       "    <tr>\n",
       "      <th>8</th>\n",
       "      <td>v</td>\n",
       "      <td>Buy</td>\n",
       "      <td>0.9608</td>\n",
       "      <td>Buy</td>\n",
       "      <td>1.0412</td>\n",
       "      <td>Buy</td>\n",
       "      <td>0.8617</td>\n",
       "      <td>13.3300</td>\n",
       "    </tr>\n",
       "    <tr>\n",
       "      <th>9</th>\n",
       "      <td>vbiv</td>\n",
       "      <td>Buy</td>\n",
       "      <td>0.0418</td>\n",
       "      <td>Buy</td>\n",
       "      <td>0.0333</td>\n",
       "      <td>Buy</td>\n",
       "      <td>0.0654</td>\n",
       "      <td>-0.9988</td>\n",
       "    </tr>\n",
       "    <tr>\n",
       "      <th>10</th>\n",
       "      <td>vbr</td>\n",
       "      <td>Hold or Sell</td>\n",
       "      <td>1.5963</td>\n",
       "      <td>Hold or Sell</td>\n",
       "      <td>1.4604</td>\n",
       "      <td>Buy</td>\n",
       "      <td>1.4771</td>\n",
       "      <td>2.0867</td>\n",
       "    </tr>\n",
       "    <tr>\n",
       "      <th>11</th>\n",
       "      <td>vgt</td>\n",
       "      <td>Hold or Sell</td>\n",
       "      <td>1.4349</td>\n",
       "      <td>Hold or Sell</td>\n",
       "      <td>1.3806</td>\n",
       "      <td>Hold or Sell</td>\n",
       "      <td>1.2905</td>\n",
       "      <td>8.3922</td>\n",
       "    </tr>\n",
       "    <tr>\n",
       "      <th>12</th>\n",
       "      <td>wmt</td>\n",
       "      <td>Hold or Sell</td>\n",
       "      <td>1.1706</td>\n",
       "      <td>Hold or Sell</td>\n",
       "      <td>1.0226</td>\n",
       "      <td>Buy</td>\n",
       "      <td>1.3072</td>\n",
       "      <td>2118.5039</td>\n",
       "    </tr>\n",
       "    <tr>\n",
       "      <th>13</th>\n",
       "      <td>xli</td>\n",
       "      <td>Hold or Sell</td>\n",
       "      <td>1.3119</td>\n",
       "      <td>Hold or Sell</td>\n",
       "      <td>1.5961</td>\n",
       "      <td>Hold or Sell</td>\n",
       "      <td>1.1832</td>\n",
       "      <td>7.3116</td>\n",
       "    </tr>\n",
       "    <tr>\n",
       "      <th>14</th>\n",
       "      <td>xlk</td>\n",
       "      <td>Hold or Sell</td>\n",
       "      <td>2.1701</td>\n",
       "      <td>Hold or Sell</td>\n",
       "      <td>2.2343</td>\n",
       "      <td>Hold or Sell</td>\n",
       "      <td>1.7699</td>\n",
       "      <td>17.5344</td>\n",
       "    </tr>\n",
       "  </tbody>\n",
       "</table>\n",
       "</div>"
      ],
      "text/plain": [
       "   stock    1_Day_Pred  1_Day_Model_Return    3_Day_Pred  3_Day_Model_Return  \\\n",
       "0   okta  Hold or Sell              1.3973  Hold or Sell              0.9486   \n",
       "1   orcl  Hold or Sell              2.2349  Hold or Sell              2.4204   \n",
       "2   qcom           Buy              1.7662           Buy              1.5474   \n",
       "3    qqq  Hold or Sell              2.0284  Hold or Sell              1.9390   \n",
       "4   srpt  Hold or Sell              0.5086  Hold or Sell              1.3588   \n",
       "5    tgt           Buy              1.1240           Buy              1.1904   \n",
       "6   tsla           Buy              0.5172           Buy              0.4332   \n",
       "7    tsm  Hold or Sell              2.7278  Hold or Sell              3.1601   \n",
       "8      v           Buy              0.9608           Buy              1.0412   \n",
       "9   vbiv           Buy              0.0418           Buy              0.0333   \n",
       "10   vbr  Hold or Sell              1.5963  Hold or Sell              1.4604   \n",
       "11   vgt  Hold or Sell              1.4349  Hold or Sell              1.3806   \n",
       "12   wmt  Hold or Sell              1.1706  Hold or Sell              1.0226   \n",
       "13   xli  Hold or Sell              1.3119  Hold or Sell              1.5961   \n",
       "14   xlk  Hold or Sell              2.1701  Hold or Sell              2.2343   \n",
       "\n",
       "      5_Day_Pred  5_Day_Model_Return  Actual_Returns  \n",
       "0   Hold or Sell              1.0519          1.0563  \n",
       "1   Hold or Sell              2.5353        354.2965  \n",
       "2            Buy              2.4285         66.5997  \n",
       "3   Hold or Sell              2.3620         16.3168  \n",
       "4   Hold or Sell              1.7294          1.2626  \n",
       "5            Buy              1.4599        239.0305  \n",
       "6            Buy              0.6435        123.0909  \n",
       "7   Hold or Sell              2.6793         26.5192  \n",
       "8            Buy              0.8617         13.3300  \n",
       "9            Buy              0.0654         -0.9988  \n",
       "10           Buy              1.4771          2.0867  \n",
       "11  Hold or Sell              1.2905          8.3922  \n",
       "12           Buy              1.3072       2118.5039  \n",
       "13  Hold or Sell              1.1832          7.3116  \n",
       "14  Hold or Sell              1.7699         17.5344  "
      ]
     },
     "execution_count": 34,
     "metadata": {},
     "output_type": "execute_result"
    }
   ],
   "source": [
    "summary_df = a.pred_summary_df(start_dates3, stocks = [x for x in start_dates3], days_back = 1)\n",
    "summary_df"
   ]
  },
  {
   "cell_type": "code",
   "execution_count": 35,
   "metadata": {},
   "outputs": [
    {
     "data": {
      "text/plain": [
       "(1.3973, 1.3806, 1.4599, 16.3168)"
      ]
     },
     "execution_count": 35,
     "metadata": {},
     "output_type": "execute_result"
    }
   ],
   "source": [
    "summary_df['1_Day_Model_Return'].median(), summary_df['3_Day_Model_Return'].median(), summary_df['5_Day_Model_Return'].median(), summary_df['Actual_Returns'].median()"
   ]
  },
  {
   "cell_type": "code",
   "execution_count": null,
   "metadata": {},
   "outputs": [],
   "source": []
  }
 ],
 "metadata": {
  "kernelspec": {
   "display_name": "Python 3",
   "language": "python",
   "name": "python3"
  },
  "language_info": {
   "codemirror_mode": {
    "name": "ipython",
    "version": 3
   },
   "file_extension": ".py",
   "mimetype": "text/x-python",
   "name": "python",
   "nbconvert_exporter": "python",
   "pygments_lexer": "ipython3",
   "version": "3.8.10"
  }
 },
 "nbformat": 4,
 "nbformat_minor": 4
}
