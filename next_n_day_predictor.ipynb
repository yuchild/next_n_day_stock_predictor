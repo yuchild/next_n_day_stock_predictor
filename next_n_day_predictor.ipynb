{
 "cells": [
  {
   "cell_type": "code",
   "execution_count": 1,
   "metadata": {
    "scrolled": true
   },
   "outputs": [],
   "source": [
    "from src import attributes as a\n",
    "%load_ext autoreload\n",
    "%autoreload 2\n",
    "\n",
    "import warnings\n",
    "warnings.filterwarnings('ignore')"
   ]
  },
  {
   "cell_type": "code",
   "execution_count": 2,
   "metadata": {},
   "outputs": [],
   "source": [
    "# Global Variables\n",
    "stock_name = 'tsla' # ticker symbol\n",
    "train = 0 # 1 for train, 0 for pass\n",
    "days_ahead = 1 # for predicting 1, 3, or 5 days ahead\n",
    "days_back = -1 # -1 for current data point, -2 for two days ago, etc...\n",
    "cv = 5 # number of cross validation folds\n",
    "model_name = 'Random Forest Classifier' # for display on charts, not a tuning parameter"
   ]
  },
  {
   "cell_type": "code",
   "execution_count": 3,
   "metadata": {},
   "outputs": [],
   "source": [
    "# Extract, Transform, Load, and Train Test Split\n",
    "# Dictionary of IPO Dates\n",
    "start_dates = {'a': '11/15/1999' # Updated 4/26/21 1D, 3D, 5D ahead\n",
    "               , 'aapl': '12/12/1980' # Updated 11/8/21 1D, 3D, 5D ahead\n",
    "               #, 'acy': '01/18/1998' # Updated 4/26/21 1D, 3D, 5D ahead\n",
    "               , 'adbe': '08/11/1986' # Updated 11/8/21 1D, 3D, 5D ahead\n",
    "               #, 'alb': '02/21/1994' # Updated 4/26/21 1D, 3D, 5D ahead\n",
    "               , 'amat': '03/16/1980' # Updated 4/26/21 1D, 3D, 5D ahead\n",
    "               , 'amd': '03/17/1980' # Updated 11/23/21 1D, 3D, 5D ahead\n",
    "               , 'amgn': '06/13/1983' # Updated 4/26/21 1D, 3D, 5D ahead\n",
    "               , 'amzn': '05/12/1997' # Updated 11/07/21 1D, 3D, 5D ahead\n",
    "               , 'baba': '09/15/2014' # Updated 11/13/21 1D, 3D, 5D ahead\n",
    "               , 'bac': '02/19/1973' # Updated 4/26/21 1D, 3D, 5D ahead\n",
    "               , 'bby': '04/15/1985' # Updated 11/19/21 1D, 3D, 5D ahead\n",
    "               #, 'bpmc': '04/27/2015' # Updated 4/26/21 1D, 3D, 5D ahead\n",
    "               , 'crm': '06/23/2004' # Updated 11/13/21 1D, 3D, 5D ahead\n",
    "               , 'crsp': '10/16/2016' # Updated 4/26/21 1D, 3D, 5D ahead\n",
    "               , 'cost': '07/07/1986' # Updated 11/23/21 1D, 3D, 5D ahead\n",
    "               , 'dis': '10/27/2014' # Updatd 11/5/21 1D, 3D, 5D ahead\n",
    "               #, 'dq': '10/04/2010' # Updated 4/26/21 1D, 3D, 5D ahead\n",
    "               , 'esgv': '09/16/2018' # Updated 4/26/21 1D, 3D, 5D ahead\n",
    "               , 'fslr': '11/12/2006' # Updated 4/26/21 1D, 3D, 5D ahead\n",
    "               , 'goog': '08/16/2004' # Updated 11/8/21 1D, 3D, 5D ahead\n",
    "               , 'ibm': '01/02/1962' # Updated 4/26/21 1D, 3D, 5D ahead\n",
    "               , 'intc': '03/16/1980' # Updated 11/13/21 1D, 3D, 5D ahead\n",
    "               , 'iyw': '05/15/2000' # Updated 11/21/21 1D, 3D, 5D ahead\n",
    "               , 'll': '11/05/2007' # Updated 11/22/21 1D, 3D, 5D ahead\n",
    "               , 'lng': '04/04/1994' # Updated 4/26/21 1D, 3D, 5D ahead\n",
    "               , 'ma': '05/21/2006' # Updated 4/26/21 1D, 3D, 5D ahead\n",
    "               , 'mdb': '10/15/2017' # Updated 11/21/21 1D, 3D, 5D ahead\n",
    "               , 'msft': '03/10/1986' # Updated 11/8/21 1D, 3D, 5D ahead\n",
    "               , 'mu': '05/28/1984' # Updated 11/20/21 1D, 3D, 5D ahead\n",
    "               #, 'nee': '02/19/1973' # Updated 4/26/21 1D, 3D, 5D ahead\n",
    "               , 'nio': '09/10/2018' # Updated 4/26/21 1D, 3D, 5D ahead\n",
    "               , 'nvda': '01/22/1999' # Updated 11/17/21 1D, 3D, 5D ahead\n",
    "               #, 'pacb': '10/25/2010' # Updated 4/26/21 1D, 3D, 5D ahead\n",
    "               , 'pypl': '07/05/2015' # Updated 4/26/21 1D, 3D, 5D ahead\n",
    "               , 'qgen': '06/24/1996' # Updated 4/26/21 1D, 3D, 5D ahead\n",
    "               #, 'run': '08/02/2015' # Updated 4/26/21 1D, 3D, 5D ahead\n",
    "               , 'okta': '04/03/2017' # Updated 4/26/21 1D, 3D, 5D ahead\n",
    "               , 'orcl': '03/10/1986' # Updated 4/26/21 1D, 3D, 5D ahead\n",
    "               , 'qcom': '12/09/1991' # Updated 11/20/21 1D, 3D, 5D ahead\n",
    "               , 'qqq': '03/08/1999' # Updated 4/26/21 1D, 3D, 5D ahead\n",
    "               , 'srpt': '06/02/1997' # Updated 4/26/21 1D, 3D, 5D ahead\n",
    "               , 'tgt': '02/19/1973' # Updated 11/22/21 1D, 3D, 5D ahead\n",
    "               #, 'tpic': '07/17/2016' # Updated 4/26/21 1D, 3D, 5D ahead\n",
    "               , 'tsla': '06/29/2010' # Updated 11/07/21 1D, 3D, 5D ahead\n",
    "               , 'tsm': '10/06/1997' # Updated 11/20/21 1D, 3D, 5D ahead\n",
    "               , 'v': '03/16/2008' # Updated 11/22/21 1D, 3D, 5D ahead\n",
    "               , 'vbiv': '09/04/2002' # Updated 4/26/21 1D, 3D, 5D ahead\n",
    "               , 'vbr': '01/26/2004' # Updated 11/20/21 1D, 3D, 5D ahead\n",
    "               , 'viov': '09/06/2010' # Updated 4/26/21 1D, 3D, 5D ahead\n",
    "               , 'vgt': '01/26/2004' # Updated 11/07/21 1D, 3D, 5D ahead\n",
    "               , 'wmt': '11/10/2014' # Updated 11/16/21 1D, 3D, 5D ahead\n",
    "               , 'xlk': '12/21/1998' # Updated 11/21/21 1D, 3D, 5D ahead\n",
    "              }"
   ]
  },
  {
   "cell_type": "markdown",
   "metadata": {},
   "source": [
    "### Get Data..."
   ]
  },
  {
   "cell_type": "code",
   "execution_count": 4,
   "metadata": {
    "scrolled": true
   },
   "outputs": [
    {
     "name": "stdout",
     "output_type": "stream",
     "text": [
      "Today's date: 2023-01-12\n",
      "Table Updates Complete\n",
      "Current Time:  00:13:37\n"
     ]
    }
   ],
   "source": [
    "from datetime import date, datetime\n",
    "today = date.today()\n",
    "print(\"Today's date:\", today)\n",
    "a.get_tables(start_dates) # commented out for 2021-12-19, data already downloaded for weekend\n",
    "print('Table Updates Complete')\n",
    "now = datetime.now()\n",
    "current_time = now.strftime(\"%H:%M:%S\")\n",
    "print(\"Current Time: \", current_time)"
   ]
  },
  {
   "cell_type": "code",
   "execution_count": 5,
   "metadata": {},
   "outputs": [],
   "source": [
    "# Load RandomForextClassifier Model\n",
    "# rfc_model, y_pred, y_probs = a.rfc(X_train, X_test, y_train, stock_name, days_ahead)"
   ]
  },
  {
   "cell_type": "code",
   "execution_count": 6,
   "metadata": {
    "scrolled": false
   },
   "outputs": [],
   "source": [
    "# ROC Curve\n",
    "# a.roc_plot(y_test, y_probs, stock_name, model_name)"
   ]
  },
  {
   "cell_type": "code",
   "execution_count": 7,
   "metadata": {
    "scrolled": false
   },
   "outputs": [],
   "source": [
    "# Precision Recall Curve\n",
    "# a.prec_recall(y_test, y_probs, stock_name, model_name)"
   ]
  },
  {
   "cell_type": "code",
   "execution_count": 8,
   "metadata": {
    "scrolled": false
   },
   "outputs": [],
   "source": [
    "# Confusion Matrix\n",
    "# a.confusion_matrix(rfc_model, X_test, y_test, stock_name)"
   ]
  },
  {
   "cell_type": "code",
   "execution_count": 9,
   "metadata": {},
   "outputs": [],
   "source": [
    "# Cross Validation\n",
    "# a.cross_validation(rfc_model\n",
    "#                    , stock_df[['oc', 'hl', '5stdev_adj', '5sma_adj']]\n",
    "#                    , stock_df['direction']\n",
    "#                    , cv = 5\n",
    "#                   )"
   ]
  },
  {
   "cell_type": "markdown",
   "metadata": {},
   "source": [
    "### Prediction..."
   ]
  },
  {
   "cell_type": "code",
   "execution_count": 10,
   "metadata": {
    "scrolled": true
   },
   "outputs": [],
   "source": [
    "# Prediction, use last day of data\n",
    "# stock_df.iloc[-1]"
   ]
  },
  {
   "cell_type": "code",
   "execution_count": 11,
   "metadata": {},
   "outputs": [],
   "source": [
    "# import numpy as np\n",
    "# last = stock_df[['oc', 'hl', '5stdev_adj', '5sma_adj']].iloc[-days_back]\n",
    "# last"
   ]
  },
  {
   "cell_type": "code",
   "execution_count": 12,
   "metadata": {},
   "outputs": [],
   "source": [
    "# stock_df['adj'].describe()"
   ]
  },
  {
   "cell_type": "code",
   "execution_count": 13,
   "metadata": {
    "scrolled": true
   },
   "outputs": [],
   "source": [
    "# if rfc_model.predict(np.array(last).reshape(1, -1))[0] == 1:\n",
    "#     print(f'Buy {stock_name} {days_ahead} day(s) ahead')\n",
    "# else:\n",
    "#     print(f'Sell or hold {stock_name} {days_ahead} day(s) ahead')"
   ]
  },
  {
   "cell_type": "markdown",
   "metadata": {},
   "source": [
    "### Strategy Returns..."
   ]
  },
  {
   "cell_type": "code",
   "execution_count": 14,
   "metadata": {},
   "outputs": [],
   "source": [
    "# returns on strategy column\n",
    "# stock_df['prediction'] = rfc_model.predict(stock_df[['oc', 'hl', '5stdev_adj', '5sma_adj']])\n",
    "# stock_df['returns'] = stock_df['adj'].shift(-1, fill_value = stock_df['adj'].median()) * stock_df['prediction']"
   ]
  },
  {
   "cell_type": "code",
   "execution_count": 15,
   "metadata": {},
   "outputs": [],
   "source": [
    "# stock_df.tail(5)"
   ]
  },
  {
   "cell_type": "code",
   "execution_count": 16,
   "metadata": {},
   "outputs": [],
   "source": [
    "# Don't trade every day!\n",
    "# import matplotlib.pyplot as plt\n",
    "# test_length = len(y_test)\n",
    "# (stock_df['returns'][-test_length:] + 1).cumprod().plot()\n",
    "# plt.title(f'{stock_name} Expected Returns %');"
   ]
  },
  {
   "cell_type": "code",
   "execution_count": 17,
   "metadata": {},
   "outputs": [],
   "source": [
    "# Model returns if bought on predictions of 1\n",
    "# returns_on_ones = []\n",
    "# for idx in range(-test_length, 0):\n",
    "#     if stock_df['prediction'][idx] == 1:\n",
    "#         returns_on_ones.append(1 + stock_df['returns'][idx])\n",
    "\n",
    "# returns = 1\n",
    "# for x in returns_on_ones:\n",
    "#     returns *= x\n",
    "# returns"
   ]
  },
  {
   "cell_type": "code",
   "execution_count": 18,
   "metadata": {},
   "outputs": [],
   "source": [
    "# multiple times original investment, not bad but..."
   ]
  },
  {
   "cell_type": "code",
   "execution_count": 19,
   "metadata": {},
   "outputs": [],
   "source": [
    "# If purchased in 2012 and left it until now\n",
    "# test_idx = int(len(stock_df)*0.75)\n",
    "# (stock_df['Close'][-1] - stock_df['Close'][-test_idx]) / stock_df['Close'][-test_idx]"
   ]
  },
  {
   "cell_type": "code",
   "execution_count": 20,
   "metadata": {},
   "outputs": [],
   "source": [
    "# Buy and hold strategy beats RandomForestClassifier in this study\n",
    "\n",
    "# Special thanks to Shagufta Tahsildar at https://blog.quantinsti.com/random-forest-algorithm-in-python/"
   ]
  },
  {
   "cell_type": "code",
   "execution_count": null,
   "metadata": {},
   "outputs": [],
   "source": []
  },
  {
   "cell_type": "code",
   "execution_count": null,
   "metadata": {},
   "outputs": [],
   "source": []
  },
  {
   "cell_type": "code",
   "execution_count": null,
   "metadata": {},
   "outputs": [],
   "source": []
  },
  {
   "cell_type": "markdown",
   "metadata": {},
   "source": [
    "### Training"
   ]
  },
  {
   "cell_type": "markdown",
   "metadata": {},
   "source": [
    "Training is done once a week on Saturday and Sunday"
   ]
  },
  {
   "cell_type": "code",
   "execution_count": 21,
   "metadata": {},
   "outputs": [
    {
     "data": {
      "text/plain": [
       "45"
      ]
     },
     "execution_count": 21,
     "metadata": {},
     "output_type": "execute_result"
    }
   ],
   "source": [
    "len(start_dates)"
   ]
  },
  {
   "cell_type": "code",
   "execution_count": 22,
   "metadata": {},
   "outputs": [
    {
     "data": {
      "text/plain": [
       "{'a': '11/15/1999',\n",
       " 'aapl': '12/12/1980',\n",
       " 'adbe': '08/11/1986',\n",
       " 'amat': '03/16/1980',\n",
       " 'amd': '03/17/1980',\n",
       " 'amgn': '06/13/1983',\n",
       " 'amzn': '05/12/1997',\n",
       " 'baba': '09/15/2014',\n",
       " 'bac': '02/19/1973',\n",
       " 'bby': '04/15/1985',\n",
       " 'crm': '06/23/2004',\n",
       " 'crsp': '10/16/2016',\n",
       " 'cost': '07/07/1986',\n",
       " 'dis': '10/27/2014',\n",
       " 'esgv': '09/16/2018'}"
      ]
     },
     "execution_count": 22,
     "metadata": {},
     "output_type": "execute_result"
    }
   ],
   "source": [
    "import itertools as itr\n",
    "start_dates1 = dict(itr.islice(start_dates.items(), 0, 15))\n",
    "start_dates1"
   ]
  },
  {
   "cell_type": "code",
   "execution_count": 23,
   "metadata": {},
   "outputs": [
    {
     "data": {
      "text/plain": [
       "{'fslr': '11/12/2006',\n",
       " 'goog': '08/16/2004',\n",
       " 'ibm': '01/02/1962',\n",
       " 'intc': '03/16/1980',\n",
       " 'iyw': '05/15/2000',\n",
       " 'll': '11/05/2007',\n",
       " 'lng': '04/04/1994',\n",
       " 'ma': '05/21/2006',\n",
       " 'mdb': '10/15/2017',\n",
       " 'msft': '03/10/1986',\n",
       " 'mu': '05/28/1984',\n",
       " 'nio': '09/10/2018',\n",
       " 'nvda': '01/22/1999',\n",
       " 'pypl': '07/05/2015',\n",
       " 'qgen': '06/24/1996'}"
      ]
     },
     "execution_count": 23,
     "metadata": {},
     "output_type": "execute_result"
    }
   ],
   "source": [
    "start_dates2 = dict(itr.islice(start_dates.items(), 15, 30))\n",
    "start_dates2"
   ]
  },
  {
   "cell_type": "code",
   "execution_count": 24,
   "metadata": {},
   "outputs": [
    {
     "data": {
      "text/plain": [
       "{'okta': '04/03/2017',\n",
       " 'orcl': '03/10/1986',\n",
       " 'qcom': '12/09/1991',\n",
       " 'qqq': '03/08/1999',\n",
       " 'srpt': '06/02/1997',\n",
       " 'tgt': '02/19/1973',\n",
       " 'tsla': '06/29/2010',\n",
       " 'tsm': '10/06/1997',\n",
       " 'v': '03/16/2008',\n",
       " 'vbiv': '09/04/2002',\n",
       " 'vbr': '01/26/2004',\n",
       " 'viov': '09/06/2010',\n",
       " 'vgt': '01/26/2004',\n",
       " 'wmt': '11/10/2014',\n",
       " 'xlk': '12/21/1998'}"
      ]
     },
     "execution_count": 24,
     "metadata": {},
     "output_type": "execute_result"
    }
   ],
   "source": [
    "start_dates3 = dict(itr.islice(start_dates.items(), 30, 45+1))\n",
    "start_dates3"
   ]
  },
  {
   "cell_type": "code",
   "execution_count": 25,
   "metadata": {
    "scrolled": false
   },
   "outputs": [],
   "source": [
    "# from datetime import datetime\n",
    "\n",
    "# now = datetime.now()\n",
    "\n",
    "# current_time = now.strftime(\"%H:%M:%S\")\n",
    "# print(\"Gridsearch Start Date: \", today)\n",
    "# print(\"Current Time: \", current_time)\n",
    "\n",
    "#Train 15 at a time!\n",
    "# stocks = [x for x in start_dates1]\n",
    "# days_ahead = [1, 3, 5]\n",
    "# cv = 5\n",
    "# for stock in stocks:\n",
    "#     for days in days_ahead:\n",
    "#         X_train, X_test, y_train, y_test, stock_df = a.data(stock, start_dates[stock], days)\n",
    "#         a.rfc_GridSearch(X_train, y_train, stock, days, cv)\n",
    "# len(stocks)\n",
    "\n",
    "# Next on training for Saturday 4/17/2021\n",
    "# stocks = [x for x in start_dates2]\n",
    "# days_ahead = [1, 3, 5]\n",
    "# cv = 5\n",
    "# for stock in stocks:\n",
    "#     for days in days_ahead:\n",
    "#         X_train, X_test, y_train, y_test, stock_df = a.data(stock, start_dates[stock], days)\n",
    "#         a.rfc_GridSearch(X_train, y_train, stock, days, cv)\n",
    "# len(stocks)\n",
    "\n",
    "# Next on training for Saturday 4/17/2021\n",
    "# stocks = [x for x in start_dates3]\n",
    "# days_ahead = [1, 3, 5]\n",
    "# cv = 5\n",
    "# for stock in stocks:\n",
    "#     for days in days_ahead:\n",
    "#         X_train, X_test, y_train, y_test, stock_df = a.data(stock, start_dates[stock], days)\n",
    "#         a.rfc_GridSearch(X_train, y_train, stock, days, cv)\n",
    "# len(stocks)\n",
    "\n",
    "# # Train all, takes 15+ hours\n",
    "# stocks = [x for x in start_dates]\n",
    "# days_ahead = [1, 3, 5]\n",
    "# cv = 5\n",
    "# for stock in stocks:\n",
    "#     for days in days_ahead:\n",
    "#         X_train, X_test, y_train, y_test, stock_df = a.data(stock, start_dates[stock], days)\n",
    "#         a.rfc_GridSearch(X_train, y_train, stock, days, cv)\n",
    "# len(stocks)\n",
    "\n",
    "# Train desired stocks...takes less time (4 will take 15.5 hours, each stock is roughly 2.5-4 hours to train)\n",
    "# 3 will take 7.5 hours, roughly 2.5 hours per stock trained\n",
    "# to train: ['cost']\n",
    "\n",
    "# import timeit \n",
    "# stocks = ['amd'] # ['tsm', 'vbr'] # tbt as of 2021-11-20, started 01:15 PST\n",
    "# days_ahead = [1, 3, 5] \n",
    "# cv = 3 # was 5 \n",
    "# for stock in stocks:\n",
    "#     for days in days_ahead:\n",
    "#         X_train, X_test, y_train, y_test, stock_df = a.data(stock, start_dates[stock], days)\n",
    "#         %timeit a.rfc_GridSearch(X_train, y_train, stock, days, cv)\n",
    "\n",
    "# now = datetime.now()\n",
    "\n",
    "# current_time = now.strftime(\"%H:%M:%S\")\n",
    "# print(\"Gridsearch End Date: \", today)\n",
    "# print(\"Current Time: \", current_time)"
   ]
  },
  {
   "cell_type": "code",
   "execution_count": null,
   "metadata": {},
   "outputs": [],
   "source": []
  },
  {
   "cell_type": "code",
   "execution_count": null,
   "metadata": {},
   "outputs": [],
   "source": []
  },
  {
   "cell_type": "code",
   "execution_count": null,
   "metadata": {},
   "outputs": [],
   "source": []
  },
  {
   "cell_type": "markdown",
   "metadata": {},
   "source": [
    "### Display All Results"
   ]
  },
  {
   "cell_type": "markdown",
   "metadata": {},
   "source": [
    "**NOTE:** Returns include buying ups and selling downs"
   ]
  },
  {
   "cell_type": "code",
   "execution_count": 26,
   "metadata": {},
   "outputs": [
    {
     "name": "stdout",
     "output_type": "stream",
     "text": [
      "Today's date: 2023-01-12\n",
      "Current Time:  00:13:38\n"
     ]
    }
   ],
   "source": [
    "from datetime import date, datetime\n",
    "today = date.today()\n",
    "print(\"Today's date:\", today)\n",
    "now = datetime.now()\n",
    "current_time = now.strftime(\"%H:%M:%S\")\n",
    "print(\"Current Time: \", current_time)"
   ]
  },
  {
   "cell_type": "code",
   "execution_count": 27,
   "metadata": {
    "scrolled": false
   },
   "outputs": [
    {
     "name": "stdout",
     "output_type": "stream",
     "text": [
      "Sell or hold amd 1 day(s) ahead\n",
      "Model Returns (x 100 for %): 4.8208\n",
      "Stock Returns (x 100 for %): 6.3176\n"
     ]
    },
    {
     "data": {
      "image/png": "[encoded data removed]",
      "text/plain": [
       "<Figure size 432x288 with 1 Axes>"
      ]
     },
     "metadata": {},
     "output_type": "display_data"
    },
    {
     "data": {
      "image/png": "[encoded data removed]",
      "text/plain": [
       "<Figure size 648x504 with 1 Axes>"
      ]
     },
     "metadata": {},
     "output_type": "display_data"
    },
    {
     "data": {
      "image/png": "[encoded data removed]",
      "text/plain": [
       "<Figure size 648x504 with 1 Axes>"
      ]
     },
     "metadata": {},
     "output_type": "display_data"
    },
    {
     "data": {
      "image/png": "[encoded data removed]",
      "text/plain": [
       "<Figure size 684x612 with 2 Axes>"
      ]
     },
     "metadata": {},
     "output_type": "display_data"
    }
   ],
   "source": [
    "stock_name = 'amd'\n",
    "a.all_func(stock_name\n",
    "           , start_dates[stock_name]\n",
    "           , days_ahead = 1\n",
    "           , model_name = model_name\n",
    "           , days_back = 1\n",
    "          )"
   ]
  },
  {
   "cell_type": "code",
   "execution_count": null,
   "metadata": {},
   "outputs": [],
   "source": []
  },
  {
   "cell_type": "code",
   "execution_count": null,
   "metadata": {},
   "outputs": [],
   "source": []
  },
  {
   "cell_type": "code",
   "execution_count": null,
   "metadata": {},
   "outputs": [],
   "source": []
  },
  {
   "cell_type": "markdown",
   "metadata": {},
   "source": [
    "### Data Frame of Predictions 1 3 5 Days"
   ]
  },
  {
   "cell_type": "markdown",
   "metadata": {},
   "source": [
    "**NOTE:** Returns are for buys only."
   ]
  },
  {
   "cell_type": "code",
   "execution_count": 28,
   "metadata": {
    "scrolled": false
   },
   "outputs": [
    {
     "name": "stdout",
     "output_type": "stream",
     "text": [
      "Today's date: 2023-01-12\n",
      "Current Time = 00:13:38\n"
     ]
    }
   ],
   "source": [
    "print(\"Today's date:\", today)\n",
    "print(\"Current Time =\", current_time)"
   ]
  },
  {
   "cell_type": "code",
   "execution_count": 29,
   "metadata": {
    "scrolled": false
   },
   "outputs": [
    {
     "data": {
      "text/html": [
       "<div>\n",
       "<style scoped>\n",
       "    .dataframe tbody tr th:only-of-type {\n",
       "        vertical-align: middle;\n",
       "    }\n",
       "\n",
       "    .dataframe tbody tr th {\n",
       "        vertical-align: top;\n",
       "    }\n",
       "\n",
       "    .dataframe thead th {\n",
       "        text-align: right;\n",
       "    }\n",
       "</style>\n",
       "<table border=\"1\" class=\"dataframe\">\n",
       "  <thead>\n",
       "    <tr style=\"text-align: right;\">\n",
       "      <th></th>\n",
       "      <th>stock</th>\n",
       "      <th>1_Day_Pred</th>\n",
       "      <th>1_Day_Model_Return</th>\n",
       "      <th>3_Day_Pred</th>\n",
       "      <th>3_Day_Model_Return</th>\n",
       "      <th>5_Day_Pred</th>\n",
       "      <th>5_Day_Model_Return</th>\n",
       "      <th>Actual_Returns</th>\n",
       "    </tr>\n",
       "  </thead>\n",
       "  <tbody>\n",
       "    <tr>\n",
       "      <th>0</th>\n",
       "      <td>a</td>\n",
       "      <td>Hold or Sell</td>\n",
       "      <td>2.2418</td>\n",
       "      <td>Hold or Sell</td>\n",
       "      <td>2.1066</td>\n",
       "      <td>Hold or Sell</td>\n",
       "      <td>2.1284</td>\n",
       "      <td>12.7012</td>\n",
       "    </tr>\n",
       "    <tr>\n",
       "      <th>1</th>\n",
       "      <td>aapl</td>\n",
       "      <td>Hold or Sell</td>\n",
       "      <td>3.2471</td>\n",
       "      <td>Hold or Sell</td>\n",
       "      <td>2.6917</td>\n",
       "      <td>Hold or Sell</td>\n",
       "      <td>2.7828</td>\n",
       "      <td>498.0494</td>\n",
       "    </tr>\n",
       "    <tr>\n",
       "      <th>2</th>\n",
       "      <td>adbe</td>\n",
       "      <td>Hold or Sell</td>\n",
       "      <td>3.3568</td>\n",
       "      <td>Hold or Sell</td>\n",
       "      <td>4.1120</td>\n",
       "      <td>Hold or Sell</td>\n",
       "      <td>3.8206</td>\n",
       "      <td>102.3646</td>\n",
       "    </tr>\n",
       "    <tr>\n",
       "      <th>3</th>\n",
       "      <td>amat</td>\n",
       "      <td>Hold or Sell</td>\n",
       "      <td>7.4947</td>\n",
       "      <td>Hold or Sell</td>\n",
       "      <td>8.0241</td>\n",
       "      <td>Hold or Sell</td>\n",
       "      <td>7.4756</td>\n",
       "      <td>945.5184</td>\n",
       "    </tr>\n",
       "    <tr>\n",
       "      <th>4</th>\n",
       "      <td>amd</td>\n",
       "      <td>Hold or Sell</td>\n",
       "      <td>4.5357</td>\n",
       "      <td>Hold or Sell</td>\n",
       "      <td>10.7107</td>\n",
       "      <td>Hold or Sell</td>\n",
       "      <td>9.5582</td>\n",
       "      <td>6.3176</td>\n",
       "    </tr>\n",
       "    <tr>\n",
       "      <th>5</th>\n",
       "      <td>amgn</td>\n",
       "      <td>Buy</td>\n",
       "      <td>1.5647</td>\n",
       "      <td>Buy</td>\n",
       "      <td>1.5622</td>\n",
       "      <td>Buy</td>\n",
       "      <td>1.5992</td>\n",
       "      <td>398.4391</td>\n",
       "    </tr>\n",
       "    <tr>\n",
       "      <th>6</th>\n",
       "      <td>amzn</td>\n",
       "      <td>Hold or Sell</td>\n",
       "      <td>0.9721</td>\n",
       "      <td>Hold or Sell</td>\n",
       "      <td>0.8427</td>\n",
       "      <td>Hold or Sell</td>\n",
       "      <td>0.9363</td>\n",
       "      <td>134.5524</td>\n",
       "    </tr>\n",
       "    <tr>\n",
       "      <th>7</th>\n",
       "      <td>baba</td>\n",
       "      <td>Hold or Sell</td>\n",
       "      <td>1.1516</td>\n",
       "      <td>Hold or Sell</td>\n",
       "      <td>1.3502</td>\n",
       "      <td>Hold or Sell</td>\n",
       "      <td>0.7228</td>\n",
       "      <td>0.5920</td>\n",
       "    </tr>\n",
       "    <tr>\n",
       "      <th>8</th>\n",
       "      <td>bac</td>\n",
       "      <td>Hold or Sell</td>\n",
       "      <td>2.2102</td>\n",
       "      <td>Hold or Sell</td>\n",
       "      <td>1.4021</td>\n",
       "      <td>Hold or Sell</td>\n",
       "      <td>2.1259</td>\n",
       "      <td>49.3159</td>\n",
       "    </tr>\n",
       "    <tr>\n",
       "      <th>9</th>\n",
       "      <td>bby</td>\n",
       "      <td>Hold or Sell</td>\n",
       "      <td>0.8508</td>\n",
       "      <td>Hold or Sell</td>\n",
       "      <td>0.9699</td>\n",
       "      <td>Hold or Sell</td>\n",
       "      <td>0.9034</td>\n",
       "      <td>660.0284</td>\n",
       "    </tr>\n",
       "    <tr>\n",
       "      <th>10</th>\n",
       "      <td>crm</td>\n",
       "      <td>Buy</td>\n",
       "      <td>0.8719</td>\n",
       "      <td>Buy</td>\n",
       "      <td>0.9968</td>\n",
       "      <td>Buy</td>\n",
       "      <td>0.8523</td>\n",
       "      <td>13.0373</td>\n",
       "    </tr>\n",
       "    <tr>\n",
       "      <th>11</th>\n",
       "      <td>crsp</td>\n",
       "      <td>Buy</td>\n",
       "      <td>0.7495</td>\n",
       "      <td>Hold or Sell</td>\n",
       "      <td>0.7392</td>\n",
       "      <td>Hold or Sell</td>\n",
       "      <td>0.7122</td>\n",
       "      <td>1.4923</td>\n",
       "    </tr>\n",
       "    <tr>\n",
       "      <th>12</th>\n",
       "      <td>cost</td>\n",
       "      <td>Hold or Sell</td>\n",
       "      <td>2.8137</td>\n",
       "      <td>Hold or Sell</td>\n",
       "      <td>2.6679</td>\n",
       "      <td>Hold or Sell</td>\n",
       "      <td>2.4793</td>\n",
       "      <td>58.5310</td>\n",
       "    </tr>\n",
       "    <tr>\n",
       "      <th>13</th>\n",
       "      <td>dis</td>\n",
       "      <td>Hold or Sell</td>\n",
       "      <td>1.7453</td>\n",
       "      <td>Hold or Sell</td>\n",
       "      <td>2.0516</td>\n",
       "      <td>Hold or Sell</td>\n",
       "      <td>2.0111</td>\n",
       "      <td>123.6519</td>\n",
       "    </tr>\n",
       "    <tr>\n",
       "      <th>14</th>\n",
       "      <td>esgv</td>\n",
       "      <td>Hold or Sell</td>\n",
       "      <td>1.0020</td>\n",
       "      <td>Hold or Sell</td>\n",
       "      <td>0.9884</td>\n",
       "      <td>Hold or Sell</td>\n",
       "      <td>1.0208</td>\n",
       "      <td>0.4283</td>\n",
       "    </tr>\n",
       "  </tbody>\n",
       "</table>\n",
       "</div>"
      ],
      "text/plain": [
       "   stock    1_Day_Pred  1_Day_Model_Return    3_Day_Pred  3_Day_Model_Return  \\\n",
       "0      a  Hold or Sell              2.2418  Hold or Sell              2.1066   \n",
       "1   aapl  Hold or Sell              3.2471  Hold or Sell              2.6917   \n",
       "2   adbe  Hold or Sell              3.3568  Hold or Sell              4.1120   \n",
       "3   amat  Hold or Sell              7.4947  Hold or Sell              8.0241   \n",
       "4    amd  Hold or Sell              4.5357  Hold or Sell             10.7107   \n",
       "5   amgn           Buy              1.5647           Buy              1.5622   \n",
       "6   amzn  Hold or Sell              0.9721  Hold or Sell              0.8427   \n",
       "7   baba  Hold or Sell              1.1516  Hold or Sell              1.3502   \n",
       "8    bac  Hold or Sell              2.2102  Hold or Sell              1.4021   \n",
       "9    bby  Hold or Sell              0.8508  Hold or Sell              0.9699   \n",
       "10   crm           Buy              0.8719           Buy              0.9968   \n",
       "11  crsp           Buy              0.7495  Hold or Sell              0.7392   \n",
       "12  cost  Hold or Sell              2.8137  Hold or Sell              2.6679   \n",
       "13   dis  Hold or Sell              1.7453  Hold or Sell              2.0516   \n",
       "14  esgv  Hold or Sell              1.0020  Hold or Sell              0.9884   \n",
       "\n",
       "      5_Day_Pred  5_Day_Model_Return  Actual_Returns  \n",
       "0   Hold or Sell              2.1284         12.7012  \n",
       "1   Hold or Sell              2.7828        498.0494  \n",
       "2   Hold or Sell              3.8206        102.3646  \n",
       "3   Hold or Sell              7.4756        945.5184  \n",
       "4   Hold or Sell              9.5582          6.3176  \n",
       "5            Buy              1.5992        398.4391  \n",
       "6   Hold or Sell              0.9363        134.5524  \n",
       "7   Hold or Sell              0.7228          0.5920  \n",
       "8   Hold or Sell              2.1259         49.3159  \n",
       "9   Hold or Sell              0.9034        660.0284  \n",
       "10           Buy              0.8523         13.0373  \n",
       "11  Hold or Sell              0.7122          1.4923  \n",
       "12  Hold or Sell              2.4793         58.5310  \n",
       "13  Hold or Sell              2.0111        123.6519  \n",
       "14  Hold or Sell              1.0208          0.4283  "
      ]
     },
     "execution_count": 29,
     "metadata": {},
     "output_type": "execute_result"
    }
   ],
   "source": [
    "summary_df = a.pred_summary_df(start_dates1, stocks = [x for x in start_dates1], days_back = 1)\n",
    "summary_df"
   ]
  },
  {
   "cell_type": "code",
   "execution_count": 30,
   "metadata": {},
   "outputs": [
    {
     "data": {
      "text/plain": [
       "(1.7453, 1.5622, 2.0111, 58.531)"
      ]
     },
     "execution_count": 30,
     "metadata": {},
     "output_type": "execute_result"
    }
   ],
   "source": [
    "summary_df['1_Day_Model_Return'].median(), summary_df['3_Day_Model_Return'].median(), summary_df['5_Day_Model_Return'].median(), summary_df['Actual_Returns'].median()"
   ]
  },
  {
   "cell_type": "code",
   "execution_count": null,
   "metadata": {},
   "outputs": [],
   "source": []
  },
  {
   "cell_type": "code",
   "execution_count": 31,
   "metadata": {
    "scrolled": false
   },
   "outputs": [
    {
     "data": {
      "text/html": [
       "<div>\n",
       "<style scoped>\n",
       "    .dataframe tbody tr th:only-of-type {\n",
       "        vertical-align: middle;\n",
       "    }\n",
       "\n",
       "    .dataframe tbody tr th {\n",
       "        vertical-align: top;\n",
       "    }\n",
       "\n",
       "    .dataframe thead th {\n",
       "        text-align: right;\n",
       "    }\n",
       "</style>\n",
       "<table border=\"1\" class=\"dataframe\">\n",
       "  <thead>\n",
       "    <tr style=\"text-align: right;\">\n",
       "      <th></th>\n",
       "      <th>stock</th>\n",
       "      <th>1_Day_Pred</th>\n",
       "      <th>1_Day_Model_Return</th>\n",
       "      <th>3_Day_Pred</th>\n",
       "      <th>3_Day_Model_Return</th>\n",
       "      <th>5_Day_Pred</th>\n",
       "      <th>5_Day_Model_Return</th>\n",
       "      <th>Actual_Returns</th>\n",
       "    </tr>\n",
       "  </thead>\n",
       "  <tbody>\n",
       "    <tr>\n",
       "      <th>0</th>\n",
       "      <td>fslr</td>\n",
       "      <td>Hold or Sell</td>\n",
       "      <td>1.0408</td>\n",
       "      <td>Hold or Sell</td>\n",
       "      <td>1.1648</td>\n",
       "      <td>Hold or Sell</td>\n",
       "      <td>1.3019</td>\n",
       "      <td>-0.1482</td>\n",
       "    </tr>\n",
       "    <tr>\n",
       "      <th>1</th>\n",
       "      <td>goog</td>\n",
       "      <td>Hold or Sell</td>\n",
       "      <td>1.5994</td>\n",
       "      <td>Hold or Sell</td>\n",
       "      <td>1.4719</td>\n",
       "      <td>Hold or Sell</td>\n",
       "      <td>1.7833</td>\n",
       "      <td>6.2636</td>\n",
       "    </tr>\n",
       "    <tr>\n",
       "      <th>2</th>\n",
       "      <td>ibm</td>\n",
       "      <td>Hold or Sell</td>\n",
       "      <td>1.1771</td>\n",
       "      <td>Hold or Sell</td>\n",
       "      <td>1.5064</td>\n",
       "      <td>Hold or Sell</td>\n",
       "      <td>1.1814</td>\n",
       "      <td>35.3829</td>\n",
       "    </tr>\n",
       "    <tr>\n",
       "      <th>3</th>\n",
       "      <td>intc</td>\n",
       "      <td>Hold or Sell</td>\n",
       "      <td>3.5768</td>\n",
       "      <td>Hold or Sell</td>\n",
       "      <td>2.5723</td>\n",
       "      <td>Hold or Sell</td>\n",
       "      <td>3.6436</td>\n",
       "      <td>112.9282</td>\n",
       "    </tr>\n",
       "    <tr>\n",
       "      <th>4</th>\n",
       "      <td>iyw</td>\n",
       "      <td>Hold or Sell</td>\n",
       "      <td>1.9324</td>\n",
       "      <td>Hold or Sell</td>\n",
       "      <td>2.0447</td>\n",
       "      <td>Hold or Sell</td>\n",
       "      <td>1.6114</td>\n",
       "      <td>6.5152</td>\n",
       "    </tr>\n",
       "    <tr>\n",
       "      <th>5</th>\n",
       "      <td>ll</td>\n",
       "      <td>Hold or Sell</td>\n",
       "      <td>0.6304</td>\n",
       "      <td>Hold or Sell</td>\n",
       "      <td>0.5605</td>\n",
       "      <td>Hold or Sell</td>\n",
       "      <td>0.6441</td>\n",
       "      <td>-0.7632</td>\n",
       "    </tr>\n",
       "    <tr>\n",
       "      <th>6</th>\n",
       "      <td>lng</td>\n",
       "      <td>Hold or Sell</td>\n",
       "      <td>2.3808</td>\n",
       "      <td>Hold or Sell</td>\n",
       "      <td>1.8567</td>\n",
       "      <td>Hold or Sell</td>\n",
       "      <td>1.5788</td>\n",
       "      <td>36.8467</td>\n",
       "    </tr>\n",
       "    <tr>\n",
       "      <th>7</th>\n",
       "      <td>ma</td>\n",
       "      <td>Hold or Sell</td>\n",
       "      <td>1.0800</td>\n",
       "      <td>Hold or Sell</td>\n",
       "      <td>0.9169</td>\n",
       "      <td>Hold or Sell</td>\n",
       "      <td>0.8708</td>\n",
       "      <td>26.2956</td>\n",
       "    </tr>\n",
       "    <tr>\n",
       "      <th>8</th>\n",
       "      <td>mdb</td>\n",
       "      <td>Hold or Sell</td>\n",
       "      <td>0.4708</td>\n",
       "      <td>Hold or Sell</td>\n",
       "      <td>0.5552</td>\n",
       "      <td>Hold or Sell</td>\n",
       "      <td>0.5228</td>\n",
       "      <td>1.6258</td>\n",
       "    </tr>\n",
       "    <tr>\n",
       "      <th>9</th>\n",
       "      <td>msft</td>\n",
       "      <td>Hold or Sell</td>\n",
       "      <td>5.1748</td>\n",
       "      <td>Hold or Sell</td>\n",
       "      <td>5.6377</td>\n",
       "      <td>Hold or Sell</td>\n",
       "      <td>5.5889</td>\n",
       "      <td>200.6021</td>\n",
       "    </tr>\n",
       "    <tr>\n",
       "      <th>10</th>\n",
       "      <td>mu</td>\n",
       "      <td>Hold or Sell</td>\n",
       "      <td>1.9112</td>\n",
       "      <td>Hold or Sell</td>\n",
       "      <td>2.1630</td>\n",
       "      <td>Hold or Sell</td>\n",
       "      <td>1.4068</td>\n",
       "      <td>52.7616</td>\n",
       "    </tr>\n",
       "    <tr>\n",
       "      <th>11</th>\n",
       "      <td>nio</td>\n",
       "      <td>Hold or Sell</td>\n",
       "      <td>1.0848</td>\n",
       "      <td>Hold or Sell</td>\n",
       "      <td>1.1778</td>\n",
       "      <td>Hold or Sell</td>\n",
       "      <td>1.3436</td>\n",
       "      <td>3.0671</td>\n",
       "    </tr>\n",
       "    <tr>\n",
       "      <th>12</th>\n",
       "      <td>nvda</td>\n",
       "      <td>Hold or Sell</td>\n",
       "      <td>2.4135</td>\n",
       "      <td>Hold or Sell</td>\n",
       "      <td>2.4576</td>\n",
       "      <td>Hold or Sell</td>\n",
       "      <td>3.1571</td>\n",
       "      <td>222.2871</td>\n",
       "    </tr>\n",
       "    <tr>\n",
       "      <th>13</th>\n",
       "      <td>pypl</td>\n",
       "      <td>Hold or Sell</td>\n",
       "      <td>0.9626</td>\n",
       "      <td>Buy</td>\n",
       "      <td>0.9138</td>\n",
       "      <td>Buy</td>\n",
       "      <td>0.8721</td>\n",
       "      <td>0.9236</td>\n",
       "    </tr>\n",
       "    <tr>\n",
       "      <th>14</th>\n",
       "      <td>qgen</td>\n",
       "      <td>Hold or Sell</td>\n",
       "      <td>1.0955</td>\n",
       "      <td>Hold or Sell</td>\n",
       "      <td>1.3180</td>\n",
       "      <td>Hold or Sell</td>\n",
       "      <td>1.0197</td>\n",
       "      <td>-0.0277</td>\n",
       "    </tr>\n",
       "  </tbody>\n",
       "</table>\n",
       "</div>"
      ],
      "text/plain": [
       "   stock    1_Day_Pred  1_Day_Model_Return    3_Day_Pred  3_Day_Model_Return  \\\n",
       "0   fslr  Hold or Sell              1.0408  Hold or Sell              1.1648   \n",
       "1   goog  Hold or Sell              1.5994  Hold or Sell              1.4719   \n",
       "2    ibm  Hold or Sell              1.1771  Hold or Sell              1.5064   \n",
       "3   intc  Hold or Sell              3.5768  Hold or Sell              2.5723   \n",
       "4    iyw  Hold or Sell              1.9324  Hold or Sell              2.0447   \n",
       "5     ll  Hold or Sell              0.6304  Hold or Sell              0.5605   \n",
       "6    lng  Hold or Sell              2.3808  Hold or Sell              1.8567   \n",
       "7     ma  Hold or Sell              1.0800  Hold or Sell              0.9169   \n",
       "8    mdb  Hold or Sell              0.4708  Hold or Sell              0.5552   \n",
       "9   msft  Hold or Sell              5.1748  Hold or Sell              5.6377   \n",
       "10    mu  Hold or Sell              1.9112  Hold or Sell              2.1630   \n",
       "11   nio  Hold or Sell              1.0848  Hold or Sell              1.1778   \n",
       "12  nvda  Hold or Sell              2.4135  Hold or Sell              2.4576   \n",
       "13  pypl  Hold or Sell              0.9626           Buy              0.9138   \n",
       "14  qgen  Hold or Sell              1.0955  Hold or Sell              1.3180   \n",
       "\n",
       "      5_Day_Pred  5_Day_Model_Return  Actual_Returns  \n",
       "0   Hold or Sell              1.3019         -0.1482  \n",
       "1   Hold or Sell              1.7833          6.2636  \n",
       "2   Hold or Sell              1.1814         35.3829  \n",
       "3   Hold or Sell              3.6436        112.9282  \n",
       "4   Hold or Sell              1.6114          6.5152  \n",
       "5   Hold or Sell              0.6441         -0.7632  \n",
       "6   Hold or Sell              1.5788         36.8467  \n",
       "7   Hold or Sell              0.8708         26.2956  \n",
       "8   Hold or Sell              0.5228          1.6258  \n",
       "9   Hold or Sell              5.5889        200.6021  \n",
       "10  Hold or Sell              1.4068         52.7616  \n",
       "11  Hold or Sell              1.3436          3.0671  \n",
       "12  Hold or Sell              3.1571        222.2871  \n",
       "13           Buy              0.8721          0.9236  \n",
       "14  Hold or Sell              1.0197         -0.0277  "
      ]
     },
     "execution_count": 31,
     "metadata": {},
     "output_type": "execute_result"
    }
   ],
   "source": [
    "summary_df = a.pred_summary_df(start_dates2, stocks = [x for x in start_dates2], days_back = 1)\n",
    "summary_df"
   ]
  },
  {
   "cell_type": "code",
   "execution_count": 32,
   "metadata": {
    "scrolled": true
   },
   "outputs": [
    {
     "data": {
      "text/plain": [
       "(1.1771, 1.4719, 1.3436, 6.5152)"
      ]
     },
     "execution_count": 32,
     "metadata": {},
     "output_type": "execute_result"
    }
   ],
   "source": [
    "summary_df['1_Day_Model_Return'].median(), summary_df['3_Day_Model_Return'].median(), summary_df['5_Day_Model_Return'].median(), summary_df['Actual_Returns'].median()"
   ]
  },
  {
   "cell_type": "code",
   "execution_count": null,
   "metadata": {},
   "outputs": [],
   "source": []
  },
  {
   "cell_type": "code",
   "execution_count": 33,
   "metadata": {
    "scrolled": false
   },
   "outputs": [
    {
     "data": {
      "text/html": [
       "<div>\n",
       "<style scoped>\n",
       "    .dataframe tbody tr th:only-of-type {\n",
       "        vertical-align: middle;\n",
       "    }\n",
       "\n",
       "    .dataframe tbody tr th {\n",
       "        vertical-align: top;\n",
       "    }\n",
       "\n",
       "    .dataframe thead th {\n",
       "        text-align: right;\n",
       "    }\n",
       "</style>\n",
       "<table border=\"1\" class=\"dataframe\">\n",
       "  <thead>\n",
       "    <tr style=\"text-align: right;\">\n",
       "      <th></th>\n",
       "      <th>stock</th>\n",
       "      <th>1_Day_Pred</th>\n",
       "      <th>1_Day_Model_Return</th>\n",
       "      <th>3_Day_Pred</th>\n",
       "      <th>3_Day_Model_Return</th>\n",
       "      <th>5_Day_Pred</th>\n",
       "      <th>5_Day_Model_Return</th>\n",
       "      <th>Actual_Returns</th>\n",
       "    </tr>\n",
       "  </thead>\n",
       "  <tbody>\n",
       "    <tr>\n",
       "      <th>0</th>\n",
       "      <td>okta</td>\n",
       "      <td>Buy</td>\n",
       "      <td>0.5051</td>\n",
       "      <td>Buy</td>\n",
       "      <td>0.3624</td>\n",
       "      <td>Buy</td>\n",
       "      <td>0.8409</td>\n",
       "      <td>0.6827</td>\n",
       "    </tr>\n",
       "    <tr>\n",
       "      <th>1</th>\n",
       "      <td>orcl</td>\n",
       "      <td>Hold or Sell</td>\n",
       "      <td>2.8022</td>\n",
       "      <td>Hold or Sell</td>\n",
       "      <td>1.7661</td>\n",
       "      <td>Hold or Sell</td>\n",
       "      <td>2.5055</td>\n",
       "      <td>319.6782</td>\n",
       "    </tr>\n",
       "    <tr>\n",
       "      <th>2</th>\n",
       "      <td>qcom</td>\n",
       "      <td>Hold or Sell</td>\n",
       "      <td>2.2807</td>\n",
       "      <td>Hold or Sell</td>\n",
       "      <td>2.4298</td>\n",
       "      <td>Hold or Sell</td>\n",
       "      <td>2.9103</td>\n",
       "      <td>67.7229</td>\n",
       "    </tr>\n",
       "    <tr>\n",
       "      <th>3</th>\n",
       "      <td>qqq</td>\n",
       "      <td>Hold or Sell</td>\n",
       "      <td>1.8104</td>\n",
       "      <td>Hold or Sell</td>\n",
       "      <td>1.5824</td>\n",
       "      <td>Hold or Sell</td>\n",
       "      <td>2.0790</td>\n",
       "      <td>11.7837</td>\n",
       "    </tr>\n",
       "    <tr>\n",
       "      <th>4</th>\n",
       "      <td>srpt</td>\n",
       "      <td>Buy</td>\n",
       "      <td>0.4458</td>\n",
       "      <td>Hold or Sell</td>\n",
       "      <td>0.8218</td>\n",
       "      <td>Hold or Sell</td>\n",
       "      <td>0.8685</td>\n",
       "      <td>1.9186</td>\n",
       "    </tr>\n",
       "    <tr>\n",
       "      <th>5</th>\n",
       "      <td>tgt</td>\n",
       "      <td>Hold or Sell</td>\n",
       "      <td>1.3294</td>\n",
       "      <td>Hold or Sell</td>\n",
       "      <td>1.8908</td>\n",
       "      <td>Hold or Sell</td>\n",
       "      <td>1.5226</td>\n",
       "      <td>336.2615</td>\n",
       "    </tr>\n",
       "    <tr>\n",
       "      <th>6</th>\n",
       "      <td>tsla</td>\n",
       "      <td>Hold or Sell</td>\n",
       "      <td>0.4474</td>\n",
       "      <td>Hold or Sell</td>\n",
       "      <td>0.5071</td>\n",
       "      <td>Hold or Sell</td>\n",
       "      <td>0.6146</td>\n",
       "      <td>62.4719</td>\n",
       "    </tr>\n",
       "    <tr>\n",
       "      <th>7</th>\n",
       "      <td>tsm</td>\n",
       "      <td>Hold or Sell</td>\n",
       "      <td>3.3288</td>\n",
       "      <td>Hold or Sell</td>\n",
       "      <td>4.4384</td>\n",
       "      <td>Hold or Sell</td>\n",
       "      <td>3.4890</td>\n",
       "      <td>14.5124</td>\n",
       "    </tr>\n",
       "    <tr>\n",
       "      <th>8</th>\n",
       "      <td>v</td>\n",
       "      <td>Hold or Sell</td>\n",
       "      <td>0.9856</td>\n",
       "      <td>Hold or Sell</td>\n",
       "      <td>1.1351</td>\n",
       "      <td>Hold or Sell</td>\n",
       "      <td>1.0480</td>\n",
       "      <td>12.4395</td>\n",
       "    </tr>\n",
       "    <tr>\n",
       "      <th>9</th>\n",
       "      <td>vbiv</td>\n",
       "      <td>Hold or Sell</td>\n",
       "      <td>0.4314</td>\n",
       "      <td>Hold or Sell</td>\n",
       "      <td>0.3030</td>\n",
       "      <td>Hold or Sell</td>\n",
       "      <td>0.5278</td>\n",
       "      <td>-0.9786</td>\n",
       "    </tr>\n",
       "    <tr>\n",
       "      <th>10</th>\n",
       "      <td>vbr</td>\n",
       "      <td>Hold or Sell</td>\n",
       "      <td>1.9829</td>\n",
       "      <td>Hold or Sell</td>\n",
       "      <td>1.8565</td>\n",
       "      <td>Hold or Sell</td>\n",
       "      <td>1.8696</td>\n",
       "      <td>2.2538</td>\n",
       "    </tr>\n",
       "    <tr>\n",
       "      <th>11</th>\n",
       "      <td>viov</td>\n",
       "      <td>Hold or Sell</td>\n",
       "      <td>1.0741</td>\n",
       "      <td>Hold or Sell</td>\n",
       "      <td>1.1233</td>\n",
       "      <td>Hold or Sell</td>\n",
       "      <td>1.1903</td>\n",
       "      <td>2.0396</td>\n",
       "    </tr>\n",
       "    <tr>\n",
       "      <th>12</th>\n",
       "      <td>vgt</td>\n",
       "      <td>Hold or Sell</td>\n",
       "      <td>1.8695</td>\n",
       "      <td>Hold or Sell</td>\n",
       "      <td>1.7271</td>\n",
       "      <td>Hold or Sell</td>\n",
       "      <td>1.8323</td>\n",
       "      <td>6.2600</td>\n",
       "    </tr>\n",
       "    <tr>\n",
       "      <th>13</th>\n",
       "      <td>wmt</td>\n",
       "      <td>Hold or Sell</td>\n",
       "      <td>1.2502</td>\n",
       "      <td>Hold or Sell</td>\n",
       "      <td>1.0525</td>\n",
       "      <td>Hold or Sell</td>\n",
       "      <td>1.2871</td>\n",
       "      <td>2084.2450</td>\n",
       "    </tr>\n",
       "    <tr>\n",
       "      <th>14</th>\n",
       "      <td>xlk</td>\n",
       "      <td>Hold or Sell</td>\n",
       "      <td>1.9123</td>\n",
       "      <td>Hold or Sell</td>\n",
       "      <td>1.7588</td>\n",
       "      <td>Hold or Sell</td>\n",
       "      <td>1.7729</td>\n",
       "      <td>10.9463</td>\n",
       "    </tr>\n",
       "  </tbody>\n",
       "</table>\n",
       "</div>"
      ],
      "text/plain": [
       "   stock    1_Day_Pred  1_Day_Model_Return    3_Day_Pred  3_Day_Model_Return  \\\n",
       "0   okta           Buy              0.5051           Buy              0.3624   \n",
       "1   orcl  Hold or Sell              2.8022  Hold or Sell              1.7661   \n",
       "2   qcom  Hold or Sell              2.2807  Hold or Sell              2.4298   \n",
       "3    qqq  Hold or Sell              1.8104  Hold or Sell              1.5824   \n",
       "4   srpt           Buy              0.4458  Hold or Sell              0.8218   \n",
       "5    tgt  Hold or Sell              1.3294  Hold or Sell              1.8908   \n",
       "6   tsla  Hold or Sell              0.4474  Hold or Sell              0.5071   \n",
       "7    tsm  Hold or Sell              3.3288  Hold or Sell              4.4384   \n",
       "8      v  Hold or Sell              0.9856  Hold or Sell              1.1351   \n",
       "9   vbiv  Hold or Sell              0.4314  Hold or Sell              0.3030   \n",
       "10   vbr  Hold or Sell              1.9829  Hold or Sell              1.8565   \n",
       "11  viov  Hold or Sell              1.0741  Hold or Sell              1.1233   \n",
       "12   vgt  Hold or Sell              1.8695  Hold or Sell              1.7271   \n",
       "13   wmt  Hold or Sell              1.2502  Hold or Sell              1.0525   \n",
       "14   xlk  Hold or Sell              1.9123  Hold or Sell              1.7588   \n",
       "\n",
       "      5_Day_Pred  5_Day_Model_Return  Actual_Returns  \n",
       "0            Buy              0.8409          0.6827  \n",
       "1   Hold or Sell              2.5055        319.6782  \n",
       "2   Hold or Sell              2.9103         67.7229  \n",
       "3   Hold or Sell              2.0790         11.7837  \n",
       "4   Hold or Sell              0.8685          1.9186  \n",
       "5   Hold or Sell              1.5226        336.2615  \n",
       "6   Hold or Sell              0.6146         62.4719  \n",
       "7   Hold or Sell              3.4890         14.5124  \n",
       "8   Hold or Sell              1.0480         12.4395  \n",
       "9   Hold or Sell              0.5278         -0.9786  \n",
       "10  Hold or Sell              1.8696          2.2538  \n",
       "11  Hold or Sell              1.1903          2.0396  \n",
       "12  Hold or Sell              1.8323          6.2600  \n",
       "13  Hold or Sell              1.2871       2084.2450  \n",
       "14  Hold or Sell              1.7729         10.9463  "
      ]
     },
     "execution_count": 33,
     "metadata": {},
     "output_type": "execute_result"
    }
   ],
   "source": [
    "summary_df = a.pred_summary_df(start_dates3, stocks = [x for x in start_dates3], days_back = 1)\n",
    "summary_df"
   ]
  },
  {
   "cell_type": "code",
   "execution_count": 34,
   "metadata": {},
   "outputs": [
    {
     "data": {
      "text/plain": [
       "(1.3294, 1.5824, 1.5226, 11.7837)"
      ]
     },
     "execution_count": 34,
     "metadata": {},
     "output_type": "execute_result"
    }
   ],
   "source": [
    "summary_df['1_Day_Model_Return'].median(), summary_df['3_Day_Model_Return'].median(), summary_df['5_Day_Model_Return'].median(), summary_df['Actual_Returns'].median()"
   ]
  },
  {
   "cell_type": "code",
   "execution_count": null,
   "metadata": {},
   "outputs": [],
   "source": []
  },
  {
   "cell_type": "code",
   "execution_count": null,
   "metadata": {},
   "outputs": [],
   "source": []
  }
 ],
 "metadata": {
  "kernelspec": {
   "display_name": "Python 3",
   "language": "python",
   "name": "python3"
  },
  "language_info": {
   "codemirror_mode": {
    "name": "ipython",
    "version": 3
   },
   "file_extension": ".py",
   "mimetype": "text/x-python",
   "name": "python",
   "nbconvert_exporter": "python",
   "pygments_lexer": "ipython3",
   "version": "3.8.10"
  }
 },
 "nbformat": 4,
 "nbformat_minor": 4
}
