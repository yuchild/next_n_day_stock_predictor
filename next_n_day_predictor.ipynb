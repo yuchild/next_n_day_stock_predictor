{
 "cells": [
  {
   "cell_type": "code",
   "execution_count": 1,
   "metadata": {
    "scrolled": true
   },
   "outputs": [],
   "source": [
    "from src import attributes as a\n",
    "%load_ext autoreload\n",
    "%autoreload 2\n",
    "\n",
    "import warnings\n",
    "warnings.filterwarnings('ignore')"
   ]
  },
  {
   "cell_type": "code",
   "execution_count": 2,
   "metadata": {},
   "outputs": [],
   "source": [
    "# Global Variables\n",
    "stock_name = 'tsla' # ticker symbol\n",
    "train = 0 # 1 for train, 0 for pass\n",
    "days_ahead = 1 # for predicting 1, 3, or 5 days ahead\n",
    "days_back = -1 # -1 for current data point, -2 for two days ago, etc...\n",
    "cv = 5 # number of cross validation folds\n",
    "model_name = 'Random Forest Classifier' # for display on charts, not a tuning parameter"
   ]
  },
  {
   "cell_type": "code",
   "execution_count": 3,
   "metadata": {
    "scrolled": false
   },
   "outputs": [
    {
     "name": "stdout",
     "output_type": "stream",
     "text": [
      "1.3.5\n"
     ]
    }
   ],
   "source": [
    "import pandas\n",
    "print(pandas.__version__)"
   ]
  },
  {
   "cell_type": "code",
   "execution_count": 4,
   "metadata": {},
   "outputs": [],
   "source": [
    "# Extract, Transform, Load, and Train Test Split\n",
    "# Dictionary of IPO Dates\n",
    "start_dates = {'a': '11/15/1999' # Updated 4/26/21 1D, 3D, 5D ahead\n",
    "               , 'aapl': '12/12/1980' # Updated 11/8/21 1D, 3D, 5D ahead\n",
    "               #, 'acy': '01/18/1998' # Updated 4/26/21 1D, 3D, 5D ahead\n",
    "               , 'adbe': '08/11/1986' # Updated 11/8/21 1D, 3D, 5D ahead\n",
    "               #, 'alb': '02/21/1994' # Updated 4/26/21 1D, 3D, 5D ahead\n",
    "               , 'amat': '03/16/1980' # Updated 4/26/21 1D, 3D, 5D ahead\n",
    "               , 'amd': '03/17/1980' # Updated 11/23/21 1D, 3D, 5D ahead\n",
    "               , 'amgn': '06/13/1983' # Updated 4/26/21 1D, 3D, 5D ahead\n",
    "               , 'amzn': '05/12/1997' # Updated 11/07/21 1D, 3D, 5D ahead\n",
    "               , 'baba': '09/15/2014' # Updated 11/13/21 1D, 3D, 5D ahead\n",
    "               , 'bac': '02/19/1973' # Updated 4/26/21 1D, 3D, 5D ahead\n",
    "               , 'bby': '04/15/1985' # Updated 11/19/21 1D, 3D, 5D ahead\n",
    "               #, 'bpmc': '04/27/2015' # Updated 4/26/21 1D, 3D, 5D ahead\n",
    "               , 'brk-b': '05/06/1996' # Updated 4/25/23 1D, 3D, 5D ahead\n",
    "               , 'crm': '06/23/2004' # Updated 11/13/21 1D, 3D, 5D ahead\n",
    "               , 'crsp': '10/16/2016' # Updated 4/26/21 1D, 3D, 5D ahead\n",
    "               , 'cost': '07/07/1986' # Updated 11/23/21 1D, 3D, 5D ahead\n",
    "               , 'dis': '10/27/2014' # Updatd 11/5/21 1D, 3D, 5D ahead\n",
    "               #, 'dq': '10/04/2010' # Updated 4/26/21 1D, 3D, 5D ahead\n",
    "               , 'esgv': '09/16/2018' # Updated 4/26/21 1D, 3D, 5D ahead\n",
    "               , 'fslr': '11/12/2006' # Updated 4/26/21 1D, 3D, 5D ahead\n",
    "               , 'goog': '08/16/2004' # Updated 11/8/21 1D, 3D, 5D ahead\n",
    "               , 'ibm': '01/02/1962' # Updated 4/26/21 1D, 3D, 5D ahead\n",
    "               , 'intc': '03/16/1980' # Updated 11/13/21 1D, 3D, 5D ahead\n",
    "               , 'iyw': '05/15/2000' # Updated 11/21/21 1D, 3D, 5D ahead\n",
    "               , 'll': '11/05/2007' # Updated 11/22/21 1D, 3D, 5D ahead\n",
    "               , 'lng': '04/04/1994' # Updated 4/26/21 1D, 3D, 5D ahead\n",
    "               , 'ma': '05/21/2006' # Updated 4/26/21 1D, 3D, 5D ahead\n",
    "               # , 'mdb': '10/15/2017' # Updated 11/21/21 1D, 3D, 5D ahead\n",
    "               , 'msft': '03/10/1986' # Updated 11/8/21 1D, 3D, 5D ahead\n",
    "               , 'mu': '05/28/1984' # Updated 11/20/21 1D, 3D, 5D ahead\n",
    "               #, 'nee': '02/19/1973' # Updated 4/26/21 1D, 3D, 5D ahead\n",
    "               , 'nio': '09/10/2018' # Updated 4/26/21 1D, 3D, 5D ahead\n",
    "               , 'nvda': '01/22/1999' # Updated 11/17/21 1D, 3D, 5D ahead\n",
    "               #, 'pacb': '10/25/2010' # Updated 4/26/21 1D, 3D, 5D ahead\n",
    "               , 'pypl': '07/05/2015' # Updated 4/26/21 1D, 3D, 5D ahead\n",
    "               , 'qgen': '06/24/1996' # Updated 4/26/21 1D, 3D, 5D ahead\n",
    "               #, 'run': '08/02/2015' # Updated 4/26/21 1D, 3D, 5D ahead\n",
    "               , 'okta': '04/03/2017' # Updated 4/26/21 1D, 3D, 5D ahead\n",
    "               , 'orcl': '03/10/1986' # Updated 4/26/21 1D, 3D, 5D ahead\n",
    "               , 'qcom': '12/09/1991' # Updated 11/20/21 1D, 3D, 5D ahead\n",
    "               , 'qqq': '03/08/1999' # Updated 4/26/21 1D, 3D, 5D ahead\n",
    "               , 'srpt': '06/02/1997' # Updated 4/26/21 1D, 3D, 5D ahead\n",
    "               , 'tgt': '02/19/1973' # Updated 11/22/21 1D, 3D, 5D ahead\n",
    "               #, 'tpic': '07/17/2016' # Updated 4/26/21 1D, 3D, 5D ahead\n",
    "               , 'tsla': '06/29/2010' # Updated 11/07/21 1D, 3D, 5D ahead\n",
    "               , 'tsm': '10/06/1997' # Updated 11/20/21 1D, 3D, 5D ahead\n",
    "               , 'v': '03/16/2008' # Updated 11/22/21 1D, 3D, 5D ahead\n",
    "               , 'vbiv': '09/04/2002' # Updated 4/26/21 1D, 3D, 5D ahead\n",
    "               , 'vbr': '01/26/2004' # Updated 11/20/21 1D, 3D, 5D ahead\n",
    "               , 'viov': '09/06/2010' # Updated 4/26/21 1D, 3D, 5D ahead\n",
    "               , 'vgt': '01/26/2004' # Updated 11/07/21 1D, 3D, 5D ahead\n",
    "               , 'wmt': '11/10/2014' # Updated 11/16/21 1D, 3D, 5D ahead\n",
    "               , 'xlk': '12/21/1998' # Updated 11/21/21 1D, 3D, 5D ahead\n",
    "              }"
   ]
  },
  {
   "cell_type": "markdown",
   "metadata": {},
   "source": [
    "### Get Data..."
   ]
  },
  {
   "cell_type": "code",
   "execution_count": 5,
   "metadata": {
    "scrolled": false
   },
   "outputs": [
    {
     "name": "stdout",
     "output_type": "stream",
     "text": [
      "Today's date: 2023-05-18\n",
      "Table Updates Complete\n",
      "Current Time:  22:15:19\n"
     ]
    }
   ],
   "source": [
    "from datetime import date, datetime\n",
    "today = date.today()\n",
    "print(\"Today's date:\", today)\n",
    "a.get_tables(start_dates) # commented out for 2021-12-19, data already downloaded for weekend\n",
    "print('Table Updates Complete')\n",
    "now = datetime.now()\n",
    "current_time = now.strftime(\"%H:%M:%S\")\n",
    "print(\"Current Time: \", current_time)"
   ]
  },
  {
   "cell_type": "code",
   "execution_count": 6,
   "metadata": {},
   "outputs": [],
   "source": [
    "# Load RandomForextClassifier Model\n",
    "# rfc_model, y_pred, y_probs = a.rfc(X_train, X_test, y_train, stock_name, days_ahead)"
   ]
  },
  {
   "cell_type": "code",
   "execution_count": 7,
   "metadata": {
    "scrolled": false
   },
   "outputs": [],
   "source": [
    "# ROC Curve\n",
    "# a.roc_plot(y_test, y_probs, stock_name, model_name)"
   ]
  },
  {
   "cell_type": "code",
   "execution_count": 8,
   "metadata": {
    "scrolled": false
   },
   "outputs": [],
   "source": [
    "# Precision Recall Curve\n",
    "# a.prec_recall(y_test, y_probs, stock_name, model_name)"
   ]
  },
  {
   "cell_type": "code",
   "execution_count": 9,
   "metadata": {
    "scrolled": false
   },
   "outputs": [],
   "source": [
    "# Confusion Matrix\n",
    "# a.confusion_matrix(rfc_model, X_test, y_test, stock_name)"
   ]
  },
  {
   "cell_type": "code",
   "execution_count": 10,
   "metadata": {},
   "outputs": [],
   "source": [
    "# Cross Validation\n",
    "# a.cross_validation(rfc_model\n",
    "#                    , stock_df[['oc', 'hl', '5stdev_adj', '5sma_adj']]\n",
    "#                    , stock_df['direction']\n",
    "#                    , cv = 5\n",
    "#                   )"
   ]
  },
  {
   "cell_type": "markdown",
   "metadata": {},
   "source": [
    "### Prediction..."
   ]
  },
  {
   "cell_type": "code",
   "execution_count": 11,
   "metadata": {
    "scrolled": true
   },
   "outputs": [],
   "source": [
    "# Prediction, use last day of data\n",
    "# stock_df.iloc[-1]"
   ]
  },
  {
   "cell_type": "code",
   "execution_count": 12,
   "metadata": {},
   "outputs": [],
   "source": [
    "# import numpy as np\n",
    "# last = stock_df[['oc', 'hl', '5stdev_adj', '5sma_adj']].iloc[-days_back]\n",
    "# last"
   ]
  },
  {
   "cell_type": "code",
   "execution_count": 13,
   "metadata": {},
   "outputs": [],
   "source": [
    "# stock_df['adj'].describe()"
   ]
  },
  {
   "cell_type": "code",
   "execution_count": 14,
   "metadata": {
    "scrolled": true
   },
   "outputs": [],
   "source": [
    "# if rfc_model.predict(np.array(last).reshape(1, -1))[0] == 1:\n",
    "#     print(f'Buy {stock_name} {days_ahead} day(s) ahead')\n",
    "# else:\n",
    "#     print(f'Sell or hold {stock_name} {days_ahead} day(s) ahead')"
   ]
  },
  {
   "cell_type": "markdown",
   "metadata": {},
   "source": [
    "### Strategy Returns..."
   ]
  },
  {
   "cell_type": "code",
   "execution_count": 15,
   "metadata": {},
   "outputs": [],
   "source": [
    "# returns on strategy column\n",
    "# stock_df['prediction'] = rfc_model.predict(stock_df[['oc', 'hl', '5stdev_adj', '5sma_adj']])\n",
    "# stock_df['returns'] = stock_df['adj'].shift(-1, fill_value = stock_df['adj'].median()) * stock_df['prediction']"
   ]
  },
  {
   "cell_type": "code",
   "execution_count": 16,
   "metadata": {},
   "outputs": [],
   "source": [
    "# stock_df.tail(5)"
   ]
  },
  {
   "cell_type": "code",
   "execution_count": 17,
   "metadata": {},
   "outputs": [],
   "source": [
    "# Don't trade every day!\n",
    "# import matplotlib.pyplot as plt\n",
    "# test_length = len(y_test)\n",
    "# (stock_df['returns'][-test_length:] + 1).cumprod().plot()\n",
    "# plt.title(f'{stock_name} Expected Returns %');"
   ]
  },
  {
   "cell_type": "code",
   "execution_count": 18,
   "metadata": {},
   "outputs": [],
   "source": [
    "# Model returns if bought on predictions of 1\n",
    "# returns_on_ones = []\n",
    "# for idx in range(-test_length, 0):\n",
    "#     if stock_df['prediction'][idx] == 1:\n",
    "#         returns_on_ones.append(1 + stock_df['returns'][idx])\n",
    "\n",
    "# returns = 1\n",
    "# for x in returns_on_ones:\n",
    "#     returns *= x\n",
    "# returns"
   ]
  },
  {
   "cell_type": "code",
   "execution_count": 19,
   "metadata": {},
   "outputs": [],
   "source": [
    "# multiple times original investment, not bad but..."
   ]
  },
  {
   "cell_type": "code",
   "execution_count": 20,
   "metadata": {},
   "outputs": [],
   "source": [
    "# If purchased in 2012 and left it until now\n",
    "# test_idx = int(len(stock_df)*0.75)\n",
    "# (stock_df['Close'][-1] - stock_df['Close'][-test_idx]) / stock_df['Close'][-test_idx]"
   ]
  },
  {
   "cell_type": "code",
   "execution_count": 21,
   "metadata": {},
   "outputs": [],
   "source": [
    "# Buy and hold strategy beats RandomForestClassifier in this study\n",
    "\n",
    "# Special thanks to Shagufta Tahsildar at https://blog.quantinsti.com/random-forest-algorithm-in-python/"
   ]
  },
  {
   "cell_type": "code",
   "execution_count": null,
   "metadata": {},
   "outputs": [],
   "source": []
  },
  {
   "cell_type": "code",
   "execution_count": null,
   "metadata": {},
   "outputs": [],
   "source": []
  },
  {
   "cell_type": "code",
   "execution_count": null,
   "metadata": {},
   "outputs": [],
   "source": []
  },
  {
   "cell_type": "markdown",
   "metadata": {},
   "source": [
    "### Training"
   ]
  },
  {
   "cell_type": "markdown",
   "metadata": {},
   "source": [
    "Training is done once a week on Saturday and Sunday"
   ]
  },
  {
   "cell_type": "code",
   "execution_count": 22,
   "metadata": {},
   "outputs": [
    {
     "data": {
      "text/plain": [
       "45"
      ]
     },
     "execution_count": 22,
     "metadata": {},
     "output_type": "execute_result"
    }
   ],
   "source": [
    "len(start_dates)"
   ]
  },
  {
   "cell_type": "code",
   "execution_count": 23,
   "metadata": {},
   "outputs": [
    {
     "data": {
      "text/plain": [
       "{'a': '11/15/1999',\n",
       " 'aapl': '12/12/1980',\n",
       " 'adbe': '08/11/1986',\n",
       " 'amat': '03/16/1980',\n",
       " 'amd': '03/17/1980',\n",
       " 'amgn': '06/13/1983',\n",
       " 'amzn': '05/12/1997',\n",
       " 'baba': '09/15/2014',\n",
       " 'bac': '02/19/1973',\n",
       " 'bby': '04/15/1985',\n",
       " 'brk-b': '05/06/1996',\n",
       " 'crm': '06/23/2004',\n",
       " 'crsp': '10/16/2016',\n",
       " 'cost': '07/07/1986',\n",
       " 'dis': '10/27/2014'}"
      ]
     },
     "execution_count": 23,
     "metadata": {},
     "output_type": "execute_result"
    }
   ],
   "source": [
    "import itertools as itr\n",
    "start_dates1 = dict(itr.islice(start_dates.items(), 0, 15))\n",
    "start_dates1"
   ]
  },
  {
   "cell_type": "code",
   "execution_count": 24,
   "metadata": {},
   "outputs": [
    {
     "data": {
      "text/plain": [
       "{'esgv': '09/16/2018',\n",
       " 'fslr': '11/12/2006',\n",
       " 'goog': '08/16/2004',\n",
       " 'ibm': '01/02/1962',\n",
       " 'intc': '03/16/1980',\n",
       " 'iyw': '05/15/2000',\n",
       " 'll': '11/05/2007',\n",
       " 'lng': '04/04/1994',\n",
       " 'ma': '05/21/2006',\n",
       " 'msft': '03/10/1986',\n",
       " 'mu': '05/28/1984',\n",
       " 'nio': '09/10/2018',\n",
       " 'nvda': '01/22/1999',\n",
       " 'pypl': '07/05/2015',\n",
       " 'qgen': '06/24/1996'}"
      ]
     },
     "execution_count": 24,
     "metadata": {},
     "output_type": "execute_result"
    }
   ],
   "source": [
    "start_dates2 = dict(itr.islice(start_dates.items(), 15, 30))\n",
    "start_dates2"
   ]
  },
  {
   "cell_type": "code",
   "execution_count": 25,
   "metadata": {},
   "outputs": [
    {
     "data": {
      "text/plain": [
       "{'okta': '04/03/2017',\n",
       " 'orcl': '03/10/1986',\n",
       " 'qcom': '12/09/1991',\n",
       " 'qqq': '03/08/1999',\n",
       " 'srpt': '06/02/1997',\n",
       " 'tgt': '02/19/1973',\n",
       " 'tsla': '06/29/2010',\n",
       " 'tsm': '10/06/1997',\n",
       " 'v': '03/16/2008',\n",
       " 'vbiv': '09/04/2002',\n",
       " 'vbr': '01/26/2004',\n",
       " 'viov': '09/06/2010',\n",
       " 'vgt': '01/26/2004',\n",
       " 'wmt': '11/10/2014',\n",
       " 'xlk': '12/21/1998'}"
      ]
     },
     "execution_count": 25,
     "metadata": {},
     "output_type": "execute_result"
    }
   ],
   "source": [
    "start_dates3 = dict(itr.islice(start_dates.items(), 30, 45+1))\n",
    "start_dates3"
   ]
  },
  {
   "cell_type": "code",
   "execution_count": 26,
   "metadata": {
    "scrolled": false
   },
   "outputs": [],
   "source": [
    "# from datetime import datetime\n",
    "\n",
    "# now = datetime.now()\n",
    "\n",
    "# current_time = now.strftime(\"%H:%M:%S\")\n",
    "# print(\"Gridsearch Start Date: \", today)\n",
    "# print(\"Current Time: \", current_time)\n",
    "\n",
    "#Train 15 at a time!\n",
    "# stocks = [x for x in start_dates1]\n",
    "# days_ahead = [1, 3, 5]\n",
    "# cv = 5\n",
    "# for stock in stocks:\n",
    "#     for days in days_ahead:\n",
    "#         X_train, X_test, y_train, y_test, stock_df = a.data(stock, start_dates[stock], days)\n",
    "#         a.rfc_GridSearch(X_train, y_train, stock, days, cv)\n",
    "# len(stocks)\n",
    "\n",
    "# Next on training for Saturday 4/17/2021\n",
    "# stocks = [x for x in start_dates2]\n",
    "# days_ahead = [1, 3, 5]\n",
    "# cv = 5\n",
    "# for stock in stocks:\n",
    "#     for days in days_ahead:\n",
    "#         X_train, X_test, y_train, y_test, stock_df = a.data(stock, start_dates[stock], days)\n",
    "#         a.rfc_GridSearch(X_train, y_train, stock, days, cv)\n",
    "# len(stocks)\n",
    "\n",
    "# Next on training for Saturday 4/17/2021\n",
    "# stocks = [x for x in start_dates3]\n",
    "# days_ahead = [1, 3, 5]\n",
    "# cv = 5\n",
    "# for stock in stocks:\n",
    "#     for days in days_ahead:\n",
    "#         X_train, X_test, y_train, y_test, stock_df = a.data(stock, start_dates[stock], days)\n",
    "#         a.rfc_GridSearch(X_train, y_train, stock, days, cv)\n",
    "# len(stocks)\n",
    "\n",
    "# # Train all, takes 15+ hours\n",
    "# stocks = [x for x in start_dates]\n",
    "# days_ahead = [1, 3, 5]\n",
    "# cv = 5\n",
    "# for stock in stocks:\n",
    "#     for days in days_ahead:\n",
    "#         X_train, X_test, y_train, y_test, stock_df = a.data(stock, start_dates[stock], days)\n",
    "#         a.rfc_GridSearch(X_train, y_train, stock, days, cv)\n",
    "# len(stocks)\n",
    "\n",
    "# Train desired stocks...takes less time (4 will take 15.5 hours, each stock is roughly 2.5-4 hours to train)\n",
    "# 3 will take 7.5 hours, roughly 2.5 hours per stock trained\n",
    "# to train: ['cost']\n",
    "\n",
    "# import timeit \n",
    "# stocks = ['brk-b'] # updated 2023-01-24 (10:30pm - 2:30pm ~14hours)\n",
    "# days_ahead = [1, 3, 5] \n",
    "# cv = 3 # was 5 \n",
    "# for stock in stocks:\n",
    "#     for days in days_ahead:\n",
    "#         X_train, X_test, y_train, y_test, stock_df = a.data(stock, start_dates[stock], days)\n",
    "#         %timeit a.rfc_GridSearch(X_train, y_train, stock, days, cv)\n",
    "\n",
    "# now = datetime.now()\n",
    "\n",
    "# current_time = now.strftime(\"%H:%M:%S\")\n",
    "# print(\"Gridsearch End Date: \", today)\n",
    "# print(\"Current Time: \", current_time)"
   ]
  },
  {
   "cell_type": "code",
   "execution_count": null,
   "metadata": {},
   "outputs": [],
   "source": []
  },
  {
   "cell_type": "code",
   "execution_count": null,
   "metadata": {},
   "outputs": [],
   "source": []
  },
  {
   "cell_type": "code",
   "execution_count": null,
   "metadata": {},
   "outputs": [],
   "source": []
  },
  {
   "cell_type": "markdown",
   "metadata": {},
   "source": [
    "### Display All Results"
   ]
  },
  {
   "cell_type": "markdown",
   "metadata": {},
   "source": [
    "**NOTE:** Returns include buying ups and selling downs"
   ]
  },
  {
   "cell_type": "code",
   "execution_count": 27,
   "metadata": {},
   "outputs": [
    {
     "name": "stdout",
     "output_type": "stream",
     "text": [
      "Today's date: 2023-05-18\n",
      "Current Time:  22:15:20\n"
     ]
    }
   ],
   "source": [
    "from datetime import date, datetime\n",
    "today = date.today()\n",
    "print(\"Today's date:\", today)\n",
    "now = datetime.now()\n",
    "current_time = now.strftime(\"%H:%M:%S\")\n",
    "print(\"Current Time: \", current_time)"
   ]
  },
  {
   "cell_type": "code",
   "execution_count": 28,
   "metadata": {
    "scrolled": false
   },
   "outputs": [
    {
     "name": "stdout",
     "output_type": "stream",
     "text": [
      "Sell or hold goog 1 day(s) ahead\n",
      "Model Returns (x 100 for %): 1.354\n",
      "Stock Returns (x 100 for %): 8.1275\n"
     ]
    },
    {
     "data": {
      "image/png": "[encoded data removed]",
      "text/plain": [
       "<Figure size 432x288 with 1 Axes>"
      ]
     },
     "metadata": {},
     "output_type": "display_data"
    },
    {
     "data": {
      "image/png": "[encoded data removed]",
      "text/plain": [
       "<Figure size 648x504 with 1 Axes>"
      ]
     },
     "metadata": {},
     "output_type": "display_data"
    },
    {
     "data": {
      "image/png": "[encoded data removed]",
      "text/plain": [
       "<Figure size 648x504 with 1 Axes>"
      ]
     },
     "metadata": {},
     "output_type": "display_data"
    },
    {
     "data": {
      "image/png": "[encoded data removed]",
      "text/plain": [
       "<Figure size 684x612 with 2 Axes>"
      ]
     },
     "metadata": {},
     "output_type": "display_data"
    }
   ],
   "source": [
    "stock_name = 'goog'\n",
    "a.all_func(stock_name\n",
    "           , start_dates[stock_name]\n",
    "           , days_ahead = 1\n",
    "           , model_name = model_name\n",
    "           , days_back = 1\n",
    "          )"
   ]
  },
  {
   "cell_type": "code",
   "execution_count": null,
   "metadata": {},
   "outputs": [],
   "source": []
  },
  {
   "cell_type": "code",
   "execution_count": null,
   "metadata": {},
   "outputs": [],
   "source": []
  },
  {
   "cell_type": "code",
   "execution_count": null,
   "metadata": {},
   "outputs": [],
   "source": []
  },
  {
   "cell_type": "markdown",
   "metadata": {},
   "source": [
    "### Data Frame of Predictions 1 3 5 Days"
   ]
  },
  {
   "cell_type": "markdown",
   "metadata": {},
   "source": [
    "**NOTE:** Returns are for buys only."
   ]
  },
  {
   "cell_type": "code",
   "execution_count": 29,
   "metadata": {
    "scrolled": true
   },
   "outputs": [
    {
     "name": "stdout",
     "output_type": "stream",
     "text": [
      "Today's date: 2023-05-18\n",
      "Current Time = 22:15:20\n"
     ]
    }
   ],
   "source": [
    "print(\"Today's date:\", today)\n",
    "print(\"Current Time =\", current_time)"
   ]
  },
  {
   "cell_type": "code",
   "execution_count": 30,
   "metadata": {
    "scrolled": false
   },
   "outputs": [
    {
     "data": {
      "text/html": [
       "<div>\n",
       "<style scoped>\n",
       "    .dataframe tbody tr th:only-of-type {\n",
       "        vertical-align: middle;\n",
       "    }\n",
       "\n",
       "    .dataframe tbody tr th {\n",
       "        vertical-align: top;\n",
       "    }\n",
       "\n",
       "    .dataframe thead th {\n",
       "        text-align: right;\n",
       "    }\n",
       "</style>\n",
       "<table border=\"1\" class=\"dataframe\">\n",
       "  <thead>\n",
       "    <tr style=\"text-align: right;\">\n",
       "      <th></th>\n",
       "      <th>stock</th>\n",
       "      <th>1_Day_Pred</th>\n",
       "      <th>1_Day_Model_Return</th>\n",
       "      <th>3_Day_Pred</th>\n",
       "      <th>3_Day_Model_Return</th>\n",
       "      <th>5_Day_Pred</th>\n",
       "      <th>5_Day_Model_Return</th>\n",
       "      <th>Actual_Returns</th>\n",
       "    </tr>\n",
       "  </thead>\n",
       "  <tbody>\n",
       "    <tr>\n",
       "      <th>0</th>\n",
       "      <td>a</td>\n",
       "      <td>Hold or Sell</td>\n",
       "      <td>1.8401</td>\n",
       "      <td>Hold or Sell</td>\n",
       "      <td>1.8211</td>\n",
       "      <td>Hold or Sell</td>\n",
       "      <td>1.8108</td>\n",
       "      <td>9.8265</td>\n",
       "    </tr>\n",
       "    <tr>\n",
       "      <th>1</th>\n",
       "      <td>aapl</td>\n",
       "      <td>Hold or Sell</td>\n",
       "      <td>3.1635</td>\n",
       "      <td>Hold or Sell</td>\n",
       "      <td>3.1070</td>\n",
       "      <td>Hold or Sell</td>\n",
       "      <td>2.9035</td>\n",
       "      <td>643.8608</td>\n",
       "    </tr>\n",
       "    <tr>\n",
       "      <th>2</th>\n",
       "      <td>adbe</td>\n",
       "      <td>Hold or Sell</td>\n",
       "      <td>3.1802</td>\n",
       "      <td>Hold or Sell</td>\n",
       "      <td>3.0769</td>\n",
       "      <td>Hold or Sell</td>\n",
       "      <td>2.9357</td>\n",
       "      <td>118.0240</td>\n",
       "    </tr>\n",
       "    <tr>\n",
       "      <th>3</th>\n",
       "      <td>amat</td>\n",
       "      <td>Hold or Sell</td>\n",
       "      <td>8.4656</td>\n",
       "      <td>Hold or Sell</td>\n",
       "      <td>8.3259</td>\n",
       "      <td>Hold or Sell</td>\n",
       "      <td>7.9424</td>\n",
       "      <td>1209.7385</td>\n",
       "    </tr>\n",
       "    <tr>\n",
       "      <th>4</th>\n",
       "      <td>amd</td>\n",
       "      <td>Hold or Sell</td>\n",
       "      <td>4.9411</td>\n",
       "      <td>Hold or Sell</td>\n",
       "      <td>7.2685</td>\n",
       "      <td>Hold or Sell</td>\n",
       "      <td>6.8540</td>\n",
       "      <td>12.0824</td>\n",
       "    </tr>\n",
       "    <tr>\n",
       "      <th>5</th>\n",
       "      <td>amgn</td>\n",
       "      <td>Buy</td>\n",
       "      <td>1.6297</td>\n",
       "      <td>Buy</td>\n",
       "      <td>1.4795</td>\n",
       "      <td>Buy</td>\n",
       "      <td>1.4750</td>\n",
       "      <td>329.4312</td>\n",
       "    </tr>\n",
       "    <tr>\n",
       "      <th>6</th>\n",
       "      <td>amzn</td>\n",
       "      <td>Hold or Sell</td>\n",
       "      <td>1.0817</td>\n",
       "      <td>Hold or Sell</td>\n",
       "      <td>0.8451</td>\n",
       "      <td>Hold or Sell</td>\n",
       "      <td>1.0987</td>\n",
       "      <td>140.0746</td>\n",
       "    </tr>\n",
       "    <tr>\n",
       "      <th>7</th>\n",
       "      <td>baba</td>\n",
       "      <td>Buy</td>\n",
       "      <td>0.7976</td>\n",
       "      <td>Buy</td>\n",
       "      <td>0.8129</td>\n",
       "      <td>Buy</td>\n",
       "      <td>0.6628</td>\n",
       "      <td>0.3520</td>\n",
       "    </tr>\n",
       "    <tr>\n",
       "      <th>8</th>\n",
       "      <td>bac</td>\n",
       "      <td>Hold or Sell</td>\n",
       "      <td>1.7101</td>\n",
       "      <td>Hold or Sell</td>\n",
       "      <td>1.2027</td>\n",
       "      <td>Buy</td>\n",
       "      <td>2.0133</td>\n",
       "      <td>44.6154</td>\n",
       "    </tr>\n",
       "    <tr>\n",
       "      <th>9</th>\n",
       "      <td>bby</td>\n",
       "      <td>Buy</td>\n",
       "      <td>0.6510</td>\n",
       "      <td>Buy</td>\n",
       "      <td>0.7507</td>\n",
       "      <td>Buy</td>\n",
       "      <td>0.7057</td>\n",
       "      <td>480.5687</td>\n",
       "    </tr>\n",
       "    <tr>\n",
       "      <th>10</th>\n",
       "      <td>brk-b</td>\n",
       "      <td>Hold or Sell</td>\n",
       "      <td>1.2868</td>\n",
       "      <td>Hold or Sell</td>\n",
       "      <td>1.5393</td>\n",
       "      <td>Hold or Sell</td>\n",
       "      <td>1.1963</td>\n",
       "      <td>7.9657</td>\n",
       "    </tr>\n",
       "    <tr>\n",
       "      <th>11</th>\n",
       "      <td>crm</td>\n",
       "      <td>Hold or Sell</td>\n",
       "      <td>0.5484</td>\n",
       "      <td>Hold or Sell</td>\n",
       "      <td>0.6563</td>\n",
       "      <td>Hold or Sell</td>\n",
       "      <td>0.5524</td>\n",
       "      <td>16.8660</td>\n",
       "    </tr>\n",
       "    <tr>\n",
       "      <th>12</th>\n",
       "      <td>crsp</td>\n",
       "      <td>Buy</td>\n",
       "      <td>1.2323</td>\n",
       "      <td>Buy</td>\n",
       "      <td>1.3052</td>\n",
       "      <td>Buy</td>\n",
       "      <td>1.1352</td>\n",
       "      <td>2.7434</td>\n",
       "    </tr>\n",
       "    <tr>\n",
       "      <th>13</th>\n",
       "      <td>cost</td>\n",
       "      <td>Hold or Sell</td>\n",
       "      <td>2.5537</td>\n",
       "      <td>Hold or Sell</td>\n",
       "      <td>2.3480</td>\n",
       "      <td>Hold or Sell</td>\n",
       "      <td>2.0669</td>\n",
       "      <td>57.3407</td>\n",
       "    </tr>\n",
       "    <tr>\n",
       "      <th>14</th>\n",
       "      <td>dis</td>\n",
       "      <td>Hold or Sell</td>\n",
       "      <td>1.3723</td>\n",
       "      <td>Hold or Sell</td>\n",
       "      <td>1.4460</td>\n",
       "      <td>Hold or Sell</td>\n",
       "      <td>1.4128</td>\n",
       "      <td>110.2363</td>\n",
       "    </tr>\n",
       "  </tbody>\n",
       "</table>\n",
       "</div>"
      ],
      "text/plain": [
       "    stock    1_Day_Pred  1_Day_Model_Return    3_Day_Pred  3_Day_Model_Return  \\\n",
       "0       a  Hold or Sell              1.8401  Hold or Sell              1.8211   \n",
       "1    aapl  Hold or Sell              3.1635  Hold or Sell              3.1070   \n",
       "2    adbe  Hold or Sell              3.1802  Hold or Sell              3.0769   \n",
       "3    amat  Hold or Sell              8.4656  Hold or Sell              8.3259   \n",
       "4     amd  Hold or Sell              4.9411  Hold or Sell              7.2685   \n",
       "5    amgn           Buy              1.6297           Buy              1.4795   \n",
       "6    amzn  Hold or Sell              1.0817  Hold or Sell              0.8451   \n",
       "7    baba           Buy              0.7976           Buy              0.8129   \n",
       "8     bac  Hold or Sell              1.7101  Hold or Sell              1.2027   \n",
       "9     bby           Buy              0.6510           Buy              0.7507   \n",
       "10  brk-b  Hold or Sell              1.2868  Hold or Sell              1.5393   \n",
       "11    crm  Hold or Sell              0.5484  Hold or Sell              0.6563   \n",
       "12   crsp           Buy              1.2323           Buy              1.3052   \n",
       "13   cost  Hold or Sell              2.5537  Hold or Sell              2.3480   \n",
       "14    dis  Hold or Sell              1.3723  Hold or Sell              1.4460   \n",
       "\n",
       "      5_Day_Pred  5_Day_Model_Return  Actual_Returns  \n",
       "0   Hold or Sell              1.8108          9.8265  \n",
       "1   Hold or Sell              2.9035        643.8608  \n",
       "2   Hold or Sell              2.9357        118.0240  \n",
       "3   Hold or Sell              7.9424       1209.7385  \n",
       "4   Hold or Sell              6.8540         12.0824  \n",
       "5            Buy              1.4750        329.4312  \n",
       "6   Hold or Sell              1.0987        140.0746  \n",
       "7            Buy              0.6628          0.3520  \n",
       "8            Buy              2.0133         44.6154  \n",
       "9            Buy              0.7057        480.5687  \n",
       "10  Hold or Sell              1.1963          7.9657  \n",
       "11  Hold or Sell              0.5524         16.8660  \n",
       "12           Buy              1.1352          2.7434  \n",
       "13  Hold or Sell              2.0669         57.3407  \n",
       "14  Hold or Sell              1.4128        110.2363  "
      ]
     },
     "execution_count": 30,
     "metadata": {},
     "output_type": "execute_result"
    }
   ],
   "source": [
    "summary_df = a.pred_summary_df(start_dates1, stocks = [x for x in start_dates1], days_back = 1)\n",
    "summary_df"
   ]
  },
  {
   "cell_type": "code",
   "execution_count": 31,
   "metadata": {},
   "outputs": [
    {
     "data": {
      "text/plain": [
       "(1.6297, 1.4795, 1.475, 57.3407)"
      ]
     },
     "execution_count": 31,
     "metadata": {},
     "output_type": "execute_result"
    }
   ],
   "source": [
    "summary_df['1_Day_Model_Return'].median(), summary_df['3_Day_Model_Return'].median(), summary_df['5_Day_Model_Return'].median(), summary_df['Actual_Returns'].median()"
   ]
  },
  {
   "cell_type": "code",
   "execution_count": null,
   "metadata": {},
   "outputs": [],
   "source": []
  },
  {
   "cell_type": "code",
   "execution_count": 32,
   "metadata": {
    "scrolled": false
   },
   "outputs": [
    {
     "data": {
      "text/html": [
       "<div>\n",
       "<style scoped>\n",
       "    .dataframe tbody tr th:only-of-type {\n",
       "        vertical-align: middle;\n",
       "    }\n",
       "\n",
       "    .dataframe tbody tr th {\n",
       "        vertical-align: top;\n",
       "    }\n",
       "\n",
       "    .dataframe thead th {\n",
       "        text-align: right;\n",
       "    }\n",
       "</style>\n",
       "<table border=\"1\" class=\"dataframe\">\n",
       "  <thead>\n",
       "    <tr style=\"text-align: right;\">\n",
       "      <th></th>\n",
       "      <th>stock</th>\n",
       "      <th>1_Day_Pred</th>\n",
       "      <th>1_Day_Model_Return</th>\n",
       "      <th>3_Day_Pred</th>\n",
       "      <th>3_Day_Model_Return</th>\n",
       "      <th>5_Day_Pred</th>\n",
       "      <th>5_Day_Model_Return</th>\n",
       "      <th>Actual_Returns</th>\n",
       "    </tr>\n",
       "  </thead>\n",
       "  <tbody>\n",
       "    <tr>\n",
       "      <th>0</th>\n",
       "      <td>esgv</td>\n",
       "      <td>Hold or Sell</td>\n",
       "      <td>1.1083</td>\n",
       "      <td>Hold or Sell</td>\n",
       "      <td>1.0674</td>\n",
       "      <td>Hold or Sell</td>\n",
       "      <td>1.0877</td>\n",
       "      <td>0.4994</td>\n",
       "    </tr>\n",
       "    <tr>\n",
       "      <th>1</th>\n",
       "      <td>fslr</td>\n",
       "      <td>Buy</td>\n",
       "      <td>1.2185</td>\n",
       "      <td>Buy</td>\n",
       "      <td>1.2513</td>\n",
       "      <td>Buy</td>\n",
       "      <td>1.4352</td>\n",
       "      <td>0.1280</td>\n",
       "    </tr>\n",
       "    <tr>\n",
       "      <th>2</th>\n",
       "      <td>goog</td>\n",
       "      <td>Hold or Sell</td>\n",
       "      <td>1.5145</td>\n",
       "      <td>Hold or Sell</td>\n",
       "      <td>1.3324</td>\n",
       "      <td>Hold or Sell</td>\n",
       "      <td>1.4276</td>\n",
       "      <td>8.1275</td>\n",
       "    </tr>\n",
       "    <tr>\n",
       "      <th>3</th>\n",
       "      <td>ibm</td>\n",
       "      <td>Hold or Sell</td>\n",
       "      <td>1.2300</td>\n",
       "      <td>Hold or Sell</td>\n",
       "      <td>1.4282</td>\n",
       "      <td>Hold or Sell</td>\n",
       "      <td>0.9880</td>\n",
       "      <td>32.7885</td>\n",
       "    </tr>\n",
       "    <tr>\n",
       "      <th>4</th>\n",
       "      <td>intc</td>\n",
       "      <td>Hold or Sell</td>\n",
       "      <td>2.9914</td>\n",
       "      <td>Hold or Sell</td>\n",
       "      <td>2.0633</td>\n",
       "      <td>Hold or Sell</td>\n",
       "      <td>3.2234</td>\n",
       "      <td>127.4134</td>\n",
       "    </tr>\n",
       "    <tr>\n",
       "      <th>5</th>\n",
       "      <td>iyw</td>\n",
       "      <td>Hold or Sell</td>\n",
       "      <td>2.0820</td>\n",
       "      <td>Hold or Sell</td>\n",
       "      <td>2.0523</td>\n",
       "      <td>Hold or Sell</td>\n",
       "      <td>1.6973</td>\n",
       "      <td>8.3986</td>\n",
       "    </tr>\n",
       "    <tr>\n",
       "      <th>6</th>\n",
       "      <td>ll</td>\n",
       "      <td>Hold or Sell</td>\n",
       "      <td>0.3775</td>\n",
       "      <td>Hold or Sell</td>\n",
       "      <td>0.3453</td>\n",
       "      <td>Hold or Sell</td>\n",
       "      <td>0.3969</td>\n",
       "      <td>-0.8594</td>\n",
       "    </tr>\n",
       "    <tr>\n",
       "      <th>7</th>\n",
       "      <td>lng</td>\n",
       "      <td>Hold or Sell</td>\n",
       "      <td>2.3798</td>\n",
       "      <td>Hold or Sell</td>\n",
       "      <td>1.9459</td>\n",
       "      <td>Hold or Sell</td>\n",
       "      <td>2.1597</td>\n",
       "      <td>71.2633</td>\n",
       "    </tr>\n",
       "    <tr>\n",
       "      <th>8</th>\n",
       "      <td>ma</td>\n",
       "      <td>Hold or Sell</td>\n",
       "      <td>0.8669</td>\n",
       "      <td>Hold or Sell</td>\n",
       "      <td>1.1861</td>\n",
       "      <td>Hold or Sell</td>\n",
       "      <td>0.8819</td>\n",
       "      <td>26.5762</td>\n",
       "    </tr>\n",
       "    <tr>\n",
       "      <th>9</th>\n",
       "      <td>msft</td>\n",
       "      <td>Hold or Sell</td>\n",
       "      <td>5.7786</td>\n",
       "      <td>Hold or Sell</td>\n",
       "      <td>5.2530</td>\n",
       "      <td>Hold or Sell</td>\n",
       "      <td>6.3811</td>\n",
       "      <td>269.6237</td>\n",
       "    </tr>\n",
       "    <tr>\n",
       "      <th>10</th>\n",
       "      <td>mu</td>\n",
       "      <td>Hold or Sell</td>\n",
       "      <td>1.8610</td>\n",
       "      <td>Hold or Sell</td>\n",
       "      <td>1.6390</td>\n",
       "      <td>Hold or Sell</td>\n",
       "      <td>1.5279</td>\n",
       "      <td>57.1225</td>\n",
       "    </tr>\n",
       "    <tr>\n",
       "      <th>11</th>\n",
       "      <td>nio</td>\n",
       "      <td>Buy</td>\n",
       "      <td>0.6476</td>\n",
       "      <td>Buy</td>\n",
       "      <td>0.8753</td>\n",
       "      <td>Buy</td>\n",
       "      <td>0.7668</td>\n",
       "      <td>1.9621</td>\n",
       "    </tr>\n",
       "    <tr>\n",
       "      <th>12</th>\n",
       "      <td>nvda</td>\n",
       "      <td>Hold or Sell</td>\n",
       "      <td>3.1464</td>\n",
       "      <td>Hold or Sell</td>\n",
       "      <td>3.3626</td>\n",
       "      <td>Hold or Sell</td>\n",
       "      <td>2.5871</td>\n",
       "      <td>483.5306</td>\n",
       "    </tr>\n",
       "    <tr>\n",
       "      <th>13</th>\n",
       "      <td>pypl</td>\n",
       "      <td>Hold or Sell</td>\n",
       "      <td>0.9847</td>\n",
       "      <td>Buy</td>\n",
       "      <td>0.7738</td>\n",
       "      <td>Buy</td>\n",
       "      <td>0.9404</td>\n",
       "      <td>0.5025</td>\n",
       "    </tr>\n",
       "    <tr>\n",
       "      <th>14</th>\n",
       "      <td>qgen</td>\n",
       "      <td>Buy</td>\n",
       "      <td>1.1644</td>\n",
       "      <td>Buy</td>\n",
       "      <td>1.2810</td>\n",
       "      <td>Buy</td>\n",
       "      <td>1.1612</td>\n",
       "      <td>-0.0542</td>\n",
       "    </tr>\n",
       "  </tbody>\n",
       "</table>\n",
       "</div>"
      ],
      "text/plain": [
       "   stock    1_Day_Pred  1_Day_Model_Return    3_Day_Pred  3_Day_Model_Return  \\\n",
       "0   esgv  Hold or Sell              1.1083  Hold or Sell              1.0674   \n",
       "1   fslr           Buy              1.2185           Buy              1.2513   \n",
       "2   goog  Hold or Sell              1.5145  Hold or Sell              1.3324   \n",
       "3    ibm  Hold or Sell              1.2300  Hold or Sell              1.4282   \n",
       "4   intc  Hold or Sell              2.9914  Hold or Sell              2.0633   \n",
       "5    iyw  Hold or Sell              2.0820  Hold or Sell              2.0523   \n",
       "6     ll  Hold or Sell              0.3775  Hold or Sell              0.3453   \n",
       "7    lng  Hold or Sell              2.3798  Hold or Sell              1.9459   \n",
       "8     ma  Hold or Sell              0.8669  Hold or Sell              1.1861   \n",
       "9   msft  Hold or Sell              5.7786  Hold or Sell              5.2530   \n",
       "10    mu  Hold or Sell              1.8610  Hold or Sell              1.6390   \n",
       "11   nio           Buy              0.6476           Buy              0.8753   \n",
       "12  nvda  Hold or Sell              3.1464  Hold or Sell              3.3626   \n",
       "13  pypl  Hold or Sell              0.9847           Buy              0.7738   \n",
       "14  qgen           Buy              1.1644           Buy              1.2810   \n",
       "\n",
       "      5_Day_Pred  5_Day_Model_Return  Actual_Returns  \n",
       "0   Hold or Sell              1.0877          0.4994  \n",
       "1            Buy              1.4352          0.1280  \n",
       "2   Hold or Sell              1.4276          8.1275  \n",
       "3   Hold or Sell              0.9880         32.7885  \n",
       "4   Hold or Sell              3.2234        127.4134  \n",
       "5   Hold or Sell              1.6973          8.3986  \n",
       "6   Hold or Sell              0.3969         -0.8594  \n",
       "7   Hold or Sell              2.1597         71.2633  \n",
       "8   Hold or Sell              0.8819         26.5762  \n",
       "9   Hold or Sell              6.3811        269.6237  \n",
       "10  Hold or Sell              1.5279         57.1225  \n",
       "11           Buy              0.7668          1.9621  \n",
       "12  Hold or Sell              2.5871        483.5306  \n",
       "13           Buy              0.9404          0.5025  \n",
       "14           Buy              1.1612         -0.0542  "
      ]
     },
     "execution_count": 32,
     "metadata": {},
     "output_type": "execute_result"
    }
   ],
   "source": [
    "summary_df = a.pred_summary_df(start_dates2, stocks = [x for x in start_dates2], days_back = 1)\n",
    "summary_df"
   ]
  },
  {
   "cell_type": "code",
   "execution_count": 33,
   "metadata": {
    "scrolled": true
   },
   "outputs": [
    {
     "data": {
      "text/plain": [
       "(1.23, 1.3324, 1.4276, 8.3986)"
      ]
     },
     "execution_count": 33,
     "metadata": {},
     "output_type": "execute_result"
    }
   ],
   "source": [
    "summary_df['1_Day_Model_Return'].median(), summary_df['3_Day_Model_Return'].median(), summary_df['5_Day_Model_Return'].median(), summary_df['Actual_Returns'].median()"
   ]
  },
  {
   "cell_type": "code",
   "execution_count": null,
   "metadata": {},
   "outputs": [],
   "source": []
  },
  {
   "cell_type": "code",
   "execution_count": 34,
   "metadata": {},
   "outputs": [
    {
     "data": {
      "text/html": [
       "<div>\n",
       "<style scoped>\n",
       "    .dataframe tbody tr th:only-of-type {\n",
       "        vertical-align: middle;\n",
       "    }\n",
       "\n",
       "    .dataframe tbody tr th {\n",
       "        vertical-align: top;\n",
       "    }\n",
       "\n",
       "    .dataframe thead th {\n",
       "        text-align: right;\n",
       "    }\n",
       "</style>\n",
       "<table border=\"1\" class=\"dataframe\">\n",
       "  <thead>\n",
       "    <tr style=\"text-align: right;\">\n",
       "      <th></th>\n",
       "      <th>stock</th>\n",
       "      <th>1_Day_Pred</th>\n",
       "      <th>1_Day_Model_Return</th>\n",
       "      <th>3_Day_Pred</th>\n",
       "      <th>3_Day_Model_Return</th>\n",
       "      <th>5_Day_Pred</th>\n",
       "      <th>5_Day_Model_Return</th>\n",
       "      <th>Actual_Returns</th>\n",
       "    </tr>\n",
       "  </thead>\n",
       "  <tbody>\n",
       "    <tr>\n",
       "      <th>0</th>\n",
       "      <td>okta</td>\n",
       "      <td>Hold or Sell</td>\n",
       "      <td>0.8188</td>\n",
       "      <td>Buy</td>\n",
       "      <td>0.7120</td>\n",
       "      <td>Hold or Sell</td>\n",
       "      <td>0.6059</td>\n",
       "      <td>1.0829</td>\n",
       "    </tr>\n",
       "    <tr>\n",
       "      <th>1</th>\n",
       "      <td>orcl</td>\n",
       "      <td>Hold or Sell</td>\n",
       "      <td>2.3345</td>\n",
       "      <td>Hold or Sell</td>\n",
       "      <td>2.5806</td>\n",
       "      <td>Hold or Sell</td>\n",
       "      <td>2.7795</td>\n",
       "      <td>325.5982</td>\n",
       "    </tr>\n",
       "    <tr>\n",
       "      <th>2</th>\n",
       "      <td>qcom</td>\n",
       "      <td>Hold or Sell</td>\n",
       "      <td>2.3458</td>\n",
       "      <td>Hold or Sell</td>\n",
       "      <td>1.8604</td>\n",
       "      <td>Hold or Sell</td>\n",
       "      <td>2.5938</td>\n",
       "      <td>65.5796</td>\n",
       "    </tr>\n",
       "    <tr>\n",
       "      <th>3</th>\n",
       "      <td>qqq</td>\n",
       "      <td>Hold or Sell</td>\n",
       "      <td>1.9273</td>\n",
       "      <td>Hold or Sell</td>\n",
       "      <td>1.7718</td>\n",
       "      <td>Hold or Sell</td>\n",
       "      <td>2.2901</td>\n",
       "      <td>13.1669</td>\n",
       "    </tr>\n",
       "    <tr>\n",
       "      <th>4</th>\n",
       "      <td>srpt</td>\n",
       "      <td>Buy</td>\n",
       "      <td>0.7583</td>\n",
       "      <td>Buy</td>\n",
       "      <td>0.9687</td>\n",
       "      <td>Buy</td>\n",
       "      <td>1.7092</td>\n",
       "      <td>2.3896</td>\n",
       "    </tr>\n",
       "    <tr>\n",
       "      <th>5</th>\n",
       "      <td>tgt</td>\n",
       "      <td>Buy</td>\n",
       "      <td>1.4331</td>\n",
       "      <td>Buy</td>\n",
       "      <td>1.9638</td>\n",
       "      <td>Buy</td>\n",
       "      <td>1.6755</td>\n",
       "      <td>312.3339</td>\n",
       "    </tr>\n",
       "    <tr>\n",
       "      <th>6</th>\n",
       "      <td>tsla</td>\n",
       "      <td>Hold or Sell</td>\n",
       "      <td>0.3283</td>\n",
       "      <td>Hold or Sell</td>\n",
       "      <td>0.4082</td>\n",
       "      <td>Hold or Sell</td>\n",
       "      <td>0.5539</td>\n",
       "      <td>83.4747</td>\n",
       "    </tr>\n",
       "    <tr>\n",
       "      <th>7</th>\n",
       "      <td>tsm</td>\n",
       "      <td>Hold or Sell</td>\n",
       "      <td>3.1239</td>\n",
       "      <td>Hold or Sell</td>\n",
       "      <td>3.2284</td>\n",
       "      <td>Hold or Sell</td>\n",
       "      <td>3.6735</td>\n",
       "      <td>19.7538</td>\n",
       "    </tr>\n",
       "    <tr>\n",
       "      <th>8</th>\n",
       "      <td>v</td>\n",
       "      <td>Hold or Sell</td>\n",
       "      <td>1.0270</td>\n",
       "      <td>Hold or Sell</td>\n",
       "      <td>1.0814</td>\n",
       "      <td>Hold or Sell</td>\n",
       "      <td>1.0096</td>\n",
       "      <td>12.5674</td>\n",
       "    </tr>\n",
       "    <tr>\n",
       "      <th>9</th>\n",
       "      <td>vbiv</td>\n",
       "      <td>Buy</td>\n",
       "      <td>0.1809</td>\n",
       "      <td>Buy</td>\n",
       "      <td>0.1664</td>\n",
       "      <td>Buy</td>\n",
       "      <td>0.2655</td>\n",
       "      <td>-0.9957</td>\n",
       "    </tr>\n",
       "    <tr>\n",
       "      <th>10</th>\n",
       "      <td>vbr</td>\n",
       "      <td>Hold or Sell</td>\n",
       "      <td>1.5527</td>\n",
       "      <td>Hold or Sell</td>\n",
       "      <td>1.5908</td>\n",
       "      <td>Hold or Sell</td>\n",
       "      <td>1.5563</td>\n",
       "      <td>2.1033</td>\n",
       "    </tr>\n",
       "    <tr>\n",
       "      <th>11</th>\n",
       "      <td>viov</td>\n",
       "      <td>Hold or Sell</td>\n",
       "      <td>1.0443</td>\n",
       "      <td>Hold or Sell</td>\n",
       "      <td>1.1153</td>\n",
       "      <td>Hold or Sell</td>\n",
       "      <td>1.1564</td>\n",
       "      <td>1.7941</td>\n",
       "    </tr>\n",
       "    <tr>\n",
       "      <th>12</th>\n",
       "      <td>vgt</td>\n",
       "      <td>Hold or Sell</td>\n",
       "      <td>1.2129</td>\n",
       "      <td>Hold or Sell</td>\n",
       "      <td>1.1075</td>\n",
       "      <td>Hold or Sell</td>\n",
       "      <td>1.1345</td>\n",
       "      <td>7.8043</td>\n",
       "    </tr>\n",
       "    <tr>\n",
       "      <th>13</th>\n",
       "      <td>wmt</td>\n",
       "      <td>Buy</td>\n",
       "      <td>1.2955</td>\n",
       "      <td>Buy</td>\n",
       "      <td>1.0792</td>\n",
       "      <td>Buy</td>\n",
       "      <td>1.3634</td>\n",
       "      <td>2051.8658</td>\n",
       "    </tr>\n",
       "    <tr>\n",
       "      <th>14</th>\n",
       "      <td>xlk</td>\n",
       "      <td>Hold or Sell</td>\n",
       "      <td>1.9612</td>\n",
       "      <td>Hold or Sell</td>\n",
       "      <td>2.1734</td>\n",
       "      <td>Hold or Sell</td>\n",
       "      <td>1.7408</td>\n",
       "      <td>15.2525</td>\n",
       "    </tr>\n",
       "  </tbody>\n",
       "</table>\n",
       "</div>"
      ],
      "text/plain": [
       "   stock    1_Day_Pred  1_Day_Model_Return    3_Day_Pred  3_Day_Model_Return  \\\n",
       "0   okta  Hold or Sell              0.8188           Buy              0.7120   \n",
       "1   orcl  Hold or Sell              2.3345  Hold or Sell              2.5806   \n",
       "2   qcom  Hold or Sell              2.3458  Hold or Sell              1.8604   \n",
       "3    qqq  Hold or Sell              1.9273  Hold or Sell              1.7718   \n",
       "4   srpt           Buy              0.7583           Buy              0.9687   \n",
       "5    tgt           Buy              1.4331           Buy              1.9638   \n",
       "6   tsla  Hold or Sell              0.3283  Hold or Sell              0.4082   \n",
       "7    tsm  Hold or Sell              3.1239  Hold or Sell              3.2284   \n",
       "8      v  Hold or Sell              1.0270  Hold or Sell              1.0814   \n",
       "9   vbiv           Buy              0.1809           Buy              0.1664   \n",
       "10   vbr  Hold or Sell              1.5527  Hold or Sell              1.5908   \n",
       "11  viov  Hold or Sell              1.0443  Hold or Sell              1.1153   \n",
       "12   vgt  Hold or Sell              1.2129  Hold or Sell              1.1075   \n",
       "13   wmt           Buy              1.2955           Buy              1.0792   \n",
       "14   xlk  Hold or Sell              1.9612  Hold or Sell              2.1734   \n",
       "\n",
       "      5_Day_Pred  5_Day_Model_Return  Actual_Returns  \n",
       "0   Hold or Sell              0.6059          1.0829  \n",
       "1   Hold or Sell              2.7795        325.5982  \n",
       "2   Hold or Sell              2.5938         65.5796  \n",
       "3   Hold or Sell              2.2901         13.1669  \n",
       "4            Buy              1.7092          2.3896  \n",
       "5            Buy              1.6755        312.3339  \n",
       "6   Hold or Sell              0.5539         83.4747  \n",
       "7   Hold or Sell              3.6735         19.7538  \n",
       "8   Hold or Sell              1.0096         12.5674  \n",
       "9            Buy              0.2655         -0.9957  \n",
       "10  Hold or Sell              1.5563          2.1033  \n",
       "11  Hold or Sell              1.1564          1.7941  \n",
       "12  Hold or Sell              1.1345          7.8043  \n",
       "13           Buy              1.3634       2051.8658  \n",
       "14  Hold or Sell              1.7408         15.2525  "
      ]
     },
     "execution_count": 34,
     "metadata": {},
     "output_type": "execute_result"
    }
   ],
   "source": [
    "summary_df = a.pred_summary_df(start_dates3, stocks = [x for x in start_dates3], days_back = 1)\n",
    "summary_df"
   ]
  },
  {
   "cell_type": "code",
   "execution_count": 35,
   "metadata": {},
   "outputs": [
    {
     "data": {
      "text/plain": [
       "(1.2955, 1.1153, 1.5563, 13.1669)"
      ]
     },
     "execution_count": 35,
     "metadata": {},
     "output_type": "execute_result"
    }
   ],
   "source": [
    "summary_df['1_Day_Model_Return'].median(), summary_df['3_Day_Model_Return'].median(), summary_df['5_Day_Model_Return'].median(), summary_df['Actual_Returns'].median()"
   ]
  },
  {
   "cell_type": "code",
   "execution_count": null,
   "metadata": {},
   "outputs": [],
   "source": []
  },
  {
   "cell_type": "code",
   "execution_count": null,
   "metadata": {},
   "outputs": [],
   "source": []
  }
 ],
 "metadata": {
  "kernelspec": {
   "display_name": "Python 3",
   "language": "python",
   "name": "python3"
  },
  "language_info": {
   "codemirror_mode": {
    "name": "ipython",
    "version": 3
   },
   "file_extension": ".py",
   "mimetype": "text/x-python",
   "name": "python",
   "nbconvert_exporter": "python",
   "pygments_lexer": "ipython3",
   "version": "3.8.10"
  }
 },
 "nbformat": 4,
 "nbformat_minor": 4
}
