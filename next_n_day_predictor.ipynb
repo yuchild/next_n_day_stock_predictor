{
 "cells": [
  {
   "cell_type": "code",
   "execution_count": 1,
   "metadata": {
    "scrolled": true
   },
   "outputs": [],
   "source": [
    "from src import attributes as a\n",
    "%load_ext autoreload\n",
    "%autoreload 2\n",
    "\n",
    "import warnings\n",
    "warnings.filterwarnings('ignore')"
   ]
  },
  {
   "cell_type": "code",
   "execution_count": 2,
   "metadata": {},
   "outputs": [],
   "source": [
    "# Global Variables\n",
    "stock_name = 'tsla' # ticker symbol\n",
    "train = 0 # 1 for train, 0 for pass\n",
    "days_ahead = 1 # for predicting 1, 3, or 5 days ahead\n",
    "days_back = -1 # -1 for current data point, -2 for two days ago, etc...\n",
    "cv = 5 # number of cross validation folds\n",
    "model_name = 'Random Forest Classifier' # for display on charts, not a tuning parameter"
   ]
  },
  {
   "cell_type": "code",
   "execution_count": 3,
   "metadata": {
    "scrolled": false
   },
   "outputs": [
    {
     "name": "stdout",
     "output_type": "stream",
     "text": [
      "1.3.5\n"
     ]
    }
   ],
   "source": [
    "import pandas\n",
    "print(pandas.__version__)"
   ]
  },
  {
   "cell_type": "code",
   "execution_count": 4,
   "metadata": {},
   "outputs": [],
   "source": [
    "# Extract, Transform, Load, and Train Test Split\n",
    "# Dictionary of IPO Dates\n",
    "start_dates = {'a': '11/15/1999' # Updated 4/26/21 1D, 3D, 5D ahead\n",
    "               , 'aapl': '12/12/1980' # Updated 11/8/21 1D, 3D, 5D ahead\n",
    "               #, 'acy': '01/18/1998' # Updated 4/26/21 1D, 3D, 5D ahead\n",
    "               , 'adbe': '08/11/1986' # Updated 11/8/21 1D, 3D, 5D ahead\n",
    "               #, 'alb': '02/21/1994' # Updated 4/26/21 1D, 3D, 5D ahead\n",
    "               , 'amat': '03/16/1980' # Updated 4/26/21 1D, 3D, 5D ahead\n",
    "               , 'amd': '03/17/1980' # Updated 11/23/21 1D, 3D, 5D ahead\n",
    "               , 'amgn': '06/13/1983' # Updated 4/26/21 1D, 3D, 5D ahead\n",
    "               , 'amzn': '05/12/1997' # Updated 11/07/21 1D, 3D, 5D ahead\n",
    "               , 'baba': '09/15/2014' # Updated 11/13/21 1D, 3D, 5D ahead\n",
    "               , 'ba': '01/02/1962' # Updated 05/23/21 1D, 3D, 5D ahead\n",
    "               , 'bac': '02/19/1973' # Updated 4/26/21 1D, 3D, 5D ahead\n",
    "               , 'bby': '04/15/1985' # Updated 11/19/21 1D, 3D, 5D ahead\n",
    "               #, 'bpmc': '04/27/2015' # Updated 4/26/21 1D, 3D, 5D ahead\n",
    "               , 'brk-b': '05/06/1996' # Updated 4/25/23 1D, 3D, 5D ahead\n",
    "               , 'crm': '06/23/2004' # Updated 11/13/21 1D, 3D, 5D ahead\n",
    "               #, 'crsp': '10/16/2016' # Updated 4/26/21 1D, 3D, 5D ahead\n",
    "               , 'cost': '07/07/1986' # Updated 11/23/21 1D, 3D, 5D ahead\n",
    "               #, 'dis': '10/27/2014' # Updatd 11/5/21 1D, 3D, 5D ahead\n",
    "               #, 'dq': '10/04/2010' # Updated 4/26/21 1D, 3D, 5D ahead\n",
    "               , 'esgv': '09/16/2018' # Updated 4/26/21 1D, 3D, 5D ahead\n",
    "               , 'fslr': '11/12/2006' # Updated 4/26/21 1D, 3D, 5D ahead\n",
    "               , 'ge': '01/02/1962' # Updated 5/23/23 1D, 3D, 5D ahead\n",
    "               , 'goog': '08/16/2004' # Updated 11/8/21 1D, 3D, 5D ahead\n",
    "               , 'ibm': '01/02/1962' # Updated 4/26/21 1D, 3D, 5D ahead\n",
    "               , 'intc': '03/16/1980' # Updated 11/13/21 1D, 3D, 5D ahead\n",
    "               , 'iyw': '05/15/2000' # Updated 11/21/21 1D, 3D, 5D ahead\n",
    "               , 'll': '11/05/2007' # Updated 11/22/21 1D, 3D, 5D ahead\n",
    "               , 'lng': '04/04/1994' # Updated 4/26/21 1D, 3D, 5D ahead\n",
    "               , 'ma': '05/21/2006' # Updated 4/26/21 1D, 3D, 5D ahead\n",
    "               # , 'mdb': '10/15/2017' # Updated 11/21/21 1D, 3D, 5D ahead\n",
    "               , 'msft': '03/10/1986' # Updated 11/8/21 1D, 3D, 5D ahead\n",
    "               , 'mu': '05/28/1984' # Updated 11/20/21 1D, 3D, 5D ahead\n",
    "               #, 'nee': '02/19/1973' # Updated 4/26/21 1D, 3D, 5D ahead\n",
    "               , 'nio': '09/10/2018' # Updated 4/26/21 1D, 3D, 5D ahead\n",
    "               , 'nvda': '01/22/1999' # Updated 11/17/21 1D, 3D, 5D ahead\n",
    "               #, 'pacb': '10/25/2010' # Updated 4/26/21 1D, 3D, 5D ahead\n",
    "               , 'pypl': '07/05/2015' # Updated 4/26/21 1D, 3D, 5D ahead\n",
    "               , 'qgen': '06/24/1996' # Updated 4/26/21 1D, 3D, 5D ahead\n",
    "               #, 'run': '08/02/2015' # Updated 4/26/21 1D, 3D, 5D ahead\n",
    "               , 'okta': '04/03/2017' # Updated 4/26/21 1D, 3D, 5D ahead\n",
    "               , 'orcl': '03/10/1986' # Updated 4/26/21 1D, 3D, 5D ahead\n",
    "               , 'qcom': '12/09/1991' # Updated 11/20/21 1D, 3D, 5D ahead\n",
    "               , 'qqq': '03/08/1999' # Updated 4/26/21 1D, 3D, 5D ahead\n",
    "               , 'srpt': '06/02/1997' # Updated 4/26/21 1D, 3D, 5D ahead\n",
    "               , 'tgt': '02/19/1973' # Updated 11/22/21 1D, 3D, 5D ahead\n",
    "               #, 'tpic': '07/17/2016' # Updated 4/26/21 1D, 3D, 5D ahead\n",
    "               , 'tsla': '06/29/2010' # Updated 11/07/21 1D, 3D, 5D ahead\n",
    "               , 'tsm': '10/06/1997' # Updated 11/20/21 1D, 3D, 5D ahead\n",
    "               , 'v': '03/16/2008' # Updated 11/22/21 1D, 3D, 5D ahead\n",
    "               , 'vbiv': '09/04/2002' # Updated 4/26/21 1D, 3D, 5D ahead\n",
    "               , 'vbr': '01/26/2004' # Updated 11/20/21 1D, 3D, 5D ahead\n",
    "               #, 'viov': '09/06/2010' # Updated 4/26/21 1D, 3D, 5D ahead\n",
    "               , 'vgt': '01/26/2004' # Updated 11/07/21 1D, 3D, 5D ahead\n",
    "               , 'wmt': '11/10/2014' # Updated 11/16/21 1D, 3D, 5D ahead\n",
    "               , 'xli': '12/21/1998' # Updated 11/21/21 1D, 3D, 5D ahead\n",
    "               , 'xlk': '12/21/1998' # Updated 5/23/23 1D, 3D, 5D ahead\n",
    "              }"
   ]
  },
  {
   "cell_type": "markdown",
   "metadata": {},
   "source": [
    "### Get Data..."
   ]
  },
  {
   "cell_type": "code",
   "execution_count": 5,
   "metadata": {
    "scrolled": false
   },
   "outputs": [
    {
     "name": "stdout",
     "output_type": "stream",
     "text": [
      "Today's date: 2023-08-13\n",
      "Table Updates Complete\n",
      "Current Time:  22:51:30\n"
     ]
    }
   ],
   "source": [
    "from datetime import date, datetime\n",
    "today = date.today()\n",
    "print(\"Today's date:\", today)\n",
    "a.get_tables(start_dates) # commented out for 2021-12-19, data already downloaded for weekend\n",
    "print('Table Updates Complete')\n",
    "now = datetime.now()\n",
    "current_time = now.strftime(\"%H:%M:%S\")\n",
    "print(\"Current Time: \", current_time)"
   ]
  },
  {
   "cell_type": "code",
   "execution_count": 6,
   "metadata": {},
   "outputs": [],
   "source": [
    "# Load RandomForextClassifier Model\n",
    "# rfc_model, y_pred, y_probs = a.rfc(X_train, X_test, y_train, stock_name, days_ahead)"
   ]
  },
  {
   "cell_type": "code",
   "execution_count": 7,
   "metadata": {
    "scrolled": false
   },
   "outputs": [],
   "source": [
    "# ROC Curve\n",
    "# a.roc_plot(y_test, y_probs, stock_name, model_name)"
   ]
  },
  {
   "cell_type": "code",
   "execution_count": 8,
   "metadata": {
    "scrolled": false
   },
   "outputs": [],
   "source": [
    "# Precision Recall Curve\n",
    "# a.prec_recall(y_test, y_probs, stock_name, model_name)"
   ]
  },
  {
   "cell_type": "code",
   "execution_count": 9,
   "metadata": {
    "scrolled": false
   },
   "outputs": [],
   "source": [
    "# Confusion Matrix\n",
    "# a.confusion_matrix(rfc_model, X_test, y_test, stock_name)"
   ]
  },
  {
   "cell_type": "code",
   "execution_count": 10,
   "metadata": {},
   "outputs": [],
   "source": [
    "# Cross Validation\n",
    "# a.cross_validation(rfc_model\n",
    "#                    , stock_df[['oc', 'hl', '5stdev_adj', '5sma_adj']]\n",
    "#                    , stock_df['direction']\n",
    "#                    , cv = 5\n",
    "#                   )"
   ]
  },
  {
   "cell_type": "markdown",
   "metadata": {},
   "source": [
    "### Prediction..."
   ]
  },
  {
   "cell_type": "code",
   "execution_count": 11,
   "metadata": {
    "scrolled": true
   },
   "outputs": [],
   "source": [
    "# Prediction, use last day of data\n",
    "# stock_df.iloc[-1]"
   ]
  },
  {
   "cell_type": "code",
   "execution_count": 12,
   "metadata": {},
   "outputs": [],
   "source": [
    "# import numpy as np\n",
    "# last = stock_df[['oc', 'hl', '5stdev_adj', '5sma_adj']].iloc[-days_back]\n",
    "# last"
   ]
  },
  {
   "cell_type": "code",
   "execution_count": 13,
   "metadata": {},
   "outputs": [],
   "source": [
    "# stock_df['adj'].describe()"
   ]
  },
  {
   "cell_type": "code",
   "execution_count": 14,
   "metadata": {
    "scrolled": true
   },
   "outputs": [],
   "source": [
    "# if rfc_model.predict(np.array(last).reshape(1, -1))[0] == 1:\n",
    "#     print(f'Buy {stock_name} {days_ahead} day(s) ahead')\n",
    "# else:\n",
    "#     print(f'Sell or hold {stock_name} {days_ahead} day(s) ahead')"
   ]
  },
  {
   "cell_type": "markdown",
   "metadata": {},
   "source": [
    "### Strategy Returns..."
   ]
  },
  {
   "cell_type": "code",
   "execution_count": 15,
   "metadata": {},
   "outputs": [],
   "source": [
    "# returns on strategy column\n",
    "# stock_df['prediction'] = rfc_model.predict(stock_df[['oc', 'hl', '5stdev_adj', '5sma_adj']])\n",
    "# stock_df['returns'] = stock_df['adj'].shift(-1, fill_value = stock_df['adj'].median()) * stock_df['prediction']"
   ]
  },
  {
   "cell_type": "code",
   "execution_count": 16,
   "metadata": {},
   "outputs": [],
   "source": [
    "# stock_df.tail(5)"
   ]
  },
  {
   "cell_type": "code",
   "execution_count": 17,
   "metadata": {},
   "outputs": [],
   "source": [
    "# Don't trade every day!\n",
    "# import matplotlib.pyplot as plt\n",
    "# test_length = len(y_test)\n",
    "# (stock_df['returns'][-test_length:] + 1).cumprod().plot()\n",
    "# plt.title(f'{stock_name} Expected Returns %');"
   ]
  },
  {
   "cell_type": "code",
   "execution_count": 18,
   "metadata": {},
   "outputs": [],
   "source": [
    "# Model returns if bought on predictions of 1\n",
    "# returns_on_ones = []\n",
    "# for idx in range(-test_length, 0):\n",
    "#     if stock_df['prediction'][idx] == 1:\n",
    "#         returns_on_ones.append(1 + stock_df['returns'][idx])\n",
    "\n",
    "# returns = 1\n",
    "# for x in returns_on_ones:\n",
    "#     returns *= x\n",
    "# returns"
   ]
  },
  {
   "cell_type": "code",
   "execution_count": 19,
   "metadata": {},
   "outputs": [],
   "source": [
    "# multiple times original investment, not bad but..."
   ]
  },
  {
   "cell_type": "code",
   "execution_count": 20,
   "metadata": {},
   "outputs": [],
   "source": [
    "# If purchased in 2012 and left it until now\n",
    "# test_idx = int(len(stock_df)*0.75)\n",
    "# (stock_df['Close'][-1] - stock_df['Close'][-test_idx]) / stock_df['Close'][-test_idx]"
   ]
  },
  {
   "cell_type": "code",
   "execution_count": 21,
   "metadata": {},
   "outputs": [],
   "source": [
    "# Buy and hold strategy beats RandomForestClassifier in this study\n",
    "\n",
    "# Special thanks to Shagufta Tahsildar at https://blog.quantinsti.com/random-forest-algorithm-in-python/"
   ]
  },
  {
   "cell_type": "code",
   "execution_count": null,
   "metadata": {},
   "outputs": [],
   "source": []
  },
  {
   "cell_type": "code",
   "execution_count": null,
   "metadata": {},
   "outputs": [],
   "source": []
  },
  {
   "cell_type": "code",
   "execution_count": null,
   "metadata": {},
   "outputs": [],
   "source": []
  },
  {
   "cell_type": "markdown",
   "metadata": {},
   "source": [
    "### Training"
   ]
  },
  {
   "cell_type": "markdown",
   "metadata": {},
   "source": [
    "Training is done once a week on Saturday and Sunday"
   ]
  },
  {
   "cell_type": "code",
   "execution_count": 22,
   "metadata": {},
   "outputs": [
    {
     "data": {
      "text/plain": [
       "45"
      ]
     },
     "execution_count": 22,
     "metadata": {},
     "output_type": "execute_result"
    }
   ],
   "source": [
    "len(start_dates)"
   ]
  },
  {
   "cell_type": "code",
   "execution_count": 23,
   "metadata": {},
   "outputs": [
    {
     "data": {
      "text/plain": [
       "{'a': '11/15/1999',\n",
       " 'aapl': '12/12/1980',\n",
       " 'adbe': '08/11/1986',\n",
       " 'amat': '03/16/1980',\n",
       " 'amd': '03/17/1980',\n",
       " 'amgn': '06/13/1983',\n",
       " 'amzn': '05/12/1997',\n",
       " 'baba': '09/15/2014',\n",
       " 'ba': '01/02/1962',\n",
       " 'bac': '02/19/1973',\n",
       " 'bby': '04/15/1985',\n",
       " 'brk-b': '05/06/1996',\n",
       " 'crm': '06/23/2004',\n",
       " 'cost': '07/07/1986',\n",
       " 'esgv': '09/16/2018'}"
      ]
     },
     "execution_count": 23,
     "metadata": {},
     "output_type": "execute_result"
    }
   ],
   "source": [
    "import itertools as itr\n",
    "start_dates1 = dict(itr.islice(start_dates.items(), 0, 15))\n",
    "start_dates1"
   ]
  },
  {
   "cell_type": "code",
   "execution_count": 24,
   "metadata": {},
   "outputs": [
    {
     "data": {
      "text/plain": [
       "{'fslr': '11/12/2006',\n",
       " 'ge': '01/02/1962',\n",
       " 'goog': '08/16/2004',\n",
       " 'ibm': '01/02/1962',\n",
       " 'intc': '03/16/1980',\n",
       " 'iyw': '05/15/2000',\n",
       " 'll': '11/05/2007',\n",
       " 'lng': '04/04/1994',\n",
       " 'ma': '05/21/2006',\n",
       " 'msft': '03/10/1986',\n",
       " 'mu': '05/28/1984',\n",
       " 'nio': '09/10/2018',\n",
       " 'nvda': '01/22/1999',\n",
       " 'pypl': '07/05/2015',\n",
       " 'qgen': '06/24/1996'}"
      ]
     },
     "execution_count": 24,
     "metadata": {},
     "output_type": "execute_result"
    }
   ],
   "source": [
    "start_dates2 = dict(itr.islice(start_dates.items(), 15, 30))\n",
    "start_dates2"
   ]
  },
  {
   "cell_type": "code",
   "execution_count": 25,
   "metadata": {},
   "outputs": [
    {
     "data": {
      "text/plain": [
       "{'okta': '04/03/2017',\n",
       " 'orcl': '03/10/1986',\n",
       " 'qcom': '12/09/1991',\n",
       " 'qqq': '03/08/1999',\n",
       " 'srpt': '06/02/1997',\n",
       " 'tgt': '02/19/1973',\n",
       " 'tsla': '06/29/2010',\n",
       " 'tsm': '10/06/1997',\n",
       " 'v': '03/16/2008',\n",
       " 'vbiv': '09/04/2002',\n",
       " 'vbr': '01/26/2004',\n",
       " 'vgt': '01/26/2004',\n",
       " 'wmt': '11/10/2014',\n",
       " 'xli': '12/21/1998',\n",
       " 'xlk': '12/21/1998'}"
      ]
     },
     "execution_count": 25,
     "metadata": {},
     "output_type": "execute_result"
    }
   ],
   "source": [
    "start_dates3 = dict(itr.islice(start_dates.items(), 30, 45+1))\n",
    "start_dates3"
   ]
  },
  {
   "cell_type": "code",
   "execution_count": 26,
   "metadata": {
    "scrolled": false
   },
   "outputs": [],
   "source": [
    "# from datetime import datetime\n",
    "\n",
    "# now = datetime.now()\n",
    "\n",
    "# current_time = now.strftime(\"%H:%M:%S\")\n",
    "# print(\"Gridsearch Start Date: \", today)\n",
    "# print(\"Current Time: \", current_time)\n",
    "\n",
    "#Train 15 at a time!\n",
    "# stocks = [x for x in start_dates1]\n",
    "# days_ahead = [1, 3, 5]\n",
    "# cv = 5\n",
    "# for stock in stocks:\n",
    "#     for days in days_ahead:\n",
    "#         X_train, X_test, y_train, y_test, stock_df = a.data(stock, start_dates[stock], days)\n",
    "#         a.rfc_GridSearch(X_train, y_train, stock, days, cv)\n",
    "# len(stocks)\n",
    "\n",
    "# Next on training for Saturday 4/17/2021\n",
    "# stocks = [x for x in start_dates2]\n",
    "# days_ahead = [1, 3, 5]\n",
    "# cv = 5\n",
    "# for stock in stocks:\n",
    "#     for days in days_ahead:\n",
    "#         X_train, X_test, y_train, y_test, stock_df = a.data(stock, start_dates[stock], days)\n",
    "#         a.rfc_GridSearch(X_train, y_train, stock, days, cv)\n",
    "# len(stocks)\n",
    "\n",
    "# Next on training for Saturday 4/17/2021\n",
    "# stocks = [x for x in start_dates3]\n",
    "# days_ahead = [1, 3, 5]\n",
    "# cv = 5\n",
    "# for stock in stocks:\n",
    "#     for days in days_ahead:\n",
    "#         X_train, X_test, y_train, y_test, stock_df = a.data(stock, start_dates[stock], days)\n",
    "#         a.rfc_GridSearch(X_train, y_train, stock, days, cv)\n",
    "# len(stocks)\n",
    "\n",
    "# # Train all, takes 15+ hours\n",
    "# stocks = [x for x in start_dates]\n",
    "# days_ahead = [1, 3, 5]\n",
    "# cv = 5\n",
    "# for stock in stocks:\n",
    "#     for days in days_ahead:\n",
    "#         X_train, X_test, y_train, y_test, stock_df = a.data(stock, start_dates[stock], days)\n",
    "#         a.rfc_GridSearch(X_train, y_train, stock, days, cv)\n",
    "# len(stocks)\n",
    "\n",
    "# Train desired stocks...takes less time (4 will take 15.5 hours, each stock is roughly 2.5-4 hours to train)\n",
    "# 3 will take 7.5 hours, roughly 2.5 hours per stock trained\n",
    "# to train: ['cost']\n",
    "\n",
    "# import timeit \n",
    "# stocks = ['xli', 'ba', 'ge'] # updated 2023-05-23 (3:48pm - 12:47am ~9hours)\n",
    "# days_ahead = [1, 3, 5] \n",
    "# cv = 2 # was 5 \n",
    "# for stock in stocks:\n",
    "#     for days in days_ahead:\n",
    "#         X_train, X_test, y_train, y_test, stock_df = a.data(stock, start_dates[stock], days)\n",
    "#         %timeit a.rfc_GridSearch(X_train, y_train, stock, days, cv)\n",
    "\n",
    "# now = datetime.now()\n",
    "\n",
    "# current_time = now.strftime(\"%H:%M:%S\")\n",
    "# print(\"Gridsearch End Date: \", today)\n",
    "# print(\"Current Time: \", current_time)"
   ]
  },
  {
   "cell_type": "code",
   "execution_count": null,
   "metadata": {},
   "outputs": [],
   "source": []
  },
  {
   "cell_type": "code",
   "execution_count": null,
   "metadata": {},
   "outputs": [],
   "source": []
  },
  {
   "cell_type": "code",
   "execution_count": null,
   "metadata": {},
   "outputs": [],
   "source": []
  },
  {
   "cell_type": "markdown",
   "metadata": {},
   "source": [
    "### Display All Results"
   ]
  },
  {
   "cell_type": "markdown",
   "metadata": {},
   "source": [
    "**NOTE:** Returns include buying ups and selling downs"
   ]
  },
  {
   "cell_type": "code",
   "execution_count": 27,
   "metadata": {},
   "outputs": [
    {
     "name": "stdout",
     "output_type": "stream",
     "text": [
      "Today's date: 2023-08-13\n",
      "Current Time:  22:51:31\n"
     ]
    }
   ],
   "source": [
    "from datetime import date, datetime\n",
    "today = date.today()\n",
    "print(\"Today's date:\", today)\n",
    "now = datetime.now()\n",
    "current_time = now.strftime(\"%H:%M:%S\")\n",
    "print(\"Current Time: \", current_time)"
   ]
  },
  {
   "cell_type": "code",
   "execution_count": 28,
   "metadata": {
    "scrolled": false
   },
   "outputs": [
    {
     "name": "stdout",
     "output_type": "stream",
     "text": [
      "Sell or hold amzn 1 day(s) ahead\n",
      "Model Returns (x 100 for %): 1.3841\n",
      "Stock Returns (x 100 for %): 194.9094\n"
     ]
    },
    {
     "data": {
      "image/png": "[encoded data removed]",
      "text/plain": [
       "<Figure size 432x288 with 1 Axes>"
      ]
     },
     "metadata": {},
     "output_type": "display_data"
    },
    {
     "data": {
      "image/png": "[encoded data removed]",
      "text/plain": [
       "<Figure size 648x504 with 1 Axes>"
      ]
     },
     "metadata": {},
     "output_type": "display_data"
    },
    {
     "data": {
      "image/png": "[encoded data removed]",
      "text/plain": [
       "<Figure size 648x504 with 1 Axes>"
      ]
     },
     "metadata": {},
     "output_type": "display_data"
    },
    {
     "data": {
      "image/png": "[encoded data removed]",
      "text/plain": [
       "<Figure size 684x612 with 2 Axes>"
      ]
     },
     "metadata": {},
     "output_type": "display_data"
    }
   ],
   "source": [
    "stock_name = 'amzn'\n",
    "a.all_func(stock_name\n",
    "           , start_dates[stock_name]\n",
    "           , days_ahead = 1\n",
    "           , model_name = model_name\n",
    "           , days_back = 1\n",
    "          )\n",
    "# chart shows if traded every day up or down"
   ]
  },
  {
   "cell_type": "code",
   "execution_count": null,
   "metadata": {},
   "outputs": [],
   "source": []
  },
  {
   "cell_type": "code",
   "execution_count": null,
   "metadata": {},
   "outputs": [],
   "source": []
  },
  {
   "cell_type": "code",
   "execution_count": null,
   "metadata": {},
   "outputs": [],
   "source": []
  },
  {
   "cell_type": "markdown",
   "metadata": {},
   "source": [
    "### Data Frame of Predictions 1 3 5 Days"
   ]
  },
  {
   "cell_type": "markdown",
   "metadata": {},
   "source": [
    "**NOTE:** Returns are for buys only."
   ]
  },
  {
   "cell_type": "code",
   "execution_count": 29,
   "metadata": {
    "scrolled": true
   },
   "outputs": [
    {
     "name": "stdout",
     "output_type": "stream",
     "text": [
      "Today's date: 2023-08-13\n",
      "Current Time = 22:51:31\n"
     ]
    }
   ],
   "source": [
    "print(\"Today's date:\", today)\n",
    "print(\"Current Time =\", current_time)"
   ]
  },
  {
   "cell_type": "code",
   "execution_count": 30,
   "metadata": {
    "scrolled": false
   },
   "outputs": [
    {
     "data": {
      "text/html": [
       "<div>\n",
       "<style scoped>\n",
       "    .dataframe tbody tr th:only-of-type {\n",
       "        vertical-align: middle;\n",
       "    }\n",
       "\n",
       "    .dataframe tbody tr th {\n",
       "        vertical-align: top;\n",
       "    }\n",
       "\n",
       "    .dataframe thead th {\n",
       "        text-align: right;\n",
       "    }\n",
       "</style>\n",
       "<table border=\"1\" class=\"dataframe\">\n",
       "  <thead>\n",
       "    <tr style=\"text-align: right;\">\n",
       "      <th></th>\n",
       "      <th>stock</th>\n",
       "      <th>1_Day_Pred</th>\n",
       "      <th>1_Day_Model_Return</th>\n",
       "      <th>3_Day_Pred</th>\n",
       "      <th>3_Day_Model_Return</th>\n",
       "      <th>5_Day_Pred</th>\n",
       "      <th>5_Day_Model_Return</th>\n",
       "      <th>Actual_Returns</th>\n",
       "    </tr>\n",
       "  </thead>\n",
       "  <tbody>\n",
       "    <tr>\n",
       "      <th>0</th>\n",
       "      <td>a</td>\n",
       "      <td>Buy</td>\n",
       "      <td>1.8679</td>\n",
       "      <td>Hold or Sell</td>\n",
       "      <td>1.5154</td>\n",
       "      <td>Buy</td>\n",
       "      <td>1.5462</td>\n",
       "      <td>8.4049</td>\n",
       "    </tr>\n",
       "    <tr>\n",
       "      <th>1</th>\n",
       "      <td>aapl</td>\n",
       "      <td>Hold or Sell</td>\n",
       "      <td>2.9936</td>\n",
       "      <td>Hold or Sell</td>\n",
       "      <td>2.7478</td>\n",
       "      <td>Hold or Sell</td>\n",
       "      <td>3.0207</td>\n",
       "      <td>648.6114</td>\n",
       "    </tr>\n",
       "    <tr>\n",
       "      <th>2</th>\n",
       "      <td>adbe</td>\n",
       "      <td>Buy</td>\n",
       "      <td>2.9441</td>\n",
       "      <td>Buy</td>\n",
       "      <td>3.1630</td>\n",
       "      <td>Buy</td>\n",
       "      <td>3.1568</td>\n",
       "      <td>155.4040</td>\n",
       "    </tr>\n",
       "    <tr>\n",
       "      <th>3</th>\n",
       "      <td>amat</td>\n",
       "      <td>Buy</td>\n",
       "      <td>7.0680</td>\n",
       "      <td>Buy</td>\n",
       "      <td>7.8204</td>\n",
       "      <td>Buy</td>\n",
       "      <td>7.1453</td>\n",
       "      <td>1370.2214</td>\n",
       "    </tr>\n",
       "    <tr>\n",
       "      <th>4</th>\n",
       "      <td>amd</td>\n",
       "      <td>Buy</td>\n",
       "      <td>2.9419</td>\n",
       "      <td>Buy</td>\n",
       "      <td>6.1973</td>\n",
       "      <td>Buy</td>\n",
       "      <td>4.1659</td>\n",
       "      <td>14.6465</td>\n",
       "    </tr>\n",
       "    <tr>\n",
       "      <th>5</th>\n",
       "      <td>amgn</td>\n",
       "      <td>Hold or Sell</td>\n",
       "      <td>1.5030</td>\n",
       "      <td>Hold or Sell</td>\n",
       "      <td>1.4992</td>\n",
       "      <td>Hold or Sell</td>\n",
       "      <td>1.4253</td>\n",
       "      <td>375.2140</td>\n",
       "    </tr>\n",
       "    <tr>\n",
       "      <th>6</th>\n",
       "      <td>amzn</td>\n",
       "      <td>Hold or Sell</td>\n",
       "      <td>1.3841</td>\n",
       "      <td>Hold or Sell</td>\n",
       "      <td>1.0686</td>\n",
       "      <td>Hold or Sell</td>\n",
       "      <td>1.4593</td>\n",
       "      <td>194.9094</td>\n",
       "    </tr>\n",
       "    <tr>\n",
       "      <th>7</th>\n",
       "      <td>baba</td>\n",
       "      <td>Buy</td>\n",
       "      <td>0.9975</td>\n",
       "      <td>Buy</td>\n",
       "      <td>1.2146</td>\n",
       "      <td>Buy</td>\n",
       "      <td>1.1659</td>\n",
       "      <td>0.4420</td>\n",
       "    </tr>\n",
       "    <tr>\n",
       "      <th>8</th>\n",
       "      <td>ba</td>\n",
       "      <td>Buy</td>\n",
       "      <td>1.3362</td>\n",
       "      <td>Buy</td>\n",
       "      <td>0.9312</td>\n",
       "      <td>Buy</td>\n",
       "      <td>1.4070</td>\n",
       "      <td>961.1634</td>\n",
       "    </tr>\n",
       "    <tr>\n",
       "      <th>9</th>\n",
       "      <td>bac</td>\n",
       "      <td>Hold or Sell</td>\n",
       "      <td>1.6633</td>\n",
       "      <td>Hold or Sell</td>\n",
       "      <td>1.7505</td>\n",
       "      <td>Hold or Sell</td>\n",
       "      <td>2.3590</td>\n",
       "      <td>53.8651</td>\n",
       "    </tr>\n",
       "    <tr>\n",
       "      <th>10</th>\n",
       "      <td>bby</td>\n",
       "      <td>Buy</td>\n",
       "      <td>0.7361</td>\n",
       "      <td>Buy</td>\n",
       "      <td>0.9104</td>\n",
       "      <td>Buy</td>\n",
       "      <td>0.7136</td>\n",
       "      <td>457.5260</td>\n",
       "    </tr>\n",
       "    <tr>\n",
       "      <th>11</th>\n",
       "      <td>brk-b</td>\n",
       "      <td>Hold or Sell</td>\n",
       "      <td>1.5032</td>\n",
       "      <td>Hold or Sell</td>\n",
       "      <td>1.7908</td>\n",
       "      <td>Hold or Sell</td>\n",
       "      <td>1.4558</td>\n",
       "      <td>9.2152</td>\n",
       "    </tr>\n",
       "    <tr>\n",
       "      <th>12</th>\n",
       "      <td>crm</td>\n",
       "      <td>Hold or Sell</td>\n",
       "      <td>0.6075</td>\n",
       "      <td>Hold or Sell</td>\n",
       "      <td>0.8274</td>\n",
       "      <td>Hold or Sell</td>\n",
       "      <td>0.6315</td>\n",
       "      <td>16.7391</td>\n",
       "    </tr>\n",
       "    <tr>\n",
       "      <th>13</th>\n",
       "      <td>cost</td>\n",
       "      <td>Hold or Sell</td>\n",
       "      <td>2.0204</td>\n",
       "      <td>Hold or Sell</td>\n",
       "      <td>1.9923</td>\n",
       "      <td>Hold or Sell</td>\n",
       "      <td>2.0040</td>\n",
       "      <td>62.3644</td>\n",
       "    </tr>\n",
       "    <tr>\n",
       "      <th>14</th>\n",
       "      <td>esgv</td>\n",
       "      <td>Hold or Sell</td>\n",
       "      <td>1.2213</td>\n",
       "      <td>Hold or Sell</td>\n",
       "      <td>0.9721</td>\n",
       "      <td>Hold or Sell</td>\n",
       "      <td>1.0910</td>\n",
       "      <td>0.5671</td>\n",
       "    </tr>\n",
       "  </tbody>\n",
       "</table>\n",
       "</div>"
      ],
      "text/plain": [
       "    stock    1_Day_Pred  1_Day_Model_Return    3_Day_Pred  3_Day_Model_Return  \\\n",
       "0       a           Buy              1.8679  Hold or Sell              1.5154   \n",
       "1    aapl  Hold or Sell              2.9936  Hold or Sell              2.7478   \n",
       "2    adbe           Buy              2.9441           Buy              3.1630   \n",
       "3    amat           Buy              7.0680           Buy              7.8204   \n",
       "4     amd           Buy              2.9419           Buy              6.1973   \n",
       "5    amgn  Hold or Sell              1.5030  Hold or Sell              1.4992   \n",
       "6    amzn  Hold or Sell              1.3841  Hold or Sell              1.0686   \n",
       "7    baba           Buy              0.9975           Buy              1.2146   \n",
       "8      ba           Buy              1.3362           Buy              0.9312   \n",
       "9     bac  Hold or Sell              1.6633  Hold or Sell              1.7505   \n",
       "10    bby           Buy              0.7361           Buy              0.9104   \n",
       "11  brk-b  Hold or Sell              1.5032  Hold or Sell              1.7908   \n",
       "12    crm  Hold or Sell              0.6075  Hold or Sell              0.8274   \n",
       "13   cost  Hold or Sell              2.0204  Hold or Sell              1.9923   \n",
       "14   esgv  Hold or Sell              1.2213  Hold or Sell              0.9721   \n",
       "\n",
       "      5_Day_Pred  5_Day_Model_Return  Actual_Returns  \n",
       "0            Buy              1.5462          8.4049  \n",
       "1   Hold or Sell              3.0207        648.6114  \n",
       "2            Buy              3.1568        155.4040  \n",
       "3            Buy              7.1453       1370.2214  \n",
       "4            Buy              4.1659         14.6465  \n",
       "5   Hold or Sell              1.4253        375.2140  \n",
       "6   Hold or Sell              1.4593        194.9094  \n",
       "7            Buy              1.1659          0.4420  \n",
       "8            Buy              1.4070        961.1634  \n",
       "9   Hold or Sell              2.3590         53.8651  \n",
       "10           Buy              0.7136        457.5260  \n",
       "11  Hold or Sell              1.4558          9.2152  \n",
       "12  Hold or Sell              0.6315         16.7391  \n",
       "13  Hold or Sell              2.0040         62.3644  \n",
       "14  Hold or Sell              1.0910          0.5671  "
      ]
     },
     "execution_count": 30,
     "metadata": {},
     "output_type": "execute_result"
    }
   ],
   "source": [
    "summary_df = a.pred_summary_df(start_dates1, stocks = [x for x in start_dates1], days_back = 1)\n",
    "summary_df"
   ]
  },
  {
   "cell_type": "code",
   "execution_count": 31,
   "metadata": {},
   "outputs": [
    {
     "data": {
      "text/plain": [
       "(1.5032, 1.5154, 1.4593, 62.3644)"
      ]
     },
     "execution_count": 31,
     "metadata": {},
     "output_type": "execute_result"
    }
   ],
   "source": [
    "summary_df['1_Day_Model_Return'].median(), summary_df['3_Day_Model_Return'].median(), summary_df['5_Day_Model_Return'].median(), summary_df['Actual_Returns'].median()"
   ]
  },
  {
   "cell_type": "code",
   "execution_count": null,
   "metadata": {},
   "outputs": [],
   "source": []
  },
  {
   "cell_type": "code",
   "execution_count": 32,
   "metadata": {
    "scrolled": false
   },
   "outputs": [
    {
     "data": {
      "text/html": [
       "<div>\n",
       "<style scoped>\n",
       "    .dataframe tbody tr th:only-of-type {\n",
       "        vertical-align: middle;\n",
       "    }\n",
       "\n",
       "    .dataframe tbody tr th {\n",
       "        vertical-align: top;\n",
       "    }\n",
       "\n",
       "    .dataframe thead th {\n",
       "        text-align: right;\n",
       "    }\n",
       "</style>\n",
       "<table border=\"1\" class=\"dataframe\">\n",
       "  <thead>\n",
       "    <tr style=\"text-align: right;\">\n",
       "      <th></th>\n",
       "      <th>stock</th>\n",
       "      <th>1_Day_Pred</th>\n",
       "      <th>1_Day_Model_Return</th>\n",
       "      <th>3_Day_Pred</th>\n",
       "      <th>3_Day_Model_Return</th>\n",
       "      <th>5_Day_Pred</th>\n",
       "      <th>5_Day_Model_Return</th>\n",
       "      <th>Actual_Returns</th>\n",
       "    </tr>\n",
       "  </thead>\n",
       "  <tbody>\n",
       "    <tr>\n",
       "      <th>0</th>\n",
       "      <td>fslr</td>\n",
       "      <td>Hold or Sell</td>\n",
       "      <td>1.0177</td>\n",
       "      <td>Hold or Sell</td>\n",
       "      <td>1.0846</td>\n",
       "      <td>Hold or Sell</td>\n",
       "      <td>1.0307</td>\n",
       "      <td>0.2623</td>\n",
       "    </tr>\n",
       "    <tr>\n",
       "      <th>1</th>\n",
       "      <td>ge</td>\n",
       "      <td>Hold or Sell</td>\n",
       "      <td>0.7551</td>\n",
       "      <td>Hold or Sell</td>\n",
       "      <td>0.4666</td>\n",
       "      <td>Hold or Sell</td>\n",
       "      <td>0.6552</td>\n",
       "      <td>69.3966</td>\n",
       "    </tr>\n",
       "    <tr>\n",
       "      <th>2</th>\n",
       "      <td>goog</td>\n",
       "      <td>Hold or Sell</td>\n",
       "      <td>1.4910</td>\n",
       "      <td>Hold or Sell</td>\n",
       "      <td>1.6441</td>\n",
       "      <td>Hold or Sell</td>\n",
       "      <td>1.8254</td>\n",
       "      <td>9.1975</td>\n",
       "    </tr>\n",
       "    <tr>\n",
       "      <th>3</th>\n",
       "      <td>ibm</td>\n",
       "      <td>Buy</td>\n",
       "      <td>1.1576</td>\n",
       "      <td>Buy</td>\n",
       "      <td>1.5373</td>\n",
       "      <td>Hold or Sell</td>\n",
       "      <td>1.2379</td>\n",
       "      <td>39.6157</td>\n",
       "    </tr>\n",
       "    <tr>\n",
       "      <th>4</th>\n",
       "      <td>intc</td>\n",
       "      <td>Hold or Sell</td>\n",
       "      <td>3.1959</td>\n",
       "      <td>Hold or Sell</td>\n",
       "      <td>2.3403</td>\n",
       "      <td>Hold or Sell</td>\n",
       "      <td>3.3385</td>\n",
       "      <td>156.5579</td>\n",
       "    </tr>\n",
       "    <tr>\n",
       "      <th>5</th>\n",
       "      <td>iyw</td>\n",
       "      <td>Buy</td>\n",
       "      <td>2.0520</td>\n",
       "      <td>Buy</td>\n",
       "      <td>2.2253</td>\n",
       "      <td>Buy</td>\n",
       "      <td>1.6682</td>\n",
       "      <td>9.2853</td>\n",
       "    </tr>\n",
       "    <tr>\n",
       "      <th>6</th>\n",
       "      <td>ll</td>\n",
       "      <td>Hold or Sell</td>\n",
       "      <td>0.3302</td>\n",
       "      <td>Hold or Sell</td>\n",
       "      <td>0.3044</td>\n",
       "      <td>Hold or Sell</td>\n",
       "      <td>0.3221</td>\n",
       "      <td>-0.8685</td>\n",
       "    </tr>\n",
       "    <tr>\n",
       "      <th>7</th>\n",
       "      <td>lng</td>\n",
       "      <td>Hold or Sell</td>\n",
       "      <td>2.1571</td>\n",
       "      <td>Hold or Sell</td>\n",
       "      <td>1.7707</td>\n",
       "      <td>Hold or Sell</td>\n",
       "      <td>1.9496</td>\n",
       "      <td>86.8768</td>\n",
       "    </tr>\n",
       "    <tr>\n",
       "      <th>8</th>\n",
       "      <td>ma</td>\n",
       "      <td>Buy</td>\n",
       "      <td>1.0314</td>\n",
       "      <td>Buy</td>\n",
       "      <td>1.0746</td>\n",
       "      <td>Buy</td>\n",
       "      <td>0.9591</td>\n",
       "      <td>31.1805</td>\n",
       "    </tr>\n",
       "    <tr>\n",
       "      <th>9</th>\n",
       "      <td>msft</td>\n",
       "      <td>Hold or Sell</td>\n",
       "      <td>5.2008</td>\n",
       "      <td>Hold or Sell</td>\n",
       "      <td>5.4621</td>\n",
       "      <td>Hold or Sell</td>\n",
       "      <td>4.9648</td>\n",
       "      <td>252.8573</td>\n",
       "    </tr>\n",
       "    <tr>\n",
       "      <th>10</th>\n",
       "      <td>mu</td>\n",
       "      <td>Buy</td>\n",
       "      <td>1.8454</td>\n",
       "      <td>Buy</td>\n",
       "      <td>1.5906</td>\n",
       "      <td>Buy</td>\n",
       "      <td>1.6826</td>\n",
       "      <td>47.8579</td>\n",
       "    </tr>\n",
       "    <tr>\n",
       "      <th>11</th>\n",
       "      <td>nio</td>\n",
       "      <td>Hold or Sell</td>\n",
       "      <td>1.2703</td>\n",
       "      <td>Hold or Sell</td>\n",
       "      <td>1.4927</td>\n",
       "      <td>Hold or Sell</td>\n",
       "      <td>1.3313</td>\n",
       "      <td>2.6963</td>\n",
       "    </tr>\n",
       "    <tr>\n",
       "      <th>12</th>\n",
       "      <td>nvda</td>\n",
       "      <td>Buy</td>\n",
       "      <td>2.3741</td>\n",
       "      <td>Buy</td>\n",
       "      <td>1.9891</td>\n",
       "      <td>Buy</td>\n",
       "      <td>2.9783</td>\n",
       "      <td>480.3897</td>\n",
       "    </tr>\n",
       "    <tr>\n",
       "      <th>13</th>\n",
       "      <td>pypl</td>\n",
       "      <td>Buy</td>\n",
       "      <td>1.0154</td>\n",
       "      <td>Buy</td>\n",
       "      <td>0.8080</td>\n",
       "      <td>Buy</td>\n",
       "      <td>0.9310</td>\n",
       "      <td>0.5683</td>\n",
       "    </tr>\n",
       "    <tr>\n",
       "      <th>14</th>\n",
       "      <td>qgen</td>\n",
       "      <td>Buy</td>\n",
       "      <td>0.8828</td>\n",
       "      <td>Buy</td>\n",
       "      <td>1.0960</td>\n",
       "      <td>Hold or Sell</td>\n",
       "      <td>1.1284</td>\n",
       "      <td>-0.1270</td>\n",
       "    </tr>\n",
       "  </tbody>\n",
       "</table>\n",
       "</div>"
      ],
      "text/plain": [
       "   stock    1_Day_Pred  1_Day_Model_Return    3_Day_Pred  3_Day_Model_Return  \\\n",
       "0   fslr  Hold or Sell              1.0177  Hold or Sell              1.0846   \n",
       "1     ge  Hold or Sell              0.7551  Hold or Sell              0.4666   \n",
       "2   goog  Hold or Sell              1.4910  Hold or Sell              1.6441   \n",
       "3    ibm           Buy              1.1576           Buy              1.5373   \n",
       "4   intc  Hold or Sell              3.1959  Hold or Sell              2.3403   \n",
       "5    iyw           Buy              2.0520           Buy              2.2253   \n",
       "6     ll  Hold or Sell              0.3302  Hold or Sell              0.3044   \n",
       "7    lng  Hold or Sell              2.1571  Hold or Sell              1.7707   \n",
       "8     ma           Buy              1.0314           Buy              1.0746   \n",
       "9   msft  Hold or Sell              5.2008  Hold or Sell              5.4621   \n",
       "10    mu           Buy              1.8454           Buy              1.5906   \n",
       "11   nio  Hold or Sell              1.2703  Hold or Sell              1.4927   \n",
       "12  nvda           Buy              2.3741           Buy              1.9891   \n",
       "13  pypl           Buy              1.0154           Buy              0.8080   \n",
       "14  qgen           Buy              0.8828           Buy              1.0960   \n",
       "\n",
       "      5_Day_Pred  5_Day_Model_Return  Actual_Returns  \n",
       "0   Hold or Sell              1.0307          0.2623  \n",
       "1   Hold or Sell              0.6552         69.3966  \n",
       "2   Hold or Sell              1.8254          9.1975  \n",
       "3   Hold or Sell              1.2379         39.6157  \n",
       "4   Hold or Sell              3.3385        156.5579  \n",
       "5            Buy              1.6682          9.2853  \n",
       "6   Hold or Sell              0.3221         -0.8685  \n",
       "7   Hold or Sell              1.9496         86.8768  \n",
       "8            Buy              0.9591         31.1805  \n",
       "9   Hold or Sell              4.9648        252.8573  \n",
       "10           Buy              1.6826         47.8579  \n",
       "11  Hold or Sell              1.3313          2.6963  \n",
       "12           Buy              2.9783        480.3897  \n",
       "13           Buy              0.9310          0.5683  \n",
       "14  Hold or Sell              1.1284         -0.1270  "
      ]
     },
     "execution_count": 32,
     "metadata": {},
     "output_type": "execute_result"
    }
   ],
   "source": [
    "summary_df = a.pred_summary_df(start_dates2, stocks = [x for x in start_dates2], days_back = 1)\n",
    "summary_df"
   ]
  },
  {
   "cell_type": "code",
   "execution_count": 33,
   "metadata": {
    "scrolled": true
   },
   "outputs": [
    {
     "data": {
      "text/plain": [
       "(1.2703, 1.5373, 1.3313, 31.1805)"
      ]
     },
     "execution_count": 33,
     "metadata": {},
     "output_type": "execute_result"
    }
   ],
   "source": [
    "summary_df['1_Day_Model_Return'].median(), summary_df['3_Day_Model_Return'].median(), summary_df['5_Day_Model_Return'].median(), summary_df['Actual_Returns'].median()"
   ]
  },
  {
   "cell_type": "code",
   "execution_count": null,
   "metadata": {},
   "outputs": [],
   "source": []
  },
  {
   "cell_type": "code",
   "execution_count": 34,
   "metadata": {},
   "outputs": [
    {
     "data": {
      "text/html": [
       "<div>\n",
       "<style scoped>\n",
       "    .dataframe tbody tr th:only-of-type {\n",
       "        vertical-align: middle;\n",
       "    }\n",
       "\n",
       "    .dataframe tbody tr th {\n",
       "        vertical-align: top;\n",
       "    }\n",
       "\n",
       "    .dataframe thead th {\n",
       "        text-align: right;\n",
       "    }\n",
       "</style>\n",
       "<table border=\"1\" class=\"dataframe\">\n",
       "  <thead>\n",
       "    <tr style=\"text-align: right;\">\n",
       "      <th></th>\n",
       "      <th>stock</th>\n",
       "      <th>1_Day_Pred</th>\n",
       "      <th>1_Day_Model_Return</th>\n",
       "      <th>3_Day_Pred</th>\n",
       "      <th>3_Day_Model_Return</th>\n",
       "      <th>5_Day_Pred</th>\n",
       "      <th>5_Day_Model_Return</th>\n",
       "      <th>Actual_Returns</th>\n",
       "    </tr>\n",
       "  </thead>\n",
       "  <tbody>\n",
       "    <tr>\n",
       "      <th>0</th>\n",
       "      <td>okta</td>\n",
       "      <td>Buy</td>\n",
       "      <td>1.2991</td>\n",
       "      <td>Hold or Sell</td>\n",
       "      <td>0.8733</td>\n",
       "      <td>Hold or Sell</td>\n",
       "      <td>1.1020</td>\n",
       "      <td>0.7188</td>\n",
       "    </tr>\n",
       "    <tr>\n",
       "      <th>1</th>\n",
       "      <td>orcl</td>\n",
       "      <td>Hold or Sell</td>\n",
       "      <td>2.5453</td>\n",
       "      <td>Hold or Sell</td>\n",
       "      <td>2.6284</td>\n",
       "      <td>Hold or Sell</td>\n",
       "      <td>2.6645</td>\n",
       "      <td>352.4546</td>\n",
       "    </tr>\n",
       "    <tr>\n",
       "      <th>2</th>\n",
       "      <td>qcom</td>\n",
       "      <td>Hold or Sell</td>\n",
       "      <td>1.9089</td>\n",
       "      <td>Hold or Sell</td>\n",
       "      <td>1.9599</td>\n",
       "      <td>Hold or Sell</td>\n",
       "      <td>2.8327</td>\n",
       "      <td>71.1763</td>\n",
       "    </tr>\n",
       "    <tr>\n",
       "      <th>3</th>\n",
       "      <td>qqq</td>\n",
       "      <td>Buy</td>\n",
       "      <td>2.0489</td>\n",
       "      <td>Buy</td>\n",
       "      <td>1.8303</td>\n",
       "      <td>Buy</td>\n",
       "      <td>2.3428</td>\n",
       "      <td>15.0774</td>\n",
       "    </tr>\n",
       "    <tr>\n",
       "      <th>4</th>\n",
       "      <td>srpt</td>\n",
       "      <td>Buy</td>\n",
       "      <td>0.5920</td>\n",
       "      <td>Hold or Sell</td>\n",
       "      <td>1.1132</td>\n",
       "      <td>Buy</td>\n",
       "      <td>1.0981</td>\n",
       "      <td>1.1230</td>\n",
       "    </tr>\n",
       "    <tr>\n",
       "      <th>5</th>\n",
       "      <td>tgt</td>\n",
       "      <td>Hold or Sell</td>\n",
       "      <td>1.1416</td>\n",
       "      <td>Hold or Sell</td>\n",
       "      <td>1.5525</td>\n",
       "      <td>Hold or Sell</td>\n",
       "      <td>1.3300</td>\n",
       "      <td>275.5972</td>\n",
       "    </tr>\n",
       "    <tr>\n",
       "      <th>6</th>\n",
       "      <td>tsla</td>\n",
       "      <td>Hold or Sell</td>\n",
       "      <td>0.4482</td>\n",
       "      <td>Hold or Sell</td>\n",
       "      <td>0.4325</td>\n",
       "      <td>Hold or Sell</td>\n",
       "      <td>0.5666</td>\n",
       "      <td>110.3073</td>\n",
       "    </tr>\n",
       "    <tr>\n",
       "      <th>7</th>\n",
       "      <td>tsm</td>\n",
       "      <td>Buy</td>\n",
       "      <td>2.7182</td>\n",
       "      <td>Buy</td>\n",
       "      <td>3.5351</td>\n",
       "      <td>Buy</td>\n",
       "      <td>3.1927</td>\n",
       "      <td>27.3181</td>\n",
       "    </tr>\n",
       "    <tr>\n",
       "      <th>8</th>\n",
       "      <td>v</td>\n",
       "      <td>Hold or Sell</td>\n",
       "      <td>1.1693</td>\n",
       "      <td>Buy</td>\n",
       "      <td>1.0722</td>\n",
       "      <td>Buy</td>\n",
       "      <td>0.9549</td>\n",
       "      <td>13.7666</td>\n",
       "    </tr>\n",
       "    <tr>\n",
       "      <th>9</th>\n",
       "      <td>vbiv</td>\n",
       "      <td>Hold or Sell</td>\n",
       "      <td>0.1066</td>\n",
       "      <td>Hold or Sell</td>\n",
       "      <td>0.0757</td>\n",
       "      <td>Hold or Sell</td>\n",
       "      <td>0.1153</td>\n",
       "      <td>-0.9974</td>\n",
       "    </tr>\n",
       "    <tr>\n",
       "      <th>10</th>\n",
       "      <td>vbr</td>\n",
       "      <td>Hold or Sell</td>\n",
       "      <td>1.5416</td>\n",
       "      <td>Hold or Sell</td>\n",
       "      <td>1.5465</td>\n",
       "      <td>Hold or Sell</td>\n",
       "      <td>1.4589</td>\n",
       "      <td>2.3086</td>\n",
       "    </tr>\n",
       "    <tr>\n",
       "      <th>11</th>\n",
       "      <td>vgt</td>\n",
       "      <td>Buy</td>\n",
       "      <td>1.2742</td>\n",
       "      <td>Hold or Sell</td>\n",
       "      <td>1.1662</td>\n",
       "      <td>Hold or Sell</td>\n",
       "      <td>1.1830</td>\n",
       "      <td>8.1891</td>\n",
       "    </tr>\n",
       "    <tr>\n",
       "      <th>12</th>\n",
       "      <td>wmt</td>\n",
       "      <td>Hold or Sell</td>\n",
       "      <td>1.3930</td>\n",
       "      <td>Hold or Sell</td>\n",
       "      <td>1.0273</td>\n",
       "      <td>Hold or Sell</td>\n",
       "      <td>1.3668</td>\n",
       "      <td>2118.1403</td>\n",
       "    </tr>\n",
       "    <tr>\n",
       "      <th>13</th>\n",
       "      <td>xli</td>\n",
       "      <td>Hold or Sell</td>\n",
       "      <td>1.4720</td>\n",
       "      <td>Hold or Sell</td>\n",
       "      <td>1.6153</td>\n",
       "      <td>Hold or Sell</td>\n",
       "      <td>1.1928</td>\n",
       "      <td>7.2361</td>\n",
       "    </tr>\n",
       "    <tr>\n",
       "      <th>14</th>\n",
       "      <td>xlk</td>\n",
       "      <td>Buy</td>\n",
       "      <td>1.8272</td>\n",
       "      <td>Buy</td>\n",
       "      <td>2.0610</td>\n",
       "      <td>Hold or Sell</td>\n",
       "      <td>1.5483</td>\n",
       "      <td>17.0599</td>\n",
       "    </tr>\n",
       "  </tbody>\n",
       "</table>\n",
       "</div>"
      ],
      "text/plain": [
       "   stock    1_Day_Pred  1_Day_Model_Return    3_Day_Pred  3_Day_Model_Return  \\\n",
       "0   okta           Buy              1.2991  Hold or Sell              0.8733   \n",
       "1   orcl  Hold or Sell              2.5453  Hold or Sell              2.6284   \n",
       "2   qcom  Hold or Sell              1.9089  Hold or Sell              1.9599   \n",
       "3    qqq           Buy              2.0489           Buy              1.8303   \n",
       "4   srpt           Buy              0.5920  Hold or Sell              1.1132   \n",
       "5    tgt  Hold or Sell              1.1416  Hold or Sell              1.5525   \n",
       "6   tsla  Hold or Sell              0.4482  Hold or Sell              0.4325   \n",
       "7    tsm           Buy              2.7182           Buy              3.5351   \n",
       "8      v  Hold or Sell              1.1693           Buy              1.0722   \n",
       "9   vbiv  Hold or Sell              0.1066  Hold or Sell              0.0757   \n",
       "10   vbr  Hold or Sell              1.5416  Hold or Sell              1.5465   \n",
       "11   vgt           Buy              1.2742  Hold or Sell              1.1662   \n",
       "12   wmt  Hold or Sell              1.3930  Hold or Sell              1.0273   \n",
       "13   xli  Hold or Sell              1.4720  Hold or Sell              1.6153   \n",
       "14   xlk           Buy              1.8272           Buy              2.0610   \n",
       "\n",
       "      5_Day_Pred  5_Day_Model_Return  Actual_Returns  \n",
       "0   Hold or Sell              1.1020          0.7188  \n",
       "1   Hold or Sell              2.6645        352.4546  \n",
       "2   Hold or Sell              2.8327         71.1763  \n",
       "3            Buy              2.3428         15.0774  \n",
       "4            Buy              1.0981          1.1230  \n",
       "5   Hold or Sell              1.3300        275.5972  \n",
       "6   Hold or Sell              0.5666        110.3073  \n",
       "7            Buy              3.1927         27.3181  \n",
       "8            Buy              0.9549         13.7666  \n",
       "9   Hold or Sell              0.1153         -0.9974  \n",
       "10  Hold or Sell              1.4589          2.3086  \n",
       "11  Hold or Sell              1.1830          8.1891  \n",
       "12  Hold or Sell              1.3668       2118.1403  \n",
       "13  Hold or Sell              1.1928          7.2361  \n",
       "14  Hold or Sell              1.5483         17.0599  "
      ]
     },
     "execution_count": 34,
     "metadata": {},
     "output_type": "execute_result"
    }
   ],
   "source": [
    "summary_df = a.pred_summary_df(start_dates3, stocks = [x for x in start_dates3], days_back = 1)\n",
    "summary_df"
   ]
  },
  {
   "cell_type": "code",
   "execution_count": 35,
   "metadata": {},
   "outputs": [
    {
     "data": {
      "text/plain": [
       "(1.393, 1.5465, 1.33, 15.0774)"
      ]
     },
     "execution_count": 35,
     "metadata": {},
     "output_type": "execute_result"
    }
   ],
   "source": [
    "summary_df['1_Day_Model_Return'].median(), summary_df['3_Day_Model_Return'].median(), summary_df['5_Day_Model_Return'].median(), summary_df['Actual_Returns'].median()"
   ]
  },
  {
   "cell_type": "code",
   "execution_count": null,
   "metadata": {},
   "outputs": [],
   "source": []
  }
 ],
 "metadata": {
  "kernelspec": {
   "display_name": "Python 3",
   "language": "python",
   "name": "python3"
  },
  "language_info": {
   "codemirror_mode": {
    "name": "ipython",
    "version": 3
   },
   "file_extension": ".py",
   "mimetype": "text/x-python",
   "name": "python",
   "nbconvert_exporter": "python",
   "pygments_lexer": "ipython3",
   "version": "3.8.10"
  }
 },
 "nbformat": 4,
 "nbformat_minor": 4
}
