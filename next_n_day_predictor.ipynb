{
 "cells": [
  {
   "cell_type": "code",
   "execution_count": 1,
   "metadata": {
    "scrolled": true
   },
   "outputs": [],
   "source": [
    "from src import attributes as a\n",
    "%load_ext autoreload\n",
    "%autoreload 2\n",
    "\n",
    "import warnings\n",
    "warnings.filterwarnings('ignore')"
   ]
  },
  {
   "cell_type": "code",
   "execution_count": 2,
   "metadata": {},
   "outputs": [],
   "source": [
    "# Global Variables\n",
    "stock_name = 'tsla' # ticker symbol\n",
    "train = 0 # 1 for train, 0 for pass\n",
    "days_ahead = 1 # for predicting 1, 3, or 5 days ahead\n",
    "days_back = -1 # -1 for current data point, -2 for two days ago, etc...\n",
    "cv = 5 # number of cross validation folds\n",
    "model_name = 'Random Forest Classifier' # for display on charts, not a tuning parameter"
   ]
  },
  {
   "cell_type": "code",
   "execution_count": 3,
   "metadata": {
    "scrolled": false
   },
   "outputs": [
    {
     "name": "stdout",
     "output_type": "stream",
     "text": [
      "1.3.5\n"
     ]
    }
   ],
   "source": [
    "import pandas\n",
    "print(pandas.__version__)"
   ]
  },
  {
   "cell_type": "code",
   "execution_count": 4,
   "metadata": {},
   "outputs": [],
   "source": [
    "# Extract, Transform, Load, and Train Test Split\n",
    "# Dictionary of IPO Dates\n",
    "start_dates = {'a': '11/15/1999' # Updated 4/26/21 1D, 3D, 5D ahead\n",
    "               , 'aapl': '12/12/1980' # Updated 11/8/21 1D, 3D, 5D ahead\n",
    "               #, 'acy': '01/18/1998' # Updated 4/26/21 1D, 3D, 5D ahead\n",
    "               , 'adbe': '08/11/1986' # Updated 11/8/21 1D, 3D, 5D ahead\n",
    "               #, 'alb': '02/21/1994' # Updated 4/26/21 1D, 3D, 5D ahead\n",
    "               , 'amat': '03/16/1980' # Updated 4/26/21 1D, 3D, 5D ahead\n",
    "               , 'amd': '03/17/1980' # Updated 11/23/21 1D, 3D, 5D ahead\n",
    "               , 'amgn': '06/13/1983' # Updated 4/26/21 1D, 3D, 5D ahead\n",
    "               , 'amzn': '05/12/1997' # Updated 11/07/21 1D, 3D, 5D ahead\n",
    "               , 'baba': '09/15/2014' # Updated 11/13/21 1D, 3D, 5D ahead\n",
    "               , 'ba': '01/02/1962' # Updated 05/23/21 1D, 3D, 5D ahead\n",
    "               , 'bac': '02/19/1973' # Updated 4/26/21 1D, 3D, 5D ahead\n",
    "               , 'bby': '04/15/1985' # Updated 11/19/21 1D, 3D, 5D ahead\n",
    "               #, 'bpmc': '04/27/2015' # Updated 4/26/21 1D, 3D, 5D ahead\n",
    "               , 'brk-b': '05/06/1996' # Updated 4/25/23 1D, 3D, 5D ahead\n",
    "               , 'crm': '06/23/2004' # Updated 11/13/21 1D, 3D, 5D ahead\n",
    "               #, 'crsp': '10/16/2016' # Updated 4/26/21 1D, 3D, 5D ahead\n",
    "               , 'cost': '07/07/1986' # Updated 11/23/21 1D, 3D, 5D ahead\n",
    "               #, 'dis': '10/27/2014' # Updatd 11/5/21 1D, 3D, 5D ahead\n",
    "               #, 'dq': '10/04/2010' # Updated 4/26/21 1D, 3D, 5D ahead\n",
    "               , 'esgv': '09/16/2018' # Updated 4/26/21 1D, 3D, 5D ahead\n",
    "               , 'fslr': '11/12/2006' # Updated 4/26/21 1D, 3D, 5D ahead\n",
    "               , 'ge': '01/02/1962' # Updated 5/23/23 1D, 3D, 5D ahead\n",
    "               , 'goog': '08/16/2004' # Updated 11/8/21 1D, 3D, 5D ahead\n",
    "               , 'ibm': '01/02/1962' # Updated 4/26/21 1D, 3D, 5D ahead\n",
    "               , 'intc': '03/16/1980' # Updated 11/13/21 1D, 3D, 5D ahead\n",
    "               , 'iyw': '05/15/2000' # Updated 11/21/21 1D, 3D, 5D ahead\n",
    "               , 'll': '11/05/2007' # Updated 11/22/21 1D, 3D, 5D ahead\n",
    "               , 'lng': '04/04/1994' # Updated 4/26/21 1D, 3D, 5D ahead\n",
    "               , 'ma': '05/21/2006' # Updated 4/26/21 1D, 3D, 5D ahead\n",
    "               # , 'mdb': '10/15/2017' # Updated 11/21/21 1D, 3D, 5D ahead\n",
    "               , 'msft': '03/10/1986' # Updated 11/8/21 1D, 3D, 5D ahead\n",
    "               , 'mu': '05/28/1984' # Updated 11/20/21 1D, 3D, 5D ahead\n",
    "               #, 'nee': '02/19/1973' # Updated 4/26/21 1D, 3D, 5D ahead\n",
    "               , 'nio': '09/10/2018' # Updated 4/26/21 1D, 3D, 5D ahead\n",
    "               , 'nvda': '01/22/1999' # Updated 11/17/21 1D, 3D, 5D ahead\n",
    "               #, 'pacb': '10/25/2010' # Updated 4/26/21 1D, 3D, 5D ahead\n",
    "               , 'pypl': '07/05/2015' # Updated 4/26/21 1D, 3D, 5D ahead\n",
    "               , 'qgen': '06/24/1996' # Updated 4/26/21 1D, 3D, 5D ahead\n",
    "               #, 'run': '08/02/2015' # Updated 4/26/21 1D, 3D, 5D ahead\n",
    "               , 'okta': '04/03/2017' # Updated 4/26/21 1D, 3D, 5D ahead\n",
    "               , 'orcl': '03/10/1986' # Updated 4/26/21 1D, 3D, 5D ahead\n",
    "               , 'qcom': '12/09/1991' # Updated 11/20/21 1D, 3D, 5D ahead\n",
    "               , 'qqq': '03/08/1999' # Updated 4/26/21 1D, 3D, 5D ahead\n",
    "               , 'srpt': '06/02/1997' # Updated 4/26/21 1D, 3D, 5D ahead\n",
    "               , 'tgt': '02/19/1973' # Updated 11/22/21 1D, 3D, 5D ahead\n",
    "               #, 'tpic': '07/17/2016' # Updated 4/26/21 1D, 3D, 5D ahead\n",
    "               , 'tsla': '06/29/2010' # Updated 11/07/21 1D, 3D, 5D ahead\n",
    "               , 'tsm': '10/06/1997' # Updated 11/20/21 1D, 3D, 5D ahead\n",
    "               , 'v': '03/16/2008' # Updated 11/22/21 1D, 3D, 5D ahead\n",
    "               , 'vbiv': '09/04/2002' # Updated 4/26/21 1D, 3D, 5D ahead\n",
    "               , 'vbr': '01/26/2004' # Updated 11/20/21 1D, 3D, 5D ahead\n",
    "               #, 'viov': '09/06/2010' # Updated 4/26/21 1D, 3D, 5D ahead\n",
    "               , 'vgt': '01/26/2004' # Updated 11/07/21 1D, 3D, 5D ahead\n",
    "               , 'wmt': '11/10/2014' # Updated 11/16/21 1D, 3D, 5D ahead\n",
    "               , 'xli': '12/21/1998' # Updated 11/21/21 1D, 3D, 5D ahead\n",
    "               , 'xlk': '12/21/1998' # Updated 5/23/23 1D, 3D, 5D ahead\n",
    "              }"
   ]
  },
  {
   "cell_type": "markdown",
   "metadata": {},
   "source": [
    "### Get Data..."
   ]
  },
  {
   "cell_type": "code",
   "execution_count": 5,
   "metadata": {
    "scrolled": false
   },
   "outputs": [
    {
     "name": "stdout",
     "output_type": "stream",
     "text": [
      "Today's date: 2024-05-29\n",
      "Table Updates Complete\n",
      "Current Time:  02:49:09\n"
     ]
    }
   ],
   "source": [
    "from datetime import date, datetime\n",
    "today = date.today()\n",
    "print(\"Today's date:\", today)\n",
    "a.get_tables(start_dates) # commented out for 2021-12-19, data already downloaded for weekend\n",
    "print('Table Updates Complete')\n",
    "now = datetime.now()\n",
    "current_time = now.strftime(\"%H:%M:%S\")\n",
    "print(\"Current Time: \", current_time)"
   ]
  },
  {
   "cell_type": "code",
   "execution_count": 6,
   "metadata": {},
   "outputs": [],
   "source": [
    "# Load RandomForextClassifier Model\n",
    "# rfc_model, y_pred, y_probs = a.rfc(X_train, X_test, y_train, stock_name, days_ahead)"
   ]
  },
  {
   "cell_type": "code",
   "execution_count": 7,
   "metadata": {
    "scrolled": false
   },
   "outputs": [],
   "source": [
    "# ROC Curve\n",
    "# a.roc_plot(y_test, y_probs, stock_name, model_name)"
   ]
  },
  {
   "cell_type": "code",
   "execution_count": 8,
   "metadata": {
    "scrolled": false
   },
   "outputs": [],
   "source": [
    "# Precision Recall Curve\n",
    "# a.prec_recall(y_test, y_probs, stock_name, model_name)"
   ]
  },
  {
   "cell_type": "code",
   "execution_count": 9,
   "metadata": {
    "scrolled": false
   },
   "outputs": [],
   "source": [
    "# Confusion Matrix\n",
    "# a.confusion_matrix(rfc_model, X_test, y_test, stock_name)"
   ]
  },
  {
   "cell_type": "code",
   "execution_count": 10,
   "metadata": {},
   "outputs": [],
   "source": [
    "# Cross Validation\n",
    "# a.cross_validation(rfc_model\n",
    "#                    , stock_df[['oc', 'hl', '5stdev_adj', '5sma_adj']]\n",
    "#                    , stock_df['direction']\n",
    "#                    , cv = 5\n",
    "#                   )"
   ]
  },
  {
   "cell_type": "markdown",
   "metadata": {},
   "source": [
    "### Prediction..."
   ]
  },
  {
   "cell_type": "code",
   "execution_count": 11,
   "metadata": {
    "scrolled": true
   },
   "outputs": [],
   "source": [
    "# Prediction, use last day of data\n",
    "# stock_df.iloc[-1]"
   ]
  },
  {
   "cell_type": "code",
   "execution_count": 12,
   "metadata": {},
   "outputs": [],
   "source": [
    "# import numpy as np\n",
    "# last = stock_df[['oc', 'hl', '5stdev_adj', '5sma_adj']].iloc[-days_back]\n",
    "# last"
   ]
  },
  {
   "cell_type": "code",
   "execution_count": 13,
   "metadata": {},
   "outputs": [],
   "source": [
    "# stock_df['adj'].describe()"
   ]
  },
  {
   "cell_type": "code",
   "execution_count": 14,
   "metadata": {
    "scrolled": true
   },
   "outputs": [],
   "source": [
    "# if rfc_model.predict(np.array(last).reshape(1, -1))[0] == 1:\n",
    "#     print(f'Buy {stock_name} {days_ahead} day(s) ahead')\n",
    "# else:\n",
    "#     print(f'Sell or hold {stock_name} {days_ahead} day(s) ahead')"
   ]
  },
  {
   "cell_type": "markdown",
   "metadata": {},
   "source": [
    "### Strategy Returns..."
   ]
  },
  {
   "cell_type": "code",
   "execution_count": 15,
   "metadata": {},
   "outputs": [],
   "source": [
    "# returns on strategy column\n",
    "# stock_df['prediction'] = rfc_model.predict(stock_df[['oc', 'hl', '5stdev_adj', '5sma_adj']])\n",
    "# stock_df['returns'] = stock_df['adj'].shift(-1, fill_value = stock_df['adj'].median()) * stock_df['prediction']"
   ]
  },
  {
   "cell_type": "code",
   "execution_count": 16,
   "metadata": {},
   "outputs": [],
   "source": [
    "# stock_df.tail(5)"
   ]
  },
  {
   "cell_type": "code",
   "execution_count": 17,
   "metadata": {},
   "outputs": [],
   "source": [
    "# Don't trade every day!\n",
    "# import matplotlib.pyplot as plt\n",
    "# test_length = len(y_test)\n",
    "# (stock_df['returns'][-test_length:] + 1).cumprod().plot()\n",
    "# plt.title(f'{stock_name} Expected Returns %');"
   ]
  },
  {
   "cell_type": "code",
   "execution_count": 18,
   "metadata": {},
   "outputs": [],
   "source": [
    "# Model returns if bought on predictions of 1\n",
    "# returns_on_ones = []\n",
    "# for idx in range(-test_length, 0):\n",
    "#     if stock_df['prediction'][idx] == 1:\n",
    "#         returns_on_ones.append(1 + stock_df['returns'][idx])\n",
    "\n",
    "# returns = 1\n",
    "# for x in returns_on_ones:\n",
    "#     returns *= x\n",
    "# returns"
   ]
  },
  {
   "cell_type": "code",
   "execution_count": 19,
   "metadata": {},
   "outputs": [],
   "source": [
    "# multiple times original investment, not bad but..."
   ]
  },
  {
   "cell_type": "code",
   "execution_count": 20,
   "metadata": {},
   "outputs": [],
   "source": [
    "# If purchased in 2012 and left it until now\n",
    "# test_idx = int(len(stock_df)*0.75)\n",
    "# (stock_df['Close'][-1] - stock_df['Close'][-test_idx]) / stock_df['Close'][-test_idx]"
   ]
  },
  {
   "cell_type": "code",
   "execution_count": 21,
   "metadata": {},
   "outputs": [],
   "source": [
    "# Buy and hold strategy beats RandomForestClassifier in this study\n",
    "\n",
    "# Special thanks to Shagufta Tahsildar at https://blog.quantinsti.com/random-forest-algorithm-in-python/"
   ]
  },
  {
   "cell_type": "code",
   "execution_count": null,
   "metadata": {},
   "outputs": [],
   "source": []
  },
  {
   "cell_type": "code",
   "execution_count": null,
   "metadata": {},
   "outputs": [],
   "source": []
  },
  {
   "cell_type": "code",
   "execution_count": null,
   "metadata": {},
   "outputs": [],
   "source": []
  },
  {
   "cell_type": "markdown",
   "metadata": {},
   "source": [
    "### Training"
   ]
  },
  {
   "cell_type": "markdown",
   "metadata": {},
   "source": [
    "Training is done once a week on Saturday and Sunday"
   ]
  },
  {
   "cell_type": "code",
   "execution_count": 22,
   "metadata": {},
   "outputs": [
    {
     "data": {
      "text/plain": [
       "45"
      ]
     },
     "execution_count": 22,
     "metadata": {},
     "output_type": "execute_result"
    }
   ],
   "source": [
    "len(start_dates)"
   ]
  },
  {
   "cell_type": "code",
   "execution_count": 23,
   "metadata": {},
   "outputs": [
    {
     "data": {
      "text/plain": [
       "{'a': '11/15/1999',\n",
       " 'aapl': '12/12/1980',\n",
       " 'adbe': '08/11/1986',\n",
       " 'amat': '03/16/1980',\n",
       " 'amd': '03/17/1980',\n",
       " 'amgn': '06/13/1983',\n",
       " 'amzn': '05/12/1997',\n",
       " 'baba': '09/15/2014',\n",
       " 'ba': '01/02/1962',\n",
       " 'bac': '02/19/1973',\n",
       " 'bby': '04/15/1985',\n",
       " 'brk-b': '05/06/1996',\n",
       " 'crm': '06/23/2004',\n",
       " 'cost': '07/07/1986',\n",
       " 'esgv': '09/16/2018'}"
      ]
     },
     "execution_count": 23,
     "metadata": {},
     "output_type": "execute_result"
    }
   ],
   "source": [
    "import itertools as itr\n",
    "start_dates1 = dict(itr.islice(start_dates.items(), 0, 15))\n",
    "start_dates1"
   ]
  },
  {
   "cell_type": "code",
   "execution_count": 24,
   "metadata": {},
   "outputs": [
    {
     "data": {
      "text/plain": [
       "{'fslr': '11/12/2006',\n",
       " 'ge': '01/02/1962',\n",
       " 'goog': '08/16/2004',\n",
       " 'ibm': '01/02/1962',\n",
       " 'intc': '03/16/1980',\n",
       " 'iyw': '05/15/2000',\n",
       " 'll': '11/05/2007',\n",
       " 'lng': '04/04/1994',\n",
       " 'ma': '05/21/2006',\n",
       " 'msft': '03/10/1986',\n",
       " 'mu': '05/28/1984',\n",
       " 'nio': '09/10/2018',\n",
       " 'nvda': '01/22/1999',\n",
       " 'pypl': '07/05/2015',\n",
       " 'qgen': '06/24/1996'}"
      ]
     },
     "execution_count": 24,
     "metadata": {},
     "output_type": "execute_result"
    }
   ],
   "source": [
    "start_dates2 = dict(itr.islice(start_dates.items(), 15, 30))\n",
    "start_dates2"
   ]
  },
  {
   "cell_type": "code",
   "execution_count": 25,
   "metadata": {},
   "outputs": [
    {
     "data": {
      "text/plain": [
       "{'okta': '04/03/2017',\n",
       " 'orcl': '03/10/1986',\n",
       " 'qcom': '12/09/1991',\n",
       " 'qqq': '03/08/1999',\n",
       " 'srpt': '06/02/1997',\n",
       " 'tgt': '02/19/1973',\n",
       " 'tsla': '06/29/2010',\n",
       " 'tsm': '10/06/1997',\n",
       " 'v': '03/16/2008',\n",
       " 'vbiv': '09/04/2002',\n",
       " 'vbr': '01/26/2004',\n",
       " 'vgt': '01/26/2004',\n",
       " 'wmt': '11/10/2014',\n",
       " 'xli': '12/21/1998',\n",
       " 'xlk': '12/21/1998'}"
      ]
     },
     "execution_count": 25,
     "metadata": {},
     "output_type": "execute_result"
    }
   ],
   "source": [
    "start_dates3 = dict(itr.islice(start_dates.items(), 30, 45+1))\n",
    "start_dates3"
   ]
  },
  {
   "cell_type": "code",
   "execution_count": 26,
   "metadata": {
    "scrolled": false
   },
   "outputs": [],
   "source": [
    "# from datetime import datetime\n",
    "\n",
    "# now = datetime.now()\n",
    "\n",
    "# current_time = now.strftime(\"%H:%M:%S\")\n",
    "# print(\"Gridsearch Start Date: \", today)\n",
    "# print(\"Current Time: \", current_time)\n",
    "\n",
    "#Train 15 at a time!\n",
    "# stocks = [x for x in start_dates1]\n",
    "# days_ahead = [1, 3, 5]\n",
    "# cv = 5\n",
    "# for stock in stocks:\n",
    "#     for days in days_ahead:\n",
    "#         X_train, X_test, y_train, y_test, stock_df = a.data(stock, start_dates[stock], days)\n",
    "#         a.rfc_GridSearch(X_train, y_train, stock, days, cv)\n",
    "# len(stocks)\n",
    "\n",
    "# Next on training for Saturday 4/17/2021\n",
    "# stocks = [x for x in start_dates2]\n",
    "# days_ahead = [1, 3, 5]\n",
    "# cv = 5\n",
    "# for stock in stocks:\n",
    "#     for days in days_ahead:\n",
    "#         X_train, X_test, y_train, y_test, stock_df = a.data(stock, start_dates[stock], days)\n",
    "#         a.rfc_GridSearch(X_train, y_train, stock, days, cv)\n",
    "# len(stocks)\n",
    "\n",
    "# Next on training for Saturday 4/17/2021\n",
    "# stocks = [x for x in start_dates3]\n",
    "# days_ahead = [1, 3, 5]\n",
    "# cv = 5\n",
    "# for stock in stocks:\n",
    "#     for days in days_ahead:\n",
    "#         X_train, X_test, y_train, y_test, stock_df = a.data(stock, start_dates[stock], days)\n",
    "#         a.rfc_GridSearch(X_train, y_train, stock, days, cv)\n",
    "# len(stocks)\n",
    "\n",
    "# # Train all, takes 15+ hours\n",
    "# stocks = [x for x in start_dates]\n",
    "# days_ahead = [1, 3, 5]\n",
    "# cv = 5\n",
    "# for stock in stocks:\n",
    "#     for days in days_ahead:\n",
    "#         X_train, X_test, y_train, y_test, stock_df = a.data(stock, start_dates[stock], days)\n",
    "#         a.rfc_GridSearch(X_train, y_train, stock, days, cv)\n",
    "# len(stocks)\n",
    "\n",
    "# Train desired stocks...takes less time (4 will take 15.5 hours, each stock is roughly 2.5-4 hours to train)\n",
    "# 3 will take 7.5 hours, roughly 2.5 hours per stock trained\n",
    "# to train: ['cost']\n",
    "\n",
    "# import timeit \n",
    "# stocks = ['xli', 'ba', 'ge'] # updated 2023-05-23 (3:48pm - 12:47am ~9hours)\n",
    "# days_ahead = [1, 3, 5] \n",
    "# cv = 2 # was 5 \n",
    "# for stock in stocks:\n",
    "#     for days in days_ahead:\n",
    "#         X_train, X_test, y_train, y_test, stock_df = a.data(stock, start_dates[stock], days)\n",
    "#         %timeit a.rfc_GridSearch(X_train, y_train, stock, days, cv)\n",
    "\n",
    "# now = datetime.now()\n",
    "\n",
    "# current_time = now.strftime(\"%H:%M:%S\")\n",
    "# print(\"Gridsearch End Date: \", today)\n",
    "# print(\"Current Time: \", current_time)"
   ]
  },
  {
   "cell_type": "code",
   "execution_count": null,
   "metadata": {},
   "outputs": [],
   "source": []
  },
  {
   "cell_type": "code",
   "execution_count": null,
   "metadata": {},
   "outputs": [],
   "source": []
  },
  {
   "cell_type": "code",
   "execution_count": null,
   "metadata": {},
   "outputs": [],
   "source": []
  },
  {
   "cell_type": "markdown",
   "metadata": {},
   "source": [
    "### Display All Results"
   ]
  },
  {
   "cell_type": "markdown",
   "metadata": {},
   "source": [
    "**NOTE:** Returns include buying ups and selling downs"
   ]
  },
  {
   "cell_type": "code",
   "execution_count": 27,
   "metadata": {},
   "outputs": [
    {
     "name": "stdout",
     "output_type": "stream",
     "text": [
      "Today's date: 2024-05-29\n",
      "Current Time:  02:49:10\n"
     ]
    }
   ],
   "source": [
    "from datetime import date, datetime\n",
    "today = date.today()\n",
    "print(\"Today's date:\", today)\n",
    "now = datetime.now()\n",
    "current_time = now.strftime(\"%H:%M:%S\")\n",
    "print(\"Current Time: \", current_time)"
   ]
  },
  {
   "cell_type": "code",
   "execution_count": 28,
   "metadata": {
    "scrolled": false
   },
   "outputs": [
    {
     "name": "stdout",
     "output_type": "stream",
     "text": [
      "Sell or hold nvda 1 day(s) ahead\n",
      "Model Returns (x 100 for %): 2.2447\n",
      "Stock Returns (x 100 for %): 1145.181\n"
     ]
    },
    {
     "data": {
      "image/png": "[encoded data removed]",
      "text/plain": [
       "<Figure size 432x288 with 1 Axes>"
      ]
     },
     "metadata": {},
     "output_type": "display_data"
    },
    {
     "data": {
      "image/png": "[encoded data removed]",
      "text/plain": [
       "<Figure size 648x504 with 1 Axes>"
      ]
     },
     "metadata": {},
     "output_type": "display_data"
    },
    {
     "data": {
      "image/png": "[encoded data removed]",
      "text/plain": [
       "<Figure size 648x504 with 1 Axes>"
      ]
     },
     "metadata": {},
     "output_type": "display_data"
    },
    {
     "data": {
      "image/png": "[encoded data removed]",
      "text/plain": [
       "<Figure size 684x612 with 2 Axes>"
      ]
     },
     "metadata": {},
     "output_type": "display_data"
    }
   ],
   "source": [
    "stock_name = 'nvda'\n",
    "a.all_func(stock_name\n",
    "           , start_dates[stock_name]\n",
    "           , days_ahead = 1\n",
    "           , model_name = model_name\n",
    "           , days_back = 1\n",
    "          )\n",
    "# chart shows if traded every day up or down"
   ]
  },
  {
   "cell_type": "code",
   "execution_count": null,
   "metadata": {},
   "outputs": [],
   "source": []
  },
  {
   "cell_type": "code",
   "execution_count": null,
   "metadata": {},
   "outputs": [],
   "source": []
  },
  {
   "cell_type": "code",
   "execution_count": null,
   "metadata": {},
   "outputs": [],
   "source": []
  },
  {
   "cell_type": "markdown",
   "metadata": {},
   "source": [
    "### Data Frame of Predictions 1 3 5 Days"
   ]
  },
  {
   "cell_type": "markdown",
   "metadata": {},
   "source": [
    "**NOTE:** Returns are for buys only."
   ]
  },
  {
   "cell_type": "code",
   "execution_count": 29,
   "metadata": {
    "scrolled": true
   },
   "outputs": [
    {
     "name": "stdout",
     "output_type": "stream",
     "text": [
      "Today's date: 2024-05-29\n",
      "Current Time = 02:49:10\n"
     ]
    }
   ],
   "source": [
    "print(\"Today's date:\", today)\n",
    "print(\"Current Time =\", current_time)"
   ]
  },
  {
   "cell_type": "code",
   "execution_count": 30,
   "metadata": {
    "scrolled": false
   },
   "outputs": [
    {
     "data": {
      "text/html": [
       "<div>\n",
       "<style scoped>\n",
       "    .dataframe tbody tr th:only-of-type {\n",
       "        vertical-align: middle;\n",
       "    }\n",
       "\n",
       "    .dataframe tbody tr th {\n",
       "        vertical-align: top;\n",
       "    }\n",
       "\n",
       "    .dataframe thead th {\n",
       "        text-align: right;\n",
       "    }\n",
       "</style>\n",
       "<table border=\"1\" class=\"dataframe\">\n",
       "  <thead>\n",
       "    <tr style=\"text-align: right;\">\n",
       "      <th></th>\n",
       "      <th>stock</th>\n",
       "      <th>1_Day_Pred</th>\n",
       "      <th>1_Day_Model_Return</th>\n",
       "      <th>3_Day_Pred</th>\n",
       "      <th>3_Day_Model_Return</th>\n",
       "      <th>5_Day_Pred</th>\n",
       "      <th>5_Day_Model_Return</th>\n",
       "      <th>Actual_Returns</th>\n",
       "    </tr>\n",
       "  </thead>\n",
       "  <tbody>\n",
       "    <tr>\n",
       "      <th>0</th>\n",
       "      <td>a</td>\n",
       "      <td>Buy</td>\n",
       "      <td>1.2340</td>\n",
       "      <td>Buy</td>\n",
       "      <td>1.1221</td>\n",
       "      <td>Buy</td>\n",
       "      <td>1.3157</td>\n",
       "      <td>9.1484</td>\n",
       "    </tr>\n",
       "    <tr>\n",
       "      <th>1</th>\n",
       "      <td>aapl</td>\n",
       "      <td>Buy</td>\n",
       "      <td>3.2253</td>\n",
       "      <td>Buy</td>\n",
       "      <td>2.8083</td>\n",
       "      <td>Buy</td>\n",
       "      <td>2.8636</td>\n",
       "      <td>678.7266</td>\n",
       "    </tr>\n",
       "    <tr>\n",
       "      <th>2</th>\n",
       "      <td>adbe</td>\n",
       "      <td>Hold or Sell</td>\n",
       "      <td>1.7145</td>\n",
       "      <td>Hold or Sell</td>\n",
       "      <td>1.8906</td>\n",
       "      <td>Hold or Sell</td>\n",
       "      <td>1.8491</td>\n",
       "      <td>177.7947</td>\n",
       "    </tr>\n",
       "    <tr>\n",
       "      <th>3</th>\n",
       "      <td>amat</td>\n",
       "      <td>Buy</td>\n",
       "      <td>6.3044</td>\n",
       "      <td>Buy</td>\n",
       "      <td>7.2885</td>\n",
       "      <td>Buy</td>\n",
       "      <td>6.9432</td>\n",
       "      <td>1879.7465</td>\n",
       "    </tr>\n",
       "    <tr>\n",
       "      <th>4</th>\n",
       "      <td>amd</td>\n",
       "      <td>Hold or Sell</td>\n",
       "      <td>3.8365</td>\n",
       "      <td>Hold or Sell</td>\n",
       "      <td>8.0700</td>\n",
       "      <td>Hold or Sell</td>\n",
       "      <td>6.1568</td>\n",
       "      <td>21.3233</td>\n",
       "    </tr>\n",
       "    <tr>\n",
       "      <th>5</th>\n",
       "      <td>amgn</td>\n",
       "      <td>Buy</td>\n",
       "      <td>1.2964</td>\n",
       "      <td>Buy</td>\n",
       "      <td>1.4209</td>\n",
       "      <td>Buy</td>\n",
       "      <td>1.2402</td>\n",
       "      <td>506.8334</td>\n",
       "    </tr>\n",
       "    <tr>\n",
       "      <th>6</th>\n",
       "      <td>amzn</td>\n",
       "      <td>Hold or Sell</td>\n",
       "      <td>1.2500</td>\n",
       "      <td>Hold or Sell</td>\n",
       "      <td>1.2319</td>\n",
       "      <td>Hold or Sell</td>\n",
       "      <td>1.2131</td>\n",
       "      <td>252.6908</td>\n",
       "    </tr>\n",
       "    <tr>\n",
       "      <th>7</th>\n",
       "      <td>baba</td>\n",
       "      <td>Buy</td>\n",
       "      <td>0.9399</td>\n",
       "      <td>Buy</td>\n",
       "      <td>0.8356</td>\n",
       "      <td>Hold or Sell</td>\n",
       "      <td>0.8016</td>\n",
       "      <td>0.0333</td>\n",
       "    </tr>\n",
       "    <tr>\n",
       "      <th>8</th>\n",
       "      <td>ba</td>\n",
       "      <td>Hold or Sell</td>\n",
       "      <td>0.9491</td>\n",
       "      <td>Hold or Sell</td>\n",
       "      <td>0.7615</td>\n",
       "      <td>Hold or Sell</td>\n",
       "      <td>0.7058</td>\n",
       "      <td>966.7448</td>\n",
       "    </tr>\n",
       "    <tr>\n",
       "      <th>9</th>\n",
       "      <td>bac</td>\n",
       "      <td>Buy</td>\n",
       "      <td>1.7031</td>\n",
       "      <td>Buy</td>\n",
       "      <td>1.4335</td>\n",
       "      <td>Buy</td>\n",
       "      <td>2.3928</td>\n",
       "      <td>70.9385</td>\n",
       "    </tr>\n",
       "    <tr>\n",
       "      <th>10</th>\n",
       "      <td>bby</td>\n",
       "      <td>Hold or Sell</td>\n",
       "      <td>0.4926</td>\n",
       "      <td>Hold or Sell</td>\n",
       "      <td>0.5847</td>\n",
       "      <td>Hold or Sell</td>\n",
       "      <td>0.5838</td>\n",
       "      <td>383.2944</td>\n",
       "    </tr>\n",
       "    <tr>\n",
       "      <th>11</th>\n",
       "      <td>brk-b</td>\n",
       "      <td>Buy</td>\n",
       "      <td>1.3048</td>\n",
       "      <td>Buy</td>\n",
       "      <td>1.4363</td>\n",
       "      <td>Buy</td>\n",
       "      <td>1.2557</td>\n",
       "      <td>8.9728</td>\n",
       "    </tr>\n",
       "    <tr>\n",
       "      <th>12</th>\n",
       "      <td>crm</td>\n",
       "      <td>Buy</td>\n",
       "      <td>0.7191</td>\n",
       "      <td>Buy</td>\n",
       "      <td>0.7298</td>\n",
       "      <td>Buy</td>\n",
       "      <td>0.7249</td>\n",
       "      <td>23.5509</td>\n",
       "    </tr>\n",
       "    <tr>\n",
       "      <th>13</th>\n",
       "      <td>cost</td>\n",
       "      <td>Hold or Sell</td>\n",
       "      <td>2.5391</td>\n",
       "      <td>Hold or Sell</td>\n",
       "      <td>2.5966</td>\n",
       "      <td>Hold or Sell</td>\n",
       "      <td>2.2081</td>\n",
       "      <td>137.0038</td>\n",
       "    </tr>\n",
       "    <tr>\n",
       "      <th>14</th>\n",
       "      <td>esgv</td>\n",
       "      <td>Buy</td>\n",
       "      <td>1.0578</td>\n",
       "      <td>Buy</td>\n",
       "      <td>1.0061</td>\n",
       "      <td>Buy</td>\n",
       "      <td>0.9799</td>\n",
       "      <td>0.9756</td>\n",
       "    </tr>\n",
       "  </tbody>\n",
       "</table>\n",
       "</div>"
      ],
      "text/plain": [
       "    stock    1_Day_Pred  1_Day_Model_Return    3_Day_Pred  3_Day_Model_Return  \\\n",
       "0       a           Buy              1.2340           Buy              1.1221   \n",
       "1    aapl           Buy              3.2253           Buy              2.8083   \n",
       "2    adbe  Hold or Sell              1.7145  Hold or Sell              1.8906   \n",
       "3    amat           Buy              6.3044           Buy              7.2885   \n",
       "4     amd  Hold or Sell              3.8365  Hold or Sell              8.0700   \n",
       "5    amgn           Buy              1.2964           Buy              1.4209   \n",
       "6    amzn  Hold or Sell              1.2500  Hold or Sell              1.2319   \n",
       "7    baba           Buy              0.9399           Buy              0.8356   \n",
       "8      ba  Hold or Sell              0.9491  Hold or Sell              0.7615   \n",
       "9     bac           Buy              1.7031           Buy              1.4335   \n",
       "10    bby  Hold or Sell              0.4926  Hold or Sell              0.5847   \n",
       "11  brk-b           Buy              1.3048           Buy              1.4363   \n",
       "12    crm           Buy              0.7191           Buy              0.7298   \n",
       "13   cost  Hold or Sell              2.5391  Hold or Sell              2.5966   \n",
       "14   esgv           Buy              1.0578           Buy              1.0061   \n",
       "\n",
       "      5_Day_Pred  5_Day_Model_Return  Actual_Returns  \n",
       "0            Buy              1.3157          9.1484  \n",
       "1            Buy              2.8636        678.7266  \n",
       "2   Hold or Sell              1.8491        177.7947  \n",
       "3            Buy              6.9432       1879.7465  \n",
       "4   Hold or Sell              6.1568         21.3233  \n",
       "5            Buy              1.2402        506.8334  \n",
       "6   Hold or Sell              1.2131        252.6908  \n",
       "7   Hold or Sell              0.8016          0.0333  \n",
       "8   Hold or Sell              0.7058        966.7448  \n",
       "9            Buy              2.3928         70.9385  \n",
       "10  Hold or Sell              0.5838        383.2944  \n",
       "11           Buy              1.2557          8.9728  \n",
       "12           Buy              0.7249         23.5509  \n",
       "13  Hold or Sell              2.2081        137.0038  \n",
       "14           Buy              0.9799          0.9756  "
      ]
     },
     "execution_count": 30,
     "metadata": {},
     "output_type": "execute_result"
    }
   ],
   "source": [
    "summary_df = a.pred_summary_df(start_dates1, stocks = [x for x in start_dates1], days_back = 1)\n",
    "summary_df"
   ]
  },
  {
   "cell_type": "code",
   "execution_count": 31,
   "metadata": {},
   "outputs": [
    {
     "data": {
      "text/plain": [
       "(1.2964, 1.4209, 1.2557, 137.0038)"
      ]
     },
     "execution_count": 31,
     "metadata": {},
     "output_type": "execute_result"
    }
   ],
   "source": [
    "summary_df['1_Day_Model_Return'].median(), summary_df['3_Day_Model_Return'].median(), summary_df['5_Day_Model_Return'].median(), summary_df['Actual_Returns'].median()"
   ]
  },
  {
   "cell_type": "code",
   "execution_count": null,
   "metadata": {},
   "outputs": [],
   "source": []
  },
  {
   "cell_type": "code",
   "execution_count": 32,
   "metadata": {
    "scrolled": false
   },
   "outputs": [
    {
     "data": {
      "text/html": [
       "<div>\n",
       "<style scoped>\n",
       "    .dataframe tbody tr th:only-of-type {\n",
       "        vertical-align: middle;\n",
       "    }\n",
       "\n",
       "    .dataframe tbody tr th {\n",
       "        vertical-align: top;\n",
       "    }\n",
       "\n",
       "    .dataframe thead th {\n",
       "        text-align: right;\n",
       "    }\n",
       "</style>\n",
       "<table border=\"1\" class=\"dataframe\">\n",
       "  <thead>\n",
       "    <tr style=\"text-align: right;\">\n",
       "      <th></th>\n",
       "      <th>stock</th>\n",
       "      <th>1_Day_Pred</th>\n",
       "      <th>1_Day_Model_Return</th>\n",
       "      <th>3_Day_Pred</th>\n",
       "      <th>3_Day_Model_Return</th>\n",
       "      <th>5_Day_Pred</th>\n",
       "      <th>5_Day_Model_Return</th>\n",
       "      <th>Actual_Returns</th>\n",
       "    </tr>\n",
       "  </thead>\n",
       "  <tbody>\n",
       "    <tr>\n",
       "      <th>0</th>\n",
       "      <td>fslr</td>\n",
       "      <td>Hold or Sell</td>\n",
       "      <td>1.1549</td>\n",
       "      <td>Hold or Sell</td>\n",
       "      <td>1.1785</td>\n",
       "      <td>Hold or Sell</td>\n",
       "      <td>1.1341</td>\n",
       "      <td>0.8932</td>\n",
       "    </tr>\n",
       "    <tr>\n",
       "      <th>1</th>\n",
       "      <td>ge</td>\n",
       "      <td>Hold or Sell</td>\n",
       "      <td>0.6575</td>\n",
       "      <td>Hold or Sell</td>\n",
       "      <td>0.6948</td>\n",
       "      <td>Hold or Sell</td>\n",
       "      <td>0.8529</td>\n",
       "      <td>197.3837</td>\n",
       "    </tr>\n",
       "    <tr>\n",
       "      <th>2</th>\n",
       "      <td>goog</td>\n",
       "      <td>Hold or Sell</td>\n",
       "      <td>1.2623</td>\n",
       "      <td>Hold or Sell</td>\n",
       "      <td>1.2969</td>\n",
       "      <td>Hold or Sell</td>\n",
       "      <td>1.2782</td>\n",
       "      <td>12.6104</td>\n",
       "    </tr>\n",
       "    <tr>\n",
       "      <th>3</th>\n",
       "      <td>ibm</td>\n",
       "      <td>Buy</td>\n",
       "      <td>1.4788</td>\n",
       "      <td>Buy</td>\n",
       "      <td>1.6122</td>\n",
       "      <td>Buy</td>\n",
       "      <td>1.4902</td>\n",
       "      <td>53.3712</td>\n",
       "    </tr>\n",
       "    <tr>\n",
       "      <th>4</th>\n",
       "      <td>intc</td>\n",
       "      <td>Hold or Sell</td>\n",
       "      <td>3.3148</td>\n",
       "      <td>Hold or Sell</td>\n",
       "      <td>3.3623</td>\n",
       "      <td>Hold or Sell</td>\n",
       "      <td>4.0552</td>\n",
       "      <td>128.6122</td>\n",
       "    </tr>\n",
       "    <tr>\n",
       "      <th>5</th>\n",
       "      <td>iyw</td>\n",
       "      <td>Hold or Sell</td>\n",
       "      <td>1.3687</td>\n",
       "      <td>Hold or Sell</td>\n",
       "      <td>1.2593</td>\n",
       "      <td>Hold or Sell</td>\n",
       "      <td>1.2202</td>\n",
       "      <td>11.9720</td>\n",
       "    </tr>\n",
       "    <tr>\n",
       "      <th>6</th>\n",
       "      <td>ll</td>\n",
       "      <td>Buy</td>\n",
       "      <td>0.1453</td>\n",
       "      <td>Buy</td>\n",
       "      <td>0.1224</td>\n",
       "      <td>Buy</td>\n",
       "      <td>0.1391</td>\n",
       "      <td>-0.9443</td>\n",
       "    </tr>\n",
       "    <tr>\n",
       "      <th>7</th>\n",
       "      <td>lng</td>\n",
       "      <td>Buy</td>\n",
       "      <td>2.4262</td>\n",
       "      <td>Buy</td>\n",
       "      <td>2.0324</td>\n",
       "      <td>Buy</td>\n",
       "      <td>2.3449</td>\n",
       "      <td>81.8419</td>\n",
       "    </tr>\n",
       "    <tr>\n",
       "      <th>8</th>\n",
       "      <td>ma</td>\n",
       "      <td>Buy</td>\n",
       "      <td>1.1193</td>\n",
       "      <td>Buy</td>\n",
       "      <td>1.1206</td>\n",
       "      <td>Buy</td>\n",
       "      <td>1.0594</td>\n",
       "      <td>31.7485</td>\n",
       "    </tr>\n",
       "    <tr>\n",
       "      <th>9</th>\n",
       "      <td>msft</td>\n",
       "      <td>Hold or Sell</td>\n",
       "      <td>5.4254</td>\n",
       "      <td>Buy</td>\n",
       "      <td>5.9782</td>\n",
       "      <td>Hold or Sell</td>\n",
       "      <td>4.9660</td>\n",
       "      <td>313.7188</td>\n",
       "    </tr>\n",
       "    <tr>\n",
       "      <th>10</th>\n",
       "      <td>mu</td>\n",
       "      <td>Hold or Sell</td>\n",
       "      <td>2.2262</td>\n",
       "      <td>Hold or Sell</td>\n",
       "      <td>1.9607</td>\n",
       "      <td>Hold or Sell</td>\n",
       "      <td>2.1250</td>\n",
       "      <td>105.9886</td>\n",
       "    </tr>\n",
       "    <tr>\n",
       "      <th>11</th>\n",
       "      <td>nio</td>\n",
       "      <td>Buy</td>\n",
       "      <td>0.7744</td>\n",
       "      <td>Buy</td>\n",
       "      <td>0.6215</td>\n",
       "      <td>Hold or Sell</td>\n",
       "      <td>0.7740</td>\n",
       "      <td>0.6333</td>\n",
       "    </tr>\n",
       "    <tr>\n",
       "      <th>12</th>\n",
       "      <td>nvda</td>\n",
       "      <td>Hold or Sell</td>\n",
       "      <td>2.2447</td>\n",
       "      <td>Hold or Sell</td>\n",
       "      <td>1.4993</td>\n",
       "      <td>Hold or Sell</td>\n",
       "      <td>1.7469</td>\n",
       "      <td>1145.1810</td>\n",
       "    </tr>\n",
       "    <tr>\n",
       "      <th>13</th>\n",
       "      <td>pypl</td>\n",
       "      <td>Buy</td>\n",
       "      <td>1.1911</td>\n",
       "      <td>Buy</td>\n",
       "      <td>0.9766</td>\n",
       "      <td>Hold or Sell</td>\n",
       "      <td>1.0679</td>\n",
       "      <td>0.5558</td>\n",
       "    </tr>\n",
       "    <tr>\n",
       "      <th>14</th>\n",
       "      <td>qgen</td>\n",
       "      <td>Buy</td>\n",
       "      <td>0.7292</td>\n",
       "      <td>Buy</td>\n",
       "      <td>0.9884</td>\n",
       "      <td>Buy</td>\n",
       "      <td>1.6285</td>\n",
       "      <td>-0.0574</td>\n",
       "    </tr>\n",
       "  </tbody>\n",
       "</table>\n",
       "</div>"
      ],
      "text/plain": [
       "   stock    1_Day_Pred  1_Day_Model_Return    3_Day_Pred  3_Day_Model_Return  \\\n",
       "0   fslr  Hold or Sell              1.1549  Hold or Sell              1.1785   \n",
       "1     ge  Hold or Sell              0.6575  Hold or Sell              0.6948   \n",
       "2   goog  Hold or Sell              1.2623  Hold or Sell              1.2969   \n",
       "3    ibm           Buy              1.4788           Buy              1.6122   \n",
       "4   intc  Hold or Sell              3.3148  Hold or Sell              3.3623   \n",
       "5    iyw  Hold or Sell              1.3687  Hold or Sell              1.2593   \n",
       "6     ll           Buy              0.1453           Buy              0.1224   \n",
       "7    lng           Buy              2.4262           Buy              2.0324   \n",
       "8     ma           Buy              1.1193           Buy              1.1206   \n",
       "9   msft  Hold or Sell              5.4254           Buy              5.9782   \n",
       "10    mu  Hold or Sell              2.2262  Hold or Sell              1.9607   \n",
       "11   nio           Buy              0.7744           Buy              0.6215   \n",
       "12  nvda  Hold or Sell              2.2447  Hold or Sell              1.4993   \n",
       "13  pypl           Buy              1.1911           Buy              0.9766   \n",
       "14  qgen           Buy              0.7292           Buy              0.9884   \n",
       "\n",
       "      5_Day_Pred  5_Day_Model_Return  Actual_Returns  \n",
       "0   Hold or Sell              1.1341          0.8932  \n",
       "1   Hold or Sell              0.8529        197.3837  \n",
       "2   Hold or Sell              1.2782         12.6104  \n",
       "3            Buy              1.4902         53.3712  \n",
       "4   Hold or Sell              4.0552        128.6122  \n",
       "5   Hold or Sell              1.2202         11.9720  \n",
       "6            Buy              0.1391         -0.9443  \n",
       "7            Buy              2.3449         81.8419  \n",
       "8            Buy              1.0594         31.7485  \n",
       "9   Hold or Sell              4.9660        313.7188  \n",
       "10  Hold or Sell              2.1250        105.9886  \n",
       "11  Hold or Sell              0.7740          0.6333  \n",
       "12  Hold or Sell              1.7469       1145.1810  \n",
       "13  Hold or Sell              1.0679          0.5558  \n",
       "14           Buy              1.6285         -0.0574  "
      ]
     },
     "execution_count": 32,
     "metadata": {},
     "output_type": "execute_result"
    }
   ],
   "source": [
    "summary_df = a.pred_summary_df(start_dates2, stocks = [x for x in start_dates2], days_back = 1)\n",
    "summary_df"
   ]
  },
  {
   "cell_type": "code",
   "execution_count": 33,
   "metadata": {
    "scrolled": true
   },
   "outputs": [
    {
     "data": {
      "text/plain": [
       "(1.2623, 1.2593, 1.2782, 31.7485)"
      ]
     },
     "execution_count": 33,
     "metadata": {},
     "output_type": "execute_result"
    }
   ],
   "source": [
    "summary_df['1_Day_Model_Return'].median(), summary_df['3_Day_Model_Return'].median(), summary_df['5_Day_Model_Return'].median(), summary_df['Actual_Returns'].median()"
   ]
  },
  {
   "cell_type": "code",
   "execution_count": null,
   "metadata": {},
   "outputs": [],
   "source": []
  },
  {
   "cell_type": "code",
   "execution_count": 34,
   "metadata": {
    "scrolled": false
   },
   "outputs": [
    {
     "data": {
      "text/html": [
       "<div>\n",
       "<style scoped>\n",
       "    .dataframe tbody tr th:only-of-type {\n",
       "        vertical-align: middle;\n",
       "    }\n",
       "\n",
       "    .dataframe tbody tr th {\n",
       "        vertical-align: top;\n",
       "    }\n",
       "\n",
       "    .dataframe thead th {\n",
       "        text-align: right;\n",
       "    }\n",
       "</style>\n",
       "<table border=\"1\" class=\"dataframe\">\n",
       "  <thead>\n",
       "    <tr style=\"text-align: right;\">\n",
       "      <th></th>\n",
       "      <th>stock</th>\n",
       "      <th>1_Day_Pred</th>\n",
       "      <th>1_Day_Model_Return</th>\n",
       "      <th>3_Day_Pred</th>\n",
       "      <th>3_Day_Model_Return</th>\n",
       "      <th>5_Day_Pred</th>\n",
       "      <th>5_Day_Model_Return</th>\n",
       "      <th>Actual_Returns</th>\n",
       "    </tr>\n",
       "  </thead>\n",
       "  <tbody>\n",
       "    <tr>\n",
       "      <th>0</th>\n",
       "      <td>okta</td>\n",
       "      <td>Buy</td>\n",
       "      <td>1.0709</td>\n",
       "      <td>Buy</td>\n",
       "      <td>0.9946</td>\n",
       "      <td>Buy</td>\n",
       "      <td>1.1187</td>\n",
       "      <td>0.7105</td>\n",
       "    </tr>\n",
       "    <tr>\n",
       "      <th>1</th>\n",
       "      <td>orcl</td>\n",
       "      <td>Hold or Sell</td>\n",
       "      <td>2.0842</td>\n",
       "      <td>Hold or Sell</td>\n",
       "      <td>2.4346</td>\n",
       "      <td>Hold or Sell</td>\n",
       "      <td>2.2797</td>\n",
       "      <td>475.6077</td>\n",
       "    </tr>\n",
       "    <tr>\n",
       "      <th>2</th>\n",
       "      <td>qcom</td>\n",
       "      <td>Buy</td>\n",
       "      <td>2.4946</td>\n",
       "      <td>Buy</td>\n",
       "      <td>2.8211</td>\n",
       "      <td>Buy</td>\n",
       "      <td>2.8985</td>\n",
       "      <td>122.9963</td>\n",
       "    </tr>\n",
       "    <tr>\n",
       "      <th>3</th>\n",
       "      <td>qqq</td>\n",
       "      <td>Hold or Sell</td>\n",
       "      <td>1.2450</td>\n",
       "      <td>Hold or Sell</td>\n",
       "      <td>1.3280</td>\n",
       "      <td>Hold or Sell</td>\n",
       "      <td>1.2510</td>\n",
       "      <td>20.2963</td>\n",
       "    </tr>\n",
       "    <tr>\n",
       "      <th>4</th>\n",
       "      <td>srpt</td>\n",
       "      <td>Buy</td>\n",
       "      <td>0.5912</td>\n",
       "      <td>Buy</td>\n",
       "      <td>1.2575</td>\n",
       "      <td>Buy</td>\n",
       "      <td>0.8027</td>\n",
       "      <td>1.1104</td>\n",
       "    </tr>\n",
       "    <tr>\n",
       "      <th>5</th>\n",
       "      <td>tgt</td>\n",
       "      <td>Hold or Sell</td>\n",
       "      <td>1.2974</td>\n",
       "      <td>Hold or Sell</td>\n",
       "      <td>1.7897</td>\n",
       "      <td>Hold or Sell</td>\n",
       "      <td>1.4310</td>\n",
       "      <td>345.7669</td>\n",
       "    </tr>\n",
       "    <tr>\n",
       "      <th>6</th>\n",
       "      <td>tsla</td>\n",
       "      <td>Hold or Sell</td>\n",
       "      <td>0.4088</td>\n",
       "      <td>Hold or Sell</td>\n",
       "      <td>0.3348</td>\n",
       "      <td>Buy</td>\n",
       "      <td>0.4538</td>\n",
       "      <td>85.2756</td>\n",
       "    </tr>\n",
       "    <tr>\n",
       "      <th>7</th>\n",
       "      <td>tsm</td>\n",
       "      <td>Hold or Sell</td>\n",
       "      <td>2.3868</td>\n",
       "      <td>Buy</td>\n",
       "      <td>2.6451</td>\n",
       "      <td>Hold or Sell</td>\n",
       "      <td>2.2783</td>\n",
       "      <td>31.3604</td>\n",
       "    </tr>\n",
       "    <tr>\n",
       "      <th>8</th>\n",
       "      <td>v</td>\n",
       "      <td>Buy</td>\n",
       "      <td>1.1923</td>\n",
       "      <td>Buy</td>\n",
       "      <td>1.1799</td>\n",
       "      <td>Buy</td>\n",
       "      <td>0.9726</td>\n",
       "      <td>16.4754</td>\n",
       "    </tr>\n",
       "    <tr>\n",
       "      <th>9</th>\n",
       "      <td>vbiv</td>\n",
       "      <td>Buy</td>\n",
       "      <td>0.1993</td>\n",
       "      <td>Buy</td>\n",
       "      <td>0.0314</td>\n",
       "      <td>Buy</td>\n",
       "      <td>0.0981</td>\n",
       "      <td>-0.9987</td>\n",
       "    </tr>\n",
       "    <tr>\n",
       "      <th>10</th>\n",
       "      <td>vbr</td>\n",
       "      <td>Buy</td>\n",
       "      <td>1.2376</td>\n",
       "      <td>Buy</td>\n",
       "      <td>1.1324</td>\n",
       "      <td>Buy</td>\n",
       "      <td>1.1714</td>\n",
       "      <td>2.7839</td>\n",
       "    </tr>\n",
       "    <tr>\n",
       "      <th>11</th>\n",
       "      <td>vgt</td>\n",
       "      <td>Hold or Sell</td>\n",
       "      <td>1.0587</td>\n",
       "      <td>Hold or Sell</td>\n",
       "      <td>1.0514</td>\n",
       "      <td>Hold or Sell</td>\n",
       "      <td>1.1942</td>\n",
       "      <td>11.3777</td>\n",
       "    </tr>\n",
       "    <tr>\n",
       "      <th>12</th>\n",
       "      <td>wmt</td>\n",
       "      <td>Buy</td>\n",
       "      <td>1.5056</td>\n",
       "      <td>Buy</td>\n",
       "      <td>1.0730</td>\n",
       "      <td>Buy</td>\n",
       "      <td>1.5281</td>\n",
       "      <td>2235.2966</td>\n",
       "    </tr>\n",
       "    <tr>\n",
       "      <th>13</th>\n",
       "      <td>xli</td>\n",
       "      <td>Buy</td>\n",
       "      <td>1.3257</td>\n",
       "      <td>Buy</td>\n",
       "      <td>1.3765</td>\n",
       "      <td>Buy</td>\n",
       "      <td>1.2705</td>\n",
       "      <td>8.1834</td>\n",
       "    </tr>\n",
       "    <tr>\n",
       "      <th>14</th>\n",
       "      <td>xlk</td>\n",
       "      <td>Hold or Sell</td>\n",
       "      <td>1.2287</td>\n",
       "      <td>Hold or Sell</td>\n",
       "      <td>1.3268</td>\n",
       "      <td>Buy</td>\n",
       "      <td>1.4555</td>\n",
       "      <td>17.9280</td>\n",
       "    </tr>\n",
       "  </tbody>\n",
       "</table>\n",
       "</div>"
      ],
      "text/plain": [
       "   stock    1_Day_Pred  1_Day_Model_Return    3_Day_Pred  3_Day_Model_Return  \\\n",
       "0   okta           Buy              1.0709           Buy              0.9946   \n",
       "1   orcl  Hold or Sell              2.0842  Hold or Sell              2.4346   \n",
       "2   qcom           Buy              2.4946           Buy              2.8211   \n",
       "3    qqq  Hold or Sell              1.2450  Hold or Sell              1.3280   \n",
       "4   srpt           Buy              0.5912           Buy              1.2575   \n",
       "5    tgt  Hold or Sell              1.2974  Hold or Sell              1.7897   \n",
       "6   tsla  Hold or Sell              0.4088  Hold or Sell              0.3348   \n",
       "7    tsm  Hold or Sell              2.3868           Buy              2.6451   \n",
       "8      v           Buy              1.1923           Buy              1.1799   \n",
       "9   vbiv           Buy              0.1993           Buy              0.0314   \n",
       "10   vbr           Buy              1.2376           Buy              1.1324   \n",
       "11   vgt  Hold or Sell              1.0587  Hold or Sell              1.0514   \n",
       "12   wmt           Buy              1.5056           Buy              1.0730   \n",
       "13   xli           Buy              1.3257           Buy              1.3765   \n",
       "14   xlk  Hold or Sell              1.2287  Hold or Sell              1.3268   \n",
       "\n",
       "      5_Day_Pred  5_Day_Model_Return  Actual_Returns  \n",
       "0            Buy              1.1187          0.7105  \n",
       "1   Hold or Sell              2.2797        475.6077  \n",
       "2            Buy              2.8985        122.9963  \n",
       "3   Hold or Sell              1.2510         20.2963  \n",
       "4            Buy              0.8027          1.1104  \n",
       "5   Hold or Sell              1.4310        345.7669  \n",
       "6            Buy              0.4538         85.2756  \n",
       "7   Hold or Sell              2.2783         31.3604  \n",
       "8            Buy              0.9726         16.4754  \n",
       "9            Buy              0.0981         -0.9987  \n",
       "10           Buy              1.1714          2.7839  \n",
       "11  Hold or Sell              1.1942         11.3777  \n",
       "12           Buy              1.5281       2235.2966  \n",
       "13           Buy              1.2705          8.1834  \n",
       "14           Buy              1.4555         17.9280  "
      ]
     },
     "execution_count": 34,
     "metadata": {},
     "output_type": "execute_result"
    }
   ],
   "source": [
    "summary_df = a.pred_summary_df(start_dates3, stocks = [x for x in start_dates3], days_back = 1)\n",
    "summary_df"
   ]
  },
  {
   "cell_type": "code",
   "execution_count": 35,
   "metadata": {},
   "outputs": [
    {
     "data": {
      "text/plain": [
       "(1.2376, 1.2575, 1.251, 17.928)"
      ]
     },
     "execution_count": 35,
     "metadata": {},
     "output_type": "execute_result"
    }
   ],
   "source": [
    "summary_df['1_Day_Model_Return'].median(), summary_df['3_Day_Model_Return'].median(), summary_df['5_Day_Model_Return'].median(), summary_df['Actual_Returns'].median()"
   ]
  },
  {
   "cell_type": "code",
   "execution_count": null,
   "metadata": {},
   "outputs": [],
   "source": []
  },
  {
   "cell_type": "code",
   "execution_count": null,
   "metadata": {},
   "outputs": [],
   "source": []
  },
  {
   "cell_type": "code",
   "execution_count": null,
   "metadata": {},
   "outputs": [],
   "source": []
  }
 ],
 "metadata": {
  "kernelspec": {
   "display_name": "Python 3",
   "language": "python",
   "name": "python3"
  },
  "language_info": {
   "codemirror_mode": {
    "name": "ipython",
    "version": 3
   },
   "file_extension": ".py",
   "mimetype": "text/x-python",
   "name": "python",
   "nbconvert_exporter": "python",
   "pygments_lexer": "ipython3",
   "version": "3.8.10"
  }
 },
 "nbformat": 4,
 "nbformat_minor": 4
}
