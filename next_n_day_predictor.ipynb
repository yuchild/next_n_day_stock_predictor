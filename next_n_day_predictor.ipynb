{
 "cells": [
  {
   "cell_type": "code",
   "execution_count": 1,
   "metadata": {
    "scrolled": true
   },
   "outputs": [],
   "source": [
    "from src import attributes as a\n",
    "%load_ext autoreload\n",
    "%autoreload 2\n",
    "\n",
    "import warnings\n",
    "warnings.filterwarnings('ignore')"
   ]
  },
  {
   "cell_type": "code",
   "execution_count": 2,
   "metadata": {},
   "outputs": [],
   "source": [
    "# Global Variables\n",
    "stock_name = 'tsla' # ticker symbol\n",
    "train = 0 # 1 for train, 0 for pass\n",
    "days_ahead = 1 # for predicting 1, 3, or 5 days ahead\n",
    "days_back = -1 # -1 for current data point, -2 for two days ago, etc...\n",
    "cv = 5 # number of cross validation folds\n",
    "model_name = 'Random Forest Classifier' # for display on charts, not a tuning parameter"
   ]
  },
  {
   "cell_type": "code",
   "execution_count": 3,
   "metadata": {},
   "outputs": [],
   "source": [
    "# Extract, Transform, Load, and Train Test Split\n",
    "# Dictionary of IPO Dates\n",
    "start_dates = {'a': '11/15/1999' # Updated 4/26/21 1D, 3D, 5D ahead\n",
    "               , 'aapl': '12/12/1980' # Updated 11/8/21 1D, 3D, 5D ahead\n",
    "               #, 'acy': '01/18/1998' # Updated 4/26/21 1D, 3D, 5D ahead\n",
    "               , 'adbe': '08/11/1986' # Updated 11/8/21 1D, 3D, 5D ahead\n",
    "               #, 'alb': '02/21/1994' # Updated 4/26/21 1D, 3D, 5D ahead\n",
    "               , 'amat': '03/16/1980' # Updated 4/26/21 1D, 3D, 5D ahead\n",
    "               , 'amd': '03/17/1980' # Updated 11/23/21 1D, 3D, 5D ahead\n",
    "               , 'amgn': '06/13/1983' # Updated 4/26/21 1D, 3D, 5D ahead\n",
    "               , 'amzn': '05/12/1997' # Updated 11/07/21 1D, 3D, 5D ahead\n",
    "               , 'baba': '09/15/2014' # Updated 11/13/21 1D, 3D, 5D ahead\n",
    "               , 'bac': '02/19/1973' # Updated 4/26/21 1D, 3D, 5D ahead\n",
    "               , 'bby': '04/15/1985' # Updated 11/19/21 1D, 3D, 5D ahead\n",
    "               #, 'bpmc': '04/27/2015' # Updated 4/26/21 1D, 3D, 5D ahead\n",
    "               , 'crm': '06/23/2004' # Updated 11/13/21 1D, 3D, 5D ahead\n",
    "               , 'crsp': '10/16/2016' # Updated 4/26/21 1D, 3D, 5D ahead\n",
    "               , 'cost': '07/07/1986' # Updated 11/23/21 1D, 3D, 5D ahead\n",
    "               , 'dis': '10/27/2014' # Updatd 11/5/21 1D, 3D, 5D ahead\n",
    "               #, 'dq': '10/04/2010' # Updated 4/26/21 1D, 3D, 5D ahead\n",
    "               , 'esgv': '09/16/2018' # Updated 4/26/21 1D, 3D, 5D ahead\n",
    "               , 'fslr': '11/12/2006' # Updated 4/26/21 1D, 3D, 5D ahead\n",
    "               , 'goog': '08/16/2004' # Updated 11/8/21 1D, 3D, 5D ahead\n",
    "               , 'ibm': '01/02/1962' # Updated 4/26/21 1D, 3D, 5D ahead\n",
    "               , 'intc': '03/16/1980' # Updated 11/13/21 1D, 3D, 5D ahead\n",
    "               , 'iyw': '05/15/2000' # Updated 11/21/21 1D, 3D, 5D ahead\n",
    "               , 'll': '11/05/2007' # Updated 11/22/21 1D, 3D, 5D ahead\n",
    "               , 'lng': '04/04/1994' # Updated 4/26/21 1D, 3D, 5D ahead\n",
    "               , 'ma': '05/21/2006' # Updated 4/26/21 1D, 3D, 5D ahead\n",
    "               , 'mdb': '10/15/2017' # Updated 11/21/21 1D, 3D, 5D ahead\n",
    "               , 'msft': '03/10/1986' # Updated 11/8/21 1D, 3D, 5D ahead\n",
    "               , 'mu': '05/28/1984' # Updated 11/20/21 1D, 3D, 5D ahead\n",
    "               #, 'nee': '02/19/1973' # Updated 4/26/21 1D, 3D, 5D ahead\n",
    "               , 'nio': '09/10/2018' # Updated 4/26/21 1D, 3D, 5D ahead\n",
    "               , 'nvda': '01/22/1999' # Updated 11/17/21 1D, 3D, 5D ahead\n",
    "               #, 'pacb': '10/25/2010' # Updated 4/26/21 1D, 3D, 5D ahead\n",
    "               , 'pypl': '07/05/2015' # Updated 4/26/21 1D, 3D, 5D ahead\n",
    "               , 'qgen': '06/24/1996' # Updated 4/26/21 1D, 3D, 5D ahead\n",
    "               #, 'run': '08/02/2015' # Updated 4/26/21 1D, 3D, 5D ahead\n",
    "               , 'okta': '04/03/2017' # Updated 4/26/21 1D, 3D, 5D ahead\n",
    "               , 'orcl': '03/10/1986' # Updated 4/26/21 1D, 3D, 5D ahead\n",
    "               , 'qcom': '12/09/1991' # Updated 11/20/21 1D, 3D, 5D ahead\n",
    "               , 'qqq': '03/08/1999' # Updated 4/26/21 1D, 3D, 5D ahead\n",
    "               , 'srpt': '06/02/1997' # Updated 4/26/21 1D, 3D, 5D ahead\n",
    "               , 'tgt': '02/19/1973' # Updated 11/22/21 1D, 3D, 5D ahead\n",
    "               #, 'tpic': '07/17/2016' # Updated 4/26/21 1D, 3D, 5D ahead\n",
    "               , 'tsla': '06/29/2010' # Updated 11/07/21 1D, 3D, 5D ahead\n",
    "               , 'tsm': '10/06/1997' # Updated 11/20/21 1D, 3D, 5D ahead\n",
    "               , 'v': '03/16/2008' # Updated 11/22/21 1D, 3D, 5D ahead\n",
    "               , 'vbiv': '09/04/2002' # Updated 4/26/21 1D, 3D, 5D ahead\n",
    "               , 'vbr': '01/26/2004' # Updated 11/20/21 1D, 3D, 5D ahead\n",
    "               , 'viov': '09/06/2010' # Updated 4/26/21 1D, 3D, 5D ahead\n",
    "               , 'vgt': '01/26/2004' # Updated 11/07/21 1D, 3D, 5D ahead\n",
    "               , 'wmt': '11/10/2014' # Updated 11/16/21 1D, 3D, 5D ahead\n",
    "               , 'xlk': '12/21/1998' # Updated 11/21/21 1D, 3D, 5D ahead\n",
    "              }"
   ]
  },
  {
   "cell_type": "markdown",
   "metadata": {},
   "source": [
    "### Get Data..."
   ]
  },
  {
   "cell_type": "code",
   "execution_count": 4,
   "metadata": {
    "scrolled": true
   },
   "outputs": [
    {
     "name": "stdout",
     "output_type": "stream",
     "text": [
      "Today's date: 2022-10-02\n",
      "Table Updates Complete\n",
      "Current Time:  00:42:04\n"
     ]
    }
   ],
   "source": [
    "from datetime import date, datetime\n",
    "today = date.today()\n",
    "print(\"Today's date:\", today)\n",
    "a.get_tables(start_dates) # commented out for 2021-12-19, data already downloaded for weekend\n",
    "print('Table Updates Complete')\n",
    "now = datetime.now()\n",
    "current_time = now.strftime(\"%H:%M:%S\")\n",
    "print(\"Current Time: \", current_time)"
   ]
  },
  {
   "cell_type": "code",
   "execution_count": 5,
   "metadata": {},
   "outputs": [],
   "source": [
    "# Load RandomForextClassifier Model\n",
    "# rfc_model, y_pred, y_probs = a.rfc(X_train, X_test, y_train, stock_name, days_ahead)"
   ]
  },
  {
   "cell_type": "code",
   "execution_count": 6,
   "metadata": {
    "scrolled": false
   },
   "outputs": [],
   "source": [
    "# ROC Curve\n",
    "# a.roc_plot(y_test, y_probs, stock_name, model_name)"
   ]
  },
  {
   "cell_type": "code",
   "execution_count": 7,
   "metadata": {
    "scrolled": false
   },
   "outputs": [],
   "source": [
    "# Precision Recall Curve\n",
    "# a.prec_recall(y_test, y_probs, stock_name, model_name)"
   ]
  },
  {
   "cell_type": "code",
   "execution_count": 8,
   "metadata": {
    "scrolled": false
   },
   "outputs": [],
   "source": [
    "# Confusion Matrix\n",
    "# a.confusion_matrix(rfc_model, X_test, y_test, stock_name)"
   ]
  },
  {
   "cell_type": "code",
   "execution_count": 9,
   "metadata": {},
   "outputs": [],
   "source": [
    "# Cross Validation\n",
    "# a.cross_validation(rfc_model\n",
    "#                    , stock_df[['oc', 'hl', '5stdev_adj', '5sma_adj']]\n",
    "#                    , stock_df['direction']\n",
    "#                    , cv = 5\n",
    "#                   )"
   ]
  },
  {
   "cell_type": "markdown",
   "metadata": {},
   "source": [
    "### Prediction..."
   ]
  },
  {
   "cell_type": "code",
   "execution_count": 10,
   "metadata": {
    "scrolled": true
   },
   "outputs": [],
   "source": [
    "# Prediction, use last day of data\n",
    "# stock_df.iloc[-1]"
   ]
  },
  {
   "cell_type": "code",
   "execution_count": 11,
   "metadata": {},
   "outputs": [],
   "source": [
    "# import numpy as np\n",
    "# last = stock_df[['oc', 'hl', '5stdev_adj', '5sma_adj']].iloc[-days_back]\n",
    "# last"
   ]
  },
  {
   "cell_type": "code",
   "execution_count": 12,
   "metadata": {},
   "outputs": [],
   "source": [
    "# stock_df['adj'].describe()"
   ]
  },
  {
   "cell_type": "code",
   "execution_count": 13,
   "metadata": {
    "scrolled": true
   },
   "outputs": [],
   "source": [
    "# if rfc_model.predict(np.array(last).reshape(1, -1))[0] == 1:\n",
    "#     print(f'Buy {stock_name} {days_ahead} day(s) ahead')\n",
    "# else:\n",
    "#     print(f'Sell or hold {stock_name} {days_ahead} day(s) ahead')"
   ]
  },
  {
   "cell_type": "markdown",
   "metadata": {},
   "source": [
    "### Strategy Returns..."
   ]
  },
  {
   "cell_type": "code",
   "execution_count": 14,
   "metadata": {},
   "outputs": [],
   "source": [
    "# returns on strategy column\n",
    "# stock_df['prediction'] = rfc_model.predict(stock_df[['oc', 'hl', '5stdev_adj', '5sma_adj']])\n",
    "# stock_df['returns'] = stock_df['adj'].shift(-1, fill_value = stock_df['adj'].median()) * stock_df['prediction']"
   ]
  },
  {
   "cell_type": "code",
   "execution_count": 15,
   "metadata": {},
   "outputs": [],
   "source": [
    "# stock_df.tail(5)"
   ]
  },
  {
   "cell_type": "code",
   "execution_count": 16,
   "metadata": {},
   "outputs": [],
   "source": [
    "# Don't trade every day!\n",
    "# import matplotlib.pyplot as plt\n",
    "# test_length = len(y_test)\n",
    "# (stock_df['returns'][-test_length:] + 1).cumprod().plot()\n",
    "# plt.title(f'{stock_name} Expected Returns %');"
   ]
  },
  {
   "cell_type": "code",
   "execution_count": 17,
   "metadata": {},
   "outputs": [],
   "source": [
    "# Model returns if bought on predictions of 1\n",
    "# returns_on_ones = []\n",
    "# for idx in range(-test_length, 0):\n",
    "#     if stock_df['prediction'][idx] == 1:\n",
    "#         returns_on_ones.append(1 + stock_df['returns'][idx])\n",
    "\n",
    "# returns = 1\n",
    "# for x in returns_on_ones:\n",
    "#     returns *= x\n",
    "# returns"
   ]
  },
  {
   "cell_type": "code",
   "execution_count": 18,
   "metadata": {},
   "outputs": [],
   "source": [
    "# multiple times original investment, not bad but..."
   ]
  },
  {
   "cell_type": "code",
   "execution_count": 19,
   "metadata": {},
   "outputs": [],
   "source": [
    "# If purchased in 2012 and left it until now\n",
    "# test_idx = int(len(stock_df)*0.75)\n",
    "# (stock_df['Close'][-1] - stock_df['Close'][-test_idx]) / stock_df['Close'][-test_idx]"
   ]
  },
  {
   "cell_type": "code",
   "execution_count": 20,
   "metadata": {},
   "outputs": [],
   "source": [
    "# Buy and hold strategy beats RandomForestClassifier in this study\n",
    "\n",
    "# Special thanks to Shagufta Tahsildar at https://blog.quantinsti.com/random-forest-algorithm-in-python/"
   ]
  },
  {
   "cell_type": "code",
   "execution_count": null,
   "metadata": {},
   "outputs": [],
   "source": []
  },
  {
   "cell_type": "code",
   "execution_count": null,
   "metadata": {},
   "outputs": [],
   "source": []
  },
  {
   "cell_type": "code",
   "execution_count": null,
   "metadata": {},
   "outputs": [],
   "source": []
  },
  {
   "cell_type": "markdown",
   "metadata": {},
   "source": [
    "### Training"
   ]
  },
  {
   "cell_type": "markdown",
   "metadata": {},
   "source": [
    "Training is done once a week on Saturday and Sunday"
   ]
  },
  {
   "cell_type": "code",
   "execution_count": 21,
   "metadata": {},
   "outputs": [
    {
     "data": {
      "text/plain": [
       "45"
      ]
     },
     "execution_count": 21,
     "metadata": {},
     "output_type": "execute_result"
    }
   ],
   "source": [
    "len(start_dates)"
   ]
  },
  {
   "cell_type": "code",
   "execution_count": 22,
   "metadata": {},
   "outputs": [
    {
     "data": {
      "text/plain": [
       "{'a': '11/15/1999',\n",
       " 'aapl': '12/12/1980',\n",
       " 'adbe': '08/11/1986',\n",
       " 'amat': '03/16/1980',\n",
       " 'amd': '03/17/1980',\n",
       " 'amgn': '06/13/1983',\n",
       " 'amzn': '05/12/1997',\n",
       " 'baba': '09/15/2014',\n",
       " 'bac': '02/19/1973',\n",
       " 'bby': '04/15/1985',\n",
       " 'crm': '06/23/2004',\n",
       " 'crsp': '10/16/2016',\n",
       " 'cost': '07/07/1986',\n",
       " 'dis': '10/27/2014',\n",
       " 'esgv': '09/16/2018'}"
      ]
     },
     "execution_count": 22,
     "metadata": {},
     "output_type": "execute_result"
    }
   ],
   "source": [
    "import itertools as itr\n",
    "start_dates1 = dict(itr.islice(start_dates.items(), 0, 15))\n",
    "start_dates1"
   ]
  },
  {
   "cell_type": "code",
   "execution_count": 23,
   "metadata": {},
   "outputs": [
    {
     "data": {
      "text/plain": [
       "{'fslr': '11/12/2006',\n",
       " 'goog': '08/16/2004',\n",
       " 'ibm': '01/02/1962',\n",
       " 'intc': '03/16/1980',\n",
       " 'iyw': '05/15/2000',\n",
       " 'll': '11/05/2007',\n",
       " 'lng': '04/04/1994',\n",
       " 'ma': '05/21/2006',\n",
       " 'mdb': '10/15/2017',\n",
       " 'msft': '03/10/1986',\n",
       " 'mu': '05/28/1984',\n",
       " 'nio': '09/10/2018',\n",
       " 'nvda': '01/22/1999',\n",
       " 'pypl': '07/05/2015',\n",
       " 'qgen': '06/24/1996'}"
      ]
     },
     "execution_count": 23,
     "metadata": {},
     "output_type": "execute_result"
    }
   ],
   "source": [
    "start_dates2 = dict(itr.islice(start_dates.items(), 15, 30))\n",
    "start_dates2"
   ]
  },
  {
   "cell_type": "code",
   "execution_count": 24,
   "metadata": {},
   "outputs": [
    {
     "data": {
      "text/plain": [
       "{'okta': '04/03/2017',\n",
       " 'orcl': '03/10/1986',\n",
       " 'qcom': '12/09/1991',\n",
       " 'qqq': '03/08/1999',\n",
       " 'srpt': '06/02/1997',\n",
       " 'tgt': '02/19/1973',\n",
       " 'tsla': '06/29/2010',\n",
       " 'tsm': '10/06/1997',\n",
       " 'v': '03/16/2008',\n",
       " 'vbiv': '09/04/2002',\n",
       " 'vbr': '01/26/2004',\n",
       " 'viov': '09/06/2010',\n",
       " 'vgt': '01/26/2004',\n",
       " 'wmt': '11/10/2014',\n",
       " 'xlk': '12/21/1998'}"
      ]
     },
     "execution_count": 24,
     "metadata": {},
     "output_type": "execute_result"
    }
   ],
   "source": [
    "start_dates3 = dict(itr.islice(start_dates.items(), 30, 45+1))\n",
    "start_dates3"
   ]
  },
  {
   "cell_type": "code",
   "execution_count": 25,
   "metadata": {
    "scrolled": false
   },
   "outputs": [],
   "source": [
    "# from datetime import datetime\n",
    "\n",
    "# now = datetime.now()\n",
    "\n",
    "# current_time = now.strftime(\"%H:%M:%S\")\n",
    "# print(\"Gridsearch Start Date: \", today)\n",
    "# print(\"Current Time: \", current_time)\n",
    "\n",
    "#Train 15 at a time!\n",
    "# stocks = [x for x in start_dates1]\n",
    "# days_ahead = [1, 3, 5]\n",
    "# cv = 5\n",
    "# for stock in stocks:\n",
    "#     for days in days_ahead:\n",
    "#         X_train, X_test, y_train, y_test, stock_df = a.data(stock, start_dates[stock], days)\n",
    "#         a.rfc_GridSearch(X_train, y_train, stock, days, cv)\n",
    "# len(stocks)\n",
    "\n",
    "# Next on training for Saturday 4/17/2021\n",
    "# stocks = [x for x in start_dates2]\n",
    "# days_ahead = [1, 3, 5]\n",
    "# cv = 5\n",
    "# for stock in stocks:\n",
    "#     for days in days_ahead:\n",
    "#         X_train, X_test, y_train, y_test, stock_df = a.data(stock, start_dates[stock], days)\n",
    "#         a.rfc_GridSearch(X_train, y_train, stock, days, cv)\n",
    "# len(stocks)\n",
    "\n",
    "# Next on training for Saturday 4/17/2021\n",
    "# stocks = [x for x in start_dates3]\n",
    "# days_ahead = [1, 3, 5]\n",
    "# cv = 5\n",
    "# for stock in stocks:\n",
    "#     for days in days_ahead:\n",
    "#         X_train, X_test, y_train, y_test, stock_df = a.data(stock, start_dates[stock], days)\n",
    "#         a.rfc_GridSearch(X_train, y_train, stock, days, cv)\n",
    "# len(stocks)\n",
    "\n",
    "# # Train all, takes 15+ hours\n",
    "# stocks = [x for x in start_dates]\n",
    "# days_ahead = [1, 3, 5]\n",
    "# cv = 5\n",
    "# for stock in stocks:\n",
    "#     for days in days_ahead:\n",
    "#         X_train, X_test, y_train, y_test, stock_df = a.data(stock, start_dates[stock], days)\n",
    "#         a.rfc_GridSearch(X_train, y_train, stock, days, cv)\n",
    "# len(stocks)\n",
    "\n",
    "# Train desired stocks...takes less time (4 will take 15.5 hours, each stock is roughly 2.5-4 hours to train)\n",
    "# 3 will take 7.5 hours, roughly 2.5 hours per stock trained\n",
    "# to train: ['cost']\n",
    "\n",
    "# import timeit \n",
    "# stocks = ['amd'] # ['tsm', 'vbr'] # tbt as of 2021-11-20, started 01:15 PST\n",
    "# days_ahead = [1, 3, 5] \n",
    "# cv = 3 # was 5 \n",
    "# for stock in stocks:\n",
    "#     for days in days_ahead:\n",
    "#         X_train, X_test, y_train, y_test, stock_df = a.data(stock, start_dates[stock], days)\n",
    "#         %timeit a.rfc_GridSearch(X_train, y_train, stock, days, cv)\n",
    "\n",
    "# now = datetime.now()\n",
    "\n",
    "# current_time = now.strftime(\"%H:%M:%S\")\n",
    "# print(\"Gridsearch End Date: \", today)\n",
    "# print(\"Current Time: \", current_time)"
   ]
  },
  {
   "cell_type": "code",
   "execution_count": null,
   "metadata": {},
   "outputs": [],
   "source": []
  },
  {
   "cell_type": "code",
   "execution_count": null,
   "metadata": {},
   "outputs": [],
   "source": []
  },
  {
   "cell_type": "code",
   "execution_count": null,
   "metadata": {},
   "outputs": [],
   "source": []
  },
  {
   "cell_type": "markdown",
   "metadata": {},
   "source": [
    "### Display All Results"
   ]
  },
  {
   "cell_type": "markdown",
   "metadata": {},
   "source": [
    "**NOTE:** Returns include buying ups and selling downs"
   ]
  },
  {
   "cell_type": "code",
   "execution_count": 26,
   "metadata": {},
   "outputs": [
    {
     "name": "stdout",
     "output_type": "stream",
     "text": [
      "Today's date: 2022-10-02\n",
      "Current Time:  00:42:04\n"
     ]
    }
   ],
   "source": [
    "from datetime import date, datetime\n",
    "today = date.today()\n",
    "print(\"Today's date:\", today)\n",
    "now = datetime.now()\n",
    "current_time = now.strftime(\"%H:%M:%S\")\n",
    "print(\"Current Time: \", current_time)"
   ]
  },
  {
   "cell_type": "code",
   "execution_count": 27,
   "metadata": {
    "scrolled": false
   },
   "outputs": [
    {
     "name": "stdout",
     "output_type": "stream",
     "text": [
      "Buy amd 1 day(s) ahead\n",
      "Model Returns (x 100 for %): 7.4338\n",
      "Stock Returns (x 100 for %): 5.6695\n"
     ]
    },
    {
     "data": {
      "image/png": "[encoded data removed]",
      "text/plain": [
       "<Figure size 432x288 with 1 Axes>"
      ]
     },
     "metadata": {},
     "output_type": "display_data"
    },
    {
     "data": {
      "image/png": "[encoded data removed]",
      "text/plain": [
       "<Figure size 648x504 with 1 Axes>"
      ]
     },
     "metadata": {},
     "output_type": "display_data"
    },
    {
     "data": {
      "image/png": "[encoded data removed]",
      "text/plain": [
       "<Figure size 648x504 with 1 Axes>"
      ]
     },
     "metadata": {},
     "output_type": "display_data"
    },
    {
     "data": {
      "image/png": "[encoded data removed]",
      "text/plain": [
       "<Figure size 684x612 with 2 Axes>"
      ]
     },
     "metadata": {},
     "output_type": "display_data"
    }
   ],
   "source": [
    "stock_name = 'amd'\n",
    "a.all_func(stock_name\n",
    "           , start_dates[stock_name]\n",
    "           , days_ahead = 1\n",
    "           , model_name = model_name\n",
    "           , days_back = 1\n",
    "          )"
   ]
  },
  {
   "cell_type": "code",
   "execution_count": null,
   "metadata": {},
   "outputs": [],
   "source": []
  },
  {
   "cell_type": "code",
   "execution_count": null,
   "metadata": {},
   "outputs": [],
   "source": []
  },
  {
   "cell_type": "code",
   "execution_count": null,
   "metadata": {},
   "outputs": [],
   "source": []
  },
  {
   "cell_type": "markdown",
   "metadata": {},
   "source": [
    "### Data Frame of Predictions 1 3 5 Days"
   ]
  },
  {
   "cell_type": "markdown",
   "metadata": {},
   "source": [
    "**NOTE:** Returns are for buys only."
   ]
  },
  {
   "cell_type": "code",
   "execution_count": 28,
   "metadata": {
    "scrolled": false
   },
   "outputs": [
    {
     "name": "stdout",
     "output_type": "stream",
     "text": [
      "Today's date: 2022-10-02\n",
      "Current Time = 00:42:04\n"
     ]
    }
   ],
   "source": [
    "print(\"Today's date:\", today)\n",
    "print(\"Current Time =\", current_time)"
   ]
  },
  {
   "cell_type": "code",
   "execution_count": 29,
   "metadata": {
    "scrolled": false
   },
   "outputs": [
    {
     "data": {
      "text/html": [
       "<div>\n",
       "<style scoped>\n",
       "    .dataframe tbody tr th:only-of-type {\n",
       "        vertical-align: middle;\n",
       "    }\n",
       "\n",
       "    .dataframe tbody tr th {\n",
       "        vertical-align: top;\n",
       "    }\n",
       "\n",
       "    .dataframe thead th {\n",
       "        text-align: right;\n",
       "    }\n",
       "</style>\n",
       "<table border=\"1\" class=\"dataframe\">\n",
       "  <thead>\n",
       "    <tr style=\"text-align: right;\">\n",
       "      <th></th>\n",
       "      <th>stock</th>\n",
       "      <th>1_Day_Pred</th>\n",
       "      <th>1_Day_Model_Return</th>\n",
       "      <th>3_Day_Pred</th>\n",
       "      <th>3_Day_Model_Return</th>\n",
       "      <th>5_Day_Pred</th>\n",
       "      <th>5_Day_Model_Return</th>\n",
       "      <th>Actual_Returns</th>\n",
       "    </tr>\n",
       "  </thead>\n",
       "  <tbody>\n",
       "    <tr>\n",
       "      <th>0</th>\n",
       "      <td>a</td>\n",
       "      <td>Buy</td>\n",
       "      <td>1.9932</td>\n",
       "      <td>Buy</td>\n",
       "      <td>1.7178</td>\n",
       "      <td>Buy</td>\n",
       "      <td>1.7532</td>\n",
       "      <td>10.5601</td>\n",
       "    </tr>\n",
       "    <tr>\n",
       "      <th>1</th>\n",
       "      <td>aapl</td>\n",
       "      <td>Buy</td>\n",
       "      <td>3.4381</td>\n",
       "      <td>Buy</td>\n",
       "      <td>2.4703</td>\n",
       "      <td>Buy</td>\n",
       "      <td>2.9529</td>\n",
       "      <td>564.3629</td>\n",
       "    </tr>\n",
       "    <tr>\n",
       "      <th>2</th>\n",
       "      <td>adbe</td>\n",
       "      <td>Buy</td>\n",
       "      <td>2.7399</td>\n",
       "      <td>Buy</td>\n",
       "      <td>4.2138</td>\n",
       "      <td>Buy</td>\n",
       "      <td>3.3964</td>\n",
       "      <td>72.2777</td>\n",
       "    </tr>\n",
       "    <tr>\n",
       "      <th>3</th>\n",
       "      <td>amat</td>\n",
       "      <td>Hold or Sell</td>\n",
       "      <td>7.6877</td>\n",
       "      <td>Buy</td>\n",
       "      <td>7.0370</td>\n",
       "      <td>Hold or Sell</td>\n",
       "      <td>6.7812</td>\n",
       "      <td>668.4153</td>\n",
       "    </tr>\n",
       "    <tr>\n",
       "      <th>4</th>\n",
       "      <td>amd</td>\n",
       "      <td>Buy</td>\n",
       "      <td>9.0307</td>\n",
       "      <td>Buy</td>\n",
       "      <td>11.1030</td>\n",
       "      <td>Buy</td>\n",
       "      <td>14.8416</td>\n",
       "      <td>5.6695</td>\n",
       "    </tr>\n",
       "    <tr>\n",
       "      <th>5</th>\n",
       "      <td>amgn</td>\n",
       "      <td>Buy</td>\n",
       "      <td>1.7402</td>\n",
       "      <td>Buy</td>\n",
       "      <td>1.6948</td>\n",
       "      <td>Buy</td>\n",
       "      <td>1.7216</td>\n",
       "      <td>356.2454</td>\n",
       "    </tr>\n",
       "    <tr>\n",
       "      <th>6</th>\n",
       "      <td>amzn</td>\n",
       "      <td>Buy</td>\n",
       "      <td>1.1184</td>\n",
       "      <td>Buy</td>\n",
       "      <td>1.0912</td>\n",
       "      <td>Buy</td>\n",
       "      <td>1.2321</td>\n",
       "      <td>219.9189</td>\n",
       "    </tr>\n",
       "    <tr>\n",
       "      <th>7</th>\n",
       "      <td>baba</td>\n",
       "      <td>Hold or Sell</td>\n",
       "      <td>0.5806</td>\n",
       "      <td>Buy</td>\n",
       "      <td>0.8337</td>\n",
       "      <td>Hold or Sell</td>\n",
       "      <td>0.5890</td>\n",
       "      <td>-0.0207</td>\n",
       "    </tr>\n",
       "    <tr>\n",
       "      <th>8</th>\n",
       "      <td>bac</td>\n",
       "      <td>Buy</td>\n",
       "      <td>1.8154</td>\n",
       "      <td>Buy</td>\n",
       "      <td>1.7864</td>\n",
       "      <td>Buy</td>\n",
       "      <td>2.1102</td>\n",
       "      <td>43.6618</td>\n",
       "    </tr>\n",
       "    <tr>\n",
       "      <th>9</th>\n",
       "      <td>bby</td>\n",
       "      <td>Buy</td>\n",
       "      <td>0.8825</td>\n",
       "      <td>Buy</td>\n",
       "      <td>0.7626</td>\n",
       "      <td>Buy</td>\n",
       "      <td>0.7088</td>\n",
       "      <td>543.3128</td>\n",
       "    </tr>\n",
       "    <tr>\n",
       "      <th>10</th>\n",
       "      <td>crm</td>\n",
       "      <td>Buy</td>\n",
       "      <td>0.6983</td>\n",
       "      <td>Buy</td>\n",
       "      <td>0.9356</td>\n",
       "      <td>Buy</td>\n",
       "      <td>1.0491</td>\n",
       "      <td>12.5955</td>\n",
       "    </tr>\n",
       "    <tr>\n",
       "      <th>11</th>\n",
       "      <td>crsp</td>\n",
       "      <td>Hold or Sell</td>\n",
       "      <td>0.7449</td>\n",
       "      <td>Hold or Sell</td>\n",
       "      <td>0.7397</td>\n",
       "      <td>Hold or Sell</td>\n",
       "      <td>0.9477</td>\n",
       "      <td>2.3860</td>\n",
       "    </tr>\n",
       "    <tr>\n",
       "      <th>12</th>\n",
       "      <td>cost</td>\n",
       "      <td>Buy</td>\n",
       "      <td>1.9506</td>\n",
       "      <td>Buy</td>\n",
       "      <td>1.7201</td>\n",
       "      <td>Buy</td>\n",
       "      <td>1.6056</td>\n",
       "      <td>54.2856</td>\n",
       "    </tr>\n",
       "    <tr>\n",
       "      <th>13</th>\n",
       "      <td>dis</td>\n",
       "      <td>Buy</td>\n",
       "      <td>2.1390</td>\n",
       "      <td>Buy</td>\n",
       "      <td>2.3743</td>\n",
       "      <td>Buy</td>\n",
       "      <td>2.5424</td>\n",
       "      <td>132.9148</td>\n",
       "    </tr>\n",
       "    <tr>\n",
       "      <th>14</th>\n",
       "      <td>esgv</td>\n",
       "      <td>Buy</td>\n",
       "      <td>0.9328</td>\n",
       "      <td>Buy</td>\n",
       "      <td>0.8964</td>\n",
       "      <td>Buy</td>\n",
       "      <td>0.8574</td>\n",
       "      <td>0.3555</td>\n",
       "    </tr>\n",
       "  </tbody>\n",
       "</table>\n",
       "</div>"
      ],
      "text/plain": [
       "   stock    1_Day_Pred  1_Day_Model_Return    3_Day_Pred  3_Day_Model_Return  \\\n",
       "0      a           Buy              1.9932           Buy              1.7178   \n",
       "1   aapl           Buy              3.4381           Buy              2.4703   \n",
       "2   adbe           Buy              2.7399           Buy              4.2138   \n",
       "3   amat  Hold or Sell              7.6877           Buy              7.0370   \n",
       "4    amd           Buy              9.0307           Buy             11.1030   \n",
       "5   amgn           Buy              1.7402           Buy              1.6948   \n",
       "6   amzn           Buy              1.1184           Buy              1.0912   \n",
       "7   baba  Hold or Sell              0.5806           Buy              0.8337   \n",
       "8    bac           Buy              1.8154           Buy              1.7864   \n",
       "9    bby           Buy              0.8825           Buy              0.7626   \n",
       "10   crm           Buy              0.6983           Buy              0.9356   \n",
       "11  crsp  Hold or Sell              0.7449  Hold or Sell              0.7397   \n",
       "12  cost           Buy              1.9506           Buy              1.7201   \n",
       "13   dis           Buy              2.1390           Buy              2.3743   \n",
       "14  esgv           Buy              0.9328           Buy              0.8964   \n",
       "\n",
       "      5_Day_Pred  5_Day_Model_Return  Actual_Returns  \n",
       "0            Buy              1.7532         10.5601  \n",
       "1            Buy              2.9529        564.3629  \n",
       "2            Buy              3.3964         72.2777  \n",
       "3   Hold or Sell              6.7812        668.4153  \n",
       "4            Buy             14.8416          5.6695  \n",
       "5            Buy              1.7216        356.2454  \n",
       "6            Buy              1.2321        219.9189  \n",
       "7   Hold or Sell              0.5890         -0.0207  \n",
       "8            Buy              2.1102         43.6618  \n",
       "9            Buy              0.7088        543.3128  \n",
       "10           Buy              1.0491         12.5955  \n",
       "11  Hold or Sell              0.9477          2.3860  \n",
       "12           Buy              1.6056         54.2856  \n",
       "13           Buy              2.5424        132.9148  \n",
       "14           Buy              0.8574          0.3555  "
      ]
     },
     "execution_count": 29,
     "metadata": {},
     "output_type": "execute_result"
    }
   ],
   "source": [
    "summary_df = a.pred_summary_df(start_dates1, stocks = [x for x in start_dates1], days_back = 1)\n",
    "summary_df"
   ]
  },
  {
   "cell_type": "code",
   "execution_count": 30,
   "metadata": {},
   "outputs": [
    {
     "data": {
      "text/plain": [
       "(1.8154, 1.7178, 1.7216, 54.2856)"
      ]
     },
     "execution_count": 30,
     "metadata": {},
     "output_type": "execute_result"
    }
   ],
   "source": [
    "summary_df['1_Day_Model_Return'].median(), summary_df['3_Day_Model_Return'].median(), summary_df['5_Day_Model_Return'].median(), summary_df['Actual_Returns'].median()"
   ]
  },
  {
   "cell_type": "code",
   "execution_count": null,
   "metadata": {},
   "outputs": [],
   "source": []
  },
  {
   "cell_type": "code",
   "execution_count": 31,
   "metadata": {
    "scrolled": false
   },
   "outputs": [
    {
     "data": {
      "text/html": [
       "<div>\n",
       "<style scoped>\n",
       "    .dataframe tbody tr th:only-of-type {\n",
       "        vertical-align: middle;\n",
       "    }\n",
       "\n",
       "    .dataframe tbody tr th {\n",
       "        vertical-align: top;\n",
       "    }\n",
       "\n",
       "    .dataframe thead th {\n",
       "        text-align: right;\n",
       "    }\n",
       "</style>\n",
       "<table border=\"1\" class=\"dataframe\">\n",
       "  <thead>\n",
       "    <tr style=\"text-align: right;\">\n",
       "      <th></th>\n",
       "      <th>stock</th>\n",
       "      <th>1_Day_Pred</th>\n",
       "      <th>1_Day_Model_Return</th>\n",
       "      <th>3_Day_Pred</th>\n",
       "      <th>3_Day_Model_Return</th>\n",
       "      <th>5_Day_Pred</th>\n",
       "      <th>5_Day_Model_Return</th>\n",
       "      <th>Actual_Returns</th>\n",
       "    </tr>\n",
       "  </thead>\n",
       "  <tbody>\n",
       "    <tr>\n",
       "      <th>0</th>\n",
       "      <td>fslr</td>\n",
       "      <td>Hold or Sell</td>\n",
       "      <td>1.6360</td>\n",
       "      <td>Hold or Sell</td>\n",
       "      <td>1.8907</td>\n",
       "      <td>Hold or Sell</td>\n",
       "      <td>1.7469</td>\n",
       "      <td>-0.3118</td>\n",
       "    </tr>\n",
       "    <tr>\n",
       "      <th>1</th>\n",
       "      <td>goog</td>\n",
       "      <td>Buy</td>\n",
       "      <td>1.9214</td>\n",
       "      <td>Buy</td>\n",
       "      <td>1.8124</td>\n",
       "      <td>Buy</td>\n",
       "      <td>2.2748</td>\n",
       "      <td>6.4489</td>\n",
       "    </tr>\n",
       "    <tr>\n",
       "      <th>2</th>\n",
       "      <td>ibm</td>\n",
       "      <td>Buy</td>\n",
       "      <td>0.9700</td>\n",
       "      <td>Buy</td>\n",
       "      <td>1.3950</td>\n",
       "      <td>Buy</td>\n",
       "      <td>1.1948</td>\n",
       "      <td>28.5313</td>\n",
       "    </tr>\n",
       "    <tr>\n",
       "      <th>3</th>\n",
       "      <td>intc</td>\n",
       "      <td>Buy</td>\n",
       "      <td>3.4091</td>\n",
       "      <td>Buy</td>\n",
       "      <td>3.0823</td>\n",
       "      <td>Buy</td>\n",
       "      <td>3.4462</td>\n",
       "      <td>96.0455</td>\n",
       "    </tr>\n",
       "    <tr>\n",
       "      <th>4</th>\n",
       "      <td>iyw</td>\n",
       "      <td>Buy</td>\n",
       "      <td>1.9873</td>\n",
       "      <td>Buy</td>\n",
       "      <td>1.8933</td>\n",
       "      <td>Buy</td>\n",
       "      <td>1.4308</td>\n",
       "      <td>6.1684</td>\n",
       "    </tr>\n",
       "    <tr>\n",
       "      <th>5</th>\n",
       "      <td>ll</td>\n",
       "      <td>Buy</td>\n",
       "      <td>0.5784</td>\n",
       "      <td>Buy</td>\n",
       "      <td>0.5419</td>\n",
       "      <td>Buy</td>\n",
       "      <td>0.5275</td>\n",
       "      <td>-0.7175</td>\n",
       "    </tr>\n",
       "    <tr>\n",
       "      <th>6</th>\n",
       "      <td>lng</td>\n",
       "      <td>Hold or Sell</td>\n",
       "      <td>2.0769</td>\n",
       "      <td>Hold or Sell</td>\n",
       "      <td>1.6892</td>\n",
       "      <td>Hold or Sell</td>\n",
       "      <td>1.7151</td>\n",
       "      <td>36.2584</td>\n",
       "    </tr>\n",
       "    <tr>\n",
       "      <th>7</th>\n",
       "      <td>ma</td>\n",
       "      <td>Buy</td>\n",
       "      <td>1.0047</td>\n",
       "      <td>Buy</td>\n",
       "      <td>1.0693</td>\n",
       "      <td>Buy</td>\n",
       "      <td>0.9610</td>\n",
       "      <td>21.0677</td>\n",
       "    </tr>\n",
       "    <tr>\n",
       "      <th>8</th>\n",
       "      <td>mdb</td>\n",
       "      <td>Hold or Sell</td>\n",
       "      <td>0.2502</td>\n",
       "      <td>Hold or Sell</td>\n",
       "      <td>0.2122</td>\n",
       "      <td>Hold or Sell</td>\n",
       "      <td>0.2722</td>\n",
       "      <td>2.0919</td>\n",
       "    </tr>\n",
       "    <tr>\n",
       "      <th>9</th>\n",
       "      <td>msft</td>\n",
       "      <td>Buy</td>\n",
       "      <td>5.6832</td>\n",
       "      <td>Buy</td>\n",
       "      <td>6.0466</td>\n",
       "      <td>Buy</td>\n",
       "      <td>4.6356</td>\n",
       "      <td>202.1147</td>\n",
       "    </tr>\n",
       "    <tr>\n",
       "      <th>10</th>\n",
       "      <td>mu</td>\n",
       "      <td>Buy</td>\n",
       "      <td>2.0331</td>\n",
       "      <td>Buy</td>\n",
       "      <td>2.8757</td>\n",
       "      <td>Buy</td>\n",
       "      <td>1.3038</td>\n",
       "      <td>41.3787</td>\n",
       "    </tr>\n",
       "    <tr>\n",
       "      <th>11</th>\n",
       "      <td>nio</td>\n",
       "      <td>Hold or Sell</td>\n",
       "      <td>1.7532</td>\n",
       "      <td>Hold or Sell</td>\n",
       "      <td>0.7705</td>\n",
       "      <td>Hold or Sell</td>\n",
       "      <td>1.2052</td>\n",
       "      <td>2.7106</td>\n",
       "    </tr>\n",
       "    <tr>\n",
       "      <th>12</th>\n",
       "      <td>nvda</td>\n",
       "      <td>Hold or Sell</td>\n",
       "      <td>2.4798</td>\n",
       "      <td>Hold or Sell</td>\n",
       "      <td>2.3350</td>\n",
       "      <td>Hold or Sell</td>\n",
       "      <td>2.0588</td>\n",
       "      <td>142.0856</td>\n",
       "    </tr>\n",
       "    <tr>\n",
       "      <th>13</th>\n",
       "      <td>pypl</td>\n",
       "      <td>Buy</td>\n",
       "      <td>0.7270</td>\n",
       "      <td>Buy</td>\n",
       "      <td>0.7500</td>\n",
       "      <td>Buy</td>\n",
       "      <td>0.5270</td>\n",
       "      <td>1.3262</td>\n",
       "    </tr>\n",
       "    <tr>\n",
       "      <th>14</th>\n",
       "      <td>qgen</td>\n",
       "      <td>Buy</td>\n",
       "      <td>1.1275</td>\n",
       "      <td>Buy</td>\n",
       "      <td>1.3636</td>\n",
       "      <td>Buy</td>\n",
       "      <td>1.0069</td>\n",
       "      <td>-0.0431</td>\n",
       "    </tr>\n",
       "  </tbody>\n",
       "</table>\n",
       "</div>"
      ],
      "text/plain": [
       "   stock    1_Day_Pred  1_Day_Model_Return    3_Day_Pred  3_Day_Model_Return  \\\n",
       "0   fslr  Hold or Sell              1.6360  Hold or Sell              1.8907   \n",
       "1   goog           Buy              1.9214           Buy              1.8124   \n",
       "2    ibm           Buy              0.9700           Buy              1.3950   \n",
       "3   intc           Buy              3.4091           Buy              3.0823   \n",
       "4    iyw           Buy              1.9873           Buy              1.8933   \n",
       "5     ll           Buy              0.5784           Buy              0.5419   \n",
       "6    lng  Hold or Sell              2.0769  Hold or Sell              1.6892   \n",
       "7     ma           Buy              1.0047           Buy              1.0693   \n",
       "8    mdb  Hold or Sell              0.2502  Hold or Sell              0.2122   \n",
       "9   msft           Buy              5.6832           Buy              6.0466   \n",
       "10    mu           Buy              2.0331           Buy              2.8757   \n",
       "11   nio  Hold or Sell              1.7532  Hold or Sell              0.7705   \n",
       "12  nvda  Hold or Sell              2.4798  Hold or Sell              2.3350   \n",
       "13  pypl           Buy              0.7270           Buy              0.7500   \n",
       "14  qgen           Buy              1.1275           Buy              1.3636   \n",
       "\n",
       "      5_Day_Pred  5_Day_Model_Return  Actual_Returns  \n",
       "0   Hold or Sell              1.7469         -0.3118  \n",
       "1            Buy              2.2748          6.4489  \n",
       "2            Buy              1.1948         28.5313  \n",
       "3            Buy              3.4462         96.0455  \n",
       "4            Buy              1.4308          6.1684  \n",
       "5            Buy              0.5275         -0.7175  \n",
       "6   Hold or Sell              1.7151         36.2584  \n",
       "7            Buy              0.9610         21.0677  \n",
       "8   Hold or Sell              0.2722          2.0919  \n",
       "9            Buy              4.6356        202.1147  \n",
       "10           Buy              1.3038         41.3787  \n",
       "11  Hold or Sell              1.2052          2.7106  \n",
       "12  Hold or Sell              2.0588        142.0856  \n",
       "13           Buy              0.5270          1.3262  \n",
       "14           Buy              1.0069         -0.0431  "
      ]
     },
     "execution_count": 31,
     "metadata": {},
     "output_type": "execute_result"
    }
   ],
   "source": [
    "summary_df = a.pred_summary_df(start_dates2, stocks = [x for x in start_dates2], days_back = 1)\n",
    "summary_df"
   ]
  },
  {
   "cell_type": "code",
   "execution_count": 32,
   "metadata": {},
   "outputs": [
    {
     "data": {
      "text/plain": [
       "(1.7532, 1.6892, 1.3038, 6.4489)"
      ]
     },
     "execution_count": 32,
     "metadata": {},
     "output_type": "execute_result"
    }
   ],
   "source": [
    "summary_df['1_Day_Model_Return'].median(), summary_df['3_Day_Model_Return'].median(), summary_df['5_Day_Model_Return'].median(), summary_df['Actual_Returns'].median()"
   ]
  },
  {
   "cell_type": "code",
   "execution_count": null,
   "metadata": {},
   "outputs": [],
   "source": []
  },
  {
   "cell_type": "code",
   "execution_count": 33,
   "metadata": {
    "scrolled": false
   },
   "outputs": [
    {
     "data": {
      "text/html": [
       "<div>\n",
       "<style scoped>\n",
       "    .dataframe tbody tr th:only-of-type {\n",
       "        vertical-align: middle;\n",
       "    }\n",
       "\n",
       "    .dataframe tbody tr th {\n",
       "        vertical-align: top;\n",
       "    }\n",
       "\n",
       "    .dataframe thead th {\n",
       "        text-align: right;\n",
       "    }\n",
       "</style>\n",
       "<table border=\"1\" class=\"dataframe\">\n",
       "  <thead>\n",
       "    <tr style=\"text-align: right;\">\n",
       "      <th></th>\n",
       "      <th>stock</th>\n",
       "      <th>1_Day_Pred</th>\n",
       "      <th>1_Day_Model_Return</th>\n",
       "      <th>3_Day_Pred</th>\n",
       "      <th>3_Day_Model_Return</th>\n",
       "      <th>5_Day_Pred</th>\n",
       "      <th>5_Day_Model_Return</th>\n",
       "      <th>Actual_Returns</th>\n",
       "    </tr>\n",
       "  </thead>\n",
       "  <tbody>\n",
       "    <tr>\n",
       "      <th>0</th>\n",
       "      <td>okta</td>\n",
       "      <td>Buy</td>\n",
       "      <td>0.4574</td>\n",
       "      <td>Hold or Sell</td>\n",
       "      <td>0.4171</td>\n",
       "      <td>Buy</td>\n",
       "      <td>0.4154</td>\n",
       "      <td>0.5624</td>\n",
       "    </tr>\n",
       "    <tr>\n",
       "      <th>1</th>\n",
       "      <td>orcl</td>\n",
       "      <td>Buy</td>\n",
       "      <td>2.1411</td>\n",
       "      <td>Buy</td>\n",
       "      <td>2.0363</td>\n",
       "      <td>Buy</td>\n",
       "      <td>2.3618</td>\n",
       "      <td>216.0740</td>\n",
       "    </tr>\n",
       "    <tr>\n",
       "      <th>2</th>\n",
       "      <td>qcom</td>\n",
       "      <td>Buy</td>\n",
       "      <td>2.3352</td>\n",
       "      <td>Buy</td>\n",
       "      <td>1.6300</td>\n",
       "      <td>Buy</td>\n",
       "      <td>2.5437</td>\n",
       "      <td>58.5613</td>\n",
       "    </tr>\n",
       "    <tr>\n",
       "      <th>3</th>\n",
       "      <td>qqq</td>\n",
       "      <td>Buy</td>\n",
       "      <td>1.8169</td>\n",
       "      <td>Buy</td>\n",
       "      <td>1.6904</td>\n",
       "      <td>Buy</td>\n",
       "      <td>1.9810</td>\n",
       "      <td>12.0230</td>\n",
       "    </tr>\n",
       "    <tr>\n",
       "      <th>4</th>\n",
       "      <td>srpt</td>\n",
       "      <td>Hold or Sell</td>\n",
       "      <td>0.5773</td>\n",
       "      <td>Hold or Sell</td>\n",
       "      <td>1.6800</td>\n",
       "      <td>Hold or Sell</td>\n",
       "      <td>1.4356</td>\n",
       "      <td>2.9705</td>\n",
       "    </tr>\n",
       "    <tr>\n",
       "      <th>5</th>\n",
       "      <td>tgt</td>\n",
       "      <td>Buy</td>\n",
       "      <td>1.3642</td>\n",
       "      <td>Buy</td>\n",
       "      <td>1.8567</td>\n",
       "      <td>Buy</td>\n",
       "      <td>1.2467</td>\n",
       "      <td>304.6523</td>\n",
       "    </tr>\n",
       "    <tr>\n",
       "      <th>6</th>\n",
       "      <td>tsla</td>\n",
       "      <td>Buy</td>\n",
       "      <td>0.9030</td>\n",
       "      <td>Buy</td>\n",
       "      <td>0.9207</td>\n",
       "      <td>Hold or Sell</td>\n",
       "      <td>0.9344</td>\n",
       "      <td>130.3986</td>\n",
       "    </tr>\n",
       "    <tr>\n",
       "      <th>7</th>\n",
       "      <td>tsm</td>\n",
       "      <td>Hold or Sell</td>\n",
       "      <td>3.3756</td>\n",
       "      <td>Hold or Sell</td>\n",
       "      <td>4.3675</td>\n",
       "      <td>Hold or Sell</td>\n",
       "      <td>2.9602</td>\n",
       "      <td>10.3560</td>\n",
       "    </tr>\n",
       "    <tr>\n",
       "      <th>8</th>\n",
       "      <td>v</td>\n",
       "      <td>Buy</td>\n",
       "      <td>0.8841</td>\n",
       "      <td>Buy</td>\n",
       "      <td>0.8970</td>\n",
       "      <td>Buy</td>\n",
       "      <td>1.1163</td>\n",
       "      <td>9.0617</td>\n",
       "    </tr>\n",
       "    <tr>\n",
       "      <th>9</th>\n",
       "      <td>vbiv</td>\n",
       "      <td>Buy</td>\n",
       "      <td>0.5933</td>\n",
       "      <td>Hold or Sell</td>\n",
       "      <td>0.6492</td>\n",
       "      <td>Hold or Sell</td>\n",
       "      <td>0.8283</td>\n",
       "      <td>-0.9750</td>\n",
       "    </tr>\n",
       "    <tr>\n",
       "      <th>10</th>\n",
       "      <td>vbr</td>\n",
       "      <td>Buy</td>\n",
       "      <td>1.4062</td>\n",
       "      <td>Buy</td>\n",
       "      <td>1.4734</td>\n",
       "      <td>Buy</td>\n",
       "      <td>1.5057</td>\n",
       "      <td>1.8137</td>\n",
       "    </tr>\n",
       "    <tr>\n",
       "      <th>11</th>\n",
       "      <td>viov</td>\n",
       "      <td>Buy</td>\n",
       "      <td>1.3035</td>\n",
       "      <td>Buy</td>\n",
       "      <td>1.3391</td>\n",
       "      <td>Buy</td>\n",
       "      <td>1.3371</td>\n",
       "      <td>1.7090</td>\n",
       "    </tr>\n",
       "    <tr>\n",
       "      <th>12</th>\n",
       "      <td>vgt</td>\n",
       "      <td>Buy</td>\n",
       "      <td>1.8760</td>\n",
       "      <td>Buy</td>\n",
       "      <td>1.6771</td>\n",
       "      <td>Buy</td>\n",
       "      <td>1.5897</td>\n",
       "      <td>5.7044</td>\n",
       "    </tr>\n",
       "    <tr>\n",
       "      <th>13</th>\n",
       "      <td>wmt</td>\n",
       "      <td>Buy</td>\n",
       "      <td>1.0176</td>\n",
       "      <td>Buy</td>\n",
       "      <td>0.9727</td>\n",
       "      <td>Buy</td>\n",
       "      <td>1.1073</td>\n",
       "      <td>1911.6773</td>\n",
       "    </tr>\n",
       "    <tr>\n",
       "      <th>14</th>\n",
       "      <td>xlk</td>\n",
       "      <td>Buy</td>\n",
       "      <td>2.2372</td>\n",
       "      <td>Buy</td>\n",
       "      <td>2.1773</td>\n",
       "      <td>Buy</td>\n",
       "      <td>1.8490</td>\n",
       "      <td>9.3706</td>\n",
       "    </tr>\n",
       "  </tbody>\n",
       "</table>\n",
       "</div>"
      ],
      "text/plain": [
       "   stock    1_Day_Pred  1_Day_Model_Return    3_Day_Pred  3_Day_Model_Return  \\\n",
       "0   okta           Buy              0.4574  Hold or Sell              0.4171   \n",
       "1   orcl           Buy              2.1411           Buy              2.0363   \n",
       "2   qcom           Buy              2.3352           Buy              1.6300   \n",
       "3    qqq           Buy              1.8169           Buy              1.6904   \n",
       "4   srpt  Hold or Sell              0.5773  Hold or Sell              1.6800   \n",
       "5    tgt           Buy              1.3642           Buy              1.8567   \n",
       "6   tsla           Buy              0.9030           Buy              0.9207   \n",
       "7    tsm  Hold or Sell              3.3756  Hold or Sell              4.3675   \n",
       "8      v           Buy              0.8841           Buy              0.8970   \n",
       "9   vbiv           Buy              0.5933  Hold or Sell              0.6492   \n",
       "10   vbr           Buy              1.4062           Buy              1.4734   \n",
       "11  viov           Buy              1.3035           Buy              1.3391   \n",
       "12   vgt           Buy              1.8760           Buy              1.6771   \n",
       "13   wmt           Buy              1.0176           Buy              0.9727   \n",
       "14   xlk           Buy              2.2372           Buy              2.1773   \n",
       "\n",
       "      5_Day_Pred  5_Day_Model_Return  Actual_Returns  \n",
       "0            Buy              0.4154          0.5624  \n",
       "1            Buy              2.3618        216.0740  \n",
       "2            Buy              2.5437         58.5613  \n",
       "3            Buy              1.9810         12.0230  \n",
       "4   Hold or Sell              1.4356          2.9705  \n",
       "5            Buy              1.2467        304.6523  \n",
       "6   Hold or Sell              0.9344        130.3986  \n",
       "7   Hold or Sell              2.9602         10.3560  \n",
       "8            Buy              1.1163          9.0617  \n",
       "9   Hold or Sell              0.8283         -0.9750  \n",
       "10           Buy              1.5057          1.8137  \n",
       "11           Buy              1.3371          1.7090  \n",
       "12           Buy              1.5897          5.7044  \n",
       "13           Buy              1.1073       1911.6773  \n",
       "14           Buy              1.8490          9.3706  "
      ]
     },
     "execution_count": 33,
     "metadata": {},
     "output_type": "execute_result"
    }
   ],
   "source": [
    "summary_df = a.pred_summary_df(start_dates3, stocks = [x for x in start_dates3], days_back = 1)\n",
    "summary_df"
   ]
  },
  {
   "cell_type": "code",
   "execution_count": 34,
   "metadata": {},
   "outputs": [
    {
     "data": {
      "text/plain": [
       "(1.3642, 1.63, 1.4356, 9.3706)"
      ]
     },
     "execution_count": 34,
     "metadata": {},
     "output_type": "execute_result"
    }
   ],
   "source": [
    "summary_df['1_Day_Model_Return'].median(), summary_df['3_Day_Model_Return'].median(), summary_df['5_Day_Model_Return'].median(), summary_df['Actual_Returns'].median()"
   ]
  },
  {
   "cell_type": "code",
   "execution_count": null,
   "metadata": {},
   "outputs": [],
   "source": []
  }
 ],
 "metadata": {
  "kernelspec": {
   "display_name": "Python 3",
   "language": "python",
   "name": "python3"
  },
  "language_info": {
   "codemirror_mode": {
    "name": "ipython",
    "version": 3
   },
   "file_extension": ".py",
   "mimetype": "text/x-python",
   "name": "python",
   "nbconvert_exporter": "python",
   "pygments_lexer": "ipython3",
   "version": "3.8.10"
  }
 },
 "nbformat": 4,
 "nbformat_minor": 4
}
