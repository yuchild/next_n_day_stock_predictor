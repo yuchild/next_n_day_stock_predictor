{
 "cells": [
  {
   "cell_type": "code",
   "execution_count": 1,
   "metadata": {
    "scrolled": true
   },
   "outputs": [],
   "source": [
    "from src import attributes as a\n",
    "%load_ext autoreload\n",
    "%autoreload 2\n",
    "\n",
    "import warnings\n",
    "warnings.filterwarnings('ignore')"
   ]
  },
  {
   "cell_type": "code",
   "execution_count": 2,
   "metadata": {},
   "outputs": [],
   "source": [
    "# Global Variables\n",
    "stock_name = 'tsla' # ticker symbol\n",
    "train = 0 # 1 for train, 0 for pass\n",
    "days_ahead = 1 # for predicting 1, 3, or 5 days ahead\n",
    "days_back = -1 # -1 for current data point, -2 for two days ago, etc...\n",
    "cv = 5 # number of cross validation folds\n",
    "model_name = 'Random Forest Classifier' # for display on charts, not a tuning parameter"
   ]
  },
  {
   "cell_type": "code",
   "execution_count": 3,
   "metadata": {},
   "outputs": [],
   "source": [
    "# Extract, Transform, Load, and Train Test Split\n",
    "# Dictionary of IPO Dates\n",
    "start_dates = {'a': '11/15/1999' # Updated 4/26/21 1D, 3D, 5D ahead\n",
    "               , 'aapl': '12/12/1980' # Updated 11/8/21 1D, 3D, 5D ahead\n",
    "               #, 'acy': '01/18/1998' # Updated 4/26/21 1D, 3D, 5D ahead\n",
    "               , 'adbe': '08/11/1986' # Updated 11/8/21 1D, 3D, 5D ahead\n",
    "               #, 'alb': '02/21/1994' # Updated 4/26/21 1D, 3D, 5D ahead\n",
    "               , 'amat': '03/16/1980' # Updated 4/26/21 1D, 3D, 5D ahead\n",
    "               , 'amd': '03/17/1980' # Updated 11/23/21 1D, 3D, 5D ahead\n",
    "               , 'amgn': '06/13/1983' # Updated 4/26/21 1D, 3D, 5D ahead\n",
    "               , 'amzn': '05/12/1997' # Updated 11/07/21 1D, 3D, 5D ahead\n",
    "               , 'baba': '09/15/2014' # Updated 11/13/21 1D, 3D, 5D ahead\n",
    "               , 'bac': '02/19/1973' # Updated 4/26/21 1D, 3D, 5D ahead\n",
    "               , 'bby': '04/15/1985' # Updated 11/19/21 1D, 3D, 5D ahead\n",
    "               #, 'bpmc': '04/27/2015' # Updated 4/26/21 1D, 3D, 5D ahead\n",
    "               , 'crm': '06/23/2004' # Updated 11/13/21 1D, 3D, 5D ahead\n",
    "               , 'crsp': '10/16/2016' # Updated 4/26/21 1D, 3D, 5D ahead\n",
    "               , 'cost': '07/07/1986' # Updated 11/23/21 1D, 3D, 5D ahead\n",
    "               , 'dis': '10/27/2014' # Updatd 11/5/21 1D, 3D, 5D ahead\n",
    "               #, 'dq': '10/04/2010' # Updated 4/26/21 1D, 3D, 5D ahead\n",
    "               , 'esgv': '09/16/2018' # Updated 4/26/21 1D, 3D, 5D ahead\n",
    "               , 'fslr': '11/12/2006' # Updated 4/26/21 1D, 3D, 5D ahead\n",
    "               , 'goog': '08/16/2004' # Updated 11/8/21 1D, 3D, 5D ahead\n",
    "               , 'ibm': '01/02/1962' # Updated 4/26/21 1D, 3D, 5D ahead\n",
    "               , 'intc': '03/16/1980' # Updated 11/13/21 1D, 3D, 5D ahead\n",
    "               , 'iyw': '05/15/2000' # Updated 11/21/21 1D, 3D, 5D ahead\n",
    "               , 'll': '11/05/2007' # Updated 11/22/21 1D, 3D, 5D ahead\n",
    "               , 'lng': '04/04/1994' # Updated 4/26/21 1D, 3D, 5D ahead\n",
    "               , 'ma': '05/21/2006' # Updated 4/26/21 1D, 3D, 5D ahead\n",
    "               , 'mdb': '10/15/2017' # Updated 11/21/21 1D, 3D, 5D ahead\n",
    "               , 'msft': '03/10/1986' # Updated 11/8/21 1D, 3D, 5D ahead\n",
    "               , 'mu': '05/28/1984' # Updated 11/20/21 1D, 3D, 5D ahead\n",
    "               #, 'nee': '02/19/1973' # Updated 4/26/21 1D, 3D, 5D ahead\n",
    "               , 'nio': '09/10/2018' # Updated 4/26/21 1D, 3D, 5D ahead\n",
    "               , 'nvda': '01/22/1999' # Updated 11/17/21 1D, 3D, 5D ahead\n",
    "               #, 'pacb': '10/25/2010' # Updated 4/26/21 1D, 3D, 5D ahead\n",
    "               , 'pypl': '07/05/2015' # Updated 4/26/21 1D, 3D, 5D ahead\n",
    "               , 'qgen': '06/24/1996' # Updated 4/26/21 1D, 3D, 5D ahead\n",
    "               #, 'run': '08/02/2015' # Updated 4/26/21 1D, 3D, 5D ahead\n",
    "               , 'okta': '04/03/2017' # Updated 4/26/21 1D, 3D, 5D ahead\n",
    "               , 'orcl': '03/10/1986' # Updated 4/26/21 1D, 3D, 5D ahead\n",
    "               , 'qcom': '12/09/1991' # Updated 11/20/21 1D, 3D, 5D ahead\n",
    "               , 'qqq': '03/08/1999' # Updated 4/26/21 1D, 3D, 5D ahead\n",
    "               , 'srpt': '06/02/1997' # Updated 4/26/21 1D, 3D, 5D ahead\n",
    "               , 'tgt': '02/19/1973' # Updated 11/22/21 1D, 3D, 5D ahead\n",
    "               #, 'tpic': '07/17/2016' # Updated 4/26/21 1D, 3D, 5D ahead\n",
    "               , 'tsla': '06/29/2010' # Updated 11/07/21 1D, 3D, 5D ahead\n",
    "               , 'tsm': '10/06/1997' # Updated 11/20/21 1D, 3D, 5D ahead\n",
    "               , 'v': '03/16/2008' # Updated 11/22/21 1D, 3D, 5D ahead\n",
    "               , 'vbiv': '09/04/2002' # Updated 4/26/21 1D, 3D, 5D ahead\n",
    "               , 'vbr': '01/26/2004' # Updated 11/20/21 1D, 3D, 5D ahead\n",
    "               , 'viov': '09/06/2010' # Updated 4/26/21 1D, 3D, 5D ahead\n",
    "               , 'vgt': '01/26/2004' # Updated 11/07/21 1D, 3D, 5D ahead\n",
    "               , 'wmt': '11/10/2014' # Updated 11/16/21 1D, 3D, 5D ahead\n",
    "               , 'xlk': '12/21/1998' # Updated 11/21/21 1D, 3D, 5D ahead\n",
    "              }"
   ]
  },
  {
   "cell_type": "markdown",
   "metadata": {},
   "source": [
    "### Get Data..."
   ]
  },
  {
   "cell_type": "code",
   "execution_count": 4,
   "metadata": {
    "scrolled": true
   },
   "outputs": [
    {
     "name": "stdout",
     "output_type": "stream",
     "text": [
      "Today's date: 2022-10-12\n",
      "Table Updates Complete\n",
      "Current Time:  13:03:22\n"
     ]
    }
   ],
   "source": [
    "from datetime import date, datetime\n",
    "today = date.today()\n",
    "print(\"Today's date:\", today)\n",
    "a.get_tables(start_dates) # commented out for 2021-12-19, data already downloaded for weekend\n",
    "print('Table Updates Complete')\n",
    "now = datetime.now()\n",
    "current_time = now.strftime(\"%H:%M:%S\")\n",
    "print(\"Current Time: \", current_time)"
   ]
  },
  {
   "cell_type": "code",
   "execution_count": 5,
   "metadata": {},
   "outputs": [],
   "source": [
    "# Load RandomForextClassifier Model\n",
    "# rfc_model, y_pred, y_probs = a.rfc(X_train, X_test, y_train, stock_name, days_ahead)"
   ]
  },
  {
   "cell_type": "code",
   "execution_count": 6,
   "metadata": {
    "scrolled": false
   },
   "outputs": [],
   "source": [
    "# ROC Curve\n",
    "# a.roc_plot(y_test, y_probs, stock_name, model_name)"
   ]
  },
  {
   "cell_type": "code",
   "execution_count": 7,
   "metadata": {
    "scrolled": false
   },
   "outputs": [],
   "source": [
    "# Precision Recall Curve\n",
    "# a.prec_recall(y_test, y_probs, stock_name, model_name)"
   ]
  },
  {
   "cell_type": "code",
   "execution_count": 8,
   "metadata": {
    "scrolled": false
   },
   "outputs": [],
   "source": [
    "# Confusion Matrix\n",
    "# a.confusion_matrix(rfc_model, X_test, y_test, stock_name)"
   ]
  },
  {
   "cell_type": "code",
   "execution_count": 9,
   "metadata": {},
   "outputs": [],
   "source": [
    "# Cross Validation\n",
    "# a.cross_validation(rfc_model\n",
    "#                    , stock_df[['oc', 'hl', '5stdev_adj', '5sma_adj']]\n",
    "#                    , stock_df['direction']\n",
    "#                    , cv = 5\n",
    "#                   )"
   ]
  },
  {
   "cell_type": "markdown",
   "metadata": {},
   "source": [
    "### Prediction..."
   ]
  },
  {
   "cell_type": "code",
   "execution_count": 10,
   "metadata": {
    "scrolled": true
   },
   "outputs": [],
   "source": [
    "# Prediction, use last day of data\n",
    "# stock_df.iloc[-1]"
   ]
  },
  {
   "cell_type": "code",
   "execution_count": 11,
   "metadata": {},
   "outputs": [],
   "source": [
    "# import numpy as np\n",
    "# last = stock_df[['oc', 'hl', '5stdev_adj', '5sma_adj']].iloc[-days_back]\n",
    "# last"
   ]
  },
  {
   "cell_type": "code",
   "execution_count": 12,
   "metadata": {},
   "outputs": [],
   "source": [
    "# stock_df['adj'].describe()"
   ]
  },
  {
   "cell_type": "code",
   "execution_count": 13,
   "metadata": {
    "scrolled": true
   },
   "outputs": [],
   "source": [
    "# if rfc_model.predict(np.array(last).reshape(1, -1))[0] == 1:\n",
    "#     print(f'Buy {stock_name} {days_ahead} day(s) ahead')\n",
    "# else:\n",
    "#     print(f'Sell or hold {stock_name} {days_ahead} day(s) ahead')"
   ]
  },
  {
   "cell_type": "markdown",
   "metadata": {},
   "source": [
    "### Strategy Returns..."
   ]
  },
  {
   "cell_type": "code",
   "execution_count": 14,
   "metadata": {},
   "outputs": [],
   "source": [
    "# returns on strategy column\n",
    "# stock_df['prediction'] = rfc_model.predict(stock_df[['oc', 'hl', '5stdev_adj', '5sma_adj']])\n",
    "# stock_df['returns'] = stock_df['adj'].shift(-1, fill_value = stock_df['adj'].median()) * stock_df['prediction']"
   ]
  },
  {
   "cell_type": "code",
   "execution_count": 15,
   "metadata": {},
   "outputs": [],
   "source": [
    "# stock_df.tail(5)"
   ]
  },
  {
   "cell_type": "code",
   "execution_count": 16,
   "metadata": {},
   "outputs": [],
   "source": [
    "# Don't trade every day!\n",
    "# import matplotlib.pyplot as plt\n",
    "# test_length = len(y_test)\n",
    "# (stock_df['returns'][-test_length:] + 1).cumprod().plot()\n",
    "# plt.title(f'{stock_name} Expected Returns %');"
   ]
  },
  {
   "cell_type": "code",
   "execution_count": 17,
   "metadata": {},
   "outputs": [],
   "source": [
    "# Model returns if bought on predictions of 1\n",
    "# returns_on_ones = []\n",
    "# for idx in range(-test_length, 0):\n",
    "#     if stock_df['prediction'][idx] == 1:\n",
    "#         returns_on_ones.append(1 + stock_df['returns'][idx])\n",
    "\n",
    "# returns = 1\n",
    "# for x in returns_on_ones:\n",
    "#     returns *= x\n",
    "# returns"
   ]
  },
  {
   "cell_type": "code",
   "execution_count": 18,
   "metadata": {},
   "outputs": [],
   "source": [
    "# multiple times original investment, not bad but..."
   ]
  },
  {
   "cell_type": "code",
   "execution_count": 19,
   "metadata": {},
   "outputs": [],
   "source": [
    "# If purchased in 2012 and left it until now\n",
    "# test_idx = int(len(stock_df)*0.75)\n",
    "# (stock_df['Close'][-1] - stock_df['Close'][-test_idx]) / stock_df['Close'][-test_idx]"
   ]
  },
  {
   "cell_type": "code",
   "execution_count": 20,
   "metadata": {},
   "outputs": [],
   "source": [
    "# Buy and hold strategy beats RandomForestClassifier in this study\n",
    "\n",
    "# Special thanks to Shagufta Tahsildar at https://blog.quantinsti.com/random-forest-algorithm-in-python/"
   ]
  },
  {
   "cell_type": "code",
   "execution_count": null,
   "metadata": {},
   "outputs": [],
   "source": []
  },
  {
   "cell_type": "code",
   "execution_count": null,
   "metadata": {},
   "outputs": [],
   "source": []
  },
  {
   "cell_type": "code",
   "execution_count": null,
   "metadata": {},
   "outputs": [],
   "source": []
  },
  {
   "cell_type": "markdown",
   "metadata": {},
   "source": [
    "### Training"
   ]
  },
  {
   "cell_type": "markdown",
   "metadata": {},
   "source": [
    "Training is done once a week on Saturday and Sunday"
   ]
  },
  {
   "cell_type": "code",
   "execution_count": 21,
   "metadata": {},
   "outputs": [
    {
     "data": {
      "text/plain": [
       "45"
      ]
     },
     "execution_count": 21,
     "metadata": {},
     "output_type": "execute_result"
    }
   ],
   "source": [
    "len(start_dates)"
   ]
  },
  {
   "cell_type": "code",
   "execution_count": 22,
   "metadata": {},
   "outputs": [
    {
     "data": {
      "text/plain": [
       "{'a': '11/15/1999',\n",
       " 'aapl': '12/12/1980',\n",
       " 'adbe': '08/11/1986',\n",
       " 'amat': '03/16/1980',\n",
       " 'amd': '03/17/1980',\n",
       " 'amgn': '06/13/1983',\n",
       " 'amzn': '05/12/1997',\n",
       " 'baba': '09/15/2014',\n",
       " 'bac': '02/19/1973',\n",
       " 'bby': '04/15/1985',\n",
       " 'crm': '06/23/2004',\n",
       " 'crsp': '10/16/2016',\n",
       " 'cost': '07/07/1986',\n",
       " 'dis': '10/27/2014',\n",
       " 'esgv': '09/16/2018'}"
      ]
     },
     "execution_count": 22,
     "metadata": {},
     "output_type": "execute_result"
    }
   ],
   "source": [
    "import itertools as itr\n",
    "start_dates1 = dict(itr.islice(start_dates.items(), 0, 15))\n",
    "start_dates1"
   ]
  },
  {
   "cell_type": "code",
   "execution_count": 23,
   "metadata": {},
   "outputs": [
    {
     "data": {
      "text/plain": [
       "{'fslr': '11/12/2006',\n",
       " 'goog': '08/16/2004',\n",
       " 'ibm': '01/02/1962',\n",
       " 'intc': '03/16/1980',\n",
       " 'iyw': '05/15/2000',\n",
       " 'll': '11/05/2007',\n",
       " 'lng': '04/04/1994',\n",
       " 'ma': '05/21/2006',\n",
       " 'mdb': '10/15/2017',\n",
       " 'msft': '03/10/1986',\n",
       " 'mu': '05/28/1984',\n",
       " 'nio': '09/10/2018',\n",
       " 'nvda': '01/22/1999',\n",
       " 'pypl': '07/05/2015',\n",
       " 'qgen': '06/24/1996'}"
      ]
     },
     "execution_count": 23,
     "metadata": {},
     "output_type": "execute_result"
    }
   ],
   "source": [
    "start_dates2 = dict(itr.islice(start_dates.items(), 15, 30))\n",
    "start_dates2"
   ]
  },
  {
   "cell_type": "code",
   "execution_count": 24,
   "metadata": {},
   "outputs": [
    {
     "data": {
      "text/plain": [
       "{'okta': '04/03/2017',\n",
       " 'orcl': '03/10/1986',\n",
       " 'qcom': '12/09/1991',\n",
       " 'qqq': '03/08/1999',\n",
       " 'srpt': '06/02/1997',\n",
       " 'tgt': '02/19/1973',\n",
       " 'tsla': '06/29/2010',\n",
       " 'tsm': '10/06/1997',\n",
       " 'v': '03/16/2008',\n",
       " 'vbiv': '09/04/2002',\n",
       " 'vbr': '01/26/2004',\n",
       " 'viov': '09/06/2010',\n",
       " 'vgt': '01/26/2004',\n",
       " 'wmt': '11/10/2014',\n",
       " 'xlk': '12/21/1998'}"
      ]
     },
     "execution_count": 24,
     "metadata": {},
     "output_type": "execute_result"
    }
   ],
   "source": [
    "start_dates3 = dict(itr.islice(start_dates.items(), 30, 45+1))\n",
    "start_dates3"
   ]
  },
  {
   "cell_type": "code",
   "execution_count": 25,
   "metadata": {
    "scrolled": false
   },
   "outputs": [],
   "source": [
    "# from datetime import datetime\n",
    "\n",
    "# now = datetime.now()\n",
    "\n",
    "# current_time = now.strftime(\"%H:%M:%S\")\n",
    "# print(\"Gridsearch Start Date: \", today)\n",
    "# print(\"Current Time: \", current_time)\n",
    "\n",
    "#Train 15 at a time!\n",
    "# stocks = [x for x in start_dates1]\n",
    "# days_ahead = [1, 3, 5]\n",
    "# cv = 5\n",
    "# for stock in stocks:\n",
    "#     for days in days_ahead:\n",
    "#         X_train, X_test, y_train, y_test, stock_df = a.data(stock, start_dates[stock], days)\n",
    "#         a.rfc_GridSearch(X_train, y_train, stock, days, cv)\n",
    "# len(stocks)\n",
    "\n",
    "# Next on training for Saturday 4/17/2021\n",
    "# stocks = [x for x in start_dates2]\n",
    "# days_ahead = [1, 3, 5]\n",
    "# cv = 5\n",
    "# for stock in stocks:\n",
    "#     for days in days_ahead:\n",
    "#         X_train, X_test, y_train, y_test, stock_df = a.data(stock, start_dates[stock], days)\n",
    "#         a.rfc_GridSearch(X_train, y_train, stock, days, cv)\n",
    "# len(stocks)\n",
    "\n",
    "# Next on training for Saturday 4/17/2021\n",
    "# stocks = [x for x in start_dates3]\n",
    "# days_ahead = [1, 3, 5]\n",
    "# cv = 5\n",
    "# for stock in stocks:\n",
    "#     for days in days_ahead:\n",
    "#         X_train, X_test, y_train, y_test, stock_df = a.data(stock, start_dates[stock], days)\n",
    "#         a.rfc_GridSearch(X_train, y_train, stock, days, cv)\n",
    "# len(stocks)\n",
    "\n",
    "# # Train all, takes 15+ hours\n",
    "# stocks = [x for x in start_dates]\n",
    "# days_ahead = [1, 3, 5]\n",
    "# cv = 5\n",
    "# for stock in stocks:\n",
    "#     for days in days_ahead:\n",
    "#         X_train, X_test, y_train, y_test, stock_df = a.data(stock, start_dates[stock], days)\n",
    "#         a.rfc_GridSearch(X_train, y_train, stock, days, cv)\n",
    "# len(stocks)\n",
    "\n",
    "# Train desired stocks...takes less time (4 will take 15.5 hours, each stock is roughly 2.5-4 hours to train)\n",
    "# 3 will take 7.5 hours, roughly 2.5 hours per stock trained\n",
    "# to train: ['cost']\n",
    "\n",
    "# import timeit \n",
    "# stocks = ['amd'] # ['tsm', 'vbr'] # tbt as of 2021-11-20, started 01:15 PST\n",
    "# days_ahead = [1, 3, 5] \n",
    "# cv = 3 # was 5 \n",
    "# for stock in stocks:\n",
    "#     for days in days_ahead:\n",
    "#         X_train, X_test, y_train, y_test, stock_df = a.data(stock, start_dates[stock], days)\n",
    "#         %timeit a.rfc_GridSearch(X_train, y_train, stock, days, cv)\n",
    "\n",
    "# now = datetime.now()\n",
    "\n",
    "# current_time = now.strftime(\"%H:%M:%S\")\n",
    "# print(\"Gridsearch End Date: \", today)\n",
    "# print(\"Current Time: \", current_time)"
   ]
  },
  {
   "cell_type": "code",
   "execution_count": null,
   "metadata": {},
   "outputs": [],
   "source": []
  },
  {
   "cell_type": "code",
   "execution_count": null,
   "metadata": {},
   "outputs": [],
   "source": []
  },
  {
   "cell_type": "code",
   "execution_count": null,
   "metadata": {},
   "outputs": [],
   "source": []
  },
  {
   "cell_type": "markdown",
   "metadata": {},
   "source": [
    "### Display All Results"
   ]
  },
  {
   "cell_type": "markdown",
   "metadata": {},
   "source": [
    "**NOTE:** Returns include buying ups and selling downs"
   ]
  },
  {
   "cell_type": "code",
   "execution_count": 26,
   "metadata": {},
   "outputs": [
    {
     "name": "stdout",
     "output_type": "stream",
     "text": [
      "Today's date: 2022-10-12\n",
      "Current Time:  13:03:23\n"
     ]
    }
   ],
   "source": [
    "from datetime import date, datetime\n",
    "today = date.today()\n",
    "print(\"Today's date:\", today)\n",
    "now = datetime.now()\n",
    "current_time = now.strftime(\"%H:%M:%S\")\n",
    "print(\"Current Time: \", current_time)"
   ]
  },
  {
   "cell_type": "code",
   "execution_count": 27,
   "metadata": {
    "scrolled": false
   },
   "outputs": [
    {
     "name": "stdout",
     "output_type": "stream",
     "text": [
      "Sell or hold amd 1 day(s) ahead\n",
      "Model Returns (x 100 for %): 8.0183\n",
      "Stock Returns (x 100 for %): 5.0895\n"
     ]
    },
    {
     "data": {
      "image/png": "[encoded data removed]",
      "text/plain": [
       "<Figure size 432x288 with 1 Axes>"
      ]
     },
     "metadata": {},
     "output_type": "display_data"
    },
    {
     "data": {
      "image/png": "[encoded data removed]",
      "text/plain": [
       "<Figure size 648x504 with 1 Axes>"
      ]
     },
     "metadata": {},
     "output_type": "display_data"
    },
    {
     "data": {
      "image/png": "[encoded data removed]",
      "text/plain": [
       "<Figure size 648x504 with 1 Axes>"
      ]
     },
     "metadata": {},
     "output_type": "display_data"
    },
    {
     "data": {
      "image/png": "[encoded data removed]",
      "text/plain": [
       "<Figure size 684x612 with 2 Axes>"
      ]
     },
     "metadata": {},
     "output_type": "display_data"
    }
   ],
   "source": [
    "stock_name = 'amd'\n",
    "a.all_func(stock_name\n",
    "           , start_dates[stock_name]\n",
    "           , days_ahead = 1\n",
    "           , model_name = model_name\n",
    "           , days_back = 1\n",
    "          )"
   ]
  },
  {
   "cell_type": "code",
   "execution_count": null,
   "metadata": {},
   "outputs": [],
   "source": []
  },
  {
   "cell_type": "code",
   "execution_count": null,
   "metadata": {},
   "outputs": [],
   "source": []
  },
  {
   "cell_type": "code",
   "execution_count": null,
   "metadata": {},
   "outputs": [],
   "source": []
  },
  {
   "cell_type": "markdown",
   "metadata": {},
   "source": [
    "### Data Frame of Predictions 1 3 5 Days"
   ]
  },
  {
   "cell_type": "markdown",
   "metadata": {},
   "source": [
    "**NOTE:** Returns are for buys only."
   ]
  },
  {
   "cell_type": "code",
   "execution_count": 28,
   "metadata": {
    "scrolled": false
   },
   "outputs": [
    {
     "name": "stdout",
     "output_type": "stream",
     "text": [
      "Today's date: 2022-10-12\n",
      "Current Time = 13:03:23\n"
     ]
    }
   ],
   "source": [
    "print(\"Today's date:\", today)\n",
    "print(\"Current Time =\", current_time)"
   ]
  },
  {
   "cell_type": "code",
   "execution_count": 29,
   "metadata": {
    "scrolled": false
   },
   "outputs": [
    {
     "data": {
      "text/html": [
       "<div>\n",
       "<style scoped>\n",
       "    .dataframe tbody tr th:only-of-type {\n",
       "        vertical-align: middle;\n",
       "    }\n",
       "\n",
       "    .dataframe tbody tr th {\n",
       "        vertical-align: top;\n",
       "    }\n",
       "\n",
       "    .dataframe thead th {\n",
       "        text-align: right;\n",
       "    }\n",
       "</style>\n",
       "<table border=\"1\" class=\"dataframe\">\n",
       "  <thead>\n",
       "    <tr style=\"text-align: right;\">\n",
       "      <th></th>\n",
       "      <th>stock</th>\n",
       "      <th>1_Day_Pred</th>\n",
       "      <th>1_Day_Model_Return</th>\n",
       "      <th>3_Day_Pred</th>\n",
       "      <th>3_Day_Model_Return</th>\n",
       "      <th>5_Day_Pred</th>\n",
       "      <th>5_Day_Model_Return</th>\n",
       "      <th>Actual_Returns</th>\n",
       "    </tr>\n",
       "  </thead>\n",
       "  <tbody>\n",
       "    <tr>\n",
       "      <th>0</th>\n",
       "      <td>a</td>\n",
       "      <td>Buy</td>\n",
       "      <td>1.8535</td>\n",
       "      <td>Buy</td>\n",
       "      <td>1.6452</td>\n",
       "      <td>Buy</td>\n",
       "      <td>1.6496</td>\n",
       "      <td>10.6432</td>\n",
       "    </tr>\n",
       "    <tr>\n",
       "      <th>1</th>\n",
       "      <td>aapl</td>\n",
       "      <td>Buy</td>\n",
       "      <td>3.2630</td>\n",
       "      <td>Buy</td>\n",
       "      <td>3.0240</td>\n",
       "      <td>Buy</td>\n",
       "      <td>2.8343</td>\n",
       "      <td>583.6621</td>\n",
       "    </tr>\n",
       "    <tr>\n",
       "      <th>2</th>\n",
       "      <td>adbe</td>\n",
       "      <td>Hold or Sell</td>\n",
       "      <td>3.9214</td>\n",
       "      <td>Hold or Sell</td>\n",
       "      <td>3.3899</td>\n",
       "      <td>Hold or Sell</td>\n",
       "      <td>3.5724</td>\n",
       "      <td>74.0075</td>\n",
       "    </tr>\n",
       "    <tr>\n",
       "      <th>3</th>\n",
       "      <td>amat</td>\n",
       "      <td>Buy</td>\n",
       "      <td>5.7826</td>\n",
       "      <td>Buy</td>\n",
       "      <td>6.3002</td>\n",
       "      <td>Buy</td>\n",
       "      <td>5.7671</td>\n",
       "      <td>605.6036</td>\n",
       "    </tr>\n",
       "    <tr>\n",
       "      <th>4</th>\n",
       "      <td>amd</td>\n",
       "      <td>Hold or Sell</td>\n",
       "      <td>4.4659</td>\n",
       "      <td>Hold or Sell</td>\n",
       "      <td>12.6640</td>\n",
       "      <td>Hold or Sell</td>\n",
       "      <td>9.1859</td>\n",
       "      <td>5.0895</td>\n",
       "    </tr>\n",
       "    <tr>\n",
       "      <th>5</th>\n",
       "      <td>amgn</td>\n",
       "      <td>Hold or Sell</td>\n",
       "      <td>1.8593</td>\n",
       "      <td>Hold or Sell</td>\n",
       "      <td>1.8018</td>\n",
       "      <td>Hold or Sell</td>\n",
       "      <td>1.6035</td>\n",
       "      <td>381.2567</td>\n",
       "    </tr>\n",
       "    <tr>\n",
       "      <th>6</th>\n",
       "      <td>amzn</td>\n",
       "      <td>Hold or Sell</td>\n",
       "      <td>1.1989</td>\n",
       "      <td>Buy</td>\n",
       "      <td>1.0222</td>\n",
       "      <td>Buy</td>\n",
       "      <td>0.9819</td>\n",
       "      <td>247.1319</td>\n",
       "    </tr>\n",
       "    <tr>\n",
       "      <th>7</th>\n",
       "      <td>baba</td>\n",
       "      <td>Hold or Sell</td>\n",
       "      <td>0.6455</td>\n",
       "      <td>Hold or Sell</td>\n",
       "      <td>0.8297</td>\n",
       "      <td>Buy</td>\n",
       "      <td>0.5172</td>\n",
       "      <td>-0.0687</td>\n",
       "    </tr>\n",
       "    <tr>\n",
       "      <th>8</th>\n",
       "      <td>bac</td>\n",
       "      <td>Hold or Sell</td>\n",
       "      <td>2.0393</td>\n",
       "      <td>Hold or Sell</td>\n",
       "      <td>1.2007</td>\n",
       "      <td>Hold or Sell</td>\n",
       "      <td>2.2355</td>\n",
       "      <td>43.5239</td>\n",
       "    </tr>\n",
       "    <tr>\n",
       "      <th>9</th>\n",
       "      <td>bby</td>\n",
       "      <td>Buy</td>\n",
       "      <td>0.8862</td>\n",
       "      <td>Buy</td>\n",
       "      <td>0.8932</td>\n",
       "      <td>Buy</td>\n",
       "      <td>0.7952</td>\n",
       "      <td>556.3592</td>\n",
       "    </tr>\n",
       "    <tr>\n",
       "      <th>10</th>\n",
       "      <td>crm</td>\n",
       "      <td>Buy</td>\n",
       "      <td>0.7248</td>\n",
       "      <td>Hold or Sell</td>\n",
       "      <td>0.8937</td>\n",
       "      <td>Buy</td>\n",
       "      <td>0.8822</td>\n",
       "      <td>12.7527</td>\n",
       "    </tr>\n",
       "    <tr>\n",
       "      <th>11</th>\n",
       "      <td>crsp</td>\n",
       "      <td>Hold or Sell</td>\n",
       "      <td>0.7491</td>\n",
       "      <td>Hold or Sell</td>\n",
       "      <td>0.7166</td>\n",
       "      <td>Hold or Sell</td>\n",
       "      <td>1.1515</td>\n",
       "      <td>1.9701</td>\n",
       "    </tr>\n",
       "    <tr>\n",
       "      <th>12</th>\n",
       "      <td>cost</td>\n",
       "      <td>Buy</td>\n",
       "      <td>1.7541</td>\n",
       "      <td>Buy</td>\n",
       "      <td>1.9554</td>\n",
       "      <td>Buy</td>\n",
       "      <td>1.5233</td>\n",
       "      <td>53.4572</td>\n",
       "    </tr>\n",
       "    <tr>\n",
       "      <th>13</th>\n",
       "      <td>dis</td>\n",
       "      <td>Hold or Sell</td>\n",
       "      <td>2.0080</td>\n",
       "      <td>Buy</td>\n",
       "      <td>2.1687</td>\n",
       "      <td>Hold or Sell</td>\n",
       "      <td>2.2644</td>\n",
       "      <td>129.1247</td>\n",
       "    </tr>\n",
       "    <tr>\n",
       "      <th>14</th>\n",
       "      <td>esgv</td>\n",
       "      <td>Hold or Sell</td>\n",
       "      <td>0.8746</td>\n",
       "      <td>Hold or Sell</td>\n",
       "      <td>0.9398</td>\n",
       "      <td>Buy</td>\n",
       "      <td>0.8879</td>\n",
       "      <td>0.3408</td>\n",
       "    </tr>\n",
       "  </tbody>\n",
       "</table>\n",
       "</div>"
      ],
      "text/plain": [
       "   stock    1_Day_Pred  1_Day_Model_Return    3_Day_Pred  3_Day_Model_Return  \\\n",
       "0      a           Buy              1.8535           Buy              1.6452   \n",
       "1   aapl           Buy              3.2630           Buy              3.0240   \n",
       "2   adbe  Hold or Sell              3.9214  Hold or Sell              3.3899   \n",
       "3   amat           Buy              5.7826           Buy              6.3002   \n",
       "4    amd  Hold or Sell              4.4659  Hold or Sell             12.6640   \n",
       "5   amgn  Hold or Sell              1.8593  Hold or Sell              1.8018   \n",
       "6   amzn  Hold or Sell              1.1989           Buy              1.0222   \n",
       "7   baba  Hold or Sell              0.6455  Hold or Sell              0.8297   \n",
       "8    bac  Hold or Sell              2.0393  Hold or Sell              1.2007   \n",
       "9    bby           Buy              0.8862           Buy              0.8932   \n",
       "10   crm           Buy              0.7248  Hold or Sell              0.8937   \n",
       "11  crsp  Hold or Sell              0.7491  Hold or Sell              0.7166   \n",
       "12  cost           Buy              1.7541           Buy              1.9554   \n",
       "13   dis  Hold or Sell              2.0080           Buy              2.1687   \n",
       "14  esgv  Hold or Sell              0.8746  Hold or Sell              0.9398   \n",
       "\n",
       "      5_Day_Pred  5_Day_Model_Return  Actual_Returns  \n",
       "0            Buy              1.6496         10.6432  \n",
       "1            Buy              2.8343        583.6621  \n",
       "2   Hold or Sell              3.5724         74.0075  \n",
       "3            Buy              5.7671        605.6036  \n",
       "4   Hold or Sell              9.1859          5.0895  \n",
       "5   Hold or Sell              1.6035        381.2567  \n",
       "6            Buy              0.9819        247.1319  \n",
       "7            Buy              0.5172         -0.0687  \n",
       "8   Hold or Sell              2.2355         43.5239  \n",
       "9            Buy              0.7952        556.3592  \n",
       "10           Buy              0.8822         12.7527  \n",
       "11  Hold or Sell              1.1515          1.9701  \n",
       "12           Buy              1.5233         53.4572  \n",
       "13  Hold or Sell              2.2644        129.1247  \n",
       "14           Buy              0.8879          0.3408  "
      ]
     },
     "execution_count": 29,
     "metadata": {},
     "output_type": "execute_result"
    }
   ],
   "source": [
    "summary_df = a.pred_summary_df(start_dates1, stocks = [x for x in start_dates1], days_back = 1)\n",
    "summary_df"
   ]
  },
  {
   "cell_type": "code",
   "execution_count": 30,
   "metadata": {},
   "outputs": [
    {
     "data": {
      "text/plain": [
       "(1.8535, 1.6452, 1.6035, 53.4572)"
      ]
     },
     "execution_count": 30,
     "metadata": {},
     "output_type": "execute_result"
    }
   ],
   "source": [
    "summary_df['1_Day_Model_Return'].median(), summary_df['3_Day_Model_Return'].median(), summary_df['5_Day_Model_Return'].median(), summary_df['Actual_Returns'].median()"
   ]
  },
  {
   "cell_type": "code",
   "execution_count": null,
   "metadata": {},
   "outputs": [],
   "source": []
  },
  {
   "cell_type": "code",
   "execution_count": 31,
   "metadata": {
    "scrolled": false
   },
   "outputs": [
    {
     "data": {
      "text/html": [
       "<div>\n",
       "<style scoped>\n",
       "    .dataframe tbody tr th:only-of-type {\n",
       "        vertical-align: middle;\n",
       "    }\n",
       "\n",
       "    .dataframe tbody tr th {\n",
       "        vertical-align: top;\n",
       "    }\n",
       "\n",
       "    .dataframe thead th {\n",
       "        text-align: right;\n",
       "    }\n",
       "</style>\n",
       "<table border=\"1\" class=\"dataframe\">\n",
       "  <thead>\n",
       "    <tr style=\"text-align: right;\">\n",
       "      <th></th>\n",
       "      <th>stock</th>\n",
       "      <th>1_Day_Pred</th>\n",
       "      <th>1_Day_Model_Return</th>\n",
       "      <th>3_Day_Pred</th>\n",
       "      <th>3_Day_Model_Return</th>\n",
       "      <th>5_Day_Pred</th>\n",
       "      <th>5_Day_Model_Return</th>\n",
       "      <th>Actual_Returns</th>\n",
       "    </tr>\n",
       "  </thead>\n",
       "  <tbody>\n",
       "    <tr>\n",
       "      <th>0</th>\n",
       "      <td>fslr</td>\n",
       "      <td>Buy</td>\n",
       "      <td>1.4877</td>\n",
       "      <td>Buy</td>\n",
       "      <td>1.7358</td>\n",
       "      <td>Buy</td>\n",
       "      <td>1.8690</td>\n",
       "      <td>-0.3495</td>\n",
       "    </tr>\n",
       "    <tr>\n",
       "      <th>1</th>\n",
       "      <td>goog</td>\n",
       "      <td>Buy</td>\n",
       "      <td>2.1251</td>\n",
       "      <td>Hold or Sell</td>\n",
       "      <td>1.8892</td>\n",
       "      <td>Buy</td>\n",
       "      <td>2.2326</td>\n",
       "      <td>6.6627</td>\n",
       "    </tr>\n",
       "    <tr>\n",
       "      <th>2</th>\n",
       "      <td>ibm</td>\n",
       "      <td>Buy</td>\n",
       "      <td>1.2904</td>\n",
       "      <td>Buy</td>\n",
       "      <td>1.5637</td>\n",
       "      <td>Buy</td>\n",
       "      <td>0.9727</td>\n",
       "      <td>28.5859</td>\n",
       "    </tr>\n",
       "    <tr>\n",
       "      <th>3</th>\n",
       "      <td>intc</td>\n",
       "      <td>Hold or Sell</td>\n",
       "      <td>3.1390</td>\n",
       "      <td>Hold or Sell</td>\n",
       "      <td>3.0254</td>\n",
       "      <td>Hold or Sell</td>\n",
       "      <td>3.1756</td>\n",
       "      <td>91.2088</td>\n",
       "    </tr>\n",
       "    <tr>\n",
       "      <th>4</th>\n",
       "      <td>iyw</td>\n",
       "      <td>Buy</td>\n",
       "      <td>1.9850</td>\n",
       "      <td>Buy</td>\n",
       "      <td>1.8410</td>\n",
       "      <td>Buy</td>\n",
       "      <td>1.3976</td>\n",
       "      <td>5.9931</td>\n",
       "    </tr>\n",
       "    <tr>\n",
       "      <th>5</th>\n",
       "      <td>ll</td>\n",
       "      <td>Buy</td>\n",
       "      <td>0.5657</td>\n",
       "      <td>Buy</td>\n",
       "      <td>0.5299</td>\n",
       "      <td>Buy</td>\n",
       "      <td>0.5158</td>\n",
       "      <td>-0.7031</td>\n",
       "    </tr>\n",
       "    <tr>\n",
       "      <th>6</th>\n",
       "      <td>lng</td>\n",
       "      <td>Hold or Sell</td>\n",
       "      <td>2.1410</td>\n",
       "      <td>Hold or Sell</td>\n",
       "      <td>1.7284</td>\n",
       "      <td>Hold or Sell</td>\n",
       "      <td>1.7526</td>\n",
       "      <td>36.5440</td>\n",
       "    </tr>\n",
       "    <tr>\n",
       "      <th>7</th>\n",
       "      <td>ma</td>\n",
       "      <td>Buy</td>\n",
       "      <td>0.8499</td>\n",
       "      <td>Buy</td>\n",
       "      <td>0.9634</td>\n",
       "      <td>Buy</td>\n",
       "      <td>0.8173</td>\n",
       "      <td>21.7974</td>\n",
       "    </tr>\n",
       "    <tr>\n",
       "      <th>8</th>\n",
       "      <td>mdb</td>\n",
       "      <td>Buy</td>\n",
       "      <td>0.3231</td>\n",
       "      <td>Buy</td>\n",
       "      <td>0.3092</td>\n",
       "      <td>Buy</td>\n",
       "      <td>0.3393</td>\n",
       "      <td>1.8549</td>\n",
       "    </tr>\n",
       "    <tr>\n",
       "      <th>9</th>\n",
       "      <td>msft</td>\n",
       "      <td>Hold or Sell</td>\n",
       "      <td>5.4103</td>\n",
       "      <td>Hold or Sell</td>\n",
       "      <td>5.0339</td>\n",
       "      <td>Hold or Sell</td>\n",
       "      <td>5.8590</td>\n",
       "      <td>194.7635</td>\n",
       "    </tr>\n",
       "    <tr>\n",
       "      <th>10</th>\n",
       "      <td>mu</td>\n",
       "      <td>Buy</td>\n",
       "      <td>2.1324</td>\n",
       "      <td>Buy</td>\n",
       "      <td>2.6398</td>\n",
       "      <td>Buy</td>\n",
       "      <td>1.7919</td>\n",
       "      <td>42.8112</td>\n",
       "    </tr>\n",
       "    <tr>\n",
       "      <th>11</th>\n",
       "      <td>nio</td>\n",
       "      <td>Hold or Sell</td>\n",
       "      <td>1.3438</td>\n",
       "      <td>Hold or Sell</td>\n",
       "      <td>0.9180</td>\n",
       "      <td>Hold or Sell</td>\n",
       "      <td>1.1613</td>\n",
       "      <td>2.1778</td>\n",
       "    </tr>\n",
       "    <tr>\n",
       "      <th>12</th>\n",
       "      <td>nvda</td>\n",
       "      <td>Buy</td>\n",
       "      <td>2.0528</td>\n",
       "      <td>Buy</td>\n",
       "      <td>2.1908</td>\n",
       "      <td>Buy</td>\n",
       "      <td>3.2125</td>\n",
       "      <td>138.9711</td>\n",
       "    </tr>\n",
       "    <tr>\n",
       "      <th>13</th>\n",
       "      <td>pypl</td>\n",
       "      <td>Hold or Sell</td>\n",
       "      <td>0.7984</td>\n",
       "      <td>Buy</td>\n",
       "      <td>0.6679</td>\n",
       "      <td>Buy</td>\n",
       "      <td>0.6407</td>\n",
       "      <td>1.2560</td>\n",
       "    </tr>\n",
       "    <tr>\n",
       "      <th>14</th>\n",
       "      <td>qgen</td>\n",
       "      <td>Buy</td>\n",
       "      <td>0.9366</td>\n",
       "      <td>Buy</td>\n",
       "      <td>1.2215</td>\n",
       "      <td>Buy</td>\n",
       "      <td>0.9549</td>\n",
       "      <td>-0.0156</td>\n",
       "    </tr>\n",
       "  </tbody>\n",
       "</table>\n",
       "</div>"
      ],
      "text/plain": [
       "   stock    1_Day_Pred  1_Day_Model_Return    3_Day_Pred  3_Day_Model_Return  \\\n",
       "0   fslr           Buy              1.4877           Buy              1.7358   \n",
       "1   goog           Buy              2.1251  Hold or Sell              1.8892   \n",
       "2    ibm           Buy              1.2904           Buy              1.5637   \n",
       "3   intc  Hold or Sell              3.1390  Hold or Sell              3.0254   \n",
       "4    iyw           Buy              1.9850           Buy              1.8410   \n",
       "5     ll           Buy              0.5657           Buy              0.5299   \n",
       "6    lng  Hold or Sell              2.1410  Hold or Sell              1.7284   \n",
       "7     ma           Buy              0.8499           Buy              0.9634   \n",
       "8    mdb           Buy              0.3231           Buy              0.3092   \n",
       "9   msft  Hold or Sell              5.4103  Hold or Sell              5.0339   \n",
       "10    mu           Buy              2.1324           Buy              2.6398   \n",
       "11   nio  Hold or Sell              1.3438  Hold or Sell              0.9180   \n",
       "12  nvda           Buy              2.0528           Buy              2.1908   \n",
       "13  pypl  Hold or Sell              0.7984           Buy              0.6679   \n",
       "14  qgen           Buy              0.9366           Buy              1.2215   \n",
       "\n",
       "      5_Day_Pred  5_Day_Model_Return  Actual_Returns  \n",
       "0            Buy              1.8690         -0.3495  \n",
       "1            Buy              2.2326          6.6627  \n",
       "2            Buy              0.9727         28.5859  \n",
       "3   Hold or Sell              3.1756         91.2088  \n",
       "4            Buy              1.3976          5.9931  \n",
       "5            Buy              0.5158         -0.7031  \n",
       "6   Hold or Sell              1.7526         36.5440  \n",
       "7            Buy              0.8173         21.7974  \n",
       "8            Buy              0.3393          1.8549  \n",
       "9   Hold or Sell              5.8590        194.7635  \n",
       "10           Buy              1.7919         42.8112  \n",
       "11  Hold or Sell              1.1613          2.1778  \n",
       "12           Buy              3.2125        138.9711  \n",
       "13           Buy              0.6407          1.2560  \n",
       "14           Buy              0.9549         -0.0156  "
      ]
     },
     "execution_count": 31,
     "metadata": {},
     "output_type": "execute_result"
    }
   ],
   "source": [
    "summary_df = a.pred_summary_df(start_dates2, stocks = [x for x in start_dates2], days_back = 1)\n",
    "summary_df"
   ]
  },
  {
   "cell_type": "code",
   "execution_count": 32,
   "metadata": {},
   "outputs": [
    {
     "data": {
      "text/plain": [
       "(1.4877, 1.7284, 1.3976, 6.6627)"
      ]
     },
     "execution_count": 32,
     "metadata": {},
     "output_type": "execute_result"
    }
   ],
   "source": [
    "summary_df['1_Day_Model_Return'].median(), summary_df['3_Day_Model_Return'].median(), summary_df['5_Day_Model_Return'].median(), summary_df['Actual_Returns'].median()"
   ]
  },
  {
   "cell_type": "code",
   "execution_count": null,
   "metadata": {},
   "outputs": [],
   "source": []
  },
  {
   "cell_type": "code",
   "execution_count": 33,
   "metadata": {
    "scrolled": false
   },
   "outputs": [
    {
     "data": {
      "text/html": [
       "<div>\n",
       "<style scoped>\n",
       "    .dataframe tbody tr th:only-of-type {\n",
       "        vertical-align: middle;\n",
       "    }\n",
       "\n",
       "    .dataframe tbody tr th {\n",
       "        vertical-align: top;\n",
       "    }\n",
       "\n",
       "    .dataframe thead th {\n",
       "        text-align: right;\n",
       "    }\n",
       "</style>\n",
       "<table border=\"1\" class=\"dataframe\">\n",
       "  <thead>\n",
       "    <tr style=\"text-align: right;\">\n",
       "      <th></th>\n",
       "      <th>stock</th>\n",
       "      <th>1_Day_Pred</th>\n",
       "      <th>1_Day_Model_Return</th>\n",
       "      <th>3_Day_Pred</th>\n",
       "      <th>3_Day_Model_Return</th>\n",
       "      <th>5_Day_Pred</th>\n",
       "      <th>5_Day_Model_Return</th>\n",
       "      <th>Actual_Returns</th>\n",
       "    </tr>\n",
       "  </thead>\n",
       "  <tbody>\n",
       "    <tr>\n",
       "      <th>0</th>\n",
       "      <td>okta</td>\n",
       "      <td>Buy</td>\n",
       "      <td>0.3467</td>\n",
       "      <td>Buy</td>\n",
       "      <td>0.4214</td>\n",
       "      <td>Buy</td>\n",
       "      <td>0.3678</td>\n",
       "      <td>0.3072</td>\n",
       "    </tr>\n",
       "    <tr>\n",
       "      <th>1</th>\n",
       "      <td>orcl</td>\n",
       "      <td>Hold or Sell</td>\n",
       "      <td>2.0726</td>\n",
       "      <td>Hold or Sell</td>\n",
       "      <td>1.8577</td>\n",
       "      <td>Hold or Sell</td>\n",
       "      <td>2.2373</td>\n",
       "      <td>233.2852</td>\n",
       "    </tr>\n",
       "    <tr>\n",
       "      <th>2</th>\n",
       "      <td>qcom</td>\n",
       "      <td>Buy</td>\n",
       "      <td>1.8355</td>\n",
       "      <td>Buy</td>\n",
       "      <td>1.6910</td>\n",
       "      <td>Buy</td>\n",
       "      <td>1.8282</td>\n",
       "      <td>58.1824</td>\n",
       "    </tr>\n",
       "    <tr>\n",
       "      <th>3</th>\n",
       "      <td>qqq</td>\n",
       "      <td>Buy</td>\n",
       "      <td>1.7168</td>\n",
       "      <td>Buy</td>\n",
       "      <td>1.5092</td>\n",
       "      <td>Buy</td>\n",
       "      <td>1.9717</td>\n",
       "      <td>11.5460</td>\n",
       "    </tr>\n",
       "    <tr>\n",
       "      <th>4</th>\n",
       "      <td>srpt</td>\n",
       "      <td>Hold or Sell</td>\n",
       "      <td>0.5884</td>\n",
       "      <td>Hold or Sell</td>\n",
       "      <td>1.5305</td>\n",
       "      <td>Hold or Sell</td>\n",
       "      <td>2.1900</td>\n",
       "      <td>2.7907</td>\n",
       "    </tr>\n",
       "    <tr>\n",
       "      <th>5</th>\n",
       "      <td>tgt</td>\n",
       "      <td>Buy</td>\n",
       "      <td>1.3907</td>\n",
       "      <td>Buy</td>\n",
       "      <td>1.7601</td>\n",
       "      <td>Buy</td>\n",
       "      <td>1.1648</td>\n",
       "      <td>306.2795</td>\n",
       "    </tr>\n",
       "    <tr>\n",
       "      <th>6</th>\n",
       "      <td>tsla</td>\n",
       "      <td>Hold or Sell</td>\n",
       "      <td>0.6306</td>\n",
       "      <td>Hold or Sell</td>\n",
       "      <td>0.5869</td>\n",
       "      <td>Hold or Sell</td>\n",
       "      <td>0.9522</td>\n",
       "      <td>101.8274</td>\n",
       "    </tr>\n",
       "    <tr>\n",
       "      <th>7</th>\n",
       "      <td>tsm</td>\n",
       "      <td>Hold or Sell</td>\n",
       "      <td>2.8305</td>\n",
       "      <td>Hold or Sell</td>\n",
       "      <td>3.9965</td>\n",
       "      <td>Hold or Sell</td>\n",
       "      <td>3.2119</td>\n",
       "      <td>9.9572</td>\n",
       "    </tr>\n",
       "    <tr>\n",
       "      <th>8</th>\n",
       "      <td>v</td>\n",
       "      <td>Buy</td>\n",
       "      <td>1.0346</td>\n",
       "      <td>Buy</td>\n",
       "      <td>0.8656</td>\n",
       "      <td>Buy</td>\n",
       "      <td>1.0563</td>\n",
       "      <td>8.8791</td>\n",
       "    </tr>\n",
       "    <tr>\n",
       "      <th>9</th>\n",
       "      <td>vbiv</td>\n",
       "      <td>Buy</td>\n",
       "      <td>0.4854</td>\n",
       "      <td>Buy</td>\n",
       "      <td>0.6384</td>\n",
       "      <td>Buy</td>\n",
       "      <td>0.8146</td>\n",
       "      <td>-0.9752</td>\n",
       "    </tr>\n",
       "    <tr>\n",
       "      <th>10</th>\n",
       "      <td>vbr</td>\n",
       "      <td>Buy</td>\n",
       "      <td>1.4482</td>\n",
       "      <td>Buy</td>\n",
       "      <td>1.4216</td>\n",
       "      <td>Buy</td>\n",
       "      <td>1.6226</td>\n",
       "      <td>1.8676</td>\n",
       "    </tr>\n",
       "    <tr>\n",
       "      <th>11</th>\n",
       "      <td>viov</td>\n",
       "      <td>Buy</td>\n",
       "      <td>1.2579</td>\n",
       "      <td>Buy</td>\n",
       "      <td>1.2568</td>\n",
       "      <td>Buy</td>\n",
       "      <td>1.2794</td>\n",
       "      <td>1.7323</td>\n",
       "    </tr>\n",
       "    <tr>\n",
       "      <th>12</th>\n",
       "      <td>vgt</td>\n",
       "      <td>Buy</td>\n",
       "      <td>1.7424</td>\n",
       "      <td>Buy</td>\n",
       "      <td>1.5019</td>\n",
       "      <td>Buy</td>\n",
       "      <td>1.4765</td>\n",
       "      <td>5.4873</td>\n",
       "    </tr>\n",
       "    <tr>\n",
       "      <th>13</th>\n",
       "      <td>wmt</td>\n",
       "      <td>Buy</td>\n",
       "      <td>1.0859</td>\n",
       "      <td>Buy</td>\n",
       "      <td>0.9771</td>\n",
       "      <td>Buy</td>\n",
       "      <td>1.1824</td>\n",
       "      <td>2002.3213</td>\n",
       "    </tr>\n",
       "    <tr>\n",
       "      <th>14</th>\n",
       "      <td>xlk</td>\n",
       "      <td>Buy</td>\n",
       "      <td>1.6763</td>\n",
       "      <td>Buy</td>\n",
       "      <td>1.8639</td>\n",
       "      <td>Buy</td>\n",
       "      <td>1.5200</td>\n",
       "      <td>8.8159</td>\n",
       "    </tr>\n",
       "  </tbody>\n",
       "</table>\n",
       "</div>"
      ],
      "text/plain": [
       "   stock    1_Day_Pred  1_Day_Model_Return    3_Day_Pred  3_Day_Model_Return  \\\n",
       "0   okta           Buy              0.3467           Buy              0.4214   \n",
       "1   orcl  Hold or Sell              2.0726  Hold or Sell              1.8577   \n",
       "2   qcom           Buy              1.8355           Buy              1.6910   \n",
       "3    qqq           Buy              1.7168           Buy              1.5092   \n",
       "4   srpt  Hold or Sell              0.5884  Hold or Sell              1.5305   \n",
       "5    tgt           Buy              1.3907           Buy              1.7601   \n",
       "6   tsla  Hold or Sell              0.6306  Hold or Sell              0.5869   \n",
       "7    tsm  Hold or Sell              2.8305  Hold or Sell              3.9965   \n",
       "8      v           Buy              1.0346           Buy              0.8656   \n",
       "9   vbiv           Buy              0.4854           Buy              0.6384   \n",
       "10   vbr           Buy              1.4482           Buy              1.4216   \n",
       "11  viov           Buy              1.2579           Buy              1.2568   \n",
       "12   vgt           Buy              1.7424           Buy              1.5019   \n",
       "13   wmt           Buy              1.0859           Buy              0.9771   \n",
       "14   xlk           Buy              1.6763           Buy              1.8639   \n",
       "\n",
       "      5_Day_Pred  5_Day_Model_Return  Actual_Returns  \n",
       "0            Buy              0.3678          0.3072  \n",
       "1   Hold or Sell              2.2373        233.2852  \n",
       "2            Buy              1.8282         58.1824  \n",
       "3            Buy              1.9717         11.5460  \n",
       "4   Hold or Sell              2.1900          2.7907  \n",
       "5            Buy              1.1648        306.2795  \n",
       "6   Hold or Sell              0.9522        101.8274  \n",
       "7   Hold or Sell              3.2119          9.9572  \n",
       "8            Buy              1.0563          8.8791  \n",
       "9            Buy              0.8146         -0.9752  \n",
       "10           Buy              1.6226          1.8676  \n",
       "11           Buy              1.2794          1.7323  \n",
       "12           Buy              1.4765          5.4873  \n",
       "13           Buy              1.1824       2002.3213  \n",
       "14           Buy              1.5200          8.8159  "
      ]
     },
     "execution_count": 33,
     "metadata": {},
     "output_type": "execute_result"
    }
   ],
   "source": [
    "summary_df = a.pred_summary_df(start_dates3, stocks = [x for x in start_dates3], days_back = 1)\n",
    "summary_df"
   ]
  },
  {
   "cell_type": "code",
   "execution_count": 34,
   "metadata": {},
   "outputs": [
    {
     "data": {
      "text/plain": [
       "(1.3907, 1.5019, 1.4765, 8.8791)"
      ]
     },
     "execution_count": 34,
     "metadata": {},
     "output_type": "execute_result"
    }
   ],
   "source": [
    "summary_df['1_Day_Model_Return'].median(), summary_df['3_Day_Model_Return'].median(), summary_df['5_Day_Model_Return'].median(), summary_df['Actual_Returns'].median()"
   ]
  },
  {
   "cell_type": "code",
   "execution_count": null,
   "metadata": {},
   "outputs": [],
   "source": []
  }
 ],
 "metadata": {
  "kernelspec": {
   "display_name": "Python 3",
   "language": "python",
   "name": "python3"
  },
  "language_info": {
   "codemirror_mode": {
    "name": "ipython",
    "version": 3
   },
   "file_extension": ".py",
   "mimetype": "text/x-python",
   "name": "python",
   "nbconvert_exporter": "python",
   "pygments_lexer": "ipython3",
   "version": "3.8.10"
  }
 },
 "nbformat": 4,
 "nbformat_minor": 4
}
